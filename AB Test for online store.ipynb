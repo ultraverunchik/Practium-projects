{
 "cells": [
  {
   "cell_type": "markdown",
   "metadata": {},
   "source": [
    "#  Business Decision Making\n",
    "**Customer**\n",
    "\n",
    "Online store\n",
    "\n",
    "**Project Objectives**\n",
    "\n",
    "* The need to prioritize hypotheses from a list of hypotheses provided by the Marketing Department;\n",
    "\n",
    "* Analysis of the results of the conducted A/B testing and reasoning for the decision based on the test results.\n",
    "\n",
    "Solution options:\n",
    "1. Stop the test, record the victory of one of the groups.\n",
    "2. Stop the test, record no difference between groups.\n",
    "3. Continue test.\n",
    "\n",
    "**Input data**\n",
    "\n",
    "* list of hypotheses (file hypothesis.csv)\n",
    "Hypothesis — brief description of the hypothesis;\n",
    "Reach — user reach on a 10-point scale;\n",
    "Impact —  impact on users on a 10-point scale;\n",
    "Confidence — confidence in the hypothesis on a 10-point scale;\n",
    "Efforts — efforts for hypothesis testing on a 10-point scale.\n",
    "\n",
    "* information about user orders in the online store (file orders.csv.)\n",
    "transactionId — order ID;\n",
    "visitorId — ID of the user who made the order;\n",
    "date — the date the order was placed;\n",
    "revenue — order revenue;\n",
    "group — the A/B test group the order is in.\n",
    "\n",
    "* information about visits by users of the online store (file visitors.csv)\n",
    "date — date;\n",
    "group — A/B test group;\n",
    "visitors — number of users on the specified date in the specified A/B test group.\n",
    "\n",
    "**Research progress**\n",
    "\n",
    "The research will take place in three stages:\n",
    "\n",
    "* Overview and data preprocessing;\n",
    "* Prioritization of hypotheses;\n",
    "* A/B test analysis;"
   ]
  },
  {
   "cell_type": "markdown",
   "metadata": {},
   "source": [
    "# Data overview"
   ]
  },
  {
   "cell_type": "code",
   "execution_count": 1,
   "metadata": {},
   "outputs": [],
   "source": [
    "import pandas as pd\n",
    "import numpy as np\n",
    "import matplotlib.pyplot as plt\n",
    "import seaborn as sns\n",
    "import math\n",
    "import datetime as dt\n",
    "import scipy.stats as stats\n",
    "from scipy import stats as st"
   ]
  },
  {
   "cell_type": "code",
   "execution_count": 2,
   "metadata": {},
   "outputs": [],
   "source": [
    "hypothesis, orders, visitors = (\n",
    "        pd.read_csv('/datasets/hypothesis.csv'),\n",
    "        pd.read_csv('/datasets/orders.csv'),\n",
    "        pd.read_csv('/datasets/visitors.csv')\n",
    "    )"
   ]
  },
  {
   "cell_type": "code",
   "execution_count": 3,
   "metadata": {},
   "outputs": [
    {
     "name": "stdout",
     "output_type": "stream",
     "text": [
      "<class 'pandas.core.frame.DataFrame'>\n",
      "RangeIndex: 9 entries, 0 to 8\n",
      "Data columns (total 5 columns):\n",
      " #   Column      Non-Null Count  Dtype \n",
      "---  ------      --------------  ----- \n",
      " 0   Hypothesis  9 non-null      object\n",
      " 1   Reach       9 non-null      int64 \n",
      " 2   Impact      9 non-null      int64 \n",
      " 3   Confidence  9 non-null      int64 \n",
      " 4   Efforts     9 non-null      int64 \n",
      "dtypes: int64(4), object(1)\n",
      "memory usage: 488.0+ bytes\n"
     ]
    },
    {
     "data": {
      "text/html": [
       "<div>\n",
       "<style scoped>\n",
       "    .dataframe tbody tr th:only-of-type {\n",
       "        vertical-align: middle;\n",
       "    }\n",
       "\n",
       "    .dataframe tbody tr th {\n",
       "        vertical-align: top;\n",
       "    }\n",
       "\n",
       "    .dataframe thead th {\n",
       "        text-align: right;\n",
       "    }\n",
       "</style>\n",
       "<table border=\"1\" class=\"dataframe\">\n",
       "  <thead>\n",
       "    <tr style=\"text-align: right;\">\n",
       "      <th></th>\n",
       "      <th>Hypothesis</th>\n",
       "      <th>Reach</th>\n",
       "      <th>Impact</th>\n",
       "      <th>Confidence</th>\n",
       "      <th>Efforts</th>\n",
       "    </tr>\n",
       "  </thead>\n",
       "  <tbody>\n",
       "    <tr>\n",
       "      <th>0</th>\n",
       "      <td>Добавить два новых канала привлечения трафика,...</td>\n",
       "      <td>3</td>\n",
       "      <td>10</td>\n",
       "      <td>8</td>\n",
       "      <td>6</td>\n",
       "    </tr>\n",
       "    <tr>\n",
       "      <th>1</th>\n",
       "      <td>Запустить собственную службу доставки, что сок...</td>\n",
       "      <td>2</td>\n",
       "      <td>5</td>\n",
       "      <td>4</td>\n",
       "      <td>10</td>\n",
       "    </tr>\n",
       "    <tr>\n",
       "      <th>2</th>\n",
       "      <td>Добавить блоки рекомендаций товаров на сайт ин...</td>\n",
       "      <td>8</td>\n",
       "      <td>3</td>\n",
       "      <td>7</td>\n",
       "      <td>3</td>\n",
       "    </tr>\n",
       "    <tr>\n",
       "      <th>3</th>\n",
       "      <td>Изменить структура категорий, что увеличит кон...</td>\n",
       "      <td>8</td>\n",
       "      <td>3</td>\n",
       "      <td>3</td>\n",
       "      <td>8</td>\n",
       "    </tr>\n",
       "    <tr>\n",
       "      <th>4</th>\n",
       "      <td>Изменить цвет фона главной страницы, чтобы уве...</td>\n",
       "      <td>3</td>\n",
       "      <td>1</td>\n",
       "      <td>1</td>\n",
       "      <td>1</td>\n",
       "    </tr>\n",
       "    <tr>\n",
       "      <th>5</th>\n",
       "      <td>Добавить страницу отзывов клиентов о магазине,...</td>\n",
       "      <td>3</td>\n",
       "      <td>2</td>\n",
       "      <td>2</td>\n",
       "      <td>3</td>\n",
       "    </tr>\n",
       "    <tr>\n",
       "      <th>6</th>\n",
       "      <td>Показать на главной странице баннеры с актуаль...</td>\n",
       "      <td>5</td>\n",
       "      <td>3</td>\n",
       "      <td>8</td>\n",
       "      <td>3</td>\n",
       "    </tr>\n",
       "    <tr>\n",
       "      <th>7</th>\n",
       "      <td>Добавить форму подписки на все основные страни...</td>\n",
       "      <td>10</td>\n",
       "      <td>7</td>\n",
       "      <td>8</td>\n",
       "      <td>5</td>\n",
       "    </tr>\n",
       "    <tr>\n",
       "      <th>8</th>\n",
       "      <td>Запустить акцию, дающую скидку на товар в день...</td>\n",
       "      <td>1</td>\n",
       "      <td>9</td>\n",
       "      <td>9</td>\n",
       "      <td>5</td>\n",
       "    </tr>\n",
       "  </tbody>\n",
       "</table>\n",
       "</div>"
      ],
      "text/plain": [
       "                                          Hypothesis  Reach  Impact  \\\n",
       "0  Добавить два новых канала привлечения трафика,...      3      10   \n",
       "1  Запустить собственную службу доставки, что сок...      2       5   \n",
       "2  Добавить блоки рекомендаций товаров на сайт ин...      8       3   \n",
       "3  Изменить структура категорий, что увеличит кон...      8       3   \n",
       "4  Изменить цвет фона главной страницы, чтобы уве...      3       1   \n",
       "5  Добавить страницу отзывов клиентов о магазине,...      3       2   \n",
       "6  Показать на главной странице баннеры с актуаль...      5       3   \n",
       "7  Добавить форму подписки на все основные страни...     10       7   \n",
       "8  Запустить акцию, дающую скидку на товар в день...      1       9   \n",
       "\n",
       "   Confidence  Efforts  \n",
       "0           8        6  \n",
       "1           4       10  \n",
       "2           7        3  \n",
       "3           3        8  \n",
       "4           1        1  \n",
       "5           2        3  \n",
       "6           8        3  \n",
       "7           8        5  \n",
       "8           9        5  "
      ]
     },
     "execution_count": 3,
     "metadata": {},
     "output_type": "execute_result"
    }
   ],
   "source": [
    "# overview of the hypothesis dataframe\n",
    "\n",
    "hypothesis.info()\n",
    "hypothesis"
   ]
  },
  {
   "cell_type": "code",
   "execution_count": 4,
   "metadata": {},
   "outputs": [
    {
     "name": "stdout",
     "output_type": "stream",
     "text": [
      "<class 'pandas.core.frame.DataFrame'>\n",
      "RangeIndex: 1197 entries, 0 to 1196\n",
      "Data columns (total 5 columns):\n",
      " #   Column         Non-Null Count  Dtype \n",
      "---  ------         --------------  ----- \n",
      " 0   transactionId  1197 non-null   int64 \n",
      " 1   visitorId      1197 non-null   int64 \n",
      " 2   date           1197 non-null   object\n",
      " 3   revenue        1197 non-null   int64 \n",
      " 4   group          1197 non-null   object\n",
      "dtypes: int64(3), object(2)\n",
      "memory usage: 46.9+ KB\n"
     ]
    },
    {
     "data": {
      "text/html": [
       "<div>\n",
       "<style scoped>\n",
       "    .dataframe tbody tr th:only-of-type {\n",
       "        vertical-align: middle;\n",
       "    }\n",
       "\n",
       "    .dataframe tbody tr th {\n",
       "        vertical-align: top;\n",
       "    }\n",
       "\n",
       "    .dataframe thead th {\n",
       "        text-align: right;\n",
       "    }\n",
       "</style>\n",
       "<table border=\"1\" class=\"dataframe\">\n",
       "  <thead>\n",
       "    <tr style=\"text-align: right;\">\n",
       "      <th></th>\n",
       "      <th>transactionId</th>\n",
       "      <th>visitorId</th>\n",
       "      <th>date</th>\n",
       "      <th>revenue</th>\n",
       "      <th>group</th>\n",
       "    </tr>\n",
       "  </thead>\n",
       "  <tbody>\n",
       "    <tr>\n",
       "      <th>0</th>\n",
       "      <td>3667963787</td>\n",
       "      <td>3312258926</td>\n",
       "      <td>2019-08-15</td>\n",
       "      <td>1650</td>\n",
       "      <td>B</td>\n",
       "    </tr>\n",
       "    <tr>\n",
       "      <th>1</th>\n",
       "      <td>2804400009</td>\n",
       "      <td>3642806036</td>\n",
       "      <td>2019-08-15</td>\n",
       "      <td>730</td>\n",
       "      <td>B</td>\n",
       "    </tr>\n",
       "    <tr>\n",
       "      <th>2</th>\n",
       "      <td>2961555356</td>\n",
       "      <td>4069496402</td>\n",
       "      <td>2019-08-15</td>\n",
       "      <td>400</td>\n",
       "      <td>A</td>\n",
       "    </tr>\n",
       "    <tr>\n",
       "      <th>3</th>\n",
       "      <td>3797467345</td>\n",
       "      <td>1196621759</td>\n",
       "      <td>2019-08-15</td>\n",
       "      <td>9759</td>\n",
       "      <td>B</td>\n",
       "    </tr>\n",
       "    <tr>\n",
       "      <th>4</th>\n",
       "      <td>2282983706</td>\n",
       "      <td>2322279887</td>\n",
       "      <td>2019-08-15</td>\n",
       "      <td>2308</td>\n",
       "      <td>B</td>\n",
       "    </tr>\n",
       "    <tr>\n",
       "      <th>...</th>\n",
       "      <td>...</td>\n",
       "      <td>...</td>\n",
       "      <td>...</td>\n",
       "      <td>...</td>\n",
       "      <td>...</td>\n",
       "    </tr>\n",
       "    <tr>\n",
       "      <th>1192</th>\n",
       "      <td>2662137336</td>\n",
       "      <td>3733762160</td>\n",
       "      <td>2019-08-14</td>\n",
       "      <td>6490</td>\n",
       "      <td>B</td>\n",
       "    </tr>\n",
       "    <tr>\n",
       "      <th>1193</th>\n",
       "      <td>2203539145</td>\n",
       "      <td>370388673</td>\n",
       "      <td>2019-08-14</td>\n",
       "      <td>3190</td>\n",
       "      <td>A</td>\n",
       "    </tr>\n",
       "    <tr>\n",
       "      <th>1194</th>\n",
       "      <td>1807773912</td>\n",
       "      <td>573423106</td>\n",
       "      <td>2019-08-14</td>\n",
       "      <td>10550</td>\n",
       "      <td>A</td>\n",
       "    </tr>\n",
       "    <tr>\n",
       "      <th>1195</th>\n",
       "      <td>1947021204</td>\n",
       "      <td>1614305549</td>\n",
       "      <td>2019-08-14</td>\n",
       "      <td>100</td>\n",
       "      <td>A</td>\n",
       "    </tr>\n",
       "    <tr>\n",
       "      <th>1196</th>\n",
       "      <td>3936777065</td>\n",
       "      <td>2108080724</td>\n",
       "      <td>2019-08-15</td>\n",
       "      <td>202740</td>\n",
       "      <td>B</td>\n",
       "    </tr>\n",
       "  </tbody>\n",
       "</table>\n",
       "<p>1197 rows × 5 columns</p>\n",
       "</div>"
      ],
      "text/plain": [
       "      transactionId   visitorId        date  revenue group\n",
       "0        3667963787  3312258926  2019-08-15     1650     B\n",
       "1        2804400009  3642806036  2019-08-15      730     B\n",
       "2        2961555356  4069496402  2019-08-15      400     A\n",
       "3        3797467345  1196621759  2019-08-15     9759     B\n",
       "4        2282983706  2322279887  2019-08-15     2308     B\n",
       "...             ...         ...         ...      ...   ...\n",
       "1192     2662137336  3733762160  2019-08-14     6490     B\n",
       "1193     2203539145   370388673  2019-08-14     3190     A\n",
       "1194     1807773912   573423106  2019-08-14    10550     A\n",
       "1195     1947021204  1614305549  2019-08-14      100     A\n",
       "1196     3936777065  2108080724  2019-08-15   202740     B\n",
       "\n",
       "[1197 rows x 5 columns]"
      ]
     },
     "execution_count": 4,
     "metadata": {},
     "output_type": "execute_result"
    }
   ],
   "source": [
    "# overview of the orders dataframe\n",
    "\n",
    "orders.info()\n",
    "orders"
   ]
  },
  {
   "cell_type": "code",
   "execution_count": 5,
   "metadata": {},
   "outputs": [
    {
     "name": "stdout",
     "output_type": "stream",
     "text": [
      "<class 'pandas.core.frame.DataFrame'>\n",
      "RangeIndex: 62 entries, 0 to 61\n",
      "Data columns (total 3 columns):\n",
      " #   Column    Non-Null Count  Dtype \n",
      "---  ------    --------------  ----- \n",
      " 0   date      62 non-null     object\n",
      " 1   group     62 non-null     object\n",
      " 2   visitors  62 non-null     int64 \n",
      "dtypes: int64(1), object(2)\n",
      "memory usage: 1.6+ KB\n"
     ]
    },
    {
     "data": {
      "text/html": [
       "<div>\n",
       "<style scoped>\n",
       "    .dataframe tbody tr th:only-of-type {\n",
       "        vertical-align: middle;\n",
       "    }\n",
       "\n",
       "    .dataframe tbody tr th {\n",
       "        vertical-align: top;\n",
       "    }\n",
       "\n",
       "    .dataframe thead th {\n",
       "        text-align: right;\n",
       "    }\n",
       "</style>\n",
       "<table border=\"1\" class=\"dataframe\">\n",
       "  <thead>\n",
       "    <tr style=\"text-align: right;\">\n",
       "      <th></th>\n",
       "      <th>date</th>\n",
       "      <th>group</th>\n",
       "      <th>visitors</th>\n",
       "    </tr>\n",
       "  </thead>\n",
       "  <tbody>\n",
       "    <tr>\n",
       "      <th>0</th>\n",
       "      <td>2019-08-01</td>\n",
       "      <td>A</td>\n",
       "      <td>719</td>\n",
       "    </tr>\n",
       "    <tr>\n",
       "      <th>1</th>\n",
       "      <td>2019-08-02</td>\n",
       "      <td>A</td>\n",
       "      <td>619</td>\n",
       "    </tr>\n",
       "    <tr>\n",
       "      <th>2</th>\n",
       "      <td>2019-08-03</td>\n",
       "      <td>A</td>\n",
       "      <td>507</td>\n",
       "    </tr>\n",
       "    <tr>\n",
       "      <th>3</th>\n",
       "      <td>2019-08-04</td>\n",
       "      <td>A</td>\n",
       "      <td>717</td>\n",
       "    </tr>\n",
       "    <tr>\n",
       "      <th>4</th>\n",
       "      <td>2019-08-05</td>\n",
       "      <td>A</td>\n",
       "      <td>756</td>\n",
       "    </tr>\n",
       "    <tr>\n",
       "      <th>...</th>\n",
       "      <td>...</td>\n",
       "      <td>...</td>\n",
       "      <td>...</td>\n",
       "    </tr>\n",
       "    <tr>\n",
       "      <th>57</th>\n",
       "      <td>2019-08-27</td>\n",
       "      <td>B</td>\n",
       "      <td>720</td>\n",
       "    </tr>\n",
       "    <tr>\n",
       "      <th>58</th>\n",
       "      <td>2019-08-28</td>\n",
       "      <td>B</td>\n",
       "      <td>654</td>\n",
       "    </tr>\n",
       "    <tr>\n",
       "      <th>59</th>\n",
       "      <td>2019-08-29</td>\n",
       "      <td>B</td>\n",
       "      <td>531</td>\n",
       "    </tr>\n",
       "    <tr>\n",
       "      <th>60</th>\n",
       "      <td>2019-08-30</td>\n",
       "      <td>B</td>\n",
       "      <td>490</td>\n",
       "    </tr>\n",
       "    <tr>\n",
       "      <th>61</th>\n",
       "      <td>2019-08-31</td>\n",
       "      <td>B</td>\n",
       "      <td>718</td>\n",
       "    </tr>\n",
       "  </tbody>\n",
       "</table>\n",
       "<p>62 rows × 3 columns</p>\n",
       "</div>"
      ],
      "text/plain": [
       "          date group  visitors\n",
       "0   2019-08-01     A       719\n",
       "1   2019-08-02     A       619\n",
       "2   2019-08-03     A       507\n",
       "3   2019-08-04     A       717\n",
       "4   2019-08-05     A       756\n",
       "..         ...   ...       ...\n",
       "57  2019-08-27     B       720\n",
       "58  2019-08-28     B       654\n",
       "59  2019-08-29     B       531\n",
       "60  2019-08-30     B       490\n",
       "61  2019-08-31     B       718\n",
       "\n",
       "[62 rows x 3 columns]"
      ]
     },
     "execution_count": 5,
     "metadata": {},
     "output_type": "execute_result"
    }
   ],
   "source": [
    "# overview of the visitors dataframe \n",
    "\n",
    "visitors.info()\n",
    "visitors"
   ]
  },
  {
   "cell_type": "markdown",
   "metadata": {},
   "source": [
    "**Conclusion**\n",
    "\n",
    "We have looked at the tables. At first glance, there are no gaps, but something needs to be corrected: the data type in the columns is not always correct (for example, columns with dates are of type object). We also need to check the data for duplicates and bring the column names to the same style."
   ]
  },
  {
   "cell_type": "markdown",
   "metadata": {},
   "source": [
    "# **Data preprocessing**"
   ]
  },
  {
   "cell_type": "code",
   "execution_count": 6,
   "metadata": {},
   "outputs": [
    {
     "data": {
      "text/plain": [
       "Index(['hypothesis', 'reach', 'impact', 'confidence', 'efforts'], dtype='object')"
      ]
     },
     "metadata": {},
     "output_type": "display_data"
    },
    {
     "data": {
      "text/plain": [
       "Index(['transaction_id', 'visitor_id', 'date', 'revenue', 'group'], dtype='object')"
      ]
     },
     "execution_count": 6,
     "metadata": {},
     "output_type": "execute_result"
    }
   ],
   "source": [
    "# bring the column names to the correct style\n",
    "\n",
    "hypothesis.columns = hypothesis.columns.str.lower()\n",
    "orders.columns = [name.replace('Id', '_id') for name in orders.columns]\n",
    "\n",
    "display(hypothesis.columns)\n",
    "orders.columns"
   ]
  },
  {
   "cell_type": "code",
   "execution_count": 7,
   "metadata": {},
   "outputs": [],
   "source": [
    "# change data type for date columns\n",
    "\n",
    "visitors['date'] = pd.to_datetime(visitors['date'])\n",
    "orders['date'] = pd.to_datetime(orders['date'])"
   ]
  },
  {
   "cell_type": "code",
   "execution_count": 8,
   "metadata": {},
   "outputs": [
    {
     "data": {
      "text/plain": [
       "0"
      ]
     },
     "metadata": {},
     "output_type": "display_data"
    },
    {
     "data": {
      "text/plain": [
       "0"
      ]
     },
     "execution_count": 8,
     "metadata": {},
     "output_type": "execute_result"
    }
   ],
   "source": [
    "# check tables for duplicates\n",
    "\n",
    "display(visitors.duplicated().sum())\n",
    "orders.duplicated().sum()"
   ]
  },
  {
   "cell_type": "markdown",
   "metadata": {},
   "source": [
    "# **Prioritization of hypotheses**"
   ]
  },
  {
   "cell_type": "code",
   "execution_count": 9,
   "metadata": {
    "scrolled": true
   },
   "outputs": [
    {
     "data": {
      "text/html": [
       "<div>\n",
       "<style scoped>\n",
       "    .dataframe tbody tr th:only-of-type {\n",
       "        vertical-align: middle;\n",
       "    }\n",
       "\n",
       "    .dataframe tbody tr th {\n",
       "        vertical-align: top;\n",
       "    }\n",
       "\n",
       "    .dataframe thead th {\n",
       "        text-align: right;\n",
       "    }\n",
       "</style>\n",
       "<table border=\"1\" class=\"dataframe\">\n",
       "  <thead>\n",
       "    <tr style=\"text-align: right;\">\n",
       "      <th></th>\n",
       "      <th>hypothesis</th>\n",
       "      <th>ice</th>\n",
       "    </tr>\n",
       "  </thead>\n",
       "  <tbody>\n",
       "    <tr>\n",
       "      <th>8</th>\n",
       "      <td>Запустить акцию, дающую скидку на товар в день...</td>\n",
       "      <td>16.200000</td>\n",
       "    </tr>\n",
       "    <tr>\n",
       "      <th>0</th>\n",
       "      <td>Добавить два новых канала привлечения трафика,...</td>\n",
       "      <td>13.333333</td>\n",
       "    </tr>\n",
       "    <tr>\n",
       "      <th>7</th>\n",
       "      <td>Добавить форму подписки на все основные страни...</td>\n",
       "      <td>11.200000</td>\n",
       "    </tr>\n",
       "    <tr>\n",
       "      <th>6</th>\n",
       "      <td>Показать на главной странице баннеры с актуаль...</td>\n",
       "      <td>8.000000</td>\n",
       "    </tr>\n",
       "    <tr>\n",
       "      <th>2</th>\n",
       "      <td>Добавить блоки рекомендаций товаров на сайт ин...</td>\n",
       "      <td>7.000000</td>\n",
       "    </tr>\n",
       "  </tbody>\n",
       "</table>\n",
       "</div>"
      ],
      "text/plain": [
       "                                          hypothesis        ice\n",
       "8  Запустить акцию, дающую скидку на товар в день...  16.200000\n",
       "0  Добавить два новых канала привлечения трафика,...  13.333333\n",
       "7  Добавить форму подписки на все основные страни...  11.200000\n",
       "6  Показать на главной странице баннеры с актуаль...   8.000000\n",
       "2  Добавить блоки рекомендаций товаров на сайт ин...   7.000000"
      ]
     },
     "execution_count": 9,
     "metadata": {},
     "output_type": "execute_result"
    }
   ],
   "source": [
    "hypothesis['ice'] = hypothesis['impact'] * hypothesis['confidence'] / hypothesis['efforts']\n",
    "\n",
    "hypothesis[['hypothesis', 'ice']].sort_values(by='ice', ascending=False).head(5)"
   ]
  },
  {
   "cell_type": "code",
   "execution_count": 10,
   "metadata": {},
   "outputs": [
    {
     "data": {
      "image/png": "[encoded data removed]",
      "text/plain": [
       "<Figure size 432x288 with 1 Axes>"
      ]
     },
     "metadata": {
      "needs_background": "light"
     },
     "output_type": "display_data"
    }
   ],
   "source": [
    "ax = (hypothesis[['hypothesis', 'ice']]\n",
    "      .set_index('hypothesis')\n",
    "      .sort_values('ice', ascending=False)\n",
    "      .plot(kind='barh', color='g', alpha=0.4)\n",
    "     )\n",
    "ax.grid(True)\n",
    "ax.set_xlabel('Приоритет')\n",
    "ax.set_ylabel(' ')\n",
    "ax.set_title('Приоритезация гипотез по методу ICE', loc='left')\n",
    "plt.show()"
   ]
  },
  {
   "cell_type": "markdown",
   "metadata": {},
   "source": [
    "We see the top 5 hypotheses that should be given close attention. Add the Reach parameter to the calculation and prioritize the hypotheses using the RICE method."
   ]
  },
  {
   "cell_type": "code",
   "execution_count": 11,
   "metadata": {},
   "outputs": [
    {
     "data": {
      "text/html": [
       "<div>\n",
       "<style scoped>\n",
       "    .dataframe tbody tr th:only-of-type {\n",
       "        vertical-align: middle;\n",
       "    }\n",
       "\n",
       "    .dataframe tbody tr th {\n",
       "        vertical-align: top;\n",
       "    }\n",
       "\n",
       "    .dataframe thead th {\n",
       "        text-align: right;\n",
       "    }\n",
       "</style>\n",
       "<table border=\"1\" class=\"dataframe\">\n",
       "  <thead>\n",
       "    <tr style=\"text-align: right;\">\n",
       "      <th></th>\n",
       "      <th>hypothesis</th>\n",
       "      <th>rice</th>\n",
       "    </tr>\n",
       "  </thead>\n",
       "  <tbody>\n",
       "    <tr>\n",
       "      <th>7</th>\n",
       "      <td>Добавить форму подписки на все основные страни...</td>\n",
       "      <td>112.0</td>\n",
       "    </tr>\n",
       "    <tr>\n",
       "      <th>2</th>\n",
       "      <td>Добавить блоки рекомендаций товаров на сайт ин...</td>\n",
       "      <td>56.0</td>\n",
       "    </tr>\n",
       "    <tr>\n",
       "      <th>0</th>\n",
       "      <td>Добавить два новых канала привлечения трафика,...</td>\n",
       "      <td>40.0</td>\n",
       "    </tr>\n",
       "    <tr>\n",
       "      <th>6</th>\n",
       "      <td>Показать на главной странице баннеры с актуаль...</td>\n",
       "      <td>40.0</td>\n",
       "    </tr>\n",
       "    <tr>\n",
       "      <th>8</th>\n",
       "      <td>Запустить акцию, дающую скидку на товар в день...</td>\n",
       "      <td>16.2</td>\n",
       "    </tr>\n",
       "  </tbody>\n",
       "</table>\n",
       "</div>"
      ],
      "text/plain": [
       "                                          hypothesis   rice\n",
       "7  Добавить форму подписки на все основные страни...  112.0\n",
       "2  Добавить блоки рекомендаций товаров на сайт ин...   56.0\n",
       "0  Добавить два новых канала привлечения трафика,...   40.0\n",
       "6  Показать на главной странице баннеры с актуаль...   40.0\n",
       "8  Запустить акцию, дающую скидку на товар в день...   16.2"
      ]
     },
     "execution_count": 11,
     "metadata": {},
     "output_type": "execute_result"
    }
   ],
   "source": [
    "hypothesis['rice'] = hypothesis['reach'] * hypothesis['impact'] * hypothesis['confidence'] / hypothesis['efforts']\n",
    "\n",
    "hypothesis[['hypothesis', 'rice']].sort_values(by='rice', ascending=False).head(5)"
   ]
  },
  {
   "cell_type": "code",
   "execution_count": 12,
   "metadata": {
    "scrolled": true
   },
   "outputs": [
    {
     "data": {
      "image/png": "[encoded data removed]",
      "text/plain": [
       "<Figure size 432x288 with 1 Axes>"
      ]
     },
     "metadata": {
      "needs_background": "light"
     },
     "output_type": "display_data"
    }
   ],
   "source": [
    "ax = (hypothesis[['hypothesis', 'rice']]\n",
    "      .set_index('hypothesis')\n",
    "      .sort_values('rice', ascending=False)\n",
    "      .plot(kind='barh', color='g', alpha=0.4)\n",
    "     )\n",
    "ax.grid(True)\n",
    "ax.set_xlabel('Приоритет')\n",
    "ax.set_ylabel(' ')\n",
    "ax.set_title('Приоритезация гипотез по методу RICE', loc='left')\n",
    "plt.show()"
   ]
  },
  {
   "cell_type": "markdown",
   "metadata": {},
   "source": [
    "We see the same hypotheses, only in a different sequence. The difference in priorities is that one takes into account the number of users who will be affected by the changes, while the other does not."
   ]
  },
  {
   "cell_type": "code",
   "execution_count": 13,
   "metadata": {},
   "outputs": [
    {
     "data": {
      "text/html": [
       "<div>\n",
       "<style scoped>\n",
       "    .dataframe tbody tr th:only-of-type {\n",
       "        vertical-align: middle;\n",
       "    }\n",
       "\n",
       "    .dataframe tbody tr th {\n",
       "        vertical-align: top;\n",
       "    }\n",
       "\n",
       "    .dataframe thead th {\n",
       "        text-align: right;\n",
       "    }\n",
       "</style>\n",
       "<table border=\"1\" class=\"dataframe\">\n",
       "  <thead>\n",
       "    <tr style=\"text-align: right;\">\n",
       "      <th></th>\n",
       "      <th>hypothesis</th>\n",
       "      <th>ice</th>\n",
       "      <th>rice</th>\n",
       "    </tr>\n",
       "  </thead>\n",
       "  <tbody>\n",
       "    <tr>\n",
       "      <th>7</th>\n",
       "      <td>Добавить форму подписки на все основные страни...</td>\n",
       "      <td>11.200000</td>\n",
       "      <td>112.0</td>\n",
       "    </tr>\n",
       "    <tr>\n",
       "      <th>2</th>\n",
       "      <td>Добавить блоки рекомендаций товаров на сайт ин...</td>\n",
       "      <td>7.000000</td>\n",
       "      <td>56.0</td>\n",
       "    </tr>\n",
       "    <tr>\n",
       "      <th>0</th>\n",
       "      <td>Добавить два новых канала привлечения трафика,...</td>\n",
       "      <td>13.333333</td>\n",
       "      <td>40.0</td>\n",
       "    </tr>\n",
       "    <tr>\n",
       "      <th>6</th>\n",
       "      <td>Показать на главной странице баннеры с актуаль...</td>\n",
       "      <td>8.000000</td>\n",
       "      <td>40.0</td>\n",
       "    </tr>\n",
       "    <tr>\n",
       "      <th>8</th>\n",
       "      <td>Запустить акцию, дающую скидку на товар в день...</td>\n",
       "      <td>16.200000</td>\n",
       "      <td>16.2</td>\n",
       "    </tr>\n",
       "  </tbody>\n",
       "</table>\n",
       "</div>"
      ],
      "text/plain": [
       "                                          hypothesis        ice   rice\n",
       "7  Добавить форму подписки на все основные страни...  11.200000  112.0\n",
       "2  Добавить блоки рекомендаций товаров на сайт ин...   7.000000   56.0\n",
       "0  Добавить два новых канала привлечения трафика,...  13.333333   40.0\n",
       "6  Показать на главной странице баннеры с актуаль...   8.000000   40.0\n",
       "8  Запустить акцию, дающую скидку на товар в день...  16.200000   16.2"
      ]
     },
     "execution_count": 13,
     "metadata": {},
     "output_type": "execute_result"
    }
   ],
   "source": [
    "hypothesis[['hypothesis','ice', 'rice']].sort_values(by='rice', ascending=False).head(5)"
   ]
  },
  {
   "cell_type": "markdown",
   "metadata": {},
   "source": [
    "**Conclusion**\n",
    "\n",
    "According to the ICE framework, hypotheses 8.0 and 7 had the highest scores. After applying the RICE framework, the priorities changed to hypotheses 7.2 and 0. This is because in the case of the ICE framework, unlike RICE, we did not take into account the scope of changes, while this is an important component of the assessment of hypotheses.\n",
    "\n",
    "In our case, the highest priority hypotheses will be 7, 2, 0."
   ]
  },
  {
   "cell_type": "markdown",
   "metadata": {},
   "source": [
    "# **A/B test analysis**"
   ]
  },
  {
   "cell_type": "markdown",
   "metadata": {},
   "source": [
    "**Cumulative Metrics**"
   ]
  },
  {
   "cell_type": "markdown",
   "metadata": {},
   "source": [
    "To build graphs based on cumulative data, it is necessary to collect the corresponding aggregated dataframe containing information about the date, group (A or B), the cumulative number of orders and users who placed them, the average check, and, finally, the cumulative number of store visitors."
   ]
  },
  {
   "cell_type": "code",
   "execution_count": 14,
   "metadata": {
    "scrolled": true
   },
   "outputs": [
    {
     "data": {
      "text/html": [
       "<div>\n",
       "<style scoped>\n",
       "    .dataframe tbody tr th:only-of-type {\n",
       "        vertical-align: middle;\n",
       "    }\n",
       "\n",
       "    .dataframe tbody tr th {\n",
       "        vertical-align: top;\n",
       "    }\n",
       "\n",
       "    .dataframe thead th {\n",
       "        text-align: right;\n",
       "    }\n",
       "</style>\n",
       "<table border=\"1\" class=\"dataframe\">\n",
       "  <thead>\n",
       "    <tr style=\"text-align: right;\">\n",
       "      <th></th>\n",
       "      <th>date</th>\n",
       "      <th>group</th>\n",
       "      <th>orders</th>\n",
       "      <th>buyers</th>\n",
       "      <th>revenue</th>\n",
       "      <th>visitors</th>\n",
       "    </tr>\n",
       "  </thead>\n",
       "  <tbody>\n",
       "    <tr>\n",
       "      <th>0</th>\n",
       "      <td>2019-08-01</td>\n",
       "      <td>A</td>\n",
       "      <td>24</td>\n",
       "      <td>20</td>\n",
       "      <td>148579</td>\n",
       "      <td>719</td>\n",
       "    </tr>\n",
       "    <tr>\n",
       "      <th>1</th>\n",
       "      <td>2019-08-01</td>\n",
       "      <td>B</td>\n",
       "      <td>21</td>\n",
       "      <td>20</td>\n",
       "      <td>101217</td>\n",
       "      <td>713</td>\n",
       "    </tr>\n",
       "    <tr>\n",
       "      <th>2</th>\n",
       "      <td>2019-08-02</td>\n",
       "      <td>A</td>\n",
       "      <td>44</td>\n",
       "      <td>38</td>\n",
       "      <td>242401</td>\n",
       "      <td>1338</td>\n",
       "    </tr>\n",
       "    <tr>\n",
       "      <th>3</th>\n",
       "      <td>2019-08-02</td>\n",
       "      <td>B</td>\n",
       "      <td>45</td>\n",
       "      <td>43</td>\n",
       "      <td>266748</td>\n",
       "      <td>1294</td>\n",
       "    </tr>\n",
       "    <tr>\n",
       "      <th>4</th>\n",
       "      <td>2019-08-03</td>\n",
       "      <td>A</td>\n",
       "      <td>68</td>\n",
       "      <td>62</td>\n",
       "      <td>354874</td>\n",
       "      <td>1845</td>\n",
       "    </tr>\n",
       "  </tbody>\n",
       "</table>\n",
       "</div>"
      ],
      "text/plain": [
       "        date group  orders  buyers  revenue  visitors\n",
       "0 2019-08-01     A      24      20   148579       719\n",
       "1 2019-08-01     B      21      20   101217       713\n",
       "2 2019-08-02     A      44      38   242401      1338\n",
       "3 2019-08-02     B      45      43   266748      1294\n",
       "4 2019-08-03     A      68      62   354874      1845"
      ]
     },
     "execution_count": 14,
     "metadata": {},
     "output_type": "execute_result"
    }
   ],
   "source": [
    "datesGroups = orders[['date','group']].drop_duplicates()\n",
    "\n",
    "ordersAggregated = datesGroups.apply(lambda x: orders[np.logical_and(orders['date'] <= x['date'], orders['group'] == x['group'])]\\\n",
    ".agg({'date' : 'max', 'group' : 'max', 'transaction_id': 'nunique', 'visitor_id': 'nunique', 'revenue' : 'sum'}), axis=1).sort_values(by=['date','group'])\n",
    "\n",
    "visitorsAggregated = datesGroups.apply(lambda x: visitors[np.logical_and(visitors['date'] <= x['date'], visitors['group'] == x['group'])].agg({'date' : 'max', 'group' : 'max', 'visitors' : 'sum'}), axis=1).sort_values(by=['date','group'])\n",
    "\n",
    "cumulativeData = ordersAggregated.merge(visitorsAggregated, left_on=['date', 'group'], right_on=['date', 'group'])\n",
    "cumulativeData.columns = ['date', 'group', 'orders', 'buyers', 'revenue', 'visitors']\n",
    "cumulativeData.head(5)"
   ]
  },
  {
   "cell_type": "markdown",
   "metadata": {},
   "source": [
    "**Revenue by groups**\n",
    "\n",
    "We build a graph of cumulative revenue by groups."
   ]
  },
  {
   "cell_type": "code",
   "execution_count": 15,
   "metadata": {},
   "outputs": [
    {
     "data": {
      "image/png": "[encoded data removed]",
      "text/plain": [
       "<Figure size 720x288 with 1 Axes>"
      ]
     },
     "metadata": {
      "needs_background": "light"
     },
     "output_type": "display_data"
    }
   ],
   "source": [
    "# датафрейм с кумулятивным количеством заказов и кумулятивной выручкой по дням в группе А\n",
    "cumulativeRevenueA = cumulativeData[cumulativeData['group']=='A'][['date','revenue', 'orders']]\n",
    "\n",
    "# датафрейм с кумулятивным количеством заказов и кумулятивной выручкой по дням в группе B\n",
    "cumulativeRevenueB = cumulativeData[cumulativeData['group']=='B'][['date','revenue', 'orders']]\n",
    "\n",
    "plt.figure(figsize=(10,4))\n",
    "plt.plot(cumulativeRevenueA['date'], cumulativeRevenueA['revenue'], label='A')\n",
    "plt.plot(cumulativeRevenueB['date'], cumulativeRevenueB['revenue'], label='B')\n",
    "plt.title('График динамики кумулятивной выручки по группам А и В')\n",
    "plt.ylabel(\"Выручка, млн.\")\n",
    "plt.xlabel('Дата')\n",
    "plt.xticks(rotation=30)\n",
    "plt.legend()\n",
    "plt.show()"
   ]
  },
  {
   "cell_type": "markdown",
   "metadata": {},
   "source": [
    "We see that the cumulative revenue of group A grows linearly, and it is less than that of group B.\n",
    "At the same time, in group B there is a sharp jump around August 18, which may indicate bursts in the number of orders, or the appearance of very expensive orders in the sample."
   ]
  },
  {
   "cell_type": "markdown",
   "metadata": {},
   "source": [
    "**Average bill by groups**\n",
    "\n",
    "We build a graph of the dynamics of the cumulative average check by groups."
   ]
  },
  {
   "cell_type": "code",
   "execution_count": 16,
   "metadata": {},
   "outputs": [
    {
     "data": {
      "image/png": "[encoded data removed]",
      "text/plain": [
       "<Figure size 720x288 with 1 Axes>"
      ]
     },
     "metadata": {
      "needs_background": "light"
     },
     "output_type": "display_data"
    }
   ],
   "source": [
    "plt.figure(figsize=(10,4))\n",
    "plt.plot(cumulativeRevenueA['date'], \n",
    "         cumulativeRevenueA['revenue'] / cumulativeRevenueA['orders'],\n",
    "         label='A')\n",
    "\n",
    "plt.plot(cumulativeRevenueB['date'], \n",
    "         cumulativeRevenueB['revenue'] / cumulativeRevenueB['orders'], \n",
    "         label='B')\n",
    "plt.title('График динамики кумулятивного среднего чека по группам А и В')\n",
    "plt.ylabel(\"Выручка, млн.\")\n",
    "plt.xlabel('Дата')\n",
    "plt.xticks(rotation=30)\n",
    "plt.legend()\n",
    "plt.show()"
   ]
  },
  {
   "cell_type": "markdown",
   "metadata": {},
   "source": [
    "We see that the average check in group A stabilized after some time. The average check of group B showed a sharp jump, which speaks in favor of the version of an expensive purchase."
   ]
  },
  {
   "cell_type": "markdown",
   "metadata": {},
   "source": [
    "**Relative change in the cumulative average check of group B to group A**\n",
    "\n",
    "We build a graph of the relative change in the cumulative average check of group B to group A."
   ]
  },
  {
   "cell_type": "code",
   "execution_count": 17,
   "metadata": {
    "scrolled": true
   },
   "outputs": [
    {
     "data": {
      "image/png": "[encoded data removed]",
      "text/plain": [
       "<Figure size 720x288 with 1 Axes>"
      ]
     },
     "metadata": {
      "needs_background": "light"
     },
     "output_type": "display_data"
    }
   ],
   "source": [
    "# собираем данные в одном датафрейме\n",
    "mergedCumulativeRevenue = cumulativeRevenueA.merge(cumulativeRevenueB, left_on='date', right_on='date', how='left', suffixes=['A', 'B'])\n",
    "\n",
    "# cтроим отношение средних чеков\n",
    "plt.figure(figsize=(10,4))\n",
    "plt.plot(mergedCumulativeRevenue['date'], \n",
    "         (\n",
    "             mergedCumulativeRevenue['revenueB']/mergedCumulativeRevenue['ordersB']\n",
    "         )/\n",
    "         (\n",
    "             mergedCumulativeRevenue['revenueA']/mergedCumulativeRevenue['ordersA']\n",
    "         )-1\n",
    "        )\n",
    "\n",
    "# добавляем ось X\n",
    "plt.axhline(y=0, color='black', linestyle='--')\n",
    "plt.title('График относительного изменения кумулятивного среднего чека группы B к группе A')\n",
    "plt.xlabel('Дата')\n",
    "plt.ylabel('средний чек')\n",
    "plt.xticks(rotation=30)\n",
    "plt.show()"
   ]
  },
  {
   "cell_type": "markdown",
   "metadata": {},
   "source": [
    "The chart rises sharply at several points - definitely there are some outliers and large orders."
   ]
  },
  {
   "cell_type": "markdown",
   "metadata": {},
   "source": [
    "**Plot the cumulative average orders per visitor by group. Make inferences and assumptions.**\n"
   ]
  },
  {
   "cell_type": "code",
   "execution_count": 18,
   "metadata": {},
   "outputs": [
    {
     "data": {
      "image/png": "[encoded data removed]",
      "text/plain": [
       "<Figure size 1080x360 with 1 Axes>"
      ]
     },
     "metadata": {
      "needs_background": "light"
     },
     "output_type": "display_data"
    }
   ],
   "source": [
    "# calculate cumulative conversion\n",
    "cumulativeData['conversion'] = cumulativeData['orders']/cumulativeData['visitors']\n",
    "\n",
    "# separating data by group A\n",
    "cumulativeDataA = cumulativeData[cumulativeData['group']=='A']\n",
    "\n",
    "# separating data by group B\n",
    "cumulativeDataB = cumulativeData[cumulativeData['group']=='B']\n",
    "\n",
    "# build graphs\n",
    "plt.figure(figsize=(15,5))\n",
    "plt.grid()\n",
    "plt.plot(cumulativeDataA['date'], cumulativeDataA['conversion'], label='кумулятивное среднего количества заказов A')\n",
    "plt.plot(cumulativeDataB['date'], cumulativeDataB['conversion'], label='кумулятивное среднего количества заказов B')\n",
    "plt.xlabel('Дата')\n",
    "plt.ylabel('количества заказов')\n",
    "plt.title('график кумулятивного среднего количества заказов на посетителя по группам')\n",
    "plt.legend();"
   ]
  },
  {
   "cell_type": "markdown",
   "metadata": {},
   "source": [
    "At the beginning of the month, the cumulative average number of orders in group 'A' was significantly higher, but by the beginning of the second week of the month, the cumulative ones equalized, and group 'B' began to significantly exceed group 'A'. Then, over the course of a month, cumulative in both groups remained practically unchanged."
   ]
  },
  {
   "cell_type": "markdown",
   "metadata": {},
   "source": [
    "**Plot the relative change in the cumulative average number of orders per visitor of group B to group A. Draw conclusions and assumptions.**"
   ]
  },
  {
   "cell_type": "code",
   "execution_count": 19,
   "metadata": {
    "scrolled": true
   },
   "outputs": [
    {
     "data": {
      "image/png": "[encoded data removed]",
      "text/plain": [
       "<Figure size 1080x360 with 1 Axes>"
      ]
     },
     "metadata": {
      "needs_background": "light"
     },
     "output_type": "display_data"
    }
   ],
   "source": [
    "mergedCumulativeConversions = cumulativeDataA[['date','conversion']].merge(cumulativeDataB[['date','conversion']], left_on='date', right_on='date', how='left', suffixes=['A', 'B'])\n",
    "\n",
    "\n",
    "plt.figure(figsize=(15,5))\n",
    "plt.grid()\n",
    "plt.plot(mergedCumulativeConversions['date'], mergedCumulativeConversions['conversionB']/mergedCumulativeConversions['conversionA']-1)\n",
    "plt.xlabel('Дата')\n",
    "plt.ylabel('количества заказов')\n",
    "plt.title('Относительное изменение кумулятивного среднего количества заказов на посетителя группы B к группе A')\n",
    "\n",
    "plt.axhline(y=0, color='black', linestyle='--')\n",
    "plt.axhline(y=0.21, color='grey', linestyle='--');"
   ]
  },
  {
   "cell_type": "markdown",
   "metadata": {},
   "source": [
    "The conclusions from this graph are very similar to the conclusions from the previous paragraph. At the beginning of the month, the cumulative in group ‘A’ was significantly higher, but by the beginning of the second week of the month, the cumulative became equal. Then, the cumulative in group 'B' became much higher than the cumulative in group 'A' and until the end of the month the averages remained at the same level. The maximum difference in the two groups falls on the 15th of August. On this day, the difference was 21%."
   ]
  },
  {
   "cell_type": "markdown",
   "metadata": {},
   "source": [
    "**Plot a scatter plot of the number of orders by user. Make inferences and assumptions.**\n",
    "\n",
    "Users who have made many orders affect the numerator of the conversion formula (the ratio of the number of orders to the number of visitors to the online store during the test).\n",
    "\n",
    "A \"regular\" user rarely makes more than one or two orders in a short time (unless we are talking about sites with regular demand (for example, an online grocery store)). Let's see what happens to the participants of our testing with the number of orders."
   ]
  },
  {
   "cell_type": "code",
   "execution_count": 20,
   "metadata": {
    "scrolled": false
   },
   "outputs": [
    {
     "data": {
      "text/plain": [
       "count    1031.000000\n",
       "mean        1.161009\n",
       "std         0.724919\n",
       "min         1.000000\n",
       "25%         1.000000\n",
       "50%         1.000000\n",
       "75%         1.000000\n",
       "max        11.000000\n",
       "Name: orders, dtype: float64"
      ]
     },
     "metadata": {},
     "output_type": "display_data"
    },
    {
     "data": {
      "image/png": "[encoded data removed]",
      "text/plain": [
       "<Figure size 432x288 with 1 Axes>"
      ]
     },
     "metadata": {
      "needs_background": "light"
     },
     "output_type": "display_data"
    }
   ],
   "source": [
    "ordersByUsers = (\n",
    "    orders.groupby('visitor_id', as_index=False)\n",
    "    .agg({'transaction_id': 'nunique'})\n",
    ")\n",
    "ordersByUsers.columns =  ['visitor_id', 'orders']\n",
    "display(ordersByUsers['orders'].describe())\n",
    "\n",
    "# building a histogram\n",
    "plt.hist(ordersByUsers['orders'], alpha=0.5) \n",
    "plt.title('Распределение количества заказов по пользователям')\n",
    "plt.xlabel('Количество заказов')\n",
    "plt.ylabel('Количество пользователей')\n",
    "plt.show()"
   ]
  },
  {
   "cell_type": "markdown",
   "metadata": {},
   "source": [
    "Most users placed an order once, but there are those who managed to make eleven orders in a month."
   ]
  },
  {
   "cell_type": "code",
   "execution_count": 21,
   "metadata": {
    "scrolled": true
   },
   "outputs": [
    {
     "data": {
      "image/png": "[encoded data removed]",
      "text/plain": [
       "<Figure size 432x288 with 1 Axes>"
      ]
     },
     "metadata": {
      "needs_background": "light"
     },
     "output_type": "display_data"
    }
   ],
   "source": [
    "x_values = pd.Series(range(0,len(ordersByUsers)))\n",
    "\n",
    "# строим точечную диаграмму\n",
    "plt.scatter(x_values, ordersByUsers['orders'], color='green', alpha=0.5)\n",
    "plt.xlabel('Количество пользователей')\n",
    "plt.ylabel('Количество заказов')\n",
    "plt.title('Распределение количества заказов по пользователям')\n",
    "plt.show()"
   ]
  },
  {
   "cell_type": "markdown",
   "metadata": {},
   "source": [
    "Many users with 2-3 orders. Their exact proportion is not clear, so it is difficult to understand whether they can be considered outliers or not.\n",
    "Let's calculate the 95th and 99th percentiles of the number of orders per user and choose a border to identify anomalous users."
   ]
  },
  {
   "cell_type": "code",
   "execution_count": 22,
   "metadata": {},
   "outputs": [
    {
     "data": {
      "text/plain": [
       "array([2., 4.])"
      ]
     },
     "execution_count": 22,
     "metadata": {},
     "output_type": "execute_result"
    }
   ],
   "source": [
    "np.percentile(ordersByUsers['orders'], [95, 99])"
   ]
  },
  {
   "cell_type": "markdown",
   "metadata": {},
   "source": [
    "No more than 5% of users made more than 2 purchases during testing. And only 1% - four or more.\n",
    "Let's take 4 orders per user as the upper limit."
   ]
  },
  {
   "cell_type": "markdown",
   "metadata": {},
   "source": [
    "**The cost of user orders**\n",
    "\n",
    "Explore the histogram of the cost of orders."
   ]
  },
  {
   "cell_type": "code",
   "execution_count": 23,
   "metadata": {},
   "outputs": [
    {
     "data": {
      "text/plain": [
       "count    1.197000e+03\n",
       "mean     8.348006e+03\n",
       "std      3.919113e+04\n",
       "min      5.000000e+01\n",
       "25%      1.220000e+03\n",
       "50%      2.978000e+03\n",
       "75%      8.290000e+03\n",
       "max      1.294500e+06\n",
       "Name: revenue, dtype: float64"
      ]
     },
     "metadata": {},
     "output_type": "display_data"
    },
    {
     "data": {
      "image/png": "[encoded data removed]",
      "text/plain": [
       "<Figure size 432x288 with 1 Axes>"
      ]
     },
     "metadata": {
      "needs_background": "light"
     },
     "output_type": "display_data"
    }
   ],
   "source": [
    "display(orders['revenue'].describe())\n",
    "\n",
    "# building a histogram\n",
    "plt.hist(orders['revenue'], alpha=0.5, range=(0,40000),bins = 50) \n",
    "plt.title('Распределение стоимости заказов по пользователям')\n",
    "plt.xlabel('Стоимость заказов')\n",
    "plt.ylabel('Количество пользователей')\n",
    "plt.show()"
   ]
  },
  {
   "cell_type": "markdown",
   "metadata": {},
   "source": [
    "One of the orders - almost 1.3 million"
   ]
  },
  {
   "cell_type": "code",
   "execution_count": 24,
   "metadata": {
    "scrolled": true
   },
   "outputs": [
    {
     "data": {
      "image/png": "[encoded data removed]",
      "text/plain": [
       "<Figure size 432x288 with 1 Axes>"
      ]
     },
     "metadata": {
      "needs_background": "light"
     },
     "output_type": "display_data"
    }
   ],
   "source": [
    "x_values = pd.Series(range(0,len(orders['revenue'])))\n",
    "\n",
    "# build a scatter chart\n",
    "plt.scatter(x_values, orders['revenue'], color='green', alpha=0.5)\n",
    "plt.xlabel('Количество пользователей')\n",
    "plt.ylabel('Стоимость заказов')\n",
    "plt.title('Распределение стоимости заказов по пользователям')\n",
    "plt.show()"
   ]
  },
  {
   "cell_type": "markdown",
   "metadata": {},
   "source": [
    "Again we see this giant order that caused a spike in the graphs of cumulative metrics, as well as other significant orders that can affect the result of the research."
   ]
  },
  {
   "cell_type": "markdown",
   "metadata": {},
   "source": [
    "We build a similar graph without the two large outliers that we noticed above."
   ]
  },
  {
   "cell_type": "code",
   "execution_count": 25,
   "metadata": {
    "scrolled": true
   },
   "outputs": [
    {
     "data": {
      "image/png": "[encoded data removed]",
      "text/plain": [
       "<Figure size 432x288 with 1 Axes>"
      ]
     },
     "metadata": {
      "needs_background": "light"
     },
     "output_type": "display_data"
    }
   ],
   "source": [
    "# строим точечную диаграмму\n",
    "plt.ylim(0, 150000)\n",
    "plt.scatter(x_values, orders['revenue'], color='green', alpha=0.5)\n",
    "plt.title('Распределение стоимости заказов по пользователям')\n",
    "plt.xlabel('Количество пользователей')\n",
    "plt.ylabel('Стоимость заказов')\n",
    "plt.show()"
   ]
  },
  {
   "cell_type": "markdown",
   "metadata": {},
   "source": [
    "We see that the bulk of orders do not exceed 20,000.\n",
    "\n",
    "Let's calculate the 95th and 99th percentiles of order value per user and choose a boundary to detect anomalies."
   ]
  },
  {
   "cell_type": "code",
   "execution_count": 26,
   "metadata": {
    "scrolled": true
   },
   "outputs": [
    {
     "name": "stdout",
     "output_type": "stream",
     "text": [
      "[28000.  58233.2]\n"
     ]
    }
   ],
   "source": [
    "print(np.percentile(orders['revenue'], [95, 99])) "
   ]
  },
  {
   "cell_type": "markdown",
   "metadata": {},
   "source": [
    "We determine the border by the value of the 99% percentile (58233)"
   ]
  },
  {
   "cell_type": "markdown",
   "metadata": {},
   "source": [
    "**Calculate the statistical significance of differences in the average number of orders per visitor between groups on the raw data. Make inferences and assumptions.**"
   ]
  },
  {
   "cell_type": "code",
   "execution_count": 27,
   "metadata": {
    "scrolled": true
   },
   "outputs": [],
   "source": [
    "visitorsADaily = visitors[visitors['group']=='A'][['date', 'visitors']]\n",
    "visitorsADaily.columns = ['date', 'visitorsPerDateA']\n",
    "\n",
    "visitorsACummulative = visitorsADaily.apply(lambda x: visitorsADaily[visitorsADaily['date'] <= x['date']]. \\\n",
    "                                            agg({'date' : 'max', 'visitorsPerDateA' : 'sum'}), axis=1)\n",
    "visitorsACummulative.columns = ['date', 'visitorsCummulativeA']\n",
    "\n",
    "visitorsBDaily = visitors[visitors['group']=='B'][['date', 'visitors']]\n",
    "visitorsBDaily.columns = ['date', 'visitorsPerDateB']\n",
    "\n",
    "visitorsBCummulative = visitorsBDaily.apply(lambda x: visitorsBDaily[visitorsBDaily['date'] <= x['date']]. \\\n",
    "                                            agg({'date' : 'max', 'visitorsPerDateB' : 'sum'}), axis=1)\n",
    "visitorsBCummulative.columns = ['date', 'visitorsCummulativeB']\n",
    "\n",
    "ordersADaily = orders[orders['group']=='A'][['date', 'transaction_id', 'visitor_id', 'revenue']]\\\n",
    "    .groupby('date', as_index=False)\\\n",
    "    .agg({'transaction_id' : pd.Series.nunique, 'revenue' : 'sum'})\n",
    "ordersADaily.columns = ['date', 'ordersPerDateA', 'revenuePerDateA']\n",
    "\n",
    "ordersACummulative = ordersADaily.apply(\n",
    "    lambda x: \\\n",
    "        ordersADaily[ordersADaily['date'] <= x['date']]\\\n",
    "            .agg({\n",
    "                'date' : 'max',\n",
    "                'ordersPerDateA' : 'sum',\n",
    "                'revenuePerDateA' : 'sum'}), axis=1).sort_values(by=['date'])\n",
    "ordersACummulative.columns = ['date', 'ordersCummulativeA', 'revenueCummulativeA']\n",
    "\n",
    "ordersBDaily = orders[orders['group']=='B'][['date', 'transaction_id', 'visitor_id', 'revenue']]\\\n",
    "    .groupby('date', as_index=False)\\\n",
    "    .agg({'transaction_id' : pd.Series.nunique, 'revenue' : 'sum'})\n",
    "ordersBDaily.columns = ['date', 'ordersPerDateB', 'revenuePerDateB']\n",
    "\n",
    "ordersBCummulative = ordersBDaily.apply(\n",
    "    lambda x: \\\n",
    "        ordersBDaily[ordersBDaily['date'] <= x['date']]\\\n",
    "            .agg({\n",
    "                'date' : 'max',\n",
    "                'ordersPerDateB' : 'sum',\n",
    "                'revenuePerDateB' : 'sum'}), axis=1).sort_values(by=['date'])\n",
    "ordersBCummulative.columns = ['date', 'ordersCummulativeB', 'revenueCummulativeB']"
   ]
  },
  {
   "cell_type": "code",
   "execution_count": 28,
   "metadata": {},
   "outputs": [
    {
     "data": {
      "text/html": [
       "<div>\n",
       "<style scoped>\n",
       "    .dataframe tbody tr th:only-of-type {\n",
       "        vertical-align: middle;\n",
       "    }\n",
       "\n",
       "    .dataframe tbody tr th {\n",
       "        vertical-align: top;\n",
       "    }\n",
       "\n",
       "    .dataframe thead th {\n",
       "        text-align: right;\n",
       "    }\n",
       "</style>\n",
       "<table border=\"1\" class=\"dataframe\">\n",
       "  <thead>\n",
       "    <tr style=\"text-align: right;\">\n",
       "      <th></th>\n",
       "      <th>date</th>\n",
       "      <th>ordersPerDateA</th>\n",
       "      <th>revenuePerDateA</th>\n",
       "      <th>ordersPerDateB</th>\n",
       "      <th>revenuePerDateB</th>\n",
       "      <th>ordersCummulativeA</th>\n",
       "      <th>revenueCummulativeA</th>\n",
       "      <th>ordersCummulativeB</th>\n",
       "      <th>revenueCummulativeB</th>\n",
       "      <th>visitorsPerDateA</th>\n",
       "      <th>visitorsPerDateB</th>\n",
       "      <th>visitorsCummulativeA</th>\n",
       "      <th>visitorsCummulativeB</th>\n",
       "    </tr>\n",
       "  </thead>\n",
       "  <tbody>\n",
       "    <tr>\n",
       "      <th>0</th>\n",
       "      <td>2019-08-01</td>\n",
       "      <td>24</td>\n",
       "      <td>148579</td>\n",
       "      <td>21</td>\n",
       "      <td>101217</td>\n",
       "      <td>24</td>\n",
       "      <td>148579</td>\n",
       "      <td>21</td>\n",
       "      <td>101217</td>\n",
       "      <td>719</td>\n",
       "      <td>713</td>\n",
       "      <td>719</td>\n",
       "      <td>713</td>\n",
       "    </tr>\n",
       "    <tr>\n",
       "      <th>1</th>\n",
       "      <td>2019-08-02</td>\n",
       "      <td>20</td>\n",
       "      <td>93822</td>\n",
       "      <td>24</td>\n",
       "      <td>165531</td>\n",
       "      <td>44</td>\n",
       "      <td>242401</td>\n",
       "      <td>45</td>\n",
       "      <td>266748</td>\n",
       "      <td>619</td>\n",
       "      <td>581</td>\n",
       "      <td>1338</td>\n",
       "      <td>1294</td>\n",
       "    </tr>\n",
       "    <tr>\n",
       "      <th>2</th>\n",
       "      <td>2019-08-03</td>\n",
       "      <td>24</td>\n",
       "      <td>112473</td>\n",
       "      <td>16</td>\n",
       "      <td>114248</td>\n",
       "      <td>68</td>\n",
       "      <td>354874</td>\n",
       "      <td>61</td>\n",
       "      <td>380996</td>\n",
       "      <td>507</td>\n",
       "      <td>509</td>\n",
       "      <td>1845</td>\n",
       "      <td>1803</td>\n",
       "    </tr>\n",
       "    <tr>\n",
       "      <th>3</th>\n",
       "      <td>2019-08-04</td>\n",
       "      <td>16</td>\n",
       "      <td>70825</td>\n",
       "      <td>17</td>\n",
       "      <td>108571</td>\n",
       "      <td>84</td>\n",
       "      <td>425699</td>\n",
       "      <td>78</td>\n",
       "      <td>489567</td>\n",
       "      <td>717</td>\n",
       "      <td>770</td>\n",
       "      <td>2562</td>\n",
       "      <td>2573</td>\n",
       "    </tr>\n",
       "    <tr>\n",
       "      <th>4</th>\n",
       "      <td>2019-08-05</td>\n",
       "      <td>25</td>\n",
       "      <td>124218</td>\n",
       "      <td>23</td>\n",
       "      <td>92428</td>\n",
       "      <td>109</td>\n",
       "      <td>549917</td>\n",
       "      <td>101</td>\n",
       "      <td>581995</td>\n",
       "      <td>756</td>\n",
       "      <td>707</td>\n",
       "      <td>3318</td>\n",
       "      <td>3280</td>\n",
       "    </tr>\n",
       "  </tbody>\n",
       "</table>\n",
       "</div>"
      ],
      "text/plain": [
       "        date  ordersPerDateA  revenuePerDateA  ordersPerDateB  \\\n",
       "0 2019-08-01              24           148579              21   \n",
       "1 2019-08-02              20            93822              24   \n",
       "2 2019-08-03              24           112473              16   \n",
       "3 2019-08-04              16            70825              17   \n",
       "4 2019-08-05              25           124218              23   \n",
       "\n",
       "   revenuePerDateB  ordersCummulativeA  revenueCummulativeA  \\\n",
       "0           101217                  24               148579   \n",
       "1           165531                  44               242401   \n",
       "2           114248                  68               354874   \n",
       "3           108571                  84               425699   \n",
       "4            92428                 109               549917   \n",
       "\n",
       "   ordersCummulativeB  revenueCummulativeB  visitorsPerDateA  \\\n",
       "0                  21               101217               719   \n",
       "1                  45               266748               619   \n",
       "2                  61               380996               507   \n",
       "3                  78               489567               717   \n",
       "4                 101               581995               756   \n",
       "\n",
       "   visitorsPerDateB  visitorsCummulativeA  visitorsCummulativeB  \n",
       "0               713                   719                   713  \n",
       "1               581                  1338                  1294  \n",
       "2               509                  1845                  1803  \n",
       "3               770                  2562                  2573  \n",
       "4               707                  3318                  3280  "
      ]
     },
     "metadata": {},
     "output_type": "display_data"
    }
   ],
   "source": [
    "data = ordersADaily.merge(ordersBDaily, left_on='date', right_on='date', how='left')\\\n",
    "    .merge(ordersACummulative, left_on='date', right_on='date', how='left')\\\n",
    "    .merge(ordersBCummulative, left_on='date', right_on='date', how='left')\\\n",
    "    .merge(visitorsADaily, left_on='date', right_on='date', how='left')\\\n",
    "    .merge(visitorsBDaily, left_on='date', right_on='date', how='left')\\\n",
    "    .merge(visitorsACummulative, left_on='date', right_on='date', how='left')\\\n",
    "    .merge(visitorsBCummulative, left_on='date', right_on='date', how='left')\n",
    "\n",
    "display(data.head())"
   ]
  },
  {
   "cell_type": "markdown",
   "metadata": {},
   "source": [
    "We formulate hypotheses that we will refute or confirm further.\n",
    "\n",
    "H0: There are no statistically significant differences in the average number of orders between groups on the raw data.\n",
    "\n",
    "H1: There are statistically significant differences in the average number of orders between groups according to raw data."
   ]
  },
  {
   "cell_type": "markdown",
   "metadata": {},
   "source": [
    "**We create the ordersByUsersA and ordersByUsersB variables. In them, for users who ordered at least 1 time, we indicate the number of completed orders**"
   ]
  },
  {
   "cell_type": "code",
   "execution_count": 29,
   "metadata": {},
   "outputs": [],
   "source": [
    "ordersByUsersA = (\n",
    "    orders[orders['group'] == 'A']\n",
    "    .groupby('visitor_id', as_index=False)\n",
    "    .agg({'transaction_id': pd.Series.nunique})\n",
    ")\n",
    "ordersByUsersA.columns = ['visitor_id', 'orders']\n",
    "\n",
    "ordersByUsersB = (\n",
    "    orders[orders['group'] == 'B']\n",
    "    .groupby('visitor_id', as_index=False)\n",
    "    .agg({'transaction_id': pd.Series.nunique})\n",
    ")\n",
    "ordersByUsersB.columns = ['visitor_id', 'orders'] "
   ]
  },
  {
   "cell_type": "markdown",
   "metadata": {},
   "source": [
    "We create variables sample_a and sample_b, in which users from different groups will correspond to the number of orders. Those who did not order anything will be matched with zeros. This is necessary to prepare the samples for verification by the Mann-Whitney test."
   ]
  },
  {
   "cell_type": "code",
   "execution_count": 30,
   "metadata": {},
   "outputs": [],
   "source": [
    "sampleA = pd.concat([ordersByUsersA['orders'],\n",
    "                      pd.Series(\n",
    "                          0, \n",
    "                          index=np.arange(data['visitorsPerDateA'].sum() - \n",
    "                                          len(ordersByUsersA['orders'])), \n",
    "                          name='orders')],axis=0\n",
    "                    )\n",
    "\n",
    "sampleB = pd.concat([ordersByUsersB['orders'],\n",
    "                      pd.Series(\n",
    "                          0, \n",
    "                          index=np.arange(data['visitorsPerDateB'].sum() - \n",
    "                                          len(ordersByUsersB['orders'])), \n",
    "                          name='orders')],axis=0\n",
    "                    )"
   ]
  },
  {
   "cell_type": "code",
   "execution_count": 31,
   "metadata": {},
   "outputs": [
    {
     "name": "stdout",
     "output_type": "stream",
     "text": [
      "alpha = 0.05\n",
      "p-value = 0.01679\n",
      "Относительный показатель 'B' и 'A' = 0.138\n"
     ]
    }
   ],
   "source": [
    "print(\"alpha =\",0.05)\n",
    "print(\"p-value = {0:.5f}\".format(stats.mannwhitneyu(sampleA, sampleB, alternative = 'two-sided')[1]))\n",
    "print(\"Относительный показатель 'B' и 'A' = {0:.3f}\".format(sampleB.mean()/sampleA.mean()-1)) "
   ]
  },
  {
   "cell_type": "markdown",
   "metadata": {},
   "source": [
    "According to raw data, there are differences between groups.\n",
    "P-value = 0.01679 is less than 0.05. Hence, we reject the null hypothesis that there are no statistically significant differences between the groups. Group B's relative gain is 13.8%."
   ]
  },
  {
   "cell_type": "markdown",
   "metadata": {},
   "source": [
    "**Calculate the statistical significance of differences in the average check of the order between the groups according to the \"raw\" data. Make inferences and assumptions.**\n",
    "\n",
    "We formulate hypotheses that we will refute or confirm further.\n",
    "\n",
    "H0: There are no statistically significant differences in average check between groups based on raw data.\n",
    "\n",
    "H1: There are statistically significant differences in the average check between groups according to raw data."
   ]
  },
  {
   "cell_type": "code",
   "execution_count": 32,
   "metadata": {
    "scrolled": false
   },
   "outputs": [
    {
     "name": "stdout",
     "output_type": "stream",
     "text": [
      "alpha = 0.05\n",
      "p-value = 0.72929\n",
      "Относительный показатель \"B\" и \"A\" = 0.259\n"
     ]
    }
   ],
   "source": [
    "print(\"alpha =\",0.05)\n",
    "print('p-value = {0:.5f}'.format(stats.mannwhitneyu(orders[orders['group']=='A']['revenue'], orders[orders['group']=='B']['revenue'])[1]))\n",
    "print('Относительный показатель \"B\" и \"A\" = {0:.3f}'.format(orders[orders['group']=='B']['revenue'].mean()/orders[orders['group']=='A']['revenue'].mean()-1))"
   ]
  },
  {
   "cell_type": "markdown",
   "metadata": {},
   "source": [
    "p-value is significantly greater than alpha => we do not reject the null hypothesis and can say that there is no difference in the average check.\n",
    "\n",
    "According to the results of the analysis of raw data, the average checks are similar. At the same time, we also see that the average check in group B is higher than the average check in group A by 25.9%."
   ]
  },
  {
   "cell_type": "markdown",
   "metadata": {},
   "source": [
    "**Calculate the statistical significance of the differences in the average number of orders per visitor between groups on the \"cleaned\" data. Make inferences and assumptions.**\n",
    "\n",
    "Let's take as abnormal users those who made from 5 orders or made an order more expensive than 58233. So we will remove 1% of users with the largest number of orders and from 1% of users with expensive orders. Let's make cuts of users with more than 4 orders - users_with_many_orders and users who made orders more than 58233 - users_with_expensive_orders. Let's combine them in the abnormal_users table.\n",
    "Find out how many anomalous users there are using the shape() method."
   ]
  },
  {
   "cell_type": "code",
   "execution_count": 33,
   "metadata": {
    "scrolled": false
   },
   "outputs": [
    {
     "data": {
      "text/plain": [
       "1099     148427295\n",
       "949      887908475\n",
       "744      888512513\n",
       "1103    1164614297\n",
       "1136    1307669133\n",
       "Name: visitor_id, dtype: int64"
      ]
     },
     "metadata": {},
     "output_type": "display_data"
    },
    {
     "data": {
      "text/plain": [
       "15"
      ]
     },
     "execution_count": 33,
     "metadata": {},
     "output_type": "execute_result"
    }
   ],
   "source": [
    "many_orders = np.percentile(ordersByUsers['orders'], 99)\n",
    "expensive_orders = np.percentile(orders['revenue'], 99)\n",
    "\n",
    "\n",
    "users_with_many_orders = pd.concat(\n",
    "    [\n",
    "        ordersByUsersA[ordersByUsersA['orders'] > many_orders]['visitor_id'],\n",
    "        ordersByUsersB[ordersByUsersB['orders'] > many_orders]['visitor_id'],\n",
    "    ],\n",
    "    axis=0,\n",
    ")\n",
    "\n",
    "\n",
    "users_with_expensive_orders = orders[orders['revenue'] > expensive_orders]['visitor_id']\n",
    "\n",
    "\n",
    "abnormal_users = (\n",
    "    pd.concat([users_with_many_orders, users_with_expensive_orders], axis=0)\n",
    "    .drop_duplicates()\n",
    "    .sort_values()\n",
    ")\n",
    "display(abnormal_users.head(5))\n",
    "abnormal_users.shape[0]"
   ]
  },
  {
   "cell_type": "markdown",
   "metadata": {},
   "source": [
    "There are 15 anomalous users in total.\n",
    "\n",
    "Let's find out how their actions influenced the test results. Let's calculate the statistical significance of the differences in conversion between test groups based on the cleaned data. First, let's prepare samples of the number of orders by users by test groups."
   ]
  },
  {
   "cell_type": "markdown",
   "metadata": {},
   "source": [
    "We formulate hypotheses that we will refute or confirm further.\n",
    "\n",
    "H0: There are no statistically significant differences in average bookings per visitor between groups on the cleaned data.\n",
    "\n",
    "H1: There are statistically significant differences in the average number of orders per visitor between the groups based on the cleaned data."
   ]
  },
  {
   "cell_type": "code",
   "execution_count": 34,
   "metadata": {},
   "outputs": [],
   "source": [
    "sampleAFiltered = pd.concat(\n",
    "    [\n",
    "        ordersByUsersA[\n",
    "            np.logical_not(ordersByUsersA['visitor_id'].isin(abnormal_users))\n",
    "        ]['orders'],\n",
    "        pd.Series(\n",
    "            0,\n",
    "            index=np.arange(\n",
    "                data['visitorsPerDateA'].sum() - len(ordersByUsersA['orders'])\n",
    "            ),\n",
    "            name='orders',\n",
    "        ),\n",
    "    ],\n",
    "    axis=0,\n",
    ")\n",
    "\n",
    "sampleBFiltered = pd.concat(\n",
    "    [\n",
    "        ordersByUsersB[\n",
    "            np.logical_not(ordersByUsersB['visitor_id'].isin(abnormal_users))\n",
    "        ]['orders'],\n",
    "        pd.Series(\n",
    "            0,\n",
    "            index=np.arange(\n",
    "                data['visitorsPerDateB'].sum() - len(ordersByUsersB['orders'])\n",
    "            ),\n",
    "            name='orders',\n",
    "        ),\n",
    "    ],\n",
    "    axis=0,\n",
    ")"
   ]
  },
  {
   "cell_type": "code",
   "execution_count": 35,
   "metadata": {},
   "outputs": [
    {
     "name": "stdout",
     "output_type": "stream",
     "text": [
      "alpha = 0.05\n",
      "p-value = 0.01438\n",
      "Относительный показатель \"B\" и \"A\" = 0.153\n"
     ]
    }
   ],
   "source": [
    "print(\"alpha =\",0.05)\n",
    "print('p-value = {0:.5f}'.format(stats.mannwhitneyu(sampleAFiltered, sampleBFiltered)[1]))\n",
    "print('Относительный показатель \"B\" и \"A\" = {0:.3f}'.format(sampleBFiltered.mean()/sampleAFiltered.mean()-1))"
   ]
  },
  {
   "cell_type": "markdown",
   "metadata": {},
   "source": [
    "p-value is less than alpha => we reject the null hypothesis.\n",
    "\n",
    "There are statistically significant differences between the groups.\n",
    "\n",
    "This means that, as in the raw data, there are differences between the groups in the cleaned data.\n",
    "\n",
    "The relative superiority of group \"B\" over \"A\" is 15.3% (higher than with \"raw\" data)."
   ]
  },
  {
   "cell_type": "markdown",
   "metadata": {},
   "source": [
    "**Calculate the statistical significance of the differences in the average check of the order between the groups according to the \"cleaned\" data. Make inferences and assumptions.**\n",
    "\n",
    "We formulate hypotheses that we will refute or confirm further.\n",
    "\n",
    "H0: There are no statistically significant differences in the average check between groups based on the cleaned data.\n",
    "\n",
    "H1: There are statistically significant differences in the average check between groups according to raw data."
   ]
  },
  {
   "cell_type": "code",
   "execution_count": 36,
   "metadata": {},
   "outputs": [
    {
     "name": "stdout",
     "output_type": "stream",
     "text": [
      "alpha = 0.05\n",
      "p-value = 0.85091\n",
      "Относительный показатель 'B' и 'A' = -0.006\n"
     ]
    }
   ],
   "source": [
    "print(\"alpha =\",0.05)\n",
    "\n",
    "print(\n",
    "    'p-value = {0:.5f}'.format(\n",
    "        stats.mannwhitneyu(\n",
    "            orders[\n",
    "                np.logical_and(\n",
    "                    orders['group'] == 'A',\n",
    "                    np.logical_not(orders['visitor_id'].isin(abnormal_users)),\n",
    "                )\n",
    "            ]['revenue'],\n",
    "            orders[\n",
    "                np.logical_and(\n",
    "                    orders['group'] == 'B',\n",
    "                    np.logical_not(orders['visitor_id'].isin(abnormal_users)),\n",
    "                )\n",
    "            ]['revenue'],\n",
    "        )[1]\n",
    "    )\n",
    ")\n",
    "\n",
    "print(\n",
    "    \"Относительный показатель 'B' и 'A' = {0:.3f}\".format(\n",
    "        orders[\n",
    "            np.logical_and(\n",
    "                orders['group'] == 'B',\n",
    "                np.logical_not(orders['visitor_id'].isin(abnormal_users)),\n",
    "            )\n",
    "        ]['revenue'].mean()\n",
    "        / orders[\n",
    "            np.logical_and(\n",
    "                orders['group'] == 'A',\n",
    "                np.logical_not(orders['visitor_id'].isin(abnormal_users)),\n",
    "            )\n",
    "        ]['revenue'].mean()\n",
    "        - 1\n",
    "    )\n",
    ")"
   ]
  },
  {
   "cell_type": "markdown",
   "metadata": {},
   "source": [
    "P-value is significantly greater than 0.05. This means that there is no reason to reject the null hypothesis and believe that there are differences in the average bill. There are practically no differences in the difference between the average checks of the groups."
   ]
  },
  {
   "cell_type": "markdown",
   "metadata": {},
   "source": [
    "# Сonclusions"
   ]
  },
  {
   "cell_type": "markdown",
   "metadata": {},
   "source": [
    "Based on the input data provided by the online store, a study was conducted and the recommendations set out below were made.\n",
    "\n",
    "**1. In terms of prioritizing hypotheses from the list provided by the Marketing Department, you should first of all pay attention to the following hypotheses:**\n",
    "\n",
    "* \"Start a promotion that gives a discount on a product on your birthday\",\n",
    "* \"Add two new channels to attract traffic, which will attract 30% more users\",\n",
    "* \"Add a subscription form to all main pages to build a customer base for email newsletters\";\n",
    "\n",
    "If the ranking of hypotheses should also include the coverage of online store users, then the places must be distributed in the following way:\n",
    "\n",
    "* \"Add a subscription form to all main pages to build a customer base for email newsletters\",\n",
    "* \"Add blocks of product recommendations to the website of the online store to increase the average check of the order\",\n",
    "* \"Add two new traffic acquisition channels to reach 30% more users.\"\n",
    "\n",
    "**2. Regarding the analysis of the A / B test:**\n",
    "\n",
    "* There is a statistically significant difference between the groups both in terms of raw data and data after anomaly filtering. The indicators of group B are higher than in A by 14-15%;\n",
    "\n",
    "* There is no statistically significant difference in the average check between the groups, either according to the \"raw\" or according to the data after filtering out the anomalies;\n",
    "\n",
    "* The graph of the relative change of group B to group A shows that the results of group B are consistently better than group A;\n",
    "\n",
    "Based on the above, we recommend stopping the test, fixing the victory of group B."
   ]
  }
 ],
 "metadata": {
  "ExecuteTimeLog": [
   {
    "duration": 1326,
    "start_time": "2023-02-06T19:52:37.890Z"
   },
   {
    "duration": 163,
    "start_time": "2023-02-06T19:52:39.218Z"
   },
   {
    "duration": 1190,
    "start_time": "2023-02-06T19:53:07.015Z"
   },
   {
    "duration": 178,
    "start_time": "2023-02-06T19:53:08.206Z"
   },
   {
    "duration": 28,
    "start_time": "2023-02-06T19:53:20.989Z"
   },
   {
    "duration": 18,
    "start_time": "2023-02-06T19:53:35.958Z"
   },
   {
    "duration": 23,
    "start_time": "2023-02-06T19:53:46.673Z"
   },
   {
    "duration": 91,
    "start_time": "2023-02-06T19:54:13.602Z"
   },
   {
    "duration": 7,
    "start_time": "2023-02-06T19:54:43.333Z"
   },
   {
    "duration": 6,
    "start_time": "2023-02-06T19:54:45.702Z"
   },
   {
    "duration": 8,
    "start_time": "2023-02-06T19:54:54.088Z"
   },
   {
    "duration": 11,
    "start_time": "2023-02-06T19:55:43.997Z"
   },
   {
    "duration": 286,
    "start_time": "2023-02-06T19:56:11.503Z"
   },
   {
    "duration": 11,
    "start_time": "2023-02-06T19:56:32.148Z"
   },
   {
    "duration": 271,
    "start_time": "2023-02-06T19:56:38.957Z"
   },
   {
    "duration": 9,
    "start_time": "2023-02-06T19:56:50.650Z"
   },
   {
    "duration": 76,
    "start_time": "2023-02-06T19:57:13.109Z"
   },
   {
    "duration": 177,
    "start_time": "2023-02-06T20:01:17.969Z"
   },
   {
    "duration": 134,
    "start_time": "2023-02-06T20:01:29.105Z"
   },
   {
    "duration": 7,
    "start_time": "2023-02-06T20:01:50.187Z"
   },
   {
    "duration": 11,
    "start_time": "2023-02-06T20:01:58.868Z"
   },
   {
    "duration": 287,
    "start_time": "2023-02-06T20:02:10.861Z"
   },
   {
    "duration": 216,
    "start_time": "2023-02-06T20:02:27.535Z"
   },
   {
    "duration": 285,
    "start_time": "2023-02-06T20:02:39.968Z"
   },
   {
    "duration": 213,
    "start_time": "2023-02-06T20:02:53.490Z"
   },
   {
    "duration": 334,
    "start_time": "2023-02-06T20:03:05.188Z"
   },
   {
    "duration": 207,
    "start_time": "2023-02-06T20:03:17.204Z"
   },
   {
    "duration": 118,
    "start_time": "2023-02-06T20:03:26.397Z"
   },
   {
    "duration": 5,
    "start_time": "2023-02-06T20:03:34.733Z"
   },
   {
    "duration": 147,
    "start_time": "2023-02-06T20:03:44.018Z"
   },
   {
    "duration": 131,
    "start_time": "2023-02-06T20:03:55.943Z"
   },
   {
    "duration": 141,
    "start_time": "2023-02-06T20:04:02.808Z"
   },
   {
    "duration": 5,
    "start_time": "2023-02-06T20:04:09.568Z"
   },
   {
    "duration": 237,
    "start_time": "2023-02-06T20:04:35.204Z"
   },
   {
    "duration": 161,
    "start_time": "2023-02-06T20:04:59.270Z"
   },
   {
    "duration": 7,
    "start_time": "2023-02-06T20:05:07.167Z"
   },
   {
    "duration": 4,
    "start_time": "2023-02-06T20:05:30.833Z"
   },
   {
    "duration": 24,
    "start_time": "2023-02-06T20:05:40.561Z"
   },
   {
    "duration": 8,
    "start_time": "2023-02-06T20:05:59.060Z"
   },
   {
    "duration": 16,
    "start_time": "2023-02-06T20:06:08.485Z"
   },
   {
    "duration": 9,
    "start_time": "2023-02-06T20:06:27.046Z"
   },
   {
    "duration": 28,
    "start_time": "2023-02-06T20:06:33.808Z"
   },
   {
    "duration": 11,
    "start_time": "2023-02-06T20:06:46.226Z"
   },
   {
    "duration": 99,
    "start_time": "2023-02-09T10:44:37.536Z"
   },
   {
    "duration": 1582,
    "start_time": "2023-02-09T10:45:09.605Z"
   },
   {
    "duration": 388,
    "start_time": "2023-02-09T10:45:11.195Z"
   },
   {
    "duration": 54,
    "start_time": "2023-02-09T10:45:11.588Z"
   },
   {
    "duration": 51,
    "start_time": "2023-02-09T10:45:11.645Z"
   },
   {
    "duration": 36,
    "start_time": "2023-02-09T10:45:11.701Z"
   },
   {
    "duration": 7,
    "start_time": "2023-02-09T10:45:11.740Z"
   },
   {
    "duration": 14,
    "start_time": "2023-02-09T10:45:11.748Z"
   },
   {
    "duration": 61,
    "start_time": "2023-02-09T10:45:11.763Z"
   },
   {
    "duration": 54,
    "start_time": "2023-02-09T10:45:11.826Z"
   },
   {
    "duration": 392,
    "start_time": "2023-02-09T10:45:11.882Z"
   },
   {
    "duration": 23,
    "start_time": "2023-02-09T10:45:12.279Z"
   },
   {
    "duration": 436,
    "start_time": "2023-02-09T10:45:12.308Z"
   },
   {
    "duration": 24,
    "start_time": "2023-02-09T10:45:12.745Z"
   },
   {
    "duration": 272,
    "start_time": "2023-02-09T10:45:12.773Z"
   },
   {
    "duration": 154,
    "start_time": "2023-02-09T10:45:13.047Z"
   },
   {
    "duration": 7,
    "start_time": "2023-02-09T10:45:13.203Z"
   },
   {
    "duration": 28,
    "start_time": "2023-02-09T10:45:13.214Z"
   },
   {
    "duration": 416,
    "start_time": "2023-02-09T10:45:13.244Z"
   },
   {
    "duration": 267,
    "start_time": "2023-02-09T10:45:13.672Z"
   },
   {
    "duration": 393,
    "start_time": "2023-02-09T10:45:13.943Z"
   },
   {
    "duration": 272,
    "start_time": "2023-02-09T10:45:14.339Z"
   },
   {
    "duration": 311,
    "start_time": "2023-02-09T10:45:14.617Z"
   },
   {
    "duration": 287,
    "start_time": "2023-02-09T10:45:14.929Z"
   },
   {
    "duration": 157,
    "start_time": "2023-02-09T10:45:15.218Z"
   },
   {
    "duration": 14,
    "start_time": "2023-02-09T10:45:15.381Z"
   },
   {
    "duration": 205,
    "start_time": "2023-02-09T10:45:15.399Z"
   },
   {
    "duration": 179,
    "start_time": "2023-02-09T10:45:15.606Z"
   },
   {
    "duration": 173,
    "start_time": "2023-02-09T10:45:15.787Z"
   },
   {
    "duration": 6,
    "start_time": "2023-02-09T10:45:15.962Z"
   },
   {
    "duration": 313,
    "start_time": "2023-02-09T10:45:15.971Z"
   },
   {
    "duration": 175,
    "start_time": "2023-02-09T10:45:16.292Z"
   },
   {
    "duration": 11,
    "start_time": "2023-02-09T10:45:16.469Z"
   },
   {
    "duration": 48,
    "start_time": "2023-02-09T10:45:16.482Z"
   },
   {
    "duration": 60,
    "start_time": "2023-02-09T10:45:16.532Z"
   },
   {
    "duration": 32,
    "start_time": "2023-02-09T10:45:16.598Z"
   },
   {
    "duration": 13,
    "start_time": "2023-02-09T10:45:16.632Z"
   },
   {
    "duration": 20,
    "start_time": "2023-02-09T10:45:16.646Z"
   },
   {
    "duration": 74,
    "start_time": "2023-02-09T10:45:16.673Z"
   },
   {
    "duration": 23,
    "start_time": "2023-02-09T10:45:16.748Z"
   },
   {
    "duration": 1356,
    "start_time": "2023-02-09T10:46:09.606Z"
   },
   {
    "duration": 102,
    "start_time": "2023-02-09T10:46:10.966Z"
   },
   {
    "duration": 39,
    "start_time": "2023-02-09T10:46:11.070Z"
   },
   {
    "duration": 29,
    "start_time": "2023-02-09T10:46:11.111Z"
   },
   {
    "duration": 33,
    "start_time": "2023-02-09T10:46:11.142Z"
   },
   {
    "duration": 49,
    "start_time": "2023-02-09T10:46:11.177Z"
   },
   {
    "duration": 7,
    "start_time": "2023-02-09T10:46:11.228Z"
   },
   {
    "duration": 11,
    "start_time": "2023-02-09T10:46:11.237Z"
   },
   {
    "duration": 17,
    "start_time": "2023-02-09T10:46:11.250Z"
   },
   {
    "duration": 411,
    "start_time": "2023-02-09T10:46:11.269Z"
   },
   {
    "duration": 18,
    "start_time": "2023-02-09T10:46:11.685Z"
   },
   {
    "duration": 408,
    "start_time": "2023-02-09T10:46:11.708Z"
   },
   {
    "duration": 18,
    "start_time": "2023-02-09T10:46:12.122Z"
   },
   {
    "duration": 296,
    "start_time": "2023-02-09T10:46:12.143Z"
   },
   {
    "duration": 195,
    "start_time": "2023-02-09T10:46:12.441Z"
   },
   {
    "duration": 7,
    "start_time": "2023-02-09T10:46:12.638Z"
   },
   {
    "duration": 83,
    "start_time": "2023-02-09T10:46:12.647Z"
   },
   {
    "duration": 400,
    "start_time": "2023-02-09T10:46:12.732Z"
   },
   {
    "duration": 395,
    "start_time": "2023-02-09T10:46:13.134Z"
   },
   {
    "duration": 390,
    "start_time": "2023-02-09T10:46:13.538Z"
   },
   {
    "duration": 277,
    "start_time": "2023-02-09T10:46:13.935Z"
   },
   {
    "duration": 336,
    "start_time": "2023-02-09T10:46:14.213Z"
   },
   {
    "duration": 274,
    "start_time": "2023-02-09T10:46:14.550Z"
   },
   {
    "duration": 176,
    "start_time": "2023-02-09T10:46:14.826Z"
   },
   {
    "duration": 7,
    "start_time": "2023-02-09T10:46:15.004Z"
   },
   {
    "duration": 202,
    "start_time": "2023-02-09T10:46:15.021Z"
   },
   {
    "duration": 189,
    "start_time": "2023-02-09T10:46:15.224Z"
   },
   {
    "duration": 180,
    "start_time": "2023-02-09T10:46:15.415Z"
   },
   {
    "duration": 4,
    "start_time": "2023-02-09T10:46:15.597Z"
   },
   {
    "duration": 285,
    "start_time": "2023-02-09T10:46:15.603Z"
   },
   {
    "duration": 170,
    "start_time": "2023-02-09T10:46:15.892Z"
   },
   {
    "duration": 16,
    "start_time": "2023-02-09T10:46:16.066Z"
   },
   {
    "duration": 38,
    "start_time": "2023-02-09T10:46:16.086Z"
   },
   {
    "duration": 42,
    "start_time": "2023-02-09T10:46:16.126Z"
   },
   {
    "duration": 39,
    "start_time": "2023-02-09T10:46:16.170Z"
   },
   {
    "duration": 19,
    "start_time": "2023-02-09T10:46:16.215Z"
   },
   {
    "duration": 15,
    "start_time": "2023-02-09T10:46:16.236Z"
   },
   {
    "duration": 74,
    "start_time": "2023-02-09T10:46:16.257Z"
   },
   {
    "duration": 11,
    "start_time": "2023-02-09T10:46:16.333Z"
   },
   {
    "duration": 1324,
    "start_time": "2023-02-09T10:46:49.114Z"
   },
   {
    "duration": 93,
    "start_time": "2023-02-09T10:46:50.440Z"
   },
   {
    "duration": 46,
    "start_time": "2023-02-09T10:46:50.535Z"
   },
   {
    "duration": 51,
    "start_time": "2023-02-09T10:46:50.583Z"
   },
   {
    "duration": 32,
    "start_time": "2023-02-09T10:46:50.636Z"
   },
   {
    "duration": 46,
    "start_time": "2023-02-09T10:46:50.670Z"
   },
   {
    "duration": 6,
    "start_time": "2023-02-09T10:46:50.718Z"
   },
   {
    "duration": 17,
    "start_time": "2023-02-09T10:46:50.726Z"
   },
   {
    "duration": 45,
    "start_time": "2023-02-09T10:46:50.745Z"
   },
   {
    "duration": 375,
    "start_time": "2023-02-09T10:46:50.796Z"
   },
   {
    "duration": 23,
    "start_time": "2023-02-09T10:46:51.173Z"
   },
   {
    "duration": 320,
    "start_time": "2023-02-09T10:46:51.198Z"
   },
   {
    "duration": 12,
    "start_time": "2023-02-09T10:46:51.521Z"
   },
   {
    "duration": 284,
    "start_time": "2023-02-09T10:46:51.536Z"
   },
   {
    "duration": 154,
    "start_time": "2023-02-09T10:46:51.822Z"
   },
   {
    "duration": 6,
    "start_time": "2023-02-09T10:46:51.978Z"
   },
   {
    "duration": 37,
    "start_time": "2023-02-09T10:46:51.986Z"
   },
   {
    "duration": 387,
    "start_time": "2023-02-09T10:46:52.026Z"
   },
   {
    "duration": 290,
    "start_time": "2023-02-09T10:46:52.416Z"
   },
   {
    "duration": 332,
    "start_time": "2023-02-09T10:46:52.710Z"
   },
   {
    "duration": 276,
    "start_time": "2023-02-09T10:46:53.044Z"
   },
   {
    "duration": 343,
    "start_time": "2023-02-09T10:46:53.322Z"
   },
   {
    "duration": 267,
    "start_time": "2023-02-09T10:46:53.669Z"
   },
   {
    "duration": 158,
    "start_time": "2023-02-09T10:46:53.938Z"
   },
   {
    "duration": 6,
    "start_time": "2023-02-09T10:46:54.100Z"
   },
   {
    "duration": 182,
    "start_time": "2023-02-09T10:46:54.108Z"
   },
   {
    "duration": 183,
    "start_time": "2023-02-09T10:46:54.292Z"
   },
   {
    "duration": 174,
    "start_time": "2023-02-09T10:46:54.483Z"
   },
   {
    "duration": 5,
    "start_time": "2023-02-09T10:46:54.659Z"
   },
   {
    "duration": 312,
    "start_time": "2023-02-09T10:46:54.665Z"
   },
   {
    "duration": 195,
    "start_time": "2023-02-09T10:46:54.987Z"
   },
   {
    "duration": 10,
    "start_time": "2023-02-09T10:46:55.186Z"
   },
   {
    "duration": 75,
    "start_time": "2023-02-09T10:46:55.201Z"
   },
   {
    "duration": 98,
    "start_time": "2023-02-09T10:46:55.285Z"
   },
   {
    "duration": 18,
    "start_time": "2023-02-09T10:46:55.389Z"
   },
   {
    "duration": 67,
    "start_time": "2023-02-09T10:46:55.413Z"
   },
   {
    "duration": 150,
    "start_time": "2023-02-09T10:46:55.486Z"
   },
   {
    "duration": 64,
    "start_time": "2023-02-09T10:46:55.642Z"
   },
   {
    "duration": 40,
    "start_time": "2023-02-09T10:46:55.708Z"
   },
   {
    "duration": 1423,
    "start_time": "2023-02-09T10:47:59.642Z"
   },
   {
    "duration": 118,
    "start_time": "2023-02-09T10:48:01.071Z"
   },
   {
    "duration": 26,
    "start_time": "2023-02-09T10:48:01.191Z"
   },
   {
    "duration": 28,
    "start_time": "2023-02-09T10:48:01.220Z"
   },
   {
    "duration": 74,
    "start_time": "2023-02-09T10:48:01.249Z"
   },
   {
    "duration": 26,
    "start_time": "2023-02-09T10:48:01.325Z"
   },
   {
    "duration": 67,
    "start_time": "2023-02-09T10:48:01.353Z"
   },
   {
    "duration": 79,
    "start_time": "2023-02-09T10:48:01.422Z"
   },
   {
    "duration": 46,
    "start_time": "2023-02-09T10:48:01.503Z"
   },
   {
    "duration": 395,
    "start_time": "2023-02-09T10:48:01.552Z"
   },
   {
    "duration": 28,
    "start_time": "2023-02-09T10:48:01.948Z"
   },
   {
    "duration": 360,
    "start_time": "2023-02-09T10:48:01.978Z"
   },
   {
    "duration": 25,
    "start_time": "2023-02-09T10:48:02.339Z"
   },
   {
    "duration": 296,
    "start_time": "2023-02-09T10:48:02.373Z"
   },
   {
    "duration": 165,
    "start_time": "2023-02-09T10:48:02.675Z"
   },
   {
    "duration": 34,
    "start_time": "2023-02-09T10:48:02.842Z"
   },
   {
    "duration": 49,
    "start_time": "2023-02-09T10:48:02.879Z"
   },
   {
    "duration": 340,
    "start_time": "2023-02-09T10:48:02.930Z"
   },
   {
    "duration": 248,
    "start_time": "2023-02-09T10:48:03.272Z"
   },
   {
    "duration": 401,
    "start_time": "2023-02-09T10:48:03.524Z"
   },
   {
    "duration": 266,
    "start_time": "2023-02-09T10:48:03.927Z"
   },
   {
    "duration": 332,
    "start_time": "2023-02-09T10:48:04.195Z"
   },
   {
    "duration": 264,
    "start_time": "2023-02-09T10:48:04.530Z"
   },
   {
    "duration": 150,
    "start_time": "2023-02-09T10:48:04.799Z"
   },
   {
    "duration": 31,
    "start_time": "2023-02-09T10:48:04.951Z"
   },
   {
    "duration": 222,
    "start_time": "2023-02-09T10:48:04.994Z"
   },
   {
    "duration": 170,
    "start_time": "2023-02-09T10:48:05.218Z"
   },
   {
    "duration": 178,
    "start_time": "2023-02-09T10:48:05.393Z"
   },
   {
    "duration": 7,
    "start_time": "2023-02-09T10:48:05.572Z"
   },
   {
    "duration": 300,
    "start_time": "2023-02-09T10:48:05.581Z"
   },
   {
    "duration": 194,
    "start_time": "2023-02-09T10:48:05.886Z"
   },
   {
    "duration": 9,
    "start_time": "2023-02-09T10:48:06.088Z"
   },
   {
    "duration": 13,
    "start_time": "2023-02-09T10:48:06.099Z"
   },
   {
    "duration": 30,
    "start_time": "2023-02-09T10:48:06.113Z"
   },
   {
    "duration": 18,
    "start_time": "2023-02-09T10:48:06.146Z"
   },
   {
    "duration": 39,
    "start_time": "2023-02-09T10:48:06.167Z"
   },
   {
    "duration": 16,
    "start_time": "2023-02-09T10:48:06.210Z"
   },
   {
    "duration": 23,
    "start_time": "2023-02-09T10:48:06.228Z"
   },
   {
    "duration": 20,
    "start_time": "2023-02-09T10:48:06.253Z"
   },
   {
    "duration": 301,
    "start_time": "2023-02-09T10:48:40.698Z"
   },
   {
    "duration": 339,
    "start_time": "2023-02-09T10:49:03.573Z"
   },
   {
    "duration": 207,
    "start_time": "2023-02-09T10:56:14.389Z"
   },
   {
    "duration": 275,
    "start_time": "2023-02-09T10:56:21.017Z"
   },
   {
    "duration": 295,
    "start_time": "2023-02-09T10:57:07.709Z"
   },
   {
    "duration": 198,
    "start_time": "2023-02-09T10:57:15.369Z"
   },
   {
    "duration": 269,
    "start_time": "2023-02-09T10:57:21.280Z"
   },
   {
    "duration": 240,
    "start_time": "2023-02-09T10:57:33.293Z"
   },
   {
    "duration": 375,
    "start_time": "2023-02-09T10:57:57.207Z"
   },
   {
    "duration": 284,
    "start_time": "2023-02-09T10:58:03.819Z"
   },
   {
    "duration": 157,
    "start_time": "2023-02-09T11:33:01.919Z"
   },
   {
    "duration": 27,
    "start_time": "2023-02-09T11:45:17.203Z"
   },
   {
    "duration": 315,
    "start_time": "2023-02-09T11:46:08.938Z"
   },
   {
    "duration": 256,
    "start_time": "2023-02-09T11:48:06.839Z"
   },
   {
    "duration": 254,
    "start_time": "2023-02-09T11:49:06.549Z"
   },
   {
    "duration": 329,
    "start_time": "2023-02-09T11:51:07.879Z"
   },
   {
    "duration": 1800,
    "start_time": "2023-02-09T12:01:46.736Z"
   },
   {
    "duration": 1364,
    "start_time": "2023-02-09T12:02:04.832Z"
   },
   {
    "duration": 105,
    "start_time": "2023-02-09T12:02:06.200Z"
   },
   {
    "duration": 21,
    "start_time": "2023-02-09T12:02:06.307Z"
   },
   {
    "duration": 22,
    "start_time": "2023-02-09T12:02:06.331Z"
   },
   {
    "duration": 70,
    "start_time": "2023-02-09T12:02:06.357Z"
   },
   {
    "duration": 19,
    "start_time": "2023-02-09T12:02:06.430Z"
   },
   {
    "duration": 57,
    "start_time": "2023-02-09T12:02:06.451Z"
   },
   {
    "duration": 14,
    "start_time": "2023-02-09T12:02:06.510Z"
   },
   {
    "duration": 18,
    "start_time": "2023-02-09T12:02:06.526Z"
   },
   {
    "duration": 369,
    "start_time": "2023-02-09T12:02:06.547Z"
   },
   {
    "duration": 13,
    "start_time": "2023-02-09T12:02:06.917Z"
   },
   {
    "duration": 353,
    "start_time": "2023-02-09T12:02:06.933Z"
   },
   {
    "duration": 14,
    "start_time": "2023-02-09T12:02:07.296Z"
   },
   {
    "duration": 403,
    "start_time": "2023-02-09T12:02:07.312Z"
   },
   {
    "duration": 392,
    "start_time": "2023-02-09T12:02:07.717Z"
   },
   {
    "duration": 271,
    "start_time": "2023-02-09T12:02:08.112Z"
   },
   {
    "duration": 347,
    "start_time": "2023-02-09T12:02:08.384Z"
   },
   {
    "duration": 1897,
    "start_time": "2023-02-09T12:02:08.733Z"
   },
   {
    "duration": 0,
    "start_time": "2023-02-09T12:02:10.632Z"
   },
   {
    "duration": 0,
    "start_time": "2023-02-09T12:02:10.634Z"
   },
   {
    "duration": 0,
    "start_time": "2023-02-09T12:02:10.635Z"
   },
   {
    "duration": 0,
    "start_time": "2023-02-09T12:02:10.636Z"
   },
   {
    "duration": 0,
    "start_time": "2023-02-09T12:02:10.638Z"
   },
   {
    "duration": 0,
    "start_time": "2023-02-09T12:02:10.639Z"
   },
   {
    "duration": 0,
    "start_time": "2023-02-09T12:02:10.640Z"
   },
   {
    "duration": 0,
    "start_time": "2023-02-09T12:02:10.641Z"
   },
   {
    "duration": 0,
    "start_time": "2023-02-09T12:02:10.643Z"
   },
   {
    "duration": 0,
    "start_time": "2023-02-09T12:02:10.644Z"
   },
   {
    "duration": 0,
    "start_time": "2023-02-09T12:02:10.646Z"
   },
   {
    "duration": 0,
    "start_time": "2023-02-09T12:02:10.647Z"
   },
   {
    "duration": 0,
    "start_time": "2023-02-09T12:02:10.648Z"
   },
   {
    "duration": 0,
    "start_time": "2023-02-09T12:02:10.649Z"
   },
   {
    "duration": 0,
    "start_time": "2023-02-09T12:02:10.650Z"
   },
   {
    "duration": 0,
    "start_time": "2023-02-09T12:02:10.651Z"
   },
   {
    "duration": 0,
    "start_time": "2023-02-09T12:02:10.652Z"
   },
   {
    "duration": 0,
    "start_time": "2023-02-09T12:02:10.653Z"
   },
   {
    "duration": 348,
    "start_time": "2023-02-09T12:07:11.534Z"
   },
   {
    "duration": 386,
    "start_time": "2023-02-09T12:19:28.781Z"
   },
   {
    "duration": 361,
    "start_time": "2023-02-09T12:20:49.288Z"
   },
   {
    "duration": 209,
    "start_time": "2023-02-09T12:21:50.488Z"
   },
   {
    "duration": 153,
    "start_time": "2023-02-09T12:22:01.177Z"
   },
   {
    "duration": 162,
    "start_time": "2023-02-09T12:23:05.124Z"
   },
   {
    "duration": 138,
    "start_time": "2023-02-09T12:23:14.613Z"
   },
   {
    "duration": 245,
    "start_time": "2023-02-09T12:23:26.892Z"
   },
   {
    "duration": 9,
    "start_time": "2023-02-09T12:23:36.111Z"
   },
   {
    "duration": 7,
    "start_time": "2023-02-09T12:23:46.991Z"
   },
   {
    "duration": 1388,
    "start_time": "2023-02-09T12:24:06.373Z"
   },
   {
    "duration": 80,
    "start_time": "2023-02-09T12:24:07.764Z"
   },
   {
    "duration": 26,
    "start_time": "2023-02-09T12:24:07.846Z"
   },
   {
    "duration": 50,
    "start_time": "2023-02-09T12:24:07.874Z"
   },
   {
    "duration": 40,
    "start_time": "2023-02-09T12:24:07.928Z"
   },
   {
    "duration": 41,
    "start_time": "2023-02-09T12:24:07.974Z"
   },
   {
    "duration": 19,
    "start_time": "2023-02-09T12:24:08.017Z"
   },
   {
    "duration": 21,
    "start_time": "2023-02-09T12:24:08.038Z"
   },
   {
    "duration": 57,
    "start_time": "2023-02-09T12:24:08.060Z"
   },
   {
    "duration": 444,
    "start_time": "2023-02-09T12:24:08.120Z"
   },
   {
    "duration": 19,
    "start_time": "2023-02-09T12:24:08.567Z"
   },
   {
    "duration": 337,
    "start_time": "2023-02-09T12:24:08.588Z"
   },
   {
    "duration": 11,
    "start_time": "2023-02-09T12:24:08.927Z"
   },
   {
    "duration": 379,
    "start_time": "2023-02-09T12:24:08.941Z"
   },
   {
    "duration": 401,
    "start_time": "2023-02-09T12:24:09.322Z"
   },
   {
    "duration": 284,
    "start_time": "2023-02-09T12:24:09.724Z"
   },
   {
    "duration": 329,
    "start_time": "2023-02-09T12:24:10.010Z"
   },
   {
    "duration": 347,
    "start_time": "2023-02-09T12:24:10.340Z"
   },
   {
    "duration": 325,
    "start_time": "2023-02-09T12:24:10.692Z"
   },
   {
    "duration": 141,
    "start_time": "2023-02-09T12:24:11.020Z"
   },
   {
    "duration": 0,
    "start_time": "2023-02-09T12:24:11.163Z"
   },
   {
    "duration": 0,
    "start_time": "2023-02-09T12:24:11.166Z"
   },
   {
    "duration": 0,
    "start_time": "2023-02-09T12:24:11.170Z"
   },
   {
    "duration": 0,
    "start_time": "2023-02-09T12:24:11.171Z"
   },
   {
    "duration": 0,
    "start_time": "2023-02-09T12:24:11.171Z"
   },
   {
    "duration": 0,
    "start_time": "2023-02-09T12:24:11.172Z"
   },
   {
    "duration": 0,
    "start_time": "2023-02-09T12:24:11.177Z"
   },
   {
    "duration": 0,
    "start_time": "2023-02-09T12:24:11.182Z"
   },
   {
    "duration": 0,
    "start_time": "2023-02-09T12:24:11.187Z"
   },
   {
    "duration": 0,
    "start_time": "2023-02-09T12:24:11.192Z"
   },
   {
    "duration": 0,
    "start_time": "2023-02-09T12:24:11.196Z"
   },
   {
    "duration": 0,
    "start_time": "2023-02-09T12:24:11.197Z"
   },
   {
    "duration": 0,
    "start_time": "2023-02-09T12:24:11.201Z"
   },
   {
    "duration": 0,
    "start_time": "2023-02-09T12:24:11.202Z"
   },
   {
    "duration": 0,
    "start_time": "2023-02-09T12:24:11.204Z"
   },
   {
    "duration": 0,
    "start_time": "2023-02-09T12:24:11.205Z"
   },
   {
    "duration": 1354,
    "start_time": "2023-02-09T12:24:45.594Z"
   },
   {
    "duration": 94,
    "start_time": "2023-02-09T12:24:46.955Z"
   },
   {
    "duration": 56,
    "start_time": "2023-02-09T12:24:47.052Z"
   },
   {
    "duration": 21,
    "start_time": "2023-02-09T12:24:47.111Z"
   },
   {
    "duration": 17,
    "start_time": "2023-02-09T12:24:47.134Z"
   },
   {
    "duration": 20,
    "start_time": "2023-02-09T12:24:47.157Z"
   },
   {
    "duration": 41,
    "start_time": "2023-02-09T12:24:47.184Z"
   },
   {
    "duration": 18,
    "start_time": "2023-02-09T12:24:47.227Z"
   },
   {
    "duration": 53,
    "start_time": "2023-02-09T12:24:47.247Z"
   },
   {
    "duration": 392,
    "start_time": "2023-02-09T12:24:47.303Z"
   },
   {
    "duration": 17,
    "start_time": "2023-02-09T12:24:47.697Z"
   },
   {
    "duration": 380,
    "start_time": "2023-02-09T12:24:47.716Z"
   },
   {
    "duration": 24,
    "start_time": "2023-02-09T12:24:48.104Z"
   },
   {
    "duration": 391,
    "start_time": "2023-02-09T12:24:48.131Z"
   },
   {
    "duration": 379,
    "start_time": "2023-02-09T12:24:48.524Z"
   },
   {
    "duration": 242,
    "start_time": "2023-02-09T12:24:48.907Z"
   },
   {
    "duration": 388,
    "start_time": "2023-02-09T12:24:49.151Z"
   },
   {
    "duration": 308,
    "start_time": "2023-02-09T12:24:49.542Z"
   },
   {
    "duration": 378,
    "start_time": "2023-02-09T12:24:49.858Z"
   },
   {
    "duration": 269,
    "start_time": "2023-02-09T12:24:50.238Z"
   },
   {
    "duration": 131,
    "start_time": "2023-02-09T12:24:50.509Z"
   },
   {
    "duration": 0,
    "start_time": "2023-02-09T12:24:50.643Z"
   },
   {
    "duration": 0,
    "start_time": "2023-02-09T12:24:50.644Z"
   },
   {
    "duration": 0,
    "start_time": "2023-02-09T12:24:50.653Z"
   },
   {
    "duration": 0,
    "start_time": "2023-02-09T12:24:50.654Z"
   },
   {
    "duration": 0,
    "start_time": "2023-02-09T12:24:50.654Z"
   },
   {
    "duration": 0,
    "start_time": "2023-02-09T12:24:50.655Z"
   },
   {
    "duration": 0,
    "start_time": "2023-02-09T12:24:50.655Z"
   },
   {
    "duration": 0,
    "start_time": "2023-02-09T12:24:50.656Z"
   },
   {
    "duration": 0,
    "start_time": "2023-02-09T12:24:50.657Z"
   },
   {
    "duration": 0,
    "start_time": "2023-02-09T12:24:50.657Z"
   },
   {
    "duration": 0,
    "start_time": "2023-02-09T12:24:50.658Z"
   },
   {
    "duration": 0,
    "start_time": "2023-02-09T12:24:50.659Z"
   },
   {
    "duration": 0,
    "start_time": "2023-02-09T12:24:50.659Z"
   },
   {
    "duration": 0,
    "start_time": "2023-02-09T12:24:50.660Z"
   },
   {
    "duration": 0,
    "start_time": "2023-02-09T12:24:50.663Z"
   },
   {
    "duration": 1370,
    "start_time": "2023-02-09T12:25:08.572Z"
   },
   {
    "duration": 95,
    "start_time": "2023-02-09T12:25:09.944Z"
   },
   {
    "duration": 52,
    "start_time": "2023-02-09T12:25:10.040Z"
   },
   {
    "duration": 39,
    "start_time": "2023-02-09T12:25:10.095Z"
   },
   {
    "duration": 30,
    "start_time": "2023-02-09T12:25:10.136Z"
   },
   {
    "duration": 43,
    "start_time": "2023-02-09T12:25:10.167Z"
   },
   {
    "duration": 10,
    "start_time": "2023-02-09T12:25:10.212Z"
   },
   {
    "duration": 13,
    "start_time": "2023-02-09T12:25:10.224Z"
   },
   {
    "duration": 17,
    "start_time": "2023-02-09T12:25:10.238Z"
   },
   {
    "duration": 376,
    "start_time": "2023-02-09T12:25:10.259Z"
   },
   {
    "duration": 28,
    "start_time": "2023-02-09T12:25:10.637Z"
   },
   {
    "duration": 365,
    "start_time": "2023-02-09T12:25:10.676Z"
   },
   {
    "duration": 23,
    "start_time": "2023-02-09T12:25:11.044Z"
   },
   {
    "duration": 361,
    "start_time": "2023-02-09T12:25:11.072Z"
   },
   {
    "duration": 379,
    "start_time": "2023-02-09T12:25:11.435Z"
   },
   {
    "duration": 248,
    "start_time": "2023-02-09T12:25:11.816Z"
   },
   {
    "duration": 327,
    "start_time": "2023-02-09T12:25:12.066Z"
   },
   {
    "duration": 287,
    "start_time": "2023-02-09T12:25:12.395Z"
   },
   {
    "duration": 341,
    "start_time": "2023-02-09T12:25:12.685Z"
   },
   {
    "duration": 279,
    "start_time": "2023-02-09T12:25:13.028Z"
   },
   {
    "duration": 138,
    "start_time": "2023-02-09T12:25:13.310Z"
   },
   {
    "duration": 18,
    "start_time": "2023-02-09T12:25:13.460Z"
   },
   {
    "duration": 439,
    "start_time": "2023-02-09T12:25:13.481Z"
   },
   {
    "duration": 197,
    "start_time": "2023-02-09T12:25:13.929Z"
   },
   {
    "duration": 251,
    "start_time": "2023-02-09T12:25:14.130Z"
   },
   {
    "duration": 11,
    "start_time": "2023-02-09T12:25:14.388Z"
   },
   {
    "duration": 302,
    "start_time": "2023-02-09T12:25:14.404Z"
   },
   {
    "duration": 173,
    "start_time": "2023-02-09T12:25:14.711Z"
   },
   {
    "duration": 14,
    "start_time": "2023-02-09T12:25:14.890Z"
   },
   {
    "duration": 16,
    "start_time": "2023-02-09T12:25:14.910Z"
   },
   {
    "duration": 74,
    "start_time": "2023-02-09T12:25:14.928Z"
   },
   {
    "duration": 29,
    "start_time": "2023-02-09T12:25:15.004Z"
   },
   {
    "duration": 213,
    "start_time": "2023-02-09T12:25:15.035Z"
   },
   {
    "duration": 0,
    "start_time": "2023-02-09T12:25:15.253Z"
   },
   {
    "duration": 1,
    "start_time": "2023-02-09T12:25:15.253Z"
   },
   {
    "duration": 0,
    "start_time": "2023-02-09T12:25:15.254Z"
   },
   {
    "duration": 147,
    "start_time": "2023-02-09T12:31:31.781Z"
   },
   {
    "duration": 235,
    "start_time": "2023-02-09T12:32:56.838Z"
   },
   {
    "duration": 220,
    "start_time": "2023-02-09T12:32:59.199Z"
   },
   {
    "duration": 28,
    "start_time": "2023-02-09T12:33:20.607Z"
   },
   {
    "duration": 20,
    "start_time": "2023-02-09T12:35:26.892Z"
   },
   {
    "duration": 141,
    "start_time": "2023-02-09T12:36:02.982Z"
   },
   {
    "duration": 6,
    "start_time": "2023-02-09T12:38:40.722Z"
   },
   {
    "duration": 10,
    "start_time": "2023-02-09T12:39:16.740Z"
   },
   {
    "duration": 23,
    "start_time": "2023-02-09T12:39:41.351Z"
   },
   {
    "duration": 7,
    "start_time": "2023-02-09T12:40:03.729Z"
   },
   {
    "duration": 51,
    "start_time": "2023-02-09T12:40:06.764Z"
   },
   {
    "duration": 111,
    "start_time": "2023-02-09T12:44:15.284Z"
   },
   {
    "duration": 164,
    "start_time": "2023-02-09T12:47:25.462Z"
   },
   {
    "duration": 134,
    "start_time": "2023-02-09T12:47:35.777Z"
   },
   {
    "duration": 133,
    "start_time": "2023-02-09T12:47:51.477Z"
   },
   {
    "duration": 11,
    "start_time": "2023-02-09T12:48:05.718Z"
   },
   {
    "duration": 10,
    "start_time": "2023-02-09T12:50:52.706Z"
   },
   {
    "duration": 1341,
    "start_time": "2023-02-09T12:51:10.082Z"
   },
   {
    "duration": 99,
    "start_time": "2023-02-09T12:51:11.425Z"
   },
   {
    "duration": 43,
    "start_time": "2023-02-09T12:51:11.526Z"
   },
   {
    "duration": 59,
    "start_time": "2023-02-09T12:51:11.580Z"
   },
   {
    "duration": 54,
    "start_time": "2023-02-09T12:51:11.642Z"
   },
   {
    "duration": 26,
    "start_time": "2023-02-09T12:51:11.699Z"
   },
   {
    "duration": 12,
    "start_time": "2023-02-09T12:51:11.727Z"
   },
   {
    "duration": 18,
    "start_time": "2023-02-09T12:51:11.741Z"
   },
   {
    "duration": 55,
    "start_time": "2023-02-09T12:51:11.763Z"
   },
   {
    "duration": 367,
    "start_time": "2023-02-09T12:51:11.820Z"
   },
   {
    "duration": 15,
    "start_time": "2023-02-09T12:51:12.188Z"
   },
   {
    "duration": 319,
    "start_time": "2023-02-09T12:51:12.204Z"
   },
   {
    "duration": 9,
    "start_time": "2023-02-09T12:51:12.525Z"
   },
   {
    "duration": 327,
    "start_time": "2023-02-09T12:51:12.537Z"
   },
   {
    "duration": 341,
    "start_time": "2023-02-09T12:51:12.869Z"
   },
   {
    "duration": 260,
    "start_time": "2023-02-09T12:51:13.212Z"
   },
   {
    "duration": 341,
    "start_time": "2023-02-09T12:51:13.474Z"
   },
   {
    "duration": 281,
    "start_time": "2023-02-09T12:51:13.817Z"
   },
   {
    "duration": 329,
    "start_time": "2023-02-09T12:51:14.099Z"
   },
   {
    "duration": 247,
    "start_time": "2023-02-09T12:51:14.429Z"
   },
   {
    "duration": 142,
    "start_time": "2023-02-09T12:51:14.677Z"
   },
   {
    "duration": 5,
    "start_time": "2023-02-09T12:51:14.820Z"
   },
   {
    "duration": 288,
    "start_time": "2023-02-09T12:51:14.826Z"
   },
   {
    "duration": 165,
    "start_time": "2023-02-09T12:51:15.121Z"
   },
   {
    "duration": 158,
    "start_time": "2023-02-09T12:51:15.288Z"
   },
   {
    "duration": 23,
    "start_time": "2023-02-09T12:51:15.447Z"
   },
   {
    "duration": 230,
    "start_time": "2023-02-09T12:51:15.474Z"
   },
   {
    "duration": 29,
    "start_time": "2023-02-09T12:51:15.707Z"
   },
   {
    "duration": 167,
    "start_time": "2023-02-09T12:51:15.738Z"
   },
   {
    "duration": 7,
    "start_time": "2023-02-09T12:51:15.907Z"
   },
   {
    "duration": 60,
    "start_time": "2023-02-09T12:51:15.915Z"
   },
   {
    "duration": 17,
    "start_time": "2023-02-09T12:51:15.980Z"
   },
   {
    "duration": 179,
    "start_time": "2023-02-09T12:51:15.999Z"
   },
   {
    "duration": 0,
    "start_time": "2023-02-09T12:51:16.185Z"
   },
   {
    "duration": 0,
    "start_time": "2023-02-09T12:51:16.186Z"
   },
   {
    "duration": 0,
    "start_time": "2023-02-09T12:51:16.187Z"
   },
   {
    "duration": 14,
    "start_time": "2023-02-09T12:52:02.196Z"
   },
   {
    "duration": 109,
    "start_time": "2023-02-09T12:53:08.037Z"
   },
   {
    "duration": 12,
    "start_time": "2023-02-09T12:53:32.015Z"
   },
   {
    "duration": 1694,
    "start_time": "2023-02-09T12:54:42.807Z"
   },
   {
    "duration": 8,
    "start_time": "2023-02-09T12:55:06.010Z"
   },
   {
    "duration": 14,
    "start_time": "2023-02-09T12:55:24.685Z"
   },
   {
    "duration": 55,
    "start_time": "2023-02-09T12:56:03.753Z"
   },
   {
    "duration": 1693,
    "start_time": "2023-02-09T12:57:29.097Z"
   },
   {
    "duration": 20,
    "start_time": "2023-02-09T12:57:52.380Z"
   },
   {
    "duration": 20,
    "start_time": "2023-02-09T12:58:26.370Z"
   },
   {
    "duration": 1436,
    "start_time": "2023-02-09T13:26:02.620Z"
   },
   {
    "duration": 229,
    "start_time": "2023-02-09T13:26:04.059Z"
   },
   {
    "duration": 23,
    "start_time": "2023-02-09T13:26:04.290Z"
   },
   {
    "duration": 21,
    "start_time": "2023-02-09T13:26:04.315Z"
   },
   {
    "duration": 18,
    "start_time": "2023-02-09T13:26:04.337Z"
   },
   {
    "duration": 18,
    "start_time": "2023-02-09T13:26:04.357Z"
   },
   {
    "duration": 7,
    "start_time": "2023-02-09T13:26:04.377Z"
   },
   {
    "duration": 11,
    "start_time": "2023-02-09T13:26:04.386Z"
   },
   {
    "duration": 21,
    "start_time": "2023-02-09T13:26:04.399Z"
   },
   {
    "duration": 323,
    "start_time": "2023-02-09T13:26:04.423Z"
   },
   {
    "duration": 14,
    "start_time": "2023-02-09T13:26:04.749Z"
   },
   {
    "duration": 301,
    "start_time": "2023-02-09T13:26:04.765Z"
   },
   {
    "duration": 11,
    "start_time": "2023-02-09T13:26:05.068Z"
   },
   {
    "duration": 322,
    "start_time": "2023-02-09T13:26:05.081Z"
   },
   {
    "duration": 288,
    "start_time": "2023-02-09T13:26:05.405Z"
   },
   {
    "duration": 221,
    "start_time": "2023-02-09T13:26:05.695Z"
   },
   {
    "duration": 370,
    "start_time": "2023-02-09T13:26:05.918Z"
   },
   {
    "duration": 241,
    "start_time": "2023-02-09T13:26:06.290Z"
   },
   {
    "duration": 348,
    "start_time": "2023-02-09T13:26:06.533Z"
   },
   {
    "duration": 236,
    "start_time": "2023-02-09T13:26:06.883Z"
   },
   {
    "duration": 135,
    "start_time": "2023-02-09T13:26:07.121Z"
   },
   {
    "duration": 5,
    "start_time": "2023-02-09T13:26:07.258Z"
   },
   {
    "duration": 235,
    "start_time": "2023-02-09T13:26:07.264Z"
   },
   {
    "duration": 150,
    "start_time": "2023-02-09T13:26:07.501Z"
   },
   {
    "duration": 163,
    "start_time": "2023-02-09T13:26:07.652Z"
   },
   {
    "duration": 5,
    "start_time": "2023-02-09T13:26:07.816Z"
   },
   {
    "duration": 241,
    "start_time": "2023-02-09T13:26:07.822Z"
   },
   {
    "duration": 31,
    "start_time": "2023-02-09T13:26:08.066Z"
   },
   {
    "duration": 185,
    "start_time": "2023-02-09T13:26:08.099Z"
   },
   {
    "duration": 6,
    "start_time": "2023-02-09T13:26:08.286Z"
   },
   {
    "duration": 31,
    "start_time": "2023-02-09T13:26:08.294Z"
   },
   {
    "duration": 23,
    "start_time": "2023-02-09T13:26:08.326Z"
   },
   {
    "duration": 13,
    "start_time": "2023-02-09T13:26:08.350Z"
   },
   {
    "duration": 7,
    "start_time": "2023-02-09T13:26:08.365Z"
   },
   {
    "duration": 32,
    "start_time": "2023-02-09T13:26:08.374Z"
   },
   {
    "duration": 39,
    "start_time": "2023-02-09T13:26:08.408Z"
   },
   {
    "duration": 360,
    "start_time": "2023-02-09T13:58:11.473Z"
   },
   {
    "duration": 363,
    "start_time": "2023-02-09T13:58:31.438Z"
   },
   {
    "duration": 383,
    "start_time": "2023-02-09T14:02:45.054Z"
   },
   {
    "duration": 409,
    "start_time": "2023-02-09T14:04:09.909Z"
   },
   {
    "duration": 285,
    "start_time": "2023-02-09T14:04:37.985Z"
   },
   {
    "duration": 399,
    "start_time": "2023-02-09T14:04:49.794Z"
   },
   {
    "duration": 173,
    "start_time": "2023-02-09T14:06:42.235Z"
   },
   {
    "duration": 181,
    "start_time": "2023-02-09T14:06:57.539Z"
   },
   {
    "duration": 164,
    "start_time": "2023-02-09T14:07:31.275Z"
   },
   {
    "duration": 167,
    "start_time": "2023-02-09T14:07:58.306Z"
   },
   {
    "duration": 201,
    "start_time": "2023-02-09T14:08:22.701Z"
   },
   {
    "duration": 1087,
    "start_time": "2023-02-09T17:41:50.644Z"
   },
   {
    "duration": 78,
    "start_time": "2023-02-09T17:41:51.733Z"
   },
   {
    "duration": 20,
    "start_time": "2023-02-09T17:41:51.812Z"
   },
   {
    "duration": 22,
    "start_time": "2023-02-09T17:41:51.833Z"
   },
   {
    "duration": 19,
    "start_time": "2023-02-09T17:41:51.858Z"
   },
   {
    "duration": 20,
    "start_time": "2023-02-09T17:41:51.878Z"
   },
   {
    "duration": 17,
    "start_time": "2023-02-09T17:41:51.900Z"
   },
   {
    "duration": 12,
    "start_time": "2023-02-09T17:41:51.918Z"
   },
   {
    "duration": 17,
    "start_time": "2023-02-09T17:41:51.931Z"
   },
   {
    "duration": 312,
    "start_time": "2023-02-09T17:41:51.950Z"
   },
   {
    "duration": 11,
    "start_time": "2023-02-09T17:41:52.264Z"
   },
   {
    "duration": 263,
    "start_time": "2023-02-09T17:41:52.277Z"
   },
   {
    "duration": 11,
    "start_time": "2023-02-09T17:41:52.541Z"
   },
   {
    "duration": 287,
    "start_time": "2023-02-09T17:41:52.556Z"
   },
   {
    "duration": 279,
    "start_time": "2023-02-09T17:41:52.845Z"
   },
   {
    "duration": 216,
    "start_time": "2023-02-09T17:41:53.126Z"
   },
   {
    "duration": 279,
    "start_time": "2023-02-09T17:41:53.343Z"
   },
   {
    "duration": 240,
    "start_time": "2023-02-09T17:41:53.624Z"
   },
   {
    "duration": 323,
    "start_time": "2023-02-09T17:41:53.905Z"
   },
   {
    "duration": 214,
    "start_time": "2023-02-09T17:41:54.230Z"
   },
   {
    "duration": 127,
    "start_time": "2023-02-09T17:41:54.445Z"
   },
   {
    "duration": 5,
    "start_time": "2023-02-09T17:41:54.573Z"
   },
   {
    "duration": 218,
    "start_time": "2023-02-09T17:41:54.580Z"
   },
   {
    "duration": 164,
    "start_time": "2023-02-09T17:41:54.800Z"
   },
   {
    "duration": 161,
    "start_time": "2023-02-09T17:41:54.966Z"
   },
   {
    "duration": 4,
    "start_time": "2023-02-09T17:41:55.129Z"
   },
   {
    "duration": 212,
    "start_time": "2023-02-09T17:41:55.135Z"
   },
   {
    "duration": 29,
    "start_time": "2023-02-09T17:41:55.349Z"
   },
   {
    "duration": 152,
    "start_time": "2023-02-09T17:41:55.379Z"
   },
   {
    "duration": 7,
    "start_time": "2023-02-09T17:41:55.532Z"
   },
   {
    "duration": 27,
    "start_time": "2023-02-09T17:41:55.541Z"
   },
   {
    "duration": 28,
    "start_time": "2023-02-09T17:41:55.570Z"
   },
   {
    "duration": 17,
    "start_time": "2023-02-09T17:41:55.600Z"
   },
   {
    "duration": 8,
    "start_time": "2023-02-09T17:41:55.619Z"
   },
   {
    "duration": 25,
    "start_time": "2023-02-09T17:41:55.629Z"
   },
   {
    "duration": 48,
    "start_time": "2023-02-09T17:41:55.656Z"
   }
  ],
  "kernelspec": {
   "display_name": "Python 3 (ipykernel)",
   "language": "python",
   "name": "python3"
  },
  "language_info": {
   "codemirror_mode": {
    "name": "ipython",
    "version": 3
   },
   "file_extension": ".py",
   "mimetype": "text/x-python",
   "name": "python",
   "nbconvert_exporter": "python",
   "pygments_lexer": "ipython3",
   "version": "3.9.5"
  },
  "toc": {
   "base_numbering": 1,
   "nav_menu": {},
   "number_sections": true,
   "sideBar": true,
   "skip_h1_title": true,
   "title_cell": "Table of Contents",
   "title_sidebar": "Contents",
   "toc_cell": false,
   "toc_position": {},
   "toc_section_display": true,
   "toc_window_display": false
  }
 },
 "nbformat": 4,
 "nbformat_minor": 2
}
