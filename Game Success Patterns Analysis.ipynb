{
 "cells": [
  {
   "cell_type": "markdown",
   "metadata": {},
   "source": [
    "**Project Description**\n",
    "\n",
    "You work in the Strimchik online store, which sells computer games all over the world. Historical game sales data, user and expert ratings, genres and platforms (such as Xbox or PlayStation) are available from public sources. You need to identify the patterns that determine the success of the game. This will allow you to bid on a potentially popular product and plan advertising campaigns.\n",
    "Here is the data up to 2016. Let's say it's December 2016 and you're planning a campaign for 2017. It is necessary to work out the principle of working with data. It doesn't matter if you're forecasting 2017 sales based on 2016 data or 2027 sales based on 2026 data.\n",
    "The abbreviation ESRB (Entertainment Software Rating Board) comes across in the data set - this is an association that determines the age rating of computer games. The ESRB evaluates game content and assigns it to an appropriate age rating, such as Mature, Toddler, or Teen."
   ]
  },
  {
   "cell_type": "markdown",
   "metadata": {},
   "source": [
    "**Data Description**\n",
    "\n",
    "* Name - the name of the game\n",
    "* Platform - platform\n",
    "* Year_of_Release - year of release\n",
    "* Genre - game genre\n",
    "* NA_sales - sales in North America (millions of copies sold)\n",
    "* EU_sales - sales in Europe (millions of copies sold)\n",
    "* JP_sales - sales in Japan (millions of copies sold)\n",
    "* Other_sales - sales in other countries (millions of copies sold)\n",
    "* Critic_Score - Critics score (max 100)\n",
    "* User_Score - user score (maximum 10)\n",
    "* Rating - rating from the ESRB (Entertainment Software Rating Board). This association determines the rating of computer games and assigns them an appropriate age category."
   ]
  },
  {
   "cell_type": "markdown",
   "metadata": {},
   "source": [
    "**Step 1. Open the data file and study the general information**"
   ]
  },
  {
   "cell_type": "code",
   "execution_count": 1,
   "metadata": {},
   "outputs": [
    {
     "data": {
      "text/html": [
       "<div>\n",
       "<style scoped>\n",
       "    .dataframe tbody tr th:only-of-type {\n",
       "        vertical-align: middle;\n",
       "    }\n",
       "\n",
       "    .dataframe tbody tr th {\n",
       "        vertical-align: top;\n",
       "    }\n",
       "\n",
       "    .dataframe thead th {\n",
       "        text-align: right;\n",
       "    }\n",
       "</style>\n",
       "<table border=\"1\" class=\"dataframe\">\n",
       "  <thead>\n",
       "    <tr style=\"text-align: right;\">\n",
       "      <th></th>\n",
       "      <th>Name</th>\n",
       "      <th>Platform</th>\n",
       "      <th>Year_of_Release</th>\n",
       "      <th>Genre</th>\n",
       "      <th>NA_sales</th>\n",
       "      <th>EU_sales</th>\n",
       "      <th>JP_sales</th>\n",
       "      <th>Other_sales</th>\n",
       "      <th>Critic_Score</th>\n",
       "      <th>User_Score</th>\n",
       "      <th>Rating</th>\n",
       "    </tr>\n",
       "  </thead>\n",
       "  <tbody>\n",
       "    <tr>\n",
       "      <th>0</th>\n",
       "      <td>Wii Sports</td>\n",
       "      <td>Wii</td>\n",
       "      <td>2006.0</td>\n",
       "      <td>Sports</td>\n",
       "      <td>41.36</td>\n",
       "      <td>28.96</td>\n",
       "      <td>3.77</td>\n",
       "      <td>8.45</td>\n",
       "      <td>76.0</td>\n",
       "      <td>8</td>\n",
       "      <td>E</td>\n",
       "    </tr>\n",
       "    <tr>\n",
       "      <th>1</th>\n",
       "      <td>Super Mario Bros.</td>\n",
       "      <td>NES</td>\n",
       "      <td>1985.0</td>\n",
       "      <td>Platform</td>\n",
       "      <td>29.08</td>\n",
       "      <td>3.58</td>\n",
       "      <td>6.81</td>\n",
       "      <td>0.77</td>\n",
       "      <td>NaN</td>\n",
       "      <td>NaN</td>\n",
       "      <td>NaN</td>\n",
       "    </tr>\n",
       "    <tr>\n",
       "      <th>2</th>\n",
       "      <td>Mario Kart Wii</td>\n",
       "      <td>Wii</td>\n",
       "      <td>2008.0</td>\n",
       "      <td>Racing</td>\n",
       "      <td>15.68</td>\n",
       "      <td>12.76</td>\n",
       "      <td>3.79</td>\n",
       "      <td>3.29</td>\n",
       "      <td>82.0</td>\n",
       "      <td>8.3</td>\n",
       "      <td>E</td>\n",
       "    </tr>\n",
       "    <tr>\n",
       "      <th>3</th>\n",
       "      <td>Wii Sports Resort</td>\n",
       "      <td>Wii</td>\n",
       "      <td>2009.0</td>\n",
       "      <td>Sports</td>\n",
       "      <td>15.61</td>\n",
       "      <td>10.93</td>\n",
       "      <td>3.28</td>\n",
       "      <td>2.95</td>\n",
       "      <td>80.0</td>\n",
       "      <td>8</td>\n",
       "      <td>E</td>\n",
       "    </tr>\n",
       "    <tr>\n",
       "      <th>4</th>\n",
       "      <td>Pokemon Red/Pokemon Blue</td>\n",
       "      <td>GB</td>\n",
       "      <td>1996.0</td>\n",
       "      <td>Role-Playing</td>\n",
       "      <td>11.27</td>\n",
       "      <td>8.89</td>\n",
       "      <td>10.22</td>\n",
       "      <td>1.00</td>\n",
       "      <td>NaN</td>\n",
       "      <td>NaN</td>\n",
       "      <td>NaN</td>\n",
       "    </tr>\n",
       "    <tr>\n",
       "      <th>5</th>\n",
       "      <td>Tetris</td>\n",
       "      <td>GB</td>\n",
       "      <td>1989.0</td>\n",
       "      <td>Puzzle</td>\n",
       "      <td>23.20</td>\n",
       "      <td>2.26</td>\n",
       "      <td>4.22</td>\n",
       "      <td>0.58</td>\n",
       "      <td>NaN</td>\n",
       "      <td>NaN</td>\n",
       "      <td>NaN</td>\n",
       "    </tr>\n",
       "    <tr>\n",
       "      <th>6</th>\n",
       "      <td>New Super Mario Bros.</td>\n",
       "      <td>DS</td>\n",
       "      <td>2006.0</td>\n",
       "      <td>Platform</td>\n",
       "      <td>11.28</td>\n",
       "      <td>9.14</td>\n",
       "      <td>6.50</td>\n",
       "      <td>2.88</td>\n",
       "      <td>89.0</td>\n",
       "      <td>8.5</td>\n",
       "      <td>E</td>\n",
       "    </tr>\n",
       "    <tr>\n",
       "      <th>7</th>\n",
       "      <td>Wii Play</td>\n",
       "      <td>Wii</td>\n",
       "      <td>2006.0</td>\n",
       "      <td>Misc</td>\n",
       "      <td>13.96</td>\n",
       "      <td>9.18</td>\n",
       "      <td>2.93</td>\n",
       "      <td>2.84</td>\n",
       "      <td>58.0</td>\n",
       "      <td>6.6</td>\n",
       "      <td>E</td>\n",
       "    </tr>\n",
       "    <tr>\n",
       "      <th>8</th>\n",
       "      <td>New Super Mario Bros. Wii</td>\n",
       "      <td>Wii</td>\n",
       "      <td>2009.0</td>\n",
       "      <td>Platform</td>\n",
       "      <td>14.44</td>\n",
       "      <td>6.94</td>\n",
       "      <td>4.70</td>\n",
       "      <td>2.24</td>\n",
       "      <td>87.0</td>\n",
       "      <td>8.4</td>\n",
       "      <td>E</td>\n",
       "    </tr>\n",
       "    <tr>\n",
       "      <th>9</th>\n",
       "      <td>Duck Hunt</td>\n",
       "      <td>NES</td>\n",
       "      <td>1984.0</td>\n",
       "      <td>Shooter</td>\n",
       "      <td>26.93</td>\n",
       "      <td>0.63</td>\n",
       "      <td>0.28</td>\n",
       "      <td>0.47</td>\n",
       "      <td>NaN</td>\n",
       "      <td>NaN</td>\n",
       "      <td>NaN</td>\n",
       "    </tr>\n",
       "    <tr>\n",
       "      <th>10</th>\n",
       "      <td>Nintendogs</td>\n",
       "      <td>DS</td>\n",
       "      <td>2005.0</td>\n",
       "      <td>Simulation</td>\n",
       "      <td>9.05</td>\n",
       "      <td>10.95</td>\n",
       "      <td>1.93</td>\n",
       "      <td>2.74</td>\n",
       "      <td>NaN</td>\n",
       "      <td>NaN</td>\n",
       "      <td>NaN</td>\n",
       "    </tr>\n",
       "    <tr>\n",
       "      <th>11</th>\n",
       "      <td>Mario Kart DS</td>\n",
       "      <td>DS</td>\n",
       "      <td>2005.0</td>\n",
       "      <td>Racing</td>\n",
       "      <td>9.71</td>\n",
       "      <td>7.47</td>\n",
       "      <td>4.13</td>\n",
       "      <td>1.90</td>\n",
       "      <td>91.0</td>\n",
       "      <td>8.6</td>\n",
       "      <td>E</td>\n",
       "    </tr>\n",
       "    <tr>\n",
       "      <th>12</th>\n",
       "      <td>Pokemon Gold/Pokemon Silver</td>\n",
       "      <td>GB</td>\n",
       "      <td>1999.0</td>\n",
       "      <td>Role-Playing</td>\n",
       "      <td>9.00</td>\n",
       "      <td>6.18</td>\n",
       "      <td>7.20</td>\n",
       "      <td>0.71</td>\n",
       "      <td>NaN</td>\n",
       "      <td>NaN</td>\n",
       "      <td>NaN</td>\n",
       "    </tr>\n",
       "    <tr>\n",
       "      <th>13</th>\n",
       "      <td>Wii Fit</td>\n",
       "      <td>Wii</td>\n",
       "      <td>2007.0</td>\n",
       "      <td>Sports</td>\n",
       "      <td>8.92</td>\n",
       "      <td>8.03</td>\n",
       "      <td>3.60</td>\n",
       "      <td>2.15</td>\n",
       "      <td>80.0</td>\n",
       "      <td>7.7</td>\n",
       "      <td>E</td>\n",
       "    </tr>\n",
       "    <tr>\n",
       "      <th>14</th>\n",
       "      <td>Kinect Adventures!</td>\n",
       "      <td>X360</td>\n",
       "      <td>2010.0</td>\n",
       "      <td>Misc</td>\n",
       "      <td>15.00</td>\n",
       "      <td>4.89</td>\n",
       "      <td>0.24</td>\n",
       "      <td>1.69</td>\n",
       "      <td>61.0</td>\n",
       "      <td>6.3</td>\n",
       "      <td>E</td>\n",
       "    </tr>\n",
       "  </tbody>\n",
       "</table>\n",
       "</div>"
      ],
      "text/plain": [
       "                           Name Platform  Year_of_Release         Genre  \\\n",
       "0                    Wii Sports      Wii           2006.0        Sports   \n",
       "1             Super Mario Bros.      NES           1985.0      Platform   \n",
       "2                Mario Kart Wii      Wii           2008.0        Racing   \n",
       "3             Wii Sports Resort      Wii           2009.0        Sports   \n",
       "4      Pokemon Red/Pokemon Blue       GB           1996.0  Role-Playing   \n",
       "5                        Tetris       GB           1989.0        Puzzle   \n",
       "6         New Super Mario Bros.       DS           2006.0      Platform   \n",
       "7                      Wii Play      Wii           2006.0          Misc   \n",
       "8     New Super Mario Bros. Wii      Wii           2009.0      Platform   \n",
       "9                     Duck Hunt      NES           1984.0       Shooter   \n",
       "10                   Nintendogs       DS           2005.0    Simulation   \n",
       "11                Mario Kart DS       DS           2005.0        Racing   \n",
       "12  Pokemon Gold/Pokemon Silver       GB           1999.0  Role-Playing   \n",
       "13                      Wii Fit      Wii           2007.0        Sports   \n",
       "14           Kinect Adventures!     X360           2010.0          Misc   \n",
       "\n",
       "    NA_sales  EU_sales  JP_sales  Other_sales  Critic_Score User_Score Rating  \n",
       "0      41.36     28.96      3.77         8.45          76.0          8      E  \n",
       "1      29.08      3.58      6.81         0.77           NaN        NaN    NaN  \n",
       "2      15.68     12.76      3.79         3.29          82.0        8.3      E  \n",
       "3      15.61     10.93      3.28         2.95          80.0          8      E  \n",
       "4      11.27      8.89     10.22         1.00           NaN        NaN    NaN  \n",
       "5      23.20      2.26      4.22         0.58           NaN        NaN    NaN  \n",
       "6      11.28      9.14      6.50         2.88          89.0        8.5      E  \n",
       "7      13.96      9.18      2.93         2.84          58.0        6.6      E  \n",
       "8      14.44      6.94      4.70         2.24          87.0        8.4      E  \n",
       "9      26.93      0.63      0.28         0.47           NaN        NaN    NaN  \n",
       "10      9.05     10.95      1.93         2.74           NaN        NaN    NaN  \n",
       "11      9.71      7.47      4.13         1.90          91.0        8.6      E  \n",
       "12      9.00      6.18      7.20         0.71           NaN        NaN    NaN  \n",
       "13      8.92      8.03      3.60         2.15          80.0        7.7      E  \n",
       "14     15.00      4.89      0.24         1.69          61.0        6.3      E  "
      ]
     },
     "execution_count": 1,
     "metadata": {},
     "output_type": "execute_result"
    }
   ],
   "source": [
    "import pandas as pd\n",
    "import numpy as np\n",
    "import matplotlib.pyplot as plt\n",
    "import seaborn as sb\n",
    "import scipy.stats as st\n",
    "data = pd.read_csv('/datasets/games.csv')\n",
    "data.head(15)"
   ]
  },
  {
   "cell_type": "code",
   "execution_count": 2,
   "metadata": {},
   "outputs": [
    {
     "name": "stdout",
     "output_type": "stream",
     "text": [
      "<class 'pandas.core.frame.DataFrame'>\n",
      "RangeIndex: 16715 entries, 0 to 16714\n",
      "Data columns (total 11 columns):\n",
      " #   Column           Non-Null Count  Dtype  \n",
      "---  ------           --------------  -----  \n",
      " 0   Name             16713 non-null  object \n",
      " 1   Platform         16715 non-null  object \n",
      " 2   Year_of_Release  16446 non-null  float64\n",
      " 3   Genre            16713 non-null  object \n",
      " 4   NA_sales         16715 non-null  float64\n",
      " 5   EU_sales         16715 non-null  float64\n",
      " 6   JP_sales         16715 non-null  float64\n",
      " 7   Other_sales      16715 non-null  float64\n",
      " 8   Critic_Score     8137 non-null   float64\n",
      " 9   User_Score       10014 non-null  object \n",
      " 10  Rating           9949 non-null   object \n",
      "dtypes: float64(6), object(5)\n",
      "memory usage: 1.4+ MB\n"
     ]
    }
   ],
   "source": [
    "data.info()"
   ]
  },
  {
   "cell_type": "markdown",
   "metadata": {},
   "source": [
    "**Step 2: Prepare the data**"
   ]
  },
  {
   "cell_type": "code",
   "execution_count": 3,
   "metadata": {},
   "outputs": [
    {
     "data": {
      "text/html": [
       "<div>\n",
       "<style scoped>\n",
       "    .dataframe tbody tr th:only-of-type {\n",
       "        vertical-align: middle;\n",
       "    }\n",
       "\n",
       "    .dataframe tbody tr th {\n",
       "        vertical-align: top;\n",
       "    }\n",
       "\n",
       "    .dataframe thead th {\n",
       "        text-align: right;\n",
       "    }\n",
       "</style>\n",
       "<table border=\"1\" class=\"dataframe\">\n",
       "  <thead>\n",
       "    <tr style=\"text-align: right;\">\n",
       "      <th></th>\n",
       "      <th>missing_values</th>\n",
       "      <th>% of total</th>\n",
       "    </tr>\n",
       "  </thead>\n",
       "  <tbody>\n",
       "    <tr>\n",
       "      <th>Critic_Score</th>\n",
       "      <td>8578</td>\n",
       "      <td>0.51</td>\n",
       "    </tr>\n",
       "    <tr>\n",
       "      <th>Rating</th>\n",
       "      <td>6766</td>\n",
       "      <td>0.40</td>\n",
       "    </tr>\n",
       "    <tr>\n",
       "      <th>User_Score</th>\n",
       "      <td>6701</td>\n",
       "      <td>0.40</td>\n",
       "    </tr>\n",
       "    <tr>\n",
       "      <th>Year_of_Release</th>\n",
       "      <td>269</td>\n",
       "      <td>0.02</td>\n",
       "    </tr>\n",
       "    <tr>\n",
       "      <th>Name</th>\n",
       "      <td>2</td>\n",
       "      <td>0.00</td>\n",
       "    </tr>\n",
       "    <tr>\n",
       "      <th>Genre</th>\n",
       "      <td>2</td>\n",
       "      <td>0.00</td>\n",
       "    </tr>\n",
       "    <tr>\n",
       "      <th>Platform</th>\n",
       "      <td>0</td>\n",
       "      <td>0.00</td>\n",
       "    </tr>\n",
       "    <tr>\n",
       "      <th>NA_sales</th>\n",
       "      <td>0</td>\n",
       "      <td>0.00</td>\n",
       "    </tr>\n",
       "    <tr>\n",
       "      <th>EU_sales</th>\n",
       "      <td>0</td>\n",
       "      <td>0.00</td>\n",
       "    </tr>\n",
       "    <tr>\n",
       "      <th>JP_sales</th>\n",
       "      <td>0</td>\n",
       "      <td>0.00</td>\n",
       "    </tr>\n",
       "    <tr>\n",
       "      <th>Other_sales</th>\n",
       "      <td>0</td>\n",
       "      <td>0.00</td>\n",
       "    </tr>\n",
       "  </tbody>\n",
       "</table>\n",
       "</div>"
      ],
      "text/plain": [
       "                 missing_values  % of total\n",
       "Critic_Score               8578        0.51\n",
       "Rating                     6766        0.40\n",
       "User_Score                 6701        0.40\n",
       "Year_of_Release             269        0.02\n",
       "Name                          2        0.00\n",
       "Genre                         2        0.00\n",
       "Platform                      0        0.00\n",
       "NA_sales                      0        0.00\n",
       "EU_sales                      0        0.00\n",
       "JP_sales                      0        0.00\n",
       "Other_sales                   0        0.00"
      ]
     },
     "execution_count": 3,
     "metadata": {},
     "output_type": "execute_result"
    }
   ],
   "source": [
    "# look at the number of passes\n",
    "report = data.isna().sum().to_frame()\n",
    "report = report.rename(columns = {0: 'missing_values'})\n",
    "report['% of total'] = (report['missing_values'] / data.shape[0]).round(2)\n",
    "report.sort_values(by = 'missing_values', ascending = False)"
   ]
  },
  {
   "cell_type": "markdown",
   "metadata": {},
   "source": [
    "* The gaps in the name and genre columns are insignificant, you can leave them alone\n",
    "* The year_of_release column also has a non-critical number of gaps, it will be enough to analyze the data\n",
    "* critic_score and user_score - most likely, most games with gaps in these columns do not have a rating due to the year of release, then there were no aggregator sites, it would be incorrect to fill in the median or average value, you can put the values \\u200b\\u200bto not confuse them with real values close to zero\n",
    "* There are gaps in the rating column because there are countries where the rating system is different from the European one"
   ]
  },
  {
   "cell_type": "code",
   "execution_count": 4,
   "metadata": {
    "scrolled": true
   },
   "outputs": [
    {
     "data": {
      "text/html": [
       "<div>\n",
       "<style scoped>\n",
       "    .dataframe tbody tr th:only-of-type {\n",
       "        vertical-align: middle;\n",
       "    }\n",
       "\n",
       "    .dataframe tbody tr th {\n",
       "        vertical-align: top;\n",
       "    }\n",
       "\n",
       "    .dataframe thead th {\n",
       "        text-align: right;\n",
       "    }\n",
       "</style>\n",
       "<table border=\"1\" class=\"dataframe\">\n",
       "  <thead>\n",
       "    <tr style=\"text-align: right;\">\n",
       "      <th></th>\n",
       "      <th>name</th>\n",
       "      <th>platform</th>\n",
       "      <th>year_of_release</th>\n",
       "      <th>genre</th>\n",
       "      <th>na_sales</th>\n",
       "      <th>eu_sales</th>\n",
       "      <th>jp_sales</th>\n",
       "      <th>other_sales</th>\n",
       "      <th>critic_score</th>\n",
       "      <th>user_score</th>\n",
       "      <th>rating</th>\n",
       "    </tr>\n",
       "  </thead>\n",
       "  <tbody>\n",
       "    <tr>\n",
       "      <th>0</th>\n",
       "      <td>wii sports</td>\n",
       "      <td>wii</td>\n",
       "      <td>2006.0</td>\n",
       "      <td>sports</td>\n",
       "      <td>41.36</td>\n",
       "      <td>28.96</td>\n",
       "      <td>3.77</td>\n",
       "      <td>8.45</td>\n",
       "      <td>76.0</td>\n",
       "      <td>8</td>\n",
       "      <td>e</td>\n",
       "    </tr>\n",
       "    <tr>\n",
       "      <th>1</th>\n",
       "      <td>super mario bros.</td>\n",
       "      <td>nes</td>\n",
       "      <td>1985.0</td>\n",
       "      <td>platform</td>\n",
       "      <td>29.08</td>\n",
       "      <td>3.58</td>\n",
       "      <td>6.81</td>\n",
       "      <td>0.77</td>\n",
       "      <td>NaN</td>\n",
       "      <td>NaN</td>\n",
       "      <td>NaN</td>\n",
       "    </tr>\n",
       "    <tr>\n",
       "      <th>2</th>\n",
       "      <td>mario kart wii</td>\n",
       "      <td>wii</td>\n",
       "      <td>2008.0</td>\n",
       "      <td>racing</td>\n",
       "      <td>15.68</td>\n",
       "      <td>12.76</td>\n",
       "      <td>3.79</td>\n",
       "      <td>3.29</td>\n",
       "      <td>82.0</td>\n",
       "      <td>8.3</td>\n",
       "      <td>e</td>\n",
       "    </tr>\n",
       "    <tr>\n",
       "      <th>3</th>\n",
       "      <td>wii sports resort</td>\n",
       "      <td>wii</td>\n",
       "      <td>2009.0</td>\n",
       "      <td>sports</td>\n",
       "      <td>15.61</td>\n",
       "      <td>10.93</td>\n",
       "      <td>3.28</td>\n",
       "      <td>2.95</td>\n",
       "      <td>80.0</td>\n",
       "      <td>8</td>\n",
       "      <td>e</td>\n",
       "    </tr>\n",
       "    <tr>\n",
       "      <th>4</th>\n",
       "      <td>pokemon red/pokemon blue</td>\n",
       "      <td>gb</td>\n",
       "      <td>1996.0</td>\n",
       "      <td>role-playing</td>\n",
       "      <td>11.27</td>\n",
       "      <td>8.89</td>\n",
       "      <td>10.22</td>\n",
       "      <td>1.00</td>\n",
       "      <td>NaN</td>\n",
       "      <td>NaN</td>\n",
       "      <td>NaN</td>\n",
       "    </tr>\n",
       "  </tbody>\n",
       "</table>\n",
       "</div>"
      ],
      "text/plain": [
       "                       name platform  year_of_release         genre  na_sales  \\\n",
       "0                wii sports      wii           2006.0        sports     41.36   \n",
       "1         super mario bros.      nes           1985.0      platform     29.08   \n",
       "2            mario kart wii      wii           2008.0        racing     15.68   \n",
       "3         wii sports resort      wii           2009.0        sports     15.61   \n",
       "4  pokemon red/pokemon blue       gb           1996.0  role-playing     11.27   \n",
       "\n",
       "   eu_sales  jp_sales  other_sales  critic_score user_score rating  \n",
       "0     28.96      3.77         8.45          76.0          8      e  \n",
       "1      3.58      6.81         0.77           NaN        NaN    NaN  \n",
       "2     12.76      3.79         3.29          82.0        8.3      e  \n",
       "3     10.93      3.28         2.95          80.0          8      e  \n",
       "4      8.89     10.22         1.00           NaN        NaN    NaN  "
      ]
     },
     "execution_count": 4,
     "metadata": {},
     "output_type": "execute_result"
    }
   ],
   "source": [
    "# convert column names to lowercase\n",
    "data.columns = data.columns.str.lower()\n",
    "data['name'] = data['name'].str.lower()\n",
    "data['platform'] = data['platform'].str.lower()\n",
    "data['genre'] = data['genre'].str.lower()\n",
    "data['rating'] = data['rating'].str.lower()\n",
    "data.head()"
   ]
  },
  {
   "cell_type": "code",
   "execution_count": 5,
   "metadata": {},
   "outputs": [
    {
     "data": {
      "text/plain": [
       "0"
      ]
     },
     "execution_count": 5,
     "metadata": {},
     "output_type": "execute_result"
    }
   ],
   "source": [
    "# check for duplicates\n",
    "data.duplicated().sum()\n",
    "# lowercase the above to get rid of implicit duplicates"
   ]
  },
  {
   "cell_type": "code",
   "execution_count": 6,
   "metadata": {},
   "outputs": [
    {
     "data": {
      "text/plain": [
       "array(['8', nan, '8.3', '8.5', '6.6', '8.4', '8.6', '7.7', '6.3', '7.4',\n",
       "       '8.2', '9', '7.9', '8.1', '8.7', '7.1', '3.4', '5.3', '4.8', '3.2',\n",
       "       '8.9', '6.4', '7.8', '7.5', '2.6', '7.2', '9.2', '7', '7.3', '4.3',\n",
       "       '7.6', '5.7', '5', '9.1', '6.5', 'tbd', '8.8', '6.9', '9.4', '6.8',\n",
       "       '6.1', '6.7', '5.4', '4', '4.9', '4.5', '9.3', '6.2', '4.2', '6',\n",
       "       '3.7', '4.1', '5.8', '5.6', '5.5', '4.4', '4.6', '5.9', '3.9',\n",
       "       '3.1', '2.9', '5.2', '3.3', '4.7', '5.1', '3.5', '2.5', '1.9', '3',\n",
       "       '2.7', '2.2', '2', '9.5', '2.1', '3.6', '2.8', '1.8', '3.8', '0',\n",
       "       '1.6', '9.6', '2.4', '1.7', '1.1', '0.3', '1.5', '0.7', '1.2',\n",
       "       '2.3', '0.5', '1.3', '0.2', '0.6', '1.4', '0.9', '1', '9.7'],\n",
       "      dtype=object)"
      ]
     },
     "execution_count": 6,
     "metadata": {},
     "output_type": "execute_result"
    }
   ],
   "source": [
    "# the user_score column has the wrong data type\n",
    "# check the unique values\n",
    "data['user_score'].unique()"
   ]
  },
  {
   "cell_type": "code",
   "execution_count": 7,
   "metadata": {},
   "outputs": [
    {
     "name": "stdout",
     "output_type": "stream",
     "text": [
      "<class 'pandas.core.frame.DataFrame'>\n",
      "RangeIndex: 16715 entries, 0 to 16714\n",
      "Data columns (total 11 columns):\n",
      " #   Column           Non-Null Count  Dtype  \n",
      "---  ------           --------------  -----  \n",
      " 0   name             16713 non-null  object \n",
      " 1   platform         16715 non-null  object \n",
      " 2   year_of_release  16446 non-null  float64\n",
      " 3   genre            16713 non-null  object \n",
      " 4   na_sales         16715 non-null  float64\n",
      " 5   eu_sales         16715 non-null  float64\n",
      " 6   jp_sales         16715 non-null  float64\n",
      " 7   other_sales      16715 non-null  float64\n",
      " 8   critic_score     8137 non-null   float64\n",
      " 9   user_score       7590 non-null   float64\n",
      " 10  rating           9949 non-null   object \n",
      "dtypes: float64(7), object(4)\n",
      "memory usage: 1.4+ MB\n"
     ]
    }
   ],
   "source": [
    "# to change the data type to float you need to get rid of the 'tbd' data\n",
    "# the value of tbd can be if the game is too old and it does not have enough ratings, or if the game is unpopular\n",
    "data['user_score'] = data['user_score'].replace('tbd', np.NaN)\n",
    "data['user_score'] = data['user_score'].astype('float')\n",
    "# multiply the scores of the players by 10, needed to build a scatterplot\n",
    "data['user_score'] = data['user_score']*10\n",
    "data.info()"
   ]
  },
  {
   "cell_type": "code",
   "execution_count": 8,
   "metadata": {},
   "outputs": [
    {
     "data": {
      "text/plain": [
       "array(['e', 'no rating', 'm', 't', 'e10+', 'k-a', 'ao', 'ec', 'rp'],\n",
       "      dtype=object)"
      ]
     },
     "execution_count": 8,
     "metadata": {},
     "output_type": "execute_result"
    }
   ],
   "source": [
    "#fill column rating, critic_score, user_score\n",
    "data['rating'] = data['rating'].fillna('no rating')\n",
    "data['user_score'] = data['user_score'].fillna(-1)\n",
    "data['critic_score'] = data['critic_score'].fillna(-1)\n",
    "data['rating'].unique()"
   ]
  },
  {
   "cell_type": "code",
   "execution_count": 9,
   "metadata": {},
   "outputs": [
    {
     "data": {
      "text/html": [
       "<div>\n",
       "<style scoped>\n",
       "    .dataframe tbody tr th:only-of-type {\n",
       "        vertical-align: middle;\n",
       "    }\n",
       "\n",
       "    .dataframe tbody tr th {\n",
       "        vertical-align: top;\n",
       "    }\n",
       "\n",
       "    .dataframe thead th {\n",
       "        text-align: right;\n",
       "    }\n",
       "</style>\n",
       "<table border=\"1\" class=\"dataframe\">\n",
       "  <thead>\n",
       "    <tr style=\"text-align: right;\">\n",
       "      <th></th>\n",
       "      <th>name</th>\n",
       "      <th>platform</th>\n",
       "      <th>year_of_release</th>\n",
       "      <th>genre</th>\n",
       "      <th>na_sales</th>\n",
       "      <th>eu_sales</th>\n",
       "      <th>jp_sales</th>\n",
       "      <th>other_sales</th>\n",
       "      <th>critic_score</th>\n",
       "      <th>user_score</th>\n",
       "      <th>rating</th>\n",
       "      <th>sales_total</th>\n",
       "    </tr>\n",
       "  </thead>\n",
       "  <tbody>\n",
       "    <tr>\n",
       "      <th>0</th>\n",
       "      <td>wii sports</td>\n",
       "      <td>wii</td>\n",
       "      <td>2006.0</td>\n",
       "      <td>sports</td>\n",
       "      <td>41.36</td>\n",
       "      <td>28.96</td>\n",
       "      <td>3.77</td>\n",
       "      <td>8.45</td>\n",
       "      <td>76.0</td>\n",
       "      <td>80.0</td>\n",
       "      <td>e</td>\n",
       "      <td>82.54</td>\n",
       "    </tr>\n",
       "    <tr>\n",
       "      <th>1</th>\n",
       "      <td>super mario bros.</td>\n",
       "      <td>nes</td>\n",
       "      <td>1985.0</td>\n",
       "      <td>platform</td>\n",
       "      <td>29.08</td>\n",
       "      <td>3.58</td>\n",
       "      <td>6.81</td>\n",
       "      <td>0.77</td>\n",
       "      <td>-1.0</td>\n",
       "      <td>-1.0</td>\n",
       "      <td>no rating</td>\n",
       "      <td>40.24</td>\n",
       "    </tr>\n",
       "    <tr>\n",
       "      <th>2</th>\n",
       "      <td>mario kart wii</td>\n",
       "      <td>wii</td>\n",
       "      <td>2008.0</td>\n",
       "      <td>racing</td>\n",
       "      <td>15.68</td>\n",
       "      <td>12.76</td>\n",
       "      <td>3.79</td>\n",
       "      <td>3.29</td>\n",
       "      <td>82.0</td>\n",
       "      <td>83.0</td>\n",
       "      <td>e</td>\n",
       "      <td>35.52</td>\n",
       "    </tr>\n",
       "    <tr>\n",
       "      <th>3</th>\n",
       "      <td>wii sports resort</td>\n",
       "      <td>wii</td>\n",
       "      <td>2009.0</td>\n",
       "      <td>sports</td>\n",
       "      <td>15.61</td>\n",
       "      <td>10.93</td>\n",
       "      <td>3.28</td>\n",
       "      <td>2.95</td>\n",
       "      <td>80.0</td>\n",
       "      <td>80.0</td>\n",
       "      <td>e</td>\n",
       "      <td>32.77</td>\n",
       "    </tr>\n",
       "    <tr>\n",
       "      <th>4</th>\n",
       "      <td>pokemon red/pokemon blue</td>\n",
       "      <td>gb</td>\n",
       "      <td>1996.0</td>\n",
       "      <td>role-playing</td>\n",
       "      <td>11.27</td>\n",
       "      <td>8.89</td>\n",
       "      <td>10.22</td>\n",
       "      <td>1.00</td>\n",
       "      <td>-1.0</td>\n",
       "      <td>-1.0</td>\n",
       "      <td>no rating</td>\n",
       "      <td>31.38</td>\n",
       "    </tr>\n",
       "  </tbody>\n",
       "</table>\n",
       "</div>"
      ],
      "text/plain": [
       "                       name platform  year_of_release         genre  na_sales  \\\n",
       "0                wii sports      wii           2006.0        sports     41.36   \n",
       "1         super mario bros.      nes           1985.0      platform     29.08   \n",
       "2            mario kart wii      wii           2008.0        racing     15.68   \n",
       "3         wii sports resort      wii           2009.0        sports     15.61   \n",
       "4  pokemon red/pokemon blue       gb           1996.0  role-playing     11.27   \n",
       "\n",
       "   eu_sales  jp_sales  other_sales  critic_score  user_score     rating  \\\n",
       "0     28.96      3.77         8.45          76.0        80.0          e   \n",
       "1      3.58      6.81         0.77          -1.0        -1.0  no rating   \n",
       "2     12.76      3.79         3.29          82.0        83.0          e   \n",
       "3     10.93      3.28         2.95          80.0        80.0          e   \n",
       "4      8.89     10.22         1.00          -1.0        -1.0  no rating   \n",
       "\n",
       "   sales_total  \n",
       "0        82.54  \n",
       "1        40.24  \n",
       "2        35.52  \n",
       "3        32.77  \n",
       "4        31.38  "
      ]
     },
     "execution_count": 9,
     "metadata": {},
     "output_type": "execute_result"
    }
   ],
   "source": [
    "# calculate the total sales in all regions and write them in a separate column\n",
    "data['sales_total'] = data['na_sales'] + data['eu_sales'] + data['jp_sales'] + data['other_sales']\n",
    "data.head()"
   ]
  },
  {
   "cell_type": "markdown",
   "metadata": {},
   "source": [
    "**Step 3: Conduct an exploratory data analysis**"
   ]
  },
  {
   "cell_type": "code",
   "execution_count": 10,
   "metadata": {
    "scrolled": true
   },
   "outputs": [
    {
     "data": {
      "text/html": [
       "<div>\n",
       "<style scoped>\n",
       "    .dataframe tbody tr th:only-of-type {\n",
       "        vertical-align: middle;\n",
       "    }\n",
       "\n",
       "    .dataframe tbody tr th {\n",
       "        vertical-align: top;\n",
       "    }\n",
       "\n",
       "    .dataframe thead th {\n",
       "        text-align: right;\n",
       "    }\n",
       "</style>\n",
       "<table border=\"1\" class=\"dataframe\">\n",
       "  <thead>\n",
       "    <tr style=\"text-align: right;\">\n",
       "      <th></th>\n",
       "      <th>count</th>\n",
       "    </tr>\n",
       "    <tr>\n",
       "      <th>year_of_release</th>\n",
       "      <th></th>\n",
       "    </tr>\n",
       "  </thead>\n",
       "  <tbody>\n",
       "    <tr>\n",
       "      <th>1980.0</th>\n",
       "      <td>9</td>\n",
       "    </tr>\n",
       "    <tr>\n",
       "      <th>1981.0</th>\n",
       "      <td>46</td>\n",
       "    </tr>\n",
       "    <tr>\n",
       "      <th>1982.0</th>\n",
       "      <td>36</td>\n",
       "    </tr>\n",
       "    <tr>\n",
       "      <th>1983.0</th>\n",
       "      <td>17</td>\n",
       "    </tr>\n",
       "    <tr>\n",
       "      <th>1984.0</th>\n",
       "      <td>14</td>\n",
       "    </tr>\n",
       "    <tr>\n",
       "      <th>1985.0</th>\n",
       "      <td>14</td>\n",
       "    </tr>\n",
       "    <tr>\n",
       "      <th>1986.0</th>\n",
       "      <td>21</td>\n",
       "    </tr>\n",
       "    <tr>\n",
       "      <th>1987.0</th>\n",
       "      <td>16</td>\n",
       "    </tr>\n",
       "    <tr>\n",
       "      <th>1988.0</th>\n",
       "      <td>15</td>\n",
       "    </tr>\n",
       "    <tr>\n",
       "      <th>1989.0</th>\n",
       "      <td>17</td>\n",
       "    </tr>\n",
       "    <tr>\n",
       "      <th>1990.0</th>\n",
       "      <td>16</td>\n",
       "    </tr>\n",
       "    <tr>\n",
       "      <th>1991.0</th>\n",
       "      <td>41</td>\n",
       "    </tr>\n",
       "    <tr>\n",
       "      <th>1992.0</th>\n",
       "      <td>43</td>\n",
       "    </tr>\n",
       "    <tr>\n",
       "      <th>1993.0</th>\n",
       "      <td>60</td>\n",
       "    </tr>\n",
       "    <tr>\n",
       "      <th>1994.0</th>\n",
       "      <td>121</td>\n",
       "    </tr>\n",
       "    <tr>\n",
       "      <th>1995.0</th>\n",
       "      <td>219</td>\n",
       "    </tr>\n",
       "    <tr>\n",
       "      <th>1996.0</th>\n",
       "      <td>263</td>\n",
       "    </tr>\n",
       "    <tr>\n",
       "      <th>1997.0</th>\n",
       "      <td>289</td>\n",
       "    </tr>\n",
       "    <tr>\n",
       "      <th>1998.0</th>\n",
       "      <td>379</td>\n",
       "    </tr>\n",
       "    <tr>\n",
       "      <th>1999.0</th>\n",
       "      <td>338</td>\n",
       "    </tr>\n",
       "    <tr>\n",
       "      <th>2000.0</th>\n",
       "      <td>350</td>\n",
       "    </tr>\n",
       "    <tr>\n",
       "      <th>2001.0</th>\n",
       "      <td>482</td>\n",
       "    </tr>\n",
       "    <tr>\n",
       "      <th>2002.0</th>\n",
       "      <td>829</td>\n",
       "    </tr>\n",
       "    <tr>\n",
       "      <th>2003.0</th>\n",
       "      <td>775</td>\n",
       "    </tr>\n",
       "    <tr>\n",
       "      <th>2004.0</th>\n",
       "      <td>762</td>\n",
       "    </tr>\n",
       "    <tr>\n",
       "      <th>2005.0</th>\n",
       "      <td>939</td>\n",
       "    </tr>\n",
       "    <tr>\n",
       "      <th>2006.0</th>\n",
       "      <td>1006</td>\n",
       "    </tr>\n",
       "    <tr>\n",
       "      <th>2007.0</th>\n",
       "      <td>1197</td>\n",
       "    </tr>\n",
       "    <tr>\n",
       "      <th>2008.0</th>\n",
       "      <td>1427</td>\n",
       "    </tr>\n",
       "    <tr>\n",
       "      <th>2009.0</th>\n",
       "      <td>1426</td>\n",
       "    </tr>\n",
       "    <tr>\n",
       "      <th>2010.0</th>\n",
       "      <td>1255</td>\n",
       "    </tr>\n",
       "    <tr>\n",
       "      <th>2011.0</th>\n",
       "      <td>1136</td>\n",
       "    </tr>\n",
       "    <tr>\n",
       "      <th>2012.0</th>\n",
       "      <td>653</td>\n",
       "    </tr>\n",
       "    <tr>\n",
       "      <th>2013.0</th>\n",
       "      <td>544</td>\n",
       "    </tr>\n",
       "    <tr>\n",
       "      <th>2014.0</th>\n",
       "      <td>581</td>\n",
       "    </tr>\n",
       "    <tr>\n",
       "      <th>2015.0</th>\n",
       "      <td>606</td>\n",
       "    </tr>\n",
       "    <tr>\n",
       "      <th>2016.0</th>\n",
       "      <td>502</td>\n",
       "    </tr>\n",
       "  </tbody>\n",
       "</table>\n",
       "</div>"
      ],
      "text/plain": [
       "                 count\n",
       "year_of_release       \n",
       "1980.0               9\n",
       "1981.0              46\n",
       "1982.0              36\n",
       "1983.0              17\n",
       "1984.0              14\n",
       "1985.0              14\n",
       "1986.0              21\n",
       "1987.0              16\n",
       "1988.0              15\n",
       "1989.0              17\n",
       "1990.0              16\n",
       "1991.0              41\n",
       "1992.0              43\n",
       "1993.0              60\n",
       "1994.0             121\n",
       "1995.0             219\n",
       "1996.0             263\n",
       "1997.0             289\n",
       "1998.0             379\n",
       "1999.0             338\n",
       "2000.0             350\n",
       "2001.0             482\n",
       "2002.0             829\n",
       "2003.0             775\n",
       "2004.0             762\n",
       "2005.0             939\n",
       "2006.0            1006\n",
       "2007.0            1197\n",
       "2008.0            1427\n",
       "2009.0            1426\n",
       "2010.0            1255\n",
       "2011.0            1136\n",
       "2012.0             653\n",
       "2013.0             544\n",
       "2014.0             581\n",
       "2015.0             606\n",
       "2016.0             502"
      ]
     },
     "execution_count": 10,
     "metadata": {},
     "output_type": "execute_result"
    }
   ],
   "source": [
    "games_per_year = data.groupby('year_of_release')['name'].agg({'count'})\n",
    "games_per_year"
   ]
  },
  {
   "cell_type": "code",
   "execution_count": 11,
   "metadata": {
    "scrolled": true
   },
   "outputs": [
    {
     "data": {
      "image/png": "[encoded data removed]",
      "text/plain": [
       "<Figure size 720x360 with 1 Axes>"
      ]
     },
     "metadata": {
      "needs_background": "light"
     },
     "output_type": "display_data"
    }
   ],
   "source": [
    "data.plot(y='year_of_release', kind='hist', bins=37, figsize=(10,5), ec='black')\n",
    "plt.show()"
   ]
  },
  {
   "cell_type": "markdown",
   "metadata": {},
   "source": [
    "* We can see that a sharp jump in the production of games occurred around 2002, and the best-selling period fell between 2007 and 2010. After 2011, there was a sharp decline. Most likely due to the emergence of successful games on new platforms not listed in the data, such as a mobile phone"
   ]
  },
  {
   "cell_type": "code",
   "execution_count": 12,
   "metadata": {
    "scrolled": true
   },
   "outputs": [
    {
     "data": {
      "text/html": [
       "<div>\n",
       "<style scoped>\n",
       "    .dataframe tbody tr th:only-of-type {\n",
       "        vertical-align: middle;\n",
       "    }\n",
       "\n",
       "    .dataframe tbody tr th {\n",
       "        vertical-align: top;\n",
       "    }\n",
       "\n",
       "    .dataframe thead th {\n",
       "        text-align: right;\n",
       "    }\n",
       "</style>\n",
       "<table border=\"1\" class=\"dataframe\">\n",
       "  <thead>\n",
       "    <tr style=\"text-align: right;\">\n",
       "      <th></th>\n",
       "      <th>platform</th>\n",
       "      <th>year_of_release</th>\n",
       "      <th>sales_total</th>\n",
       "    </tr>\n",
       "  </thead>\n",
       "  <tbody>\n",
       "    <tr>\n",
       "      <th>0</th>\n",
       "      <td>2600</td>\n",
       "      <td>1980.0</td>\n",
       "      <td>11.38</td>\n",
       "    </tr>\n",
       "    <tr>\n",
       "      <th>1</th>\n",
       "      <td>2600</td>\n",
       "      <td>1981.0</td>\n",
       "      <td>35.68</td>\n",
       "    </tr>\n",
       "    <tr>\n",
       "      <th>2</th>\n",
       "      <td>2600</td>\n",
       "      <td>1982.0</td>\n",
       "      <td>28.88</td>\n",
       "    </tr>\n",
       "    <tr>\n",
       "      <th>3</th>\n",
       "      <td>2600</td>\n",
       "      <td>1983.0</td>\n",
       "      <td>5.84</td>\n",
       "    </tr>\n",
       "    <tr>\n",
       "      <th>4</th>\n",
       "      <td>2600</td>\n",
       "      <td>1984.0</td>\n",
       "      <td>0.27</td>\n",
       "    </tr>\n",
       "    <tr>\n",
       "      <th>...</th>\n",
       "      <td>...</td>\n",
       "      <td>...</td>\n",
       "      <td>...</td>\n",
       "    </tr>\n",
       "    <tr>\n",
       "      <th>233</th>\n",
       "      <td>xb</td>\n",
       "      <td>2008.0</td>\n",
       "      <td>0.18</td>\n",
       "    </tr>\n",
       "    <tr>\n",
       "      <th>234</th>\n",
       "      <td>xone</td>\n",
       "      <td>2013.0</td>\n",
       "      <td>18.96</td>\n",
       "    </tr>\n",
       "    <tr>\n",
       "      <th>235</th>\n",
       "      <td>xone</td>\n",
       "      <td>2014.0</td>\n",
       "      <td>54.07</td>\n",
       "    </tr>\n",
       "    <tr>\n",
       "      <th>236</th>\n",
       "      <td>xone</td>\n",
       "      <td>2015.0</td>\n",
       "      <td>60.14</td>\n",
       "    </tr>\n",
       "    <tr>\n",
       "      <th>237</th>\n",
       "      <td>xone</td>\n",
       "      <td>2016.0</td>\n",
       "      <td>26.15</td>\n",
       "    </tr>\n",
       "  </tbody>\n",
       "</table>\n",
       "<p>238 rows × 3 columns</p>\n",
       "</div>"
      ],
      "text/plain": [
       "    platform  year_of_release  sales_total\n",
       "0       2600           1980.0        11.38\n",
       "1       2600           1981.0        35.68\n",
       "2       2600           1982.0        28.88\n",
       "3       2600           1983.0         5.84\n",
       "4       2600           1984.0         0.27\n",
       "..       ...              ...          ...\n",
       "233       xb           2008.0         0.18\n",
       "234     xone           2013.0        18.96\n",
       "235     xone           2014.0        54.07\n",
       "236     xone           2015.0        60.14\n",
       "237     xone           2016.0        26.15\n",
       "\n",
       "[238 rows x 3 columns]"
      ]
     },
     "execution_count": 12,
     "metadata": {},
     "output_type": "execute_result"
    }
   ],
   "source": [
    "platform_sales = data.groupby(['platform', 'year_of_release']).agg({'sales_total':'sum'}).reset_index()\n",
    "platform_sales"
   ]
  },
  {
   "cell_type": "code",
   "execution_count": 13,
   "metadata": {
    "scrolled": true
   },
   "outputs": [
    {
     "data": {
      "text/html": [
       "<div>\n",
       "<style scoped>\n",
       "    .dataframe tbody tr th:only-of-type {\n",
       "        vertical-align: middle;\n",
       "    }\n",
       "\n",
       "    .dataframe tbody tr th {\n",
       "        vertical-align: top;\n",
       "    }\n",
       "\n",
       "    .dataframe thead th {\n",
       "        text-align: right;\n",
       "    }\n",
       "</style>\n",
       "<table border=\"1\" class=\"dataframe\">\n",
       "  <thead>\n",
       "    <tr style=\"text-align: right;\">\n",
       "      <th></th>\n",
       "      <th>sales_total</th>\n",
       "    </tr>\n",
       "    <tr>\n",
       "      <th>platform</th>\n",
       "      <th></th>\n",
       "    </tr>\n",
       "  </thead>\n",
       "  <tbody>\n",
       "    <tr>\n",
       "      <th>ps2</th>\n",
       "      <td>1255.77</td>\n",
       "    </tr>\n",
       "    <tr>\n",
       "      <th>x360</th>\n",
       "      <td>971.42</td>\n",
       "    </tr>\n",
       "    <tr>\n",
       "      <th>ps3</th>\n",
       "      <td>939.65</td>\n",
       "    </tr>\n",
       "    <tr>\n",
       "      <th>wii</th>\n",
       "      <td>907.51</td>\n",
       "    </tr>\n",
       "    <tr>\n",
       "      <th>ds</th>\n",
       "      <td>806.12</td>\n",
       "    </tr>\n",
       "    <tr>\n",
       "      <th>ps</th>\n",
       "      <td>730.86</td>\n",
       "    </tr>\n",
       "    <tr>\n",
       "      <th>gba</th>\n",
       "      <td>317.85</td>\n",
       "    </tr>\n",
       "    <tr>\n",
       "      <th>ps4</th>\n",
       "      <td>314.14</td>\n",
       "    </tr>\n",
       "    <tr>\n",
       "      <th>psp</th>\n",
       "      <td>294.05</td>\n",
       "    </tr>\n",
       "    <tr>\n",
       "      <th>pc</th>\n",
       "      <td>259.52</td>\n",
       "    </tr>\n",
       "    <tr>\n",
       "      <th>3ds</th>\n",
       "      <td>259.00</td>\n",
       "    </tr>\n",
       "    <tr>\n",
       "      <th>xb</th>\n",
       "      <td>257.74</td>\n",
       "    </tr>\n",
       "    <tr>\n",
       "      <th>gb</th>\n",
       "      <td>255.46</td>\n",
       "    </tr>\n",
       "    <tr>\n",
       "      <th>nes</th>\n",
       "      <td>251.05</td>\n",
       "    </tr>\n",
       "    <tr>\n",
       "      <th>n64</th>\n",
       "      <td>218.68</td>\n",
       "    </tr>\n",
       "    <tr>\n",
       "      <th>snes</th>\n",
       "      <td>200.04</td>\n",
       "    </tr>\n",
       "    <tr>\n",
       "      <th>gc</th>\n",
       "      <td>198.93</td>\n",
       "    </tr>\n",
       "    <tr>\n",
       "      <th>xone</th>\n",
       "      <td>159.32</td>\n",
       "    </tr>\n",
       "    <tr>\n",
       "      <th>2600</th>\n",
       "      <td>96.98</td>\n",
       "    </tr>\n",
       "    <tr>\n",
       "      <th>wiiu</th>\n",
       "      <td>82.19</td>\n",
       "    </tr>\n",
       "    <tr>\n",
       "      <th>psv</th>\n",
       "      <td>54.07</td>\n",
       "    </tr>\n",
       "    <tr>\n",
       "      <th>sat</th>\n",
       "      <td>33.59</td>\n",
       "    </tr>\n",
       "    <tr>\n",
       "      <th>gen</th>\n",
       "      <td>30.77</td>\n",
       "    </tr>\n",
       "    <tr>\n",
       "      <th>dc</th>\n",
       "      <td>15.95</td>\n",
       "    </tr>\n",
       "    <tr>\n",
       "      <th>scd</th>\n",
       "      <td>1.86</td>\n",
       "    </tr>\n",
       "    <tr>\n",
       "      <th>ng</th>\n",
       "      <td>1.44</td>\n",
       "    </tr>\n",
       "    <tr>\n",
       "      <th>ws</th>\n",
       "      <td>1.42</td>\n",
       "    </tr>\n",
       "    <tr>\n",
       "      <th>tg16</th>\n",
       "      <td>0.16</td>\n",
       "    </tr>\n",
       "    <tr>\n",
       "      <th>3do</th>\n",
       "      <td>0.10</td>\n",
       "    </tr>\n",
       "    <tr>\n",
       "      <th>gg</th>\n",
       "      <td>0.04</td>\n",
       "    </tr>\n",
       "    <tr>\n",
       "      <th>pcfx</th>\n",
       "      <td>0.03</td>\n",
       "    </tr>\n",
       "  </tbody>\n",
       "</table>\n",
       "</div>"
      ],
      "text/plain": [
       "          sales_total\n",
       "platform             \n",
       "ps2           1255.77\n",
       "x360           971.42\n",
       "ps3            939.65\n",
       "wii            907.51\n",
       "ds             806.12\n",
       "ps             730.86\n",
       "gba            317.85\n",
       "ps4            314.14\n",
       "psp            294.05\n",
       "pc             259.52\n",
       "3ds            259.00\n",
       "xb             257.74\n",
       "gb             255.46\n",
       "nes            251.05\n",
       "n64            218.68\n",
       "snes           200.04\n",
       "gc             198.93\n",
       "xone           159.32\n",
       "2600            96.98\n",
       "wiiu            82.19\n",
       "psv             54.07\n",
       "sat             33.59\n",
       "gen             30.77\n",
       "dc              15.95\n",
       "scd              1.86\n",
       "ng               1.44\n",
       "ws               1.42\n",
       "tg16             0.16\n",
       "3do              0.10\n",
       "gg               0.04\n",
       "pcfx             0.03"
      ]
     },
     "execution_count": 13,
     "metadata": {},
     "output_type": "execute_result"
    }
   ],
   "source": [
    "# find out which platforms have the highest total sales\n",
    "data.pivot_table(index='platform', values='sales_total', aggfunc='sum').sort_values('sales_total', ascending=False)"
   ]
  },
  {
   "cell_type": "code",
   "execution_count": 14,
   "metadata": {},
   "outputs": [
    {
     "data": {
      "text/plain": [
       "array([2006., 2005., 2010., 2009., 2004., 2007., 2012., 2008., 2011.,\n",
       "         nan, 2013., 1985.])"
      ]
     },
     "execution_count": 14,
     "metadata": {},
     "output_type": "execute_result"
    }
   ],
   "source": [
    "data_ds = data.query('platform == \"ds\"')\n",
    "data_ds['year_of_release'].unique()"
   ]
  },
  {
   "cell_type": "markdown",
   "metadata": {},
   "source": [
    "There is an error in the data about the ds platform, but since further we will consider only actual years, you can not touch anything"
   ]
  },
  {
   "cell_type": "code",
   "execution_count": 15,
   "metadata": {
    "scrolled": true
   },
   "outputs": [
    {
     "data": {
      "image/png": "[encoded data removed]",
      "text/plain": [
       "<Figure size 1080x360 with 1 Axes>"
      ]
     },
     "metadata": {
      "needs_background": "light"
     },
     "output_type": "display_data"
    }
   ],
   "source": [
    "# see how sales have changed across popular platforms\n",
    "popular_platforms = ['ps2', 'x360', 'ps3', 'wii', 'ds', 'ps', 'gba', 'ps4', 'psp', 'pc']\n",
    "\n",
    "def total_sales(name, data):\n",
    "    return (data\n",
    "            .query(\"platform == @name\")\n",
    "            .pivot_table(index='year_of_release', values='sales_total', aggfunc='sum')\n",
    "            .sort_values('year_of_release', ascending=False)\n",
    "    )\n",
    "\n",
    "for platform in list(popular_platforms):\n",
    "    total_sales(platform, data)['sales_total'].plot(figsize=(15, 5), label=platform, grid=True)\n",
    "    plt.legend()"
   ]
  },
  {
   "cell_type": "code",
   "execution_count": 16,
   "metadata": {},
   "outputs": [
    {
     "data": {
      "image/png": "[encoded data removed]",
      "text/plain": [
       "<Figure size 1080x360 with 1 Axes>"
      ]
     },
     "metadata": {
      "needs_background": "light"
     },
     "output_type": "display_data"
    }
   ],
   "source": [
    "# check the lifetime of platforms\n",
    "data.groupby('platform')['year_of_release'].agg(\"nunique\").sort_values(ascending=False).plot(kind='bar', figsize=(15,5), grid=True)\n",
    "plt.show()"
   ]
  },
  {
   "cell_type": "markdown",
   "metadata": {},
   "source": [
    "Consider the lifetime of Playstation consoles:\n",
    "\n",
    "* PS - lived for about 10 years, from 1994 to 2004\n",
    "* PS2 - from 2000 to 2011, 11 years\n",
    "* PS3 - from 2006 to 2015, in which it is almost irrelevant due to the release of PS4\n",
    "\n",
    "We can say that the average lifespan of popular consoles is about 10 years."
   ]
  },
  {
   "cell_type": "markdown",
   "metadata": {},
   "source": [
    "* Below I will use data only for the current period"
   ]
  },
  {
   "cell_type": "code",
   "execution_count": 17,
   "metadata": {},
   "outputs": [
    {
     "data": {
      "image/png": "[encoded data removed]",
      "text/plain": [
       "<Figure size 1080x720 with 1 Axes>"
      ]
     },
     "metadata": {
      "needs_background": "light"
     },
     "output_type": "display_data"
    }
   ],
   "source": [
    "#  how charts behave with platforms for the current period\n",
    "after_2012 = data[data['year_of_release'] >= 2012]\n",
    "after_2012.pivot_table(index='year_of_release', columns='platform', values='sales_total', aggfunc='sum').plot(figsize=(15,10), grid=True)\n",
    "plt.show()"
   ]
  },
  {
   "cell_type": "code",
   "execution_count": 18,
   "metadata": {},
   "outputs": [
    {
     "data": {
      "text/html": [
       "<div>\n",
       "<style scoped>\n",
       "    .dataframe tbody tr th:only-of-type {\n",
       "        vertical-align: middle;\n",
       "    }\n",
       "\n",
       "    .dataframe tbody tr th {\n",
       "        vertical-align: top;\n",
       "    }\n",
       "\n",
       "    .dataframe thead th {\n",
       "        text-align: right;\n",
       "    }\n",
       "</style>\n",
       "<table border=\"1\" class=\"dataframe\">\n",
       "  <thead>\n",
       "    <tr style=\"text-align: right;\">\n",
       "      <th></th>\n",
       "      <th>sales_total</th>\n",
       "    </tr>\n",
       "    <tr>\n",
       "      <th>platform</th>\n",
       "      <th></th>\n",
       "    </tr>\n",
       "  </thead>\n",
       "  <tbody>\n",
       "    <tr>\n",
       "      <th>ps4</th>\n",
       "      <td>314.14</td>\n",
       "    </tr>\n",
       "    <tr>\n",
       "      <th>ps3</th>\n",
       "      <td>288.79</td>\n",
       "    </tr>\n",
       "    <tr>\n",
       "      <th>x360</th>\n",
       "      <td>236.54</td>\n",
       "    </tr>\n",
       "    <tr>\n",
       "      <th>3ds</th>\n",
       "      <td>194.61</td>\n",
       "    </tr>\n",
       "    <tr>\n",
       "      <th>xone</th>\n",
       "      <td>159.32</td>\n",
       "    </tr>\n",
       "    <tr>\n",
       "      <th>wiiu</th>\n",
       "      <td>82.19</td>\n",
       "    </tr>\n",
       "    <tr>\n",
       "      <th>pc</th>\n",
       "      <td>62.65</td>\n",
       "    </tr>\n",
       "    <tr>\n",
       "      <th>psv</th>\n",
       "      <td>49.18</td>\n",
       "    </tr>\n",
       "    <tr>\n",
       "      <th>wii</th>\n",
       "      <td>35.37</td>\n",
       "    </tr>\n",
       "    <tr>\n",
       "      <th>ds</th>\n",
       "      <td>12.55</td>\n",
       "    </tr>\n",
       "  </tbody>\n",
       "</table>\n",
       "</div>"
      ],
      "text/plain": [
       "          sales_total\n",
       "platform             \n",
       "ps4            314.14\n",
       "ps3            288.79\n",
       "x360           236.54\n",
       "3ds            194.61\n",
       "xone           159.32\n",
       "wiiu            82.19\n",
       "pc              62.65\n",
       "psv             49.18\n",
       "wii             35.37\n",
       "ds              12.55"
      ]
     },
     "execution_count": 18,
     "metadata": {},
     "output_type": "execute_result"
    }
   ],
   "source": [
    "topsales_after_2012 = after_2012.groupby(['platform']).agg({'sales_total':'sum'})\n",
    "topsales_after_2012.sort_values(by='sales_total', ascending=False).head(10)"
   ]
  },
  {
   "cell_type": "markdown",
   "metadata": {},
   "source": [
    "* Above is a list of top selling platforms in recent times.\n",
    "* All platforms are starting to lose earnings due to the departure of a large part of the market to mobile devices"
   ]
  },
  {
   "cell_type": "code",
   "execution_count": 19,
   "metadata": {},
   "outputs": [
    {
     "data": {
      "text/html": [
       "<div>\n",
       "<style scoped>\n",
       "    .dataframe tbody tr th:only-of-type {\n",
       "        vertical-align: middle;\n",
       "    }\n",
       "\n",
       "    .dataframe tbody tr th {\n",
       "        vertical-align: top;\n",
       "    }\n",
       "\n",
       "    .dataframe thead th {\n",
       "        text-align: right;\n",
       "    }\n",
       "</style>\n",
       "<table border=\"1\" class=\"dataframe\">\n",
       "  <thead>\n",
       "    <tr style=\"text-align: right;\">\n",
       "      <th></th>\n",
       "      <th>year_of_release</th>\n",
       "      <th>na_sales</th>\n",
       "      <th>eu_sales</th>\n",
       "      <th>jp_sales</th>\n",
       "      <th>other_sales</th>\n",
       "      <th>critic_score</th>\n",
       "      <th>user_score</th>\n",
       "      <th>sales_total</th>\n",
       "    </tr>\n",
       "  </thead>\n",
       "  <tbody>\n",
       "    <tr>\n",
       "      <th>count</th>\n",
       "      <td>2886.000000</td>\n",
       "      <td>2886.000000</td>\n",
       "      <td>2886.000000</td>\n",
       "      <td>2886.000000</td>\n",
       "      <td>2886.000000</td>\n",
       "      <td>2886.000000</td>\n",
       "      <td>2886.000000</td>\n",
       "      <td>2886.000000</td>\n",
       "    </tr>\n",
       "    <tr>\n",
       "      <th>mean</th>\n",
       "      <td>2013.916840</td>\n",
       "      <td>0.204771</td>\n",
       "      <td>0.175613</td>\n",
       "      <td>0.066729</td>\n",
       "      <td>0.054109</td>\n",
       "      <td>32.303881</td>\n",
       "      <td>34.734581</td>\n",
       "      <td>0.501223</td>\n",
       "    </tr>\n",
       "    <tr>\n",
       "      <th>std</th>\n",
       "      <td>1.411766</td>\n",
       "      <td>0.566696</td>\n",
       "      <td>0.505346</td>\n",
       "      <td>0.241575</td>\n",
       "      <td>0.164639</td>\n",
       "      <td>37.473265</td>\n",
       "      <td>35.512190</td>\n",
       "      <td>1.249157</td>\n",
       "    </tr>\n",
       "    <tr>\n",
       "      <th>min</th>\n",
       "      <td>2012.000000</td>\n",
       "      <td>0.000000</td>\n",
       "      <td>0.000000</td>\n",
       "      <td>0.000000</td>\n",
       "      <td>0.000000</td>\n",
       "      <td>-1.000000</td>\n",
       "      <td>-1.000000</td>\n",
       "      <td>0.010000</td>\n",
       "    </tr>\n",
       "    <tr>\n",
       "      <th>25%</th>\n",
       "      <td>2013.000000</td>\n",
       "      <td>0.000000</td>\n",
       "      <td>0.000000</td>\n",
       "      <td>0.000000</td>\n",
       "      <td>0.000000</td>\n",
       "      <td>-1.000000</td>\n",
       "      <td>-1.000000</td>\n",
       "      <td>0.040000</td>\n",
       "    </tr>\n",
       "    <tr>\n",
       "      <th>50%</th>\n",
       "      <td>2014.000000</td>\n",
       "      <td>0.030000</td>\n",
       "      <td>0.030000</td>\n",
       "      <td>0.010000</td>\n",
       "      <td>0.010000</td>\n",
       "      <td>-1.000000</td>\n",
       "      <td>35.000000</td>\n",
       "      <td>0.120000</td>\n",
       "    </tr>\n",
       "    <tr>\n",
       "      <th>75%</th>\n",
       "      <td>2015.000000</td>\n",
       "      <td>0.170000</td>\n",
       "      <td>0.140000</td>\n",
       "      <td>0.050000</td>\n",
       "      <td>0.040000</td>\n",
       "      <td>73.000000</td>\n",
       "      <td>71.000000</td>\n",
       "      <td>0.430000</td>\n",
       "    </tr>\n",
       "    <tr>\n",
       "      <th>max</th>\n",
       "      <td>2016.000000</td>\n",
       "      <td>9.660000</td>\n",
       "      <td>9.090000</td>\n",
       "      <td>4.390000</td>\n",
       "      <td>3.960000</td>\n",
       "      <td>97.000000</td>\n",
       "      <td>93.000000</td>\n",
       "      <td>21.050000</td>\n",
       "    </tr>\n",
       "  </tbody>\n",
       "</table>\n",
       "</div>"
      ],
      "text/plain": [
       "       year_of_release     na_sales     eu_sales     jp_sales  other_sales  \\\n",
       "count      2886.000000  2886.000000  2886.000000  2886.000000  2886.000000   \n",
       "mean       2013.916840     0.204771     0.175613     0.066729     0.054109   \n",
       "std           1.411766     0.566696     0.505346     0.241575     0.164639   \n",
       "min        2012.000000     0.000000     0.000000     0.000000     0.000000   \n",
       "25%        2013.000000     0.000000     0.000000     0.000000     0.000000   \n",
       "50%        2014.000000     0.030000     0.030000     0.010000     0.010000   \n",
       "75%        2015.000000     0.170000     0.140000     0.050000     0.040000   \n",
       "max        2016.000000     9.660000     9.090000     4.390000     3.960000   \n",
       "\n",
       "       critic_score   user_score  sales_total  \n",
       "count   2886.000000  2886.000000  2886.000000  \n",
       "mean      32.303881    34.734581     0.501223  \n",
       "std       37.473265    35.512190     1.249157  \n",
       "min       -1.000000    -1.000000     0.010000  \n",
       "25%       -1.000000    -1.000000     0.040000  \n",
       "50%       -1.000000    35.000000     0.120000  \n",
       "75%       73.000000    71.000000     0.430000  \n",
       "max       97.000000    93.000000    21.050000  "
      ]
     },
     "execution_count": 19,
     "metadata": {},
     "output_type": "execute_result"
    }
   ],
   "source": [
    "# build a \"box with a mustache\" graph of global game sales by platform\n",
    "after_2012.describe()"
   ]
  },
  {
   "cell_type": "code",
   "execution_count": 20,
   "metadata": {},
   "outputs": [
    {
     "data": {
      "image/png": "[encoded data removed]",
      "text/plain": [
       "<Figure size 1080x360 with 1 Axes>"
      ]
     },
     "metadata": {
      "needs_background": "light"
     },
     "output_type": "display_data"
    }
   ],
   "source": [
    "plt.figure(figsize=(15,5))\n",
    "sb.boxplot(data=after_2012, x='platform', y='sales_total')\n",
    "plt.show()"
   ]
  },
  {
   "cell_type": "markdown",
   "metadata": {},
   "source": [
    "* Almost all the most profitable projects with high revenues are in the emission zone"
   ]
  },
  {
   "cell_type": "code",
   "execution_count": 21,
   "metadata": {},
   "outputs": [
    {
     "data": {
      "image/png": "[encoded data removed]",
      "text/plain": [
       "<Figure size 1080x720 with 1 Axes>"
      ]
     },
     "metadata": {
      "needs_background": "light"
     },
     "output_type": "display_data"
    }
   ],
   "source": [
    "plt.figure(figsize=(15,10))\n",
    "sb.boxplot(data=after_2012, x='platform', y='sales_total', showfliers = False)\n",
    "plt.show()"
   ]
  },
  {
   "cell_type": "markdown",
   "metadata": {},
   "source": [
    "* We can compare the recently released PS4 and Xbox One consoles, the sales distribution of ps4 is more skewed to the right, indicating that there are more really hit games on PS4, or they sell better"
   ]
  },
  {
   "cell_type": "code",
   "execution_count": 22,
   "metadata": {},
   "outputs": [
    {
     "data": {
      "image/png": "[encoded data removed]",
      "text/plain": [
       "<Figure size 1080x720 with 1 Axes>"
      ]
     },
     "metadata": {
      "needs_background": "light"
     },
     "output_type": "display_data"
    }
   ],
   "source": [
    "# how the reviews of users and critics affect sales within one popular platform\n",
    "# build a scatterplot and calculate the correlation between reviews and sales\n",
    "data_ps4 = after_2012.query('platform == \"ps4\" and critic_score>0 and user_score > 0')\n",
    "plt.figure(figsize=(15,10))\n",
    "sb.scatterplot(data=data_ps4, x='sales_total', y='critic_score', alpha=0.5)\n",
    "sb.scatterplot(data=data_ps4, x='sales_total', y='user_score', alpha=0.5)\n",
    "plt.xlabel('Продажи')\n",
    "plt.ylabel('Оценки')\n",
    "plt.legend(['Критики', 'Пользователи'])\n",
    "plt.show()"
   ]
  },
  {
   "cell_type": "code",
   "execution_count": 23,
   "metadata": {},
   "outputs": [
    {
     "data": {
      "text/html": [
       "<div>\n",
       "<style scoped>\n",
       "    .dataframe tbody tr th:only-of-type {\n",
       "        vertical-align: middle;\n",
       "    }\n",
       "\n",
       "    .dataframe tbody tr th {\n",
       "        vertical-align: top;\n",
       "    }\n",
       "\n",
       "    .dataframe thead th {\n",
       "        text-align: right;\n",
       "    }\n",
       "</style>\n",
       "<table border=\"1\" class=\"dataframe\">\n",
       "  <thead>\n",
       "    <tr style=\"text-align: right;\">\n",
       "      <th></th>\n",
       "      <th>user_score</th>\n",
       "      <th>critic_score</th>\n",
       "      <th>sales_total</th>\n",
       "    </tr>\n",
       "  </thead>\n",
       "  <tbody>\n",
       "    <tr>\n",
       "      <th>user_score</th>\n",
       "      <td>1.000000</td>\n",
       "      <td>0.557654</td>\n",
       "      <td>-0.033625</td>\n",
       "    </tr>\n",
       "    <tr>\n",
       "      <th>critic_score</th>\n",
       "      <td>0.557654</td>\n",
       "      <td>1.000000</td>\n",
       "      <td>0.405895</td>\n",
       "    </tr>\n",
       "    <tr>\n",
       "      <th>sales_total</th>\n",
       "      <td>-0.033625</td>\n",
       "      <td>0.405895</td>\n",
       "      <td>1.000000</td>\n",
       "    </tr>\n",
       "  </tbody>\n",
       "</table>\n",
       "</div>"
      ],
      "text/plain": [
       "              user_score  critic_score  sales_total\n",
       "user_score      1.000000      0.557654    -0.033625\n",
       "critic_score    0.557654      1.000000     0.405895\n",
       "sales_total    -0.033625      0.405895     1.000000"
      ]
     },
     "execution_count": 23,
     "metadata": {},
     "output_type": "execute_result"
    }
   ],
   "source": [
    "# look at the correlation\n",
    "data_ps4[['user_score', 'critic_score', 'sales_total']].corr()"
   ]
  },
  {
   "cell_type": "code",
   "execution_count": 24,
   "metadata": {},
   "outputs": [
    {
     "data": {
      "text/html": [
       "<div>\n",
       "<style scoped>\n",
       "    .dataframe tbody tr th:only-of-type {\n",
       "        vertical-align: middle;\n",
       "    }\n",
       "\n",
       "    .dataframe tbody tr th {\n",
       "        vertical-align: top;\n",
       "    }\n",
       "\n",
       "    .dataframe thead th {\n",
       "        text-align: right;\n",
       "    }\n",
       "</style>\n",
       "<table border=\"1\" class=\"dataframe\">\n",
       "  <thead>\n",
       "    <tr style=\"text-align: right;\">\n",
       "      <th></th>\n",
       "      <th>user_score</th>\n",
       "      <th>critic_score</th>\n",
       "      <th>sales_total</th>\n",
       "    </tr>\n",
       "  </thead>\n",
       "  <tbody>\n",
       "    <tr>\n",
       "      <th>user_score</th>\n",
       "      <td>1.000000</td>\n",
       "      <td>0.427860</td>\n",
       "      <td>-0.123617</td>\n",
       "    </tr>\n",
       "    <tr>\n",
       "      <th>critic_score</th>\n",
       "      <td>0.427860</td>\n",
       "      <td>1.000000</td>\n",
       "      <td>0.400709</td>\n",
       "    </tr>\n",
       "    <tr>\n",
       "      <th>sales_total</th>\n",
       "      <td>-0.123617</td>\n",
       "      <td>0.400709</td>\n",
       "      <td>1.000000</td>\n",
       "    </tr>\n",
       "  </tbody>\n",
       "</table>\n",
       "</div>"
      ],
      "text/plain": [
       "              user_score  critic_score  sales_total\n",
       "user_score      1.000000      0.427860    -0.123617\n",
       "critic_score    0.427860      1.000000     0.400709\n",
       "sales_total    -0.123617      0.400709     1.000000"
      ]
     },
     "execution_count": 24,
     "metadata": {},
     "output_type": "execute_result"
    }
   ],
   "source": [
    "# take only hit games\n",
    "data_ps4.query('sales_total>1')[['user_score', 'critic_score', 'sales_total']].corr()"
   ]
  },
  {
   "cell_type": "markdown",
   "metadata": {},
   "source": [
    "* We can observe the relationship between user and critic reviews\n",
    "* User reviews do not affect sales, but the more hit the game, the greater the correlation\n",
    "* Critical reviews and overall sales have a slightly less than average correlation"
   ]
  },
  {
   "cell_type": "code",
   "execution_count": 25,
   "metadata": {},
   "outputs": [
    {
     "data": {
      "image/png": "[encoded data removed]",
      "text/plain": [
       "<Figure size 1080x720 with 1 Axes>"
      ]
     },
     "metadata": {
      "needs_background": "light"
     },
     "output_type": "display_data"
    }
   ],
   "source": [
    "# correlate findings with game sales on other platforms\n",
    "data_xone = after_2012.query('platform == \"xone\" and critic_score>0 and user_score > 0')\n",
    "plt.figure(figsize=(15,10))\n",
    "sb.scatterplot(data=data_xone, x='sales_total', y='critic_score', alpha=0.5)\n",
    "sb.scatterplot(data=data_xone, x='sales_total', y='user_score', alpha=0.5)\n",
    "plt.xlabel('Продажи')\n",
    "plt.ylabel('Оценки')\n",
    "plt.legend(['Критики', 'Пользователи'])\n",
    "plt.show()"
   ]
  },
  {
   "cell_type": "code",
   "execution_count": 26,
   "metadata": {},
   "outputs": [
    {
     "data": {
      "text/html": [
       "<div>\n",
       "<style scoped>\n",
       "    .dataframe tbody tr th:only-of-type {\n",
       "        vertical-align: middle;\n",
       "    }\n",
       "\n",
       "    .dataframe tbody tr th {\n",
       "        vertical-align: top;\n",
       "    }\n",
       "\n",
       "    .dataframe thead th {\n",
       "        text-align: right;\n",
       "    }\n",
       "</style>\n",
       "<table border=\"1\" class=\"dataframe\">\n",
       "  <thead>\n",
       "    <tr style=\"text-align: right;\">\n",
       "      <th></th>\n",
       "      <th>user_score</th>\n",
       "      <th>critic_score</th>\n",
       "      <th>sales_total</th>\n",
       "    </tr>\n",
       "  </thead>\n",
       "  <tbody>\n",
       "    <tr>\n",
       "      <th>user_score</th>\n",
       "      <td>1.000000</td>\n",
       "      <td>0.472462</td>\n",
       "      <td>-0.094003</td>\n",
       "    </tr>\n",
       "    <tr>\n",
       "      <th>critic_score</th>\n",
       "      <td>0.472462</td>\n",
       "      <td>1.000000</td>\n",
       "      <td>0.410422</td>\n",
       "    </tr>\n",
       "    <tr>\n",
       "      <th>sales_total</th>\n",
       "      <td>-0.094003</td>\n",
       "      <td>0.410422</td>\n",
       "      <td>1.000000</td>\n",
       "    </tr>\n",
       "  </tbody>\n",
       "</table>\n",
       "</div>"
      ],
      "text/plain": [
       "              user_score  critic_score  sales_total\n",
       "user_score      1.000000      0.472462    -0.094003\n",
       "critic_score    0.472462      1.000000     0.410422\n",
       "sales_total    -0.094003      0.410422     1.000000"
      ]
     },
     "execution_count": 26,
     "metadata": {},
     "output_type": "execute_result"
    }
   ],
   "source": [
    "data_xone[['user_score', 'critic_score', 'sales_total']].corr()"
   ]
  },
  {
   "cell_type": "code",
   "execution_count": 27,
   "metadata": {},
   "outputs": [
    {
     "data": {
      "text/html": [
       "<div>\n",
       "<style scoped>\n",
       "    .dataframe tbody tr th:only-of-type {\n",
       "        vertical-align: middle;\n",
       "    }\n",
       "\n",
       "    .dataframe tbody tr th {\n",
       "        vertical-align: top;\n",
       "    }\n",
       "\n",
       "    .dataframe thead th {\n",
       "        text-align: right;\n",
       "    }\n",
       "</style>\n",
       "<table border=\"1\" class=\"dataframe\">\n",
       "  <thead>\n",
       "    <tr style=\"text-align: right;\">\n",
       "      <th></th>\n",
       "      <th>user_score</th>\n",
       "      <th>critic_score</th>\n",
       "      <th>sales_total</th>\n",
       "    </tr>\n",
       "  </thead>\n",
       "  <tbody>\n",
       "    <tr>\n",
       "      <th>user_score</th>\n",
       "      <td>1.000000</td>\n",
       "      <td>0.328292</td>\n",
       "      <td>-0.226187</td>\n",
       "    </tr>\n",
       "    <tr>\n",
       "      <th>critic_score</th>\n",
       "      <td>0.328292</td>\n",
       "      <td>1.000000</td>\n",
       "      <td>0.112908</td>\n",
       "    </tr>\n",
       "    <tr>\n",
       "      <th>sales_total</th>\n",
       "      <td>-0.226187</td>\n",
       "      <td>0.112908</td>\n",
       "      <td>1.000000</td>\n",
       "    </tr>\n",
       "  </tbody>\n",
       "</table>\n",
       "</div>"
      ],
      "text/plain": [
       "              user_score  critic_score  sales_total\n",
       "user_score      1.000000      0.328292    -0.226187\n",
       "critic_score    0.328292      1.000000     0.112908\n",
       "sales_total    -0.226187      0.112908     1.000000"
      ]
     },
     "execution_count": 27,
     "metadata": {},
     "output_type": "execute_result"
    }
   ],
   "source": [
    "data_xone.query('sales_total>1')[['user_score', 'critic_score', 'sales_total']].corr()"
   ]
  },
  {
   "cell_type": "markdown",
   "metadata": {},
   "source": [
    "* Link between player and critic ratings is less than on ps4\n",
    "* Still no correlation between player ratings and total sales\n",
    "* It can be seen that critic scores and overall sales have almost the same correlation among all games on the platform, but hardly affect each other when it comes to hit games"
   ]
  },
  {
   "cell_type": "code",
   "execution_count": 28,
   "metadata": {},
   "outputs": [
    {
     "data": {
      "image/png": "[encoded data removed]",
      "text/plain": [
       "<Figure size 1080x360 with 1 Axes>"
      ]
     },
     "metadata": {
      "needs_background": "light"
     },
     "output_type": "display_data"
    }
   ],
   "source": [
    "# Look at the overall distribution of games by genre.\n",
    "# What can be said about the most profitable genres?\n",
    "# Do genres with high and low sales stand out?\n",
    "ax = plt.gca()\n",
    "genre_plot = after_2012.groupby('genre').agg({'name': 'count', 'sales_total': 'sum'}).sort_values(by='name', ascending=False)\n",
    "\n",
    "plot1 = genre_plot['name']\n",
    "plot1.plot(kind='bar', figsize=(15,5), ax=ax, width=0.3, position=1)\n",
    "\n",
    "plot2 = genre_plot['sales_total']\n",
    "plot2.plot(kind='bar', figsize=(15,5), ax=ax, width=0.3, color='#FF4040', position=0)\n",
    "\n",
    "ax.legend(['Количество продаж', 'Общая сумма продаж'])\n",
    "plt.show()"
   ]
  },
  {
   "cell_type": "markdown",
   "metadata": {},
   "source": [
    "* Most copies sold are in genres such as:\n",
    "\n",
    "   1.Action\n",
    "\n",
    "   2.Sports\n",
    "\n",
    "   3.Misc\n",
    "\n",
    "\n",
    "* Worst of all are Puzzle and Strategy"
   ]
  },
  {
   "cell_type": "code",
   "execution_count": 37,
   "metadata": {},
   "outputs": [
    {
     "data": {
      "text/html": [
       "<div>\n",
       "<style scoped>\n",
       "    .dataframe tbody tr th:only-of-type {\n",
       "        vertical-align: middle;\n",
       "    }\n",
       "\n",
       "    .dataframe tbody tr th {\n",
       "        vertical-align: top;\n",
       "    }\n",
       "\n",
       "    .dataframe thead th {\n",
       "        text-align: right;\n",
       "    }\n",
       "</style>\n",
       "<table border=\"1\" class=\"dataframe\">\n",
       "  <thead>\n",
       "    <tr style=\"text-align: right;\">\n",
       "      <th></th>\n",
       "      <th>count</th>\n",
       "      <th>mean</th>\n",
       "      <th>std</th>\n",
       "      <th>min</th>\n",
       "      <th>25%</th>\n",
       "      <th>50%</th>\n",
       "      <th>75%</th>\n",
       "      <th>max</th>\n",
       "    </tr>\n",
       "    <tr>\n",
       "      <th>genre</th>\n",
       "      <th></th>\n",
       "      <th></th>\n",
       "      <th></th>\n",
       "      <th></th>\n",
       "      <th></th>\n",
       "      <th></th>\n",
       "      <th></th>\n",
       "      <th></th>\n",
       "    </tr>\n",
       "  </thead>\n",
       "  <tbody>\n",
       "    <tr>\n",
       "      <th>shooter</th>\n",
       "      <td>235.0</td>\n",
       "      <td>1.296723</td>\n",
       "      <td>2.251662</td>\n",
       "      <td>0.01</td>\n",
       "      <td>0.135</td>\n",
       "      <td>0.440</td>\n",
       "      <td>1.4800</td>\n",
       "      <td>14.63</td>\n",
       "    </tr>\n",
       "    <tr>\n",
       "      <th>sports</th>\n",
       "      <td>268.0</td>\n",
       "      <td>0.675634</td>\n",
       "      <td>1.136378</td>\n",
       "      <td>0.01</td>\n",
       "      <td>0.080</td>\n",
       "      <td>0.240</td>\n",
       "      <td>0.7425</td>\n",
       "      <td>8.58</td>\n",
       "    </tr>\n",
       "    <tr>\n",
       "      <th>platform</th>\n",
       "      <td>85.0</td>\n",
       "      <td>0.717647</td>\n",
       "      <td>1.364413</td>\n",
       "      <td>0.01</td>\n",
       "      <td>0.090</td>\n",
       "      <td>0.210</td>\n",
       "      <td>0.6600</td>\n",
       "      <td>9.90</td>\n",
       "    </tr>\n",
       "    <tr>\n",
       "      <th>role-playing</th>\n",
       "      <td>370.0</td>\n",
       "      <td>0.521081</td>\n",
       "      <td>1.315937</td>\n",
       "      <td>0.01</td>\n",
       "      <td>0.060</td>\n",
       "      <td>0.140</td>\n",
       "      <td>0.4075</td>\n",
       "      <td>14.60</td>\n",
       "    </tr>\n",
       "    <tr>\n",
       "      <th>racing</th>\n",
       "      <td>115.0</td>\n",
       "      <td>0.465217</td>\n",
       "      <td>0.888664</td>\n",
       "      <td>0.01</td>\n",
       "      <td>0.050</td>\n",
       "      <td>0.140</td>\n",
       "      <td>0.4200</td>\n",
       "      <td>7.09</td>\n",
       "    </tr>\n",
       "    <tr>\n",
       "      <th>fighting</th>\n",
       "      <td>109.0</td>\n",
       "      <td>0.408165</td>\n",
       "      <td>0.910385</td>\n",
       "      <td>0.01</td>\n",
       "      <td>0.060</td>\n",
       "      <td>0.130</td>\n",
       "      <td>0.3600</td>\n",
       "      <td>7.55</td>\n",
       "    </tr>\n",
       "    <tr>\n",
       "      <th>action</th>\n",
       "      <td>1031.0</td>\n",
       "      <td>0.427856</td>\n",
       "      <td>1.166504</td>\n",
       "      <td>0.01</td>\n",
       "      <td>0.030</td>\n",
       "      <td>0.120</td>\n",
       "      <td>0.3900</td>\n",
       "      <td>21.05</td>\n",
       "    </tr>\n",
       "    <tr>\n",
       "      <th>misc</th>\n",
       "      <td>192.0</td>\n",
       "      <td>0.442917</td>\n",
       "      <td>1.081047</td>\n",
       "      <td>0.01</td>\n",
       "      <td>0.030</td>\n",
       "      <td>0.120</td>\n",
       "      <td>0.3375</td>\n",
       "      <td>9.18</td>\n",
       "    </tr>\n",
       "    <tr>\n",
       "      <th>simulation</th>\n",
       "      <td>80.0</td>\n",
       "      <td>0.439000</td>\n",
       "      <td>1.244500</td>\n",
       "      <td>0.01</td>\n",
       "      <td>0.030</td>\n",
       "      <td>0.120</td>\n",
       "      <td>0.3275</td>\n",
       "      <td>9.17</td>\n",
       "    </tr>\n",
       "    <tr>\n",
       "      <th>strategy</th>\n",
       "      <td>71.0</td>\n",
       "      <td>0.187887</td>\n",
       "      <td>0.271976</td>\n",
       "      <td>0.01</td>\n",
       "      <td>0.030</td>\n",
       "      <td>0.080</td>\n",
       "      <td>0.2500</td>\n",
       "      <td>1.67</td>\n",
       "    </tr>\n",
       "    <tr>\n",
       "      <th>puzzle</th>\n",
       "      <td>28.0</td>\n",
       "      <td>0.174643</td>\n",
       "      <td>0.305438</td>\n",
       "      <td>0.01</td>\n",
       "      <td>0.020</td>\n",
       "      <td>0.045</td>\n",
       "      <td>0.1025</td>\n",
       "      <td>1.19</td>\n",
       "    </tr>\n",
       "    <tr>\n",
       "      <th>adventure</th>\n",
       "      <td>302.0</td>\n",
       "      <td>0.097450</td>\n",
       "      <td>0.208237</td>\n",
       "      <td>0.01</td>\n",
       "      <td>0.020</td>\n",
       "      <td>0.030</td>\n",
       "      <td>0.0775</td>\n",
       "      <td>1.66</td>\n",
       "    </tr>\n",
       "  </tbody>\n",
       "</table>\n",
       "</div>"
      ],
      "text/plain": [
       "               count      mean       std   min    25%    50%     75%    max\n",
       "genre                                                                      \n",
       "shooter        235.0  1.296723  2.251662  0.01  0.135  0.440  1.4800  14.63\n",
       "sports         268.0  0.675634  1.136378  0.01  0.080  0.240  0.7425   8.58\n",
       "platform        85.0  0.717647  1.364413  0.01  0.090  0.210  0.6600   9.90\n",
       "role-playing   370.0  0.521081  1.315937  0.01  0.060  0.140  0.4075  14.60\n",
       "racing         115.0  0.465217  0.888664  0.01  0.050  0.140  0.4200   7.09\n",
       "fighting       109.0  0.408165  0.910385  0.01  0.060  0.130  0.3600   7.55\n",
       "action        1031.0  0.427856  1.166504  0.01  0.030  0.120  0.3900  21.05\n",
       "misc           192.0  0.442917  1.081047  0.01  0.030  0.120  0.3375   9.18\n",
       "simulation      80.0  0.439000  1.244500  0.01  0.030  0.120  0.3275   9.17\n",
       "strategy        71.0  0.187887  0.271976  0.01  0.030  0.080  0.2500   1.67\n",
       "puzzle          28.0  0.174643  0.305438  0.01  0.020  0.045  0.1025   1.19\n",
       "adventure      302.0  0.097450  0.208237  0.01  0.020  0.030  0.0775   1.66"
      ]
     },
     "metadata": {},
     "output_type": "display_data"
    }
   ],
   "source": [
    "display(after_2012.groupby('genre')['sales_total'].describe().sort_values(by='50%', ascending=False))"
   ]
  },
  {
   "cell_type": "markdown",
   "metadata": {},
   "source": [
    "* The biggest incomes:\n",
    "    \n",
    "     1. Shooter\n",
    "    \n",
    "     2.Sports\n",
    "    \n",
    "     3.Platform\n",
    "    \n",
    "\n",
    "* Worst of all show themselves:\n",
    "    \n",
    "     Adventure\n",
    "    \n",
    "     Puzzle\n",
    "    \n",
    "     strategy"
   ]
  },
  {
   "cell_type": "markdown",
   "metadata": {},
   "source": [
    "**Step 4. Create a user profile for each region**"
   ]
  },
  {
   "cell_type": "code",
   "execution_count": 29,
   "metadata": {},
   "outputs": [
    {
     "data": {
      "text/html": [
       "<div>\n",
       "<style scoped>\n",
       "    .dataframe tbody tr th:only-of-type {\n",
       "        vertical-align: middle;\n",
       "    }\n",
       "\n",
       "    .dataframe tbody tr th {\n",
       "        vertical-align: top;\n",
       "    }\n",
       "\n",
       "    .dataframe thead th {\n",
       "        text-align: right;\n",
       "    }\n",
       "</style>\n",
       "<table border=\"1\" class=\"dataframe\">\n",
       "  <thead>\n",
       "    <tr style=\"text-align: right;\">\n",
       "      <th></th>\n",
       "      <th>name</th>\n",
       "      <th>platform</th>\n",
       "      <th>year_of_release</th>\n",
       "      <th>genre</th>\n",
       "      <th>na_sales</th>\n",
       "      <th>eu_sales</th>\n",
       "      <th>jp_sales</th>\n",
       "      <th>other_sales</th>\n",
       "      <th>critic_score</th>\n",
       "      <th>user_score</th>\n",
       "      <th>rating</th>\n",
       "      <th>sales_total</th>\n",
       "    </tr>\n",
       "  </thead>\n",
       "  <tbody>\n",
       "    <tr>\n",
       "      <th>16</th>\n",
       "      <td>grand theft auto v</td>\n",
       "      <td>ps3</td>\n",
       "      <td>2013.0</td>\n",
       "      <td>action</td>\n",
       "      <td>7.02</td>\n",
       "      <td>9.09</td>\n",
       "      <td>0.98</td>\n",
       "      <td>3.96</td>\n",
       "      <td>97.0</td>\n",
       "      <td>82.0</td>\n",
       "      <td>m</td>\n",
       "      <td>21.05</td>\n",
       "    </tr>\n",
       "    <tr>\n",
       "      <th>23</th>\n",
       "      <td>grand theft auto v</td>\n",
       "      <td>x360</td>\n",
       "      <td>2013.0</td>\n",
       "      <td>action</td>\n",
       "      <td>9.66</td>\n",
       "      <td>5.14</td>\n",
       "      <td>0.06</td>\n",
       "      <td>1.41</td>\n",
       "      <td>97.0</td>\n",
       "      <td>81.0</td>\n",
       "      <td>m</td>\n",
       "      <td>16.27</td>\n",
       "    </tr>\n",
       "    <tr>\n",
       "      <th>31</th>\n",
       "      <td>call of duty: black ops 3</td>\n",
       "      <td>ps4</td>\n",
       "      <td>2015.0</td>\n",
       "      <td>shooter</td>\n",
       "      <td>6.03</td>\n",
       "      <td>5.86</td>\n",
       "      <td>0.36</td>\n",
       "      <td>2.38</td>\n",
       "      <td>-1.0</td>\n",
       "      <td>-1.0</td>\n",
       "      <td>no rating</td>\n",
       "      <td>14.63</td>\n",
       "    </tr>\n",
       "    <tr>\n",
       "      <th>33</th>\n",
       "      <td>pokemon x/pokemon y</td>\n",
       "      <td>3ds</td>\n",
       "      <td>2013.0</td>\n",
       "      <td>role-playing</td>\n",
       "      <td>5.28</td>\n",
       "      <td>4.19</td>\n",
       "      <td>4.35</td>\n",
       "      <td>0.78</td>\n",
       "      <td>-1.0</td>\n",
       "      <td>-1.0</td>\n",
       "      <td>no rating</td>\n",
       "      <td>14.60</td>\n",
       "    </tr>\n",
       "    <tr>\n",
       "      <th>34</th>\n",
       "      <td>call of duty: black ops ii</td>\n",
       "      <td>ps3</td>\n",
       "      <td>2012.0</td>\n",
       "      <td>shooter</td>\n",
       "      <td>4.99</td>\n",
       "      <td>5.73</td>\n",
       "      <td>0.65</td>\n",
       "      <td>2.42</td>\n",
       "      <td>83.0</td>\n",
       "      <td>53.0</td>\n",
       "      <td>m</td>\n",
       "      <td>13.79</td>\n",
       "    </tr>\n",
       "  </tbody>\n",
       "</table>\n",
       "</div>"
      ],
      "text/plain": [
       "                          name platform  year_of_release         genre  \\\n",
       "16          grand theft auto v      ps3           2013.0        action   \n",
       "23          grand theft auto v     x360           2013.0        action   \n",
       "31   call of duty: black ops 3      ps4           2015.0       shooter   \n",
       "33         pokemon x/pokemon y      3ds           2013.0  role-playing   \n",
       "34  call of duty: black ops ii      ps3           2012.0       shooter   \n",
       "\n",
       "    na_sales  eu_sales  jp_sales  other_sales  critic_score  user_score  \\\n",
       "16      7.02      9.09      0.98         3.96          97.0        82.0   \n",
       "23      9.66      5.14      0.06         1.41          97.0        81.0   \n",
       "31      6.03      5.86      0.36         2.38          -1.0        -1.0   \n",
       "33      5.28      4.19      4.35         0.78          -1.0        -1.0   \n",
       "34      4.99      5.73      0.65         2.42          83.0        53.0   \n",
       "\n",
       "       rating  sales_total  \n",
       "16          m        21.05  \n",
       "23          m        16.27  \n",
       "31  no rating        14.63  \n",
       "33  no rating        14.60  \n",
       "34          m        13.79  "
      ]
     },
     "execution_count": 29,
     "metadata": {},
     "output_type": "execute_result"
    }
   ],
   "source": [
    "after_2012.head()"
   ]
  },
  {
   "cell_type": "code",
   "execution_count": 30,
   "metadata": {},
   "outputs": [],
   "source": [
    "#топ 5 самых популярных платформ по каждому из регионов\n",
    "top_jp = after_2012.groupby('platform')[['jp_sales']].sum()\n",
    "top_eu = after_2012.groupby('platform')[['eu_sales']].sum()\n",
    "top_na = after_2012.groupby('platform')[['na_sales']].sum()"
   ]
  },
  {
   "cell_type": "code",
   "execution_count": 43,
   "metadata": {},
   "outputs": [
    {
     "data": {
      "text/html": [
       "<div>\n",
       "<style scoped>\n",
       "    .dataframe tbody tr th:only-of-type {\n",
       "        vertical-align: middle;\n",
       "    }\n",
       "\n",
       "    .dataframe tbody tr th {\n",
       "        vertical-align: top;\n",
       "    }\n",
       "\n",
       "    .dataframe thead th {\n",
       "        text-align: right;\n",
       "    }\n",
       "</style>\n",
       "<table border=\"1\" class=\"dataframe\">\n",
       "  <thead>\n",
       "    <tr style=\"text-align: right;\">\n",
       "      <th></th>\n",
       "      <th>na_sales</th>\n",
       "    </tr>\n",
       "    <tr>\n",
       "      <th>platform</th>\n",
       "      <th></th>\n",
       "    </tr>\n",
       "  </thead>\n",
       "  <tbody>\n",
       "    <tr>\n",
       "      <th>x360</th>\n",
       "      <td>140.05</td>\n",
       "    </tr>\n",
       "    <tr>\n",
       "      <th>ps4</th>\n",
       "      <td>108.74</td>\n",
       "    </tr>\n",
       "    <tr>\n",
       "      <th>ps3</th>\n",
       "      <td>103.38</td>\n",
       "    </tr>\n",
       "    <tr>\n",
       "      <th>xone</th>\n",
       "      <td>93.12</td>\n",
       "    </tr>\n",
       "    <tr>\n",
       "      <th>3ds</th>\n",
       "      <td>55.31</td>\n",
       "    </tr>\n",
       "  </tbody>\n",
       "</table>\n",
       "</div>"
      ],
      "text/plain": [
       "          na_sales\n",
       "platform          \n",
       "x360        140.05\n",
       "ps4         108.74\n",
       "ps3         103.38\n",
       "xone         93.12\n",
       "3ds          55.31"
      ]
     },
     "metadata": {},
     "output_type": "display_data"
    },
    {
     "data": {
      "text/html": [
       "<div>\n",
       "<style scoped>\n",
       "    .dataframe tbody tr th:only-of-type {\n",
       "        vertical-align: middle;\n",
       "    }\n",
       "\n",
       "    .dataframe tbody tr th {\n",
       "        vertical-align: top;\n",
       "    }\n",
       "\n",
       "    .dataframe thead th {\n",
       "        text-align: right;\n",
       "    }\n",
       "</style>\n",
       "<table border=\"1\" class=\"dataframe\">\n",
       "  <thead>\n",
       "    <tr style=\"text-align: right;\">\n",
       "      <th></th>\n",
       "      <th>eu_sales</th>\n",
       "    </tr>\n",
       "    <tr>\n",
       "      <th>platform</th>\n",
       "      <th></th>\n",
       "    </tr>\n",
       "  </thead>\n",
       "  <tbody>\n",
       "    <tr>\n",
       "      <th>ps4</th>\n",
       "      <td>141.09</td>\n",
       "    </tr>\n",
       "    <tr>\n",
       "      <th>ps3</th>\n",
       "      <td>106.86</td>\n",
       "    </tr>\n",
       "    <tr>\n",
       "      <th>x360</th>\n",
       "      <td>74.52</td>\n",
       "    </tr>\n",
       "    <tr>\n",
       "      <th>xone</th>\n",
       "      <td>51.59</td>\n",
       "    </tr>\n",
       "    <tr>\n",
       "      <th>3ds</th>\n",
       "      <td>42.64</td>\n",
       "    </tr>\n",
       "  </tbody>\n",
       "</table>\n",
       "</div>"
      ],
      "text/plain": [
       "          eu_sales\n",
       "platform          \n",
       "ps4         141.09\n",
       "ps3         106.86\n",
       "x360         74.52\n",
       "xone         51.59\n",
       "3ds          42.64"
      ]
     },
     "metadata": {},
     "output_type": "display_data"
    },
    {
     "data": {
      "text/html": [
       "<div>\n",
       "<style scoped>\n",
       "    .dataframe tbody tr th:only-of-type {\n",
       "        vertical-align: middle;\n",
       "    }\n",
       "\n",
       "    .dataframe tbody tr th {\n",
       "        vertical-align: top;\n",
       "    }\n",
       "\n",
       "    .dataframe thead th {\n",
       "        text-align: right;\n",
       "    }\n",
       "</style>\n",
       "<table border=\"1\" class=\"dataframe\">\n",
       "  <thead>\n",
       "    <tr style=\"text-align: right;\">\n",
       "      <th></th>\n",
       "      <th>jp_sales</th>\n",
       "    </tr>\n",
       "    <tr>\n",
       "      <th>platform</th>\n",
       "      <th></th>\n",
       "    </tr>\n",
       "  </thead>\n",
       "  <tbody>\n",
       "    <tr>\n",
       "      <th>3ds</th>\n",
       "      <td>87.79</td>\n",
       "    </tr>\n",
       "    <tr>\n",
       "      <th>ps3</th>\n",
       "      <td>35.29</td>\n",
       "    </tr>\n",
       "    <tr>\n",
       "      <th>psv</th>\n",
       "      <td>21.04</td>\n",
       "    </tr>\n",
       "    <tr>\n",
       "      <th>ps4</th>\n",
       "      <td>15.96</td>\n",
       "    </tr>\n",
       "    <tr>\n",
       "      <th>wiiu</th>\n",
       "      <td>13.01</td>\n",
       "    </tr>\n",
       "  </tbody>\n",
       "</table>\n",
       "</div>"
      ],
      "text/plain": [
       "          jp_sales\n",
       "platform          \n",
       "3ds          87.79\n",
       "ps3          35.29\n",
       "psv          21.04\n",
       "ps4          15.96\n",
       "wiiu         13.01"
      ]
     },
     "metadata": {},
     "output_type": "display_data"
    },
    {
     "data": {
      "image/png": "[encoded data removed]",
      "text/plain": [
       "<Figure size 432x288 with 1 Axes>"
      ]
     },
     "metadata": {
      "needs_background": "light"
     },
     "output_type": "display_data"
    },
    {
     "data": {
      "image/png": "[encoded data removed]",
      "text/plain": [
       "<Figure size 432x288 with 1 Axes>"
      ]
     },
     "metadata": {
      "needs_background": "light"
     },
     "output_type": "display_data"
    },
    {
     "data": {
      "image/png": "[encoded data removed]",
      "text/plain": [
       "<Figure size 432x288 with 1 Axes>"
      ]
     },
     "metadata": {
      "needs_background": "light"
     },
     "output_type": "display_data"
    }
   ],
   "source": [
    "display(top_na.sort_values(by='na_sales', ascending=False).head())\n",
    "display(top_eu.sort_values(by='eu_sales', ascending=False).head())\n",
    "display(top_jp.sort_values(by='jp_sales', ascending=False).head())\n",
    "after_2012.groupby(by='platform').agg({'na_sales':'sum'}).sort_values(by='na_sales', ascending=False).head(5).plot(kind='bar', color='#ff6e4a')\n",
    "after_2012.groupby(by='platform').agg({'eu_sales':'sum'}).sort_values(by='eu_sales', ascending=False).head(5).plot(kind='bar', color='#546575')\n",
    "after_2012.groupby(by='platform').agg({'jp_sales':'sum'}).sort_values(by='jp_sales', ascending=False).head(5).plot(kind='bar', color='#ff77ff')\n",
    "plt.show()"
   ]
  },
  {
   "cell_type": "markdown",
   "metadata": {},
   "source": [
    "Biggest selling in North America market. It can be seen that in Europe and Japan ps is more popular than xbox, unlike North America. The Japanese market still seems to have a lot of love for handheld consoles, so it's worth paying attention to when making decisions in this region."
   ]
  },
  {
   "cell_type": "code",
   "execution_count": 32,
   "metadata": {},
   "outputs": [],
   "source": [
    "# look at the popular genres for each region\n",
    "top_jp_genre = after_2012.groupby('genre')[['jp_sales']].sum()\n",
    "top_na_genre = after_2012.groupby('genre')[['na_sales']].sum()\n",
    "top_eu_genre = after_2012.groupby('genre')[['eu_sales']].sum()"
   ]
  },
  {
   "cell_type": "code",
   "execution_count": 41,
   "metadata": {},
   "outputs": [
    {
     "data": {
      "text/html": [
       "<div>\n",
       "<style scoped>\n",
       "    .dataframe tbody tr th:only-of-type {\n",
       "        vertical-align: middle;\n",
       "    }\n",
       "\n",
       "    .dataframe tbody tr th {\n",
       "        vertical-align: top;\n",
       "    }\n",
       "\n",
       "    .dataframe thead th {\n",
       "        text-align: right;\n",
       "    }\n",
       "</style>\n",
       "<table border=\"1\" class=\"dataframe\">\n",
       "  <thead>\n",
       "    <tr style=\"text-align: right;\">\n",
       "      <th></th>\n",
       "      <th>na_sales</th>\n",
       "    </tr>\n",
       "    <tr>\n",
       "      <th>genre</th>\n",
       "      <th></th>\n",
       "    </tr>\n",
       "  </thead>\n",
       "  <tbody>\n",
       "    <tr>\n",
       "      <th>action</th>\n",
       "      <td>177.84</td>\n",
       "    </tr>\n",
       "    <tr>\n",
       "      <th>shooter</th>\n",
       "      <td>144.77</td>\n",
       "    </tr>\n",
       "    <tr>\n",
       "      <th>sports</th>\n",
       "      <td>81.53</td>\n",
       "    </tr>\n",
       "    <tr>\n",
       "      <th>role-playing</th>\n",
       "      <td>64.00</td>\n",
       "    </tr>\n",
       "    <tr>\n",
       "      <th>misc</th>\n",
       "      <td>38.19</td>\n",
       "    </tr>\n",
       "  </tbody>\n",
       "</table>\n",
       "</div>"
      ],
      "text/plain": [
       "              na_sales\n",
       "genre                 \n",
       "action          177.84\n",
       "shooter         144.77\n",
       "sports           81.53\n",
       "role-playing     64.00\n",
       "misc             38.19"
      ]
     },
     "metadata": {},
     "output_type": "display_data"
    },
    {
     "data": {
      "text/html": [
       "<div>\n",
       "<style scoped>\n",
       "    .dataframe tbody tr th:only-of-type {\n",
       "        vertical-align: middle;\n",
       "    }\n",
       "\n",
       "    .dataframe tbody tr th {\n",
       "        vertical-align: top;\n",
       "    }\n",
       "\n",
       "    .dataframe thead th {\n",
       "        text-align: right;\n",
       "    }\n",
       "</style>\n",
       "<table border=\"1\" class=\"dataframe\">\n",
       "  <thead>\n",
       "    <tr style=\"text-align: right;\">\n",
       "      <th></th>\n",
       "      <th>eu_sales</th>\n",
       "    </tr>\n",
       "    <tr>\n",
       "      <th>genre</th>\n",
       "      <th></th>\n",
       "    </tr>\n",
       "  </thead>\n",
       "  <tbody>\n",
       "    <tr>\n",
       "      <th>action</th>\n",
       "      <td>159.34</td>\n",
       "    </tr>\n",
       "    <tr>\n",
       "      <th>shooter</th>\n",
       "      <td>113.47</td>\n",
       "    </tr>\n",
       "    <tr>\n",
       "      <th>sports</th>\n",
       "      <td>69.09</td>\n",
       "    </tr>\n",
       "    <tr>\n",
       "      <th>role-playing</th>\n",
       "      <td>48.53</td>\n",
       "    </tr>\n",
       "    <tr>\n",
       "      <th>racing</th>\n",
       "      <td>27.29</td>\n",
       "    </tr>\n",
       "  </tbody>\n",
       "</table>\n",
       "</div>"
      ],
      "text/plain": [
       "              eu_sales\n",
       "genre                 \n",
       "action          159.34\n",
       "shooter         113.47\n",
       "sports           69.09\n",
       "role-playing     48.53\n",
       "racing           27.29"
      ]
     },
     "metadata": {},
     "output_type": "display_data"
    },
    {
     "data": {
      "text/html": [
       "<div>\n",
       "<style scoped>\n",
       "    .dataframe tbody tr th:only-of-type {\n",
       "        vertical-align: middle;\n",
       "    }\n",
       "\n",
       "    .dataframe tbody tr th {\n",
       "        vertical-align: top;\n",
       "    }\n",
       "\n",
       "    .dataframe thead th {\n",
       "        text-align: right;\n",
       "    }\n",
       "</style>\n",
       "<table border=\"1\" class=\"dataframe\">\n",
       "  <thead>\n",
       "    <tr style=\"text-align: right;\">\n",
       "      <th></th>\n",
       "      <th>jp_sales</th>\n",
       "    </tr>\n",
       "    <tr>\n",
       "      <th>genre</th>\n",
       "      <th></th>\n",
       "    </tr>\n",
       "  </thead>\n",
       "  <tbody>\n",
       "    <tr>\n",
       "      <th>role-playing</th>\n",
       "      <td>65.44</td>\n",
       "    </tr>\n",
       "    <tr>\n",
       "      <th>action</th>\n",
       "      <td>52.80</td>\n",
       "    </tr>\n",
       "    <tr>\n",
       "      <th>misc</th>\n",
       "      <td>12.86</td>\n",
       "    </tr>\n",
       "    <tr>\n",
       "      <th>simulation</th>\n",
       "      <td>10.41</td>\n",
       "    </tr>\n",
       "    <tr>\n",
       "      <th>fighting</th>\n",
       "      <td>9.44</td>\n",
       "    </tr>\n",
       "  </tbody>\n",
       "</table>\n",
       "</div>"
      ],
      "text/plain": [
       "              jp_sales\n",
       "genre                 \n",
       "role-playing     65.44\n",
       "action           52.80\n",
       "misc             12.86\n",
       "simulation       10.41\n",
       "fighting          9.44"
      ]
     },
     "metadata": {},
     "output_type": "display_data"
    },
    {
     "data": {
      "image/png": "[encoded data removed]",
      "text/plain": [
       "<Figure size 432x288 with 1 Axes>"
      ]
     },
     "metadata": {
      "needs_background": "light"
     },
     "output_type": "display_data"
    },
    {
     "data": {
      "image/png": "[encoded data removed]",
      "text/plain": [
       "<Figure size 432x288 with 1 Axes>"
      ]
     },
     "metadata": {
      "needs_background": "light"
     },
     "output_type": "display_data"
    },
    {
     "data": {
      "image/png": "[encoded data removed]",
      "text/plain": [
       "<Figure size 432x288 with 1 Axes>"
      ]
     },
     "metadata": {
      "needs_background": "light"
     },
     "output_type": "display_data"
    }
   ],
   "source": [
    "display(top_na_genre.sort_values(by='na_sales', ascending=False).head())\n",
    "display(top_eu_genre.sort_values(by='eu_sales', ascending=False).head())\n",
    "display(top_jp_genre.sort_values(by='jp_sales', ascending=False).head())\n",
    "after_2012.groupby(by='genre').agg({'na_sales':'sum'}).sort_values(by='na_sales', ascending=False).head(5).plot(kind='bar', color='#a8a8a8')\n",
    "after_2012.groupby(by='genre').agg({'eu_sales':'sum'}).sort_values(by='eu_sales', ascending=False).head(5).plot(kind='bar', color='#8ac8ff')\n",
    "after_2012.groupby(by='genre').agg({'jp_sales':'sum'}).sort_values(by='jp_sales', ascending=False).head(5).plot(kind='bar', color='#0057fa')\n",
    "plt.show()"
   ]
  },
  {
   "cell_type": "markdown",
   "metadata": {},
   "source": [
    "The Action genre is quite popular in each of the regions. Of the differences, one can single out that the RP / RPG genre is very popular in the Japanese market. In Japan, such games as pokemon, final fantasy, zelda and persona are very popular."
   ]
  },
  {
   "cell_type": "code",
   "execution_count": 34,
   "metadata": {},
   "outputs": [
    {
     "data": {
      "image/png": "[encoded data removed]",
      "text/plain": [
       "<Figure size 432x288 with 1 Axes>"
      ]
     },
     "metadata": {
      "needs_background": "light"
     },
     "output_type": "display_data"
    },
    {
     "data": {
      "image/png": "[encoded data removed]",
      "text/plain": [
       "<Figure size 432x288 with 1 Axes>"
      ]
     },
     "metadata": {
      "needs_background": "light"
     },
     "output_type": "display_data"
    },
    {
     "data": {
      "image/png": "[encoded data removed]",
      "text/plain": [
       "<Figure size 432x288 with 1 Axes>"
      ]
     },
     "metadata": {
      "needs_background": "light"
     },
     "output_type": "display_data"
    }
   ],
   "source": [
    "# Impact of ESRB rating on sales in each region\n",
    "after_2012.groupby(by='rating').agg({'eu_sales':'sum'}).sort_values(by='eu_sales', ascending=False).head(5).plot(kind='bar')\n",
    "after_2012.groupby(by='rating').agg({'jp_sales':'sum'}).sort_values(by='jp_sales', ascending=False).head(5).plot(kind='bar')\n",
    "after_2012.groupby(by='rating').agg({'na_sales':'sum'}).sort_values(by='na_sales', ascending=False).head(5).plot(kind='bar')\n",
    "plt.show()"
   ]
  },
  {
   "cell_type": "markdown",
   "metadata": {},
   "source": [
    "Most of the earnings in the European and North American region come from M and E rated games. Interestingly, the Japanese region is dominated by games without any rating, followed by E and T rated games."
   ]
  },
  {
   "cell_type": "markdown",
   "metadata": {},
   "source": [
    "**Step 5. Test the hypotheses**"
   ]
  },
  {
   "cell_type": "markdown",
   "metadata": {},
   "source": [
    "**Checking hypothesis 1**\n",
    "\n",
    "It turns out the hypothesis about the equality of the means of the two general populations.\n",
    "\n",
    "The null hypothesis is that the average user ratings of the Xbox One and PC platforms are the same.\n",
    "\n",
    "An alternative hypothesis is that the average user ratings of the Xbox One and PC platforms are different."
   ]
  },
  {
   "cell_type": "code",
   "execution_count": 35,
   "metadata": {},
   "outputs": [
    {
     "name": "stdout",
     "output_type": "stream",
     "text": [
      "p-значение: 0.5489537965135056\n",
      "Не получилось отвергнуть нулевую гипотезу\n"
     ]
    }
   ],
   "source": [
    "xone_score = after_2012.query('platform == \"xone\" and user_score > 0')['user_score']\n",
    "pc_score = after_2012.query('platform == \"pc\" and user_score > 0')['user_score']\n",
    "\n",
    "alpha = .05\n",
    "\n",
    "\n",
    "results = st.ttest_ind(\n",
    "    xone_score,\n",
    "    pc_score,\n",
    "    equal_var=False)\n",
    "\n",
    "print('p-значение:', results.pvalue)\n",
    "\n",
    "if results.pvalue < alpha:\n",
    "    print(\"Отвергаем нулевую гипотезу\")\n",
    "else:\n",
    "    print(\"Не получилось отвергнуть нулевую гипотезу\")"
   ]
  },
  {
   "cell_type": "markdown",
   "metadata": {},
   "source": [
    "The hypothesis that the average user ratings of the Xbox One and PC platforms are the same is not rejected."
   ]
  },
  {
   "cell_type": "markdown",
   "metadata": {},
   "source": [
    "**Checking hypothesis 2**\n",
    "\n",
    "It turns out the hypothesis about the equality of the means of the two general populations.\n",
    "\n",
    "The null hypothesis is that the average user ratings of the Action and Sports genres are the same.\n",
    "\n",
    "An alternative hypothesis is that the average user ratings of the Action and Sports genres are different."
   ]
  },
  {
   "cell_type": "code",
   "execution_count": 36,
   "metadata": {},
   "outputs": [
    {
     "name": "stdout",
     "output_type": "stream",
     "text": [
      "p-значение: 4.243077765726105e-20\n",
      "Отвергаем нулевую гипотезу\n"
     ]
    }
   ],
   "source": [
    "action_score = after_2012.query('genre == \"action\" and user_score > 0')['user_score']\n",
    "sports_score = after_2012.query('genre == \"sports\" and user_score > 0')['user_score']\n",
    "\n",
    "alpha = .05\n",
    "\n",
    "results = st.ttest_ind(\n",
    "    action_score,\n",
    "    sports_score,\n",
    "    equal_var=False)\n",
    "\n",
    "print('p-значение:', results.pvalue)\n",
    "\n",
    "if results.pvalue < alpha:\n",
    "    print(\"Отвергаем нулевую гипотезу\")\n",
    "else:\n",
    "    print(\"Не получилось отвергнуть нулевую гипотезу\")"
   ]
  },
  {
   "cell_type": "markdown",
   "metadata": {},
   "source": [
    "The average user ratings of the Action and Sports genres are different - the hypothesis is confirmed."
   ]
  },
  {
   "cell_type": "code",
   "execution_count": null,
   "metadata": {},
   "outputs": [],
   "source": [
    "Нулевая гипотеза - cредние пользовательские рейтинги жанров Action и Sports одинаковые - отвергается."
   ]
  },
  {
   "cell_type": "markdown",
   "metadata": {},
   "source": [
    "**General conclusion**"
   ]
  },
  {
   "cell_type": "markdown",
   "metadata": {},
   "source": [
    "An analysis was made of video game sales over time, as well as depending on the platform, region and genres.\n",
    "At the stage of preprocessing, we reduced all text data to lower case, to simplify further work, corrected incorrect data types, filled in the gaps where necessary, created the necessary columns.\n",
    "* The market for the platforms presented in the data has been in a general loss in the last 5-6 years, as competitors have appeared in the form of mobile games\n",
    "* The greatest sales for the entire existence of gaming platforms were provided by the PS2 prefix\n",
    "* The greatest influence on the final revenue is, in most cases, the ratings of critics. Player ratings have less influence\n",
    "* The approximate life cycle of gaming platforms is 10 years, and on this basis we can expect that in 2017 the positions of PS4 and Xbox One consoles will be the strongest\n",
    " \n",
    "  **Recommendations:**\n",
    "* Particular attention should be paid to games of genres: Shooter, Action, Sports, Roleplaying\n",
    "* If possible, expand into the mobile market"
   ]
  }
 ],
 "metadata": {
  "ExecuteTimeLog": [
   {
    "duration": 892,
    "start_time": "2022-11-18T14:59:17.044Z"
   },
   {
    "duration": 60,
    "start_time": "2022-11-18T14:59:37.012Z"
   },
   {
    "duration": 64,
    "start_time": "2022-11-18T15:01:06.054Z"
   },
   {
    "duration": 69,
    "start_time": "2022-11-18T15:01:14.686Z"
   },
   {
    "duration": 13,
    "start_time": "2022-11-18T15:01:24.608Z"
   },
   {
    "duration": 75,
    "start_time": "2022-11-18T15:01:48.298Z"
   },
   {
    "duration": 82,
    "start_time": "2022-11-18T15:05:39.771Z"
   },
   {
    "duration": 8,
    "start_time": "2022-11-18T15:05:53.508Z"
   },
   {
    "duration": 1180,
    "start_time": "2022-11-18T15:06:04.894Z"
   },
   {
    "duration": 13,
    "start_time": "2022-11-18T15:06:06.076Z"
   },
   {
    "duration": 90,
    "start_time": "2022-11-18T15:06:06.092Z"
   },
   {
    "duration": 9,
    "start_time": "2022-11-18T15:08:30.885Z"
   },
   {
    "duration": 17,
    "start_time": "2022-11-18T15:09:33.461Z"
   },
   {
    "duration": 15,
    "start_time": "2022-11-18T15:10:23.473Z"
   },
   {
    "duration": 7,
    "start_time": "2022-11-18T15:12:24.511Z"
   },
   {
    "duration": 2,
    "start_time": "2022-11-18T15:13:24.277Z"
   },
   {
    "duration": 10,
    "start_time": "2022-11-18T15:23:52.719Z"
   },
   {
    "duration": 11,
    "start_time": "2022-11-18T15:33:42.254Z"
   },
   {
    "duration": 11,
    "start_time": "2022-11-18T15:34:00.544Z"
   },
   {
    "duration": 14,
    "start_time": "2022-11-18T15:34:08.986Z"
   },
   {
    "duration": 11,
    "start_time": "2022-11-18T15:59:24.651Z"
   },
   {
    "duration": 7,
    "start_time": "2022-11-18T15:59:30.707Z"
   },
   {
    "duration": 10,
    "start_time": "2022-11-18T16:01:23.352Z"
   },
   {
    "duration": 712,
    "start_time": "2022-11-18T16:01:35.162Z"
   },
   {
    "duration": 13,
    "start_time": "2022-11-18T16:01:35.876Z"
   },
   {
    "duration": 8,
    "start_time": "2022-11-18T16:01:35.891Z"
   },
   {
    "duration": 15,
    "start_time": "2022-11-18T16:01:35.901Z"
   },
   {
    "duration": 7,
    "start_time": "2022-11-18T16:01:35.917Z"
   },
   {
    "duration": 24,
    "start_time": "2022-11-18T16:01:35.926Z"
   },
   {
    "duration": 28,
    "start_time": "2022-11-18T16:01:35.952Z"
   },
   {
    "duration": 78,
    "start_time": "2022-11-18T16:01:35.982Z"
   },
   {
    "duration": 16,
    "start_time": "2022-11-18T16:01:43.953Z"
   },
   {
    "duration": 247,
    "start_time": "2022-11-18T16:09:14.586Z"
   },
   {
    "duration": 212,
    "start_time": "2022-11-18T16:09:46.838Z"
   },
   {
    "duration": 257,
    "start_time": "2022-11-18T16:09:59.519Z"
   },
   {
    "duration": 216,
    "start_time": "2022-11-18T16:10:06.560Z"
   },
   {
    "duration": 245,
    "start_time": "2022-11-18T16:10:15.361Z"
   },
   {
    "duration": 80,
    "start_time": "2022-11-18T16:10:54.165Z"
   },
   {
    "duration": 267,
    "start_time": "2022-11-18T16:11:03.749Z"
   },
   {
    "duration": 90,
    "start_time": "2022-11-18T16:32:43.129Z"
   },
   {
    "duration": 8,
    "start_time": "2022-11-18T16:33:28.063Z"
   },
   {
    "duration": 704,
    "start_time": "2022-11-18T16:33:33.943Z"
   },
   {
    "duration": 15,
    "start_time": "2022-11-18T16:33:34.650Z"
   },
   {
    "duration": 12,
    "start_time": "2022-11-18T16:33:34.666Z"
   },
   {
    "duration": 28,
    "start_time": "2022-11-18T16:33:34.681Z"
   },
   {
    "duration": 19,
    "start_time": "2022-11-18T16:33:34.710Z"
   },
   {
    "duration": 38,
    "start_time": "2022-11-18T16:33:34.737Z"
   },
   {
    "duration": 16,
    "start_time": "2022-11-18T16:33:34.779Z"
   },
   {
    "duration": 30,
    "start_time": "2022-11-18T16:33:34.797Z"
   },
   {
    "duration": 300,
    "start_time": "2022-11-18T16:33:34.829Z"
   },
   {
    "duration": 78,
    "start_time": "2022-11-18T16:33:35.131Z"
   },
   {
    "duration": 6,
    "start_time": "2022-11-18T16:33:59.905Z"
   },
   {
    "duration": 5,
    "start_time": "2022-11-18T16:34:02.794Z"
   },
   {
    "duration": 16,
    "start_time": "2022-11-18T16:34:08.315Z"
   },
   {
    "duration": 11,
    "start_time": "2022-11-18T16:35:50.077Z"
   },
   {
    "duration": 752,
    "start_time": "2022-11-18T16:36:23.025Z"
   },
   {
    "duration": 243,
    "start_time": "2022-11-18T16:36:41.441Z"
   },
   {
    "duration": 288,
    "start_time": "2022-11-18T16:36:59.540Z"
   },
   {
    "duration": 12,
    "start_time": "2022-11-18T16:52:45.206Z"
   },
   {
    "duration": 8,
    "start_time": "2022-11-18T16:53:00.796Z"
   },
   {
    "duration": 9,
    "start_time": "2022-11-18T16:53:02.867Z"
   },
   {
    "duration": 15,
    "start_time": "2022-11-18T16:53:09.843Z"
   },
   {
    "duration": 43,
    "start_time": "2022-11-18T16:54:17.890Z"
   },
   {
    "duration": 13,
    "start_time": "2022-11-18T16:54:22.524Z"
   },
   {
    "duration": 10,
    "start_time": "2022-11-18T16:55:00.208Z"
   },
   {
    "duration": 10,
    "start_time": "2022-11-18T16:55:08.776Z"
   },
   {
    "duration": 10,
    "start_time": "2022-11-18T16:55:24.698Z"
   },
   {
    "duration": 17,
    "start_time": "2022-11-18T16:55:30.060Z"
   },
   {
    "duration": 14,
    "start_time": "2022-11-18T16:56:11.340Z"
   },
   {
    "duration": 14,
    "start_time": "2022-11-18T16:56:15.055Z"
   },
   {
    "duration": 13,
    "start_time": "2022-11-18T16:56:31.321Z"
   },
   {
    "duration": 11,
    "start_time": "2022-11-18T16:56:46.498Z"
   },
   {
    "duration": 15,
    "start_time": "2022-11-18T16:56:51.040Z"
   },
   {
    "duration": 4,
    "start_time": "2022-11-18T17:03:58.540Z"
   },
   {
    "duration": 4,
    "start_time": "2022-11-18T17:04:03.377Z"
   },
   {
    "duration": 4,
    "start_time": "2022-11-18T17:04:08.524Z"
   },
   {
    "duration": 18,
    "start_time": "2022-11-18T17:04:23.452Z"
   },
   {
    "duration": 17,
    "start_time": "2022-11-18T17:04:36.614Z"
   },
   {
    "duration": 3,
    "start_time": "2022-11-18T17:04:48.527Z"
   },
   {
    "duration": 695,
    "start_time": "2022-11-18T17:05:10.759Z"
   },
   {
    "duration": 14,
    "start_time": "2022-11-18T17:05:11.456Z"
   },
   {
    "duration": 11,
    "start_time": "2022-11-18T17:05:11.471Z"
   },
   {
    "duration": 13,
    "start_time": "2022-11-18T17:05:11.484Z"
   },
   {
    "duration": 8,
    "start_time": "2022-11-18T17:05:11.498Z"
   },
   {
    "duration": 21,
    "start_time": "2022-11-18T17:05:11.508Z"
   },
   {
    "duration": 13,
    "start_time": "2022-11-18T17:05:11.530Z"
   },
   {
    "duration": 37,
    "start_time": "2022-11-18T17:05:11.544Z"
   },
   {
    "duration": 12,
    "start_time": "2022-11-18T17:05:11.583Z"
   },
   {
    "duration": 257,
    "start_time": "2022-11-18T17:05:11.598Z"
   },
   {
    "duration": 23,
    "start_time": "2022-11-18T17:05:11.856Z"
   },
   {
    "duration": 3,
    "start_time": "2022-11-18T17:05:11.881Z"
   },
   {
    "duration": 243,
    "start_time": "2022-11-18T17:05:11.885Z"
   },
   {
    "duration": 16,
    "start_time": "2022-11-18T17:05:50.238Z"
   },
   {
    "duration": 66,
    "start_time": "2022-11-18T17:11:12.344Z"
   },
   {
    "duration": 77,
    "start_time": "2022-11-18T17:14:29.325Z"
   },
   {
    "duration": 10,
    "start_time": "2022-11-18T17:14:56.849Z"
   },
   {
    "duration": 47,
    "start_time": "2022-11-19T05:17:42.555Z"
   },
   {
    "duration": 8,
    "start_time": "2022-11-19T05:18:14.941Z"
   },
   {
    "duration": 842,
    "start_time": "2022-11-19T05:18:29.460Z"
   },
   {
    "duration": 14,
    "start_time": "2022-11-19T05:18:30.304Z"
   },
   {
    "duration": 8,
    "start_time": "2022-11-19T05:18:30.320Z"
   },
   {
    "duration": 18,
    "start_time": "2022-11-19T05:18:30.330Z"
   },
   {
    "duration": 13,
    "start_time": "2022-11-19T05:18:30.349Z"
   },
   {
    "duration": 29,
    "start_time": "2022-11-19T05:18:30.364Z"
   },
   {
    "duration": 33,
    "start_time": "2022-11-19T05:18:30.395Z"
   },
   {
    "duration": 36,
    "start_time": "2022-11-19T05:18:30.430Z"
   },
   {
    "duration": 16,
    "start_time": "2022-11-19T05:18:30.468Z"
   },
   {
    "duration": 318,
    "start_time": "2022-11-19T05:18:30.486Z"
   },
   {
    "duration": 20,
    "start_time": "2022-11-19T05:18:30.806Z"
   },
   {
    "duration": 29,
    "start_time": "2022-11-19T05:18:30.827Z"
   },
   {
    "duration": 469,
    "start_time": "2022-11-19T05:18:30.858Z"
   },
   {
    "duration": 285,
    "start_time": "2022-11-19T05:18:48.963Z"
   },
   {
    "duration": 403,
    "start_time": "2022-11-19T05:19:08.621Z"
   },
   {
    "duration": 412,
    "start_time": "2022-11-19T05:19:47.058Z"
   },
   {
    "duration": 390,
    "start_time": "2022-11-19T05:20:27.654Z"
   },
   {
    "duration": 686,
    "start_time": "2022-11-19T05:22:57.447Z"
   },
   {
    "duration": 15,
    "start_time": "2022-11-19T05:22:58.136Z"
   },
   {
    "duration": 10,
    "start_time": "2022-11-19T05:22:58.152Z"
   },
   {
    "duration": 19,
    "start_time": "2022-11-19T05:22:58.165Z"
   },
   {
    "duration": 30,
    "start_time": "2022-11-19T05:22:58.186Z"
   },
   {
    "duration": 20,
    "start_time": "2022-11-19T05:22:58.218Z"
   },
   {
    "duration": 7,
    "start_time": "2022-11-19T05:22:58.239Z"
   },
   {
    "duration": 23,
    "start_time": "2022-11-19T05:22:58.248Z"
   },
   {
    "duration": 14,
    "start_time": "2022-11-19T05:22:58.273Z"
   },
   {
    "duration": 313,
    "start_time": "2022-11-19T05:22:58.313Z"
   },
   {
    "duration": 19,
    "start_time": "2022-11-19T05:22:58.628Z"
   },
   {
    "duration": 17,
    "start_time": "2022-11-19T05:22:58.649Z"
   },
   {
    "duration": 96,
    "start_time": "2022-11-19T05:22:58.667Z"
   },
   {
    "duration": 653,
    "start_time": "2022-11-19T05:23:13.664Z"
   },
   {
    "duration": 13,
    "start_time": "2022-11-19T05:23:14.319Z"
   },
   {
    "duration": 11,
    "start_time": "2022-11-19T05:23:14.333Z"
   },
   {
    "duration": 19,
    "start_time": "2022-11-19T05:23:14.346Z"
   },
   {
    "duration": 19,
    "start_time": "2022-11-19T05:23:14.366Z"
   },
   {
    "duration": 20,
    "start_time": "2022-11-19T05:23:14.386Z"
   },
   {
    "duration": 7,
    "start_time": "2022-11-19T05:23:14.412Z"
   },
   {
    "duration": 21,
    "start_time": "2022-11-19T05:23:14.421Z"
   },
   {
    "duration": 13,
    "start_time": "2022-11-19T05:23:14.444Z"
   },
   {
    "duration": 317,
    "start_time": "2022-11-19T05:23:14.459Z"
   },
   {
    "duration": 18,
    "start_time": "2022-11-19T05:23:14.777Z"
   },
   {
    "duration": 33,
    "start_time": "2022-11-19T05:23:14.796Z"
   },
   {
    "duration": 472,
    "start_time": "2022-11-19T05:23:14.831Z"
   },
   {
    "duration": 448,
    "start_time": "2022-11-19T05:24:25.228Z"
   },
   {
    "duration": 438,
    "start_time": "2022-11-19T05:24:34.207Z"
   },
   {
    "duration": 440,
    "start_time": "2022-11-19T05:24:43.256Z"
   },
   {
    "duration": 535,
    "start_time": "2022-11-19T05:25:08.907Z"
   },
   {
    "duration": 69,
    "start_time": "2022-11-19T05:31:36.620Z"
   },
   {
    "duration": 11,
    "start_time": "2022-11-19T05:32:04.880Z"
   },
   {
    "duration": 233,
    "start_time": "2022-11-19T05:32:12.224Z"
   },
   {
    "duration": 112,
    "start_time": "2022-11-19T05:32:37.691Z"
   },
   {
    "duration": 265,
    "start_time": "2022-11-19T05:32:46.732Z"
   },
   {
    "duration": 275,
    "start_time": "2022-11-19T05:32:55.845Z"
   },
   {
    "duration": 263,
    "start_time": "2022-11-19T05:33:03.277Z"
   },
   {
    "duration": 342,
    "start_time": "2022-11-19T05:34:43.913Z"
   },
   {
    "duration": 12,
    "start_time": "2022-11-19T05:54:51.516Z"
   },
   {
    "duration": 11,
    "start_time": "2022-11-19T05:55:01.618Z"
   },
   {
    "duration": 703,
    "start_time": "2022-11-19T05:55:08.482Z"
   },
   {
    "duration": 15,
    "start_time": "2022-11-19T05:55:09.188Z"
   },
   {
    "duration": 12,
    "start_time": "2022-11-19T05:55:09.205Z"
   },
   {
    "duration": 20,
    "start_time": "2022-11-19T05:55:09.220Z"
   },
   {
    "duration": 16,
    "start_time": "2022-11-19T05:55:09.242Z"
   },
   {
    "duration": 21,
    "start_time": "2022-11-19T05:55:09.260Z"
   },
   {
    "duration": 7,
    "start_time": "2022-11-19T05:55:09.283Z"
   },
   {
    "duration": 44,
    "start_time": "2022-11-19T05:55:09.291Z"
   },
   {
    "duration": 15,
    "start_time": "2022-11-19T05:55:09.336Z"
   },
   {
    "duration": 303,
    "start_time": "2022-11-19T05:55:09.353Z"
   },
   {
    "duration": 19,
    "start_time": "2022-11-19T05:55:09.657Z"
   },
   {
    "duration": 16,
    "start_time": "2022-11-19T05:55:09.678Z"
   },
   {
    "duration": 531,
    "start_time": "2022-11-19T05:55:09.712Z"
   },
   {
    "duration": 288,
    "start_time": "2022-11-19T05:55:10.246Z"
   },
   {
    "duration": 85,
    "start_time": "2022-11-19T05:55:10.536Z"
   },
   {
    "duration": 12,
    "start_time": "2022-11-19T05:55:24.838Z"
   },
   {
    "duration": 27,
    "start_time": "2022-11-19T05:56:10.194Z"
   },
   {
    "duration": 61,
    "start_time": "2022-11-19T05:57:20.778Z"
   },
   {
    "duration": 339,
    "start_time": "2022-11-19T05:57:48.492Z"
   },
   {
    "duration": 300,
    "start_time": "2022-11-19T05:57:53.341Z"
   },
   {
    "duration": 338,
    "start_time": "2022-11-19T05:58:05.126Z"
   },
   {
    "duration": 313,
    "start_time": "2022-11-19T05:59:49.353Z"
   },
   {
    "duration": 331,
    "start_time": "2022-11-19T05:59:53.506Z"
   },
   {
    "duration": 335,
    "start_time": "2022-11-19T06:00:19.188Z"
   },
   {
    "duration": 292,
    "start_time": "2022-11-19T06:00:28.525Z"
   },
   {
    "duration": 12,
    "start_time": "2022-11-19T06:02:47.699Z"
   },
   {
    "duration": 385,
    "start_time": "2022-11-19T06:07:18.041Z"
   },
   {
    "duration": 11,
    "start_time": "2022-11-19T06:07:23.692Z"
   },
   {
    "duration": 316,
    "start_time": "2022-11-19T06:07:48.380Z"
   },
   {
    "duration": 320,
    "start_time": "2022-11-19T06:07:52.733Z"
   },
   {
    "duration": 10,
    "start_time": "2022-11-19T06:26:58.473Z"
   },
   {
    "duration": 1373,
    "start_time": "2022-11-19T06:27:16.295Z"
   },
   {
    "duration": 16,
    "start_time": "2022-11-19T06:27:17.670Z"
   },
   {
    "duration": 13,
    "start_time": "2022-11-19T06:27:17.688Z"
   },
   {
    "duration": 18,
    "start_time": "2022-11-19T06:27:17.703Z"
   },
   {
    "duration": 6,
    "start_time": "2022-11-19T06:27:17.723Z"
   },
   {
    "duration": 23,
    "start_time": "2022-11-19T06:27:17.731Z"
   },
   {
    "duration": 7,
    "start_time": "2022-11-19T06:27:17.756Z"
   },
   {
    "duration": 19,
    "start_time": "2022-11-19T06:27:17.764Z"
   },
   {
    "duration": 38,
    "start_time": "2022-11-19T06:27:17.785Z"
   },
   {
    "duration": 301,
    "start_time": "2022-11-19T06:27:17.826Z"
   },
   {
    "duration": 19,
    "start_time": "2022-11-19T06:27:18.129Z"
   },
   {
    "duration": 18,
    "start_time": "2022-11-19T06:27:18.149Z"
   },
   {
    "duration": 523,
    "start_time": "2022-11-19T06:27:18.169Z"
   },
   {
    "duration": 277,
    "start_time": "2022-11-19T06:27:18.694Z"
   },
   {
    "duration": 339,
    "start_time": "2022-11-19T06:27:18.973Z"
   },
   {
    "duration": 80,
    "start_time": "2022-11-19T06:27:19.315Z"
   },
   {
    "duration": 11,
    "start_time": "2022-11-19T06:27:47.654Z"
   },
   {
    "duration": 12,
    "start_time": "2022-11-19T06:27:52.302Z"
   },
   {
    "duration": 682,
    "start_time": "2022-11-19T06:27:57.323Z"
   },
   {
    "duration": 14,
    "start_time": "2022-11-19T06:27:58.007Z"
   },
   {
    "duration": 8,
    "start_time": "2022-11-19T06:27:58.023Z"
   },
   {
    "duration": 18,
    "start_time": "2022-11-19T06:27:58.033Z"
   },
   {
    "duration": 13,
    "start_time": "2022-11-19T06:27:58.053Z"
   },
   {
    "duration": 34,
    "start_time": "2022-11-19T06:27:58.068Z"
   },
   {
    "duration": 7,
    "start_time": "2022-11-19T06:27:58.104Z"
   },
   {
    "duration": 30,
    "start_time": "2022-11-19T06:27:58.113Z"
   },
   {
    "duration": 12,
    "start_time": "2022-11-19T06:27:58.145Z"
   },
   {
    "duration": 285,
    "start_time": "2022-11-19T06:27:58.159Z"
   },
   {
    "duration": 18,
    "start_time": "2022-11-19T06:27:58.446Z"
   },
   {
    "duration": 18,
    "start_time": "2022-11-19T06:27:58.465Z"
   },
   {
    "duration": 520,
    "start_time": "2022-11-19T06:27:58.484Z"
   },
   {
    "duration": 276,
    "start_time": "2022-11-19T06:27:59.005Z"
   },
   {
    "duration": 335,
    "start_time": "2022-11-19T06:27:59.283Z"
   },
   {
    "duration": 10,
    "start_time": "2022-11-19T06:27:59.620Z"
   },
   {
    "duration": 37,
    "start_time": "2022-11-19T07:19:26.913Z"
   },
   {
    "duration": 192,
    "start_time": "2022-11-19T07:25:53.139Z"
   },
   {
    "duration": 10,
    "start_time": "2022-11-19T07:26:10.030Z"
   },
   {
    "duration": 701,
    "start_time": "2022-11-19T07:26:25.048Z"
   },
   {
    "duration": 14,
    "start_time": "2022-11-19T07:26:25.751Z"
   },
   {
    "duration": 12,
    "start_time": "2022-11-19T07:26:25.767Z"
   },
   {
    "duration": 34,
    "start_time": "2022-11-19T07:26:25.780Z"
   },
   {
    "duration": 8,
    "start_time": "2022-11-19T07:26:25.817Z"
   },
   {
    "duration": 25,
    "start_time": "2022-11-19T07:26:25.828Z"
   },
   {
    "duration": 7,
    "start_time": "2022-11-19T07:26:25.854Z"
   },
   {
    "duration": 22,
    "start_time": "2022-11-19T07:26:25.862Z"
   },
   {
    "duration": 30,
    "start_time": "2022-11-19T07:26:25.886Z"
   },
   {
    "duration": 332,
    "start_time": "2022-11-19T07:26:25.918Z"
   },
   {
    "duration": 19,
    "start_time": "2022-11-19T07:26:26.252Z"
   },
   {
    "duration": 36,
    "start_time": "2022-11-19T07:26:26.273Z"
   },
   {
    "duration": 636,
    "start_time": "2022-11-19T07:26:26.312Z"
   },
   {
    "duration": 340,
    "start_time": "2022-11-19T07:26:26.952Z"
   },
   {
    "duration": 374,
    "start_time": "2022-11-19T07:26:27.293Z"
   },
   {
    "duration": 12,
    "start_time": "2022-11-19T07:26:27.669Z"
   },
   {
    "duration": 57,
    "start_time": "2022-11-19T07:26:27.683Z"
   },
   {
    "duration": 187,
    "start_time": "2022-11-19T07:26:27.742Z"
   },
   {
    "duration": 132,
    "start_time": "2022-11-19T07:28:09.322Z"
   },
   {
    "duration": 7,
    "start_time": "2022-11-19T07:29:12.489Z"
   },
   {
    "duration": 1291,
    "start_time": "2022-11-19T07:30:02.054Z"
   },
   {
    "duration": 14,
    "start_time": "2022-11-19T07:30:03.347Z"
   },
   {
    "duration": 9,
    "start_time": "2022-11-19T07:30:03.363Z"
   },
   {
    "duration": 16,
    "start_time": "2022-11-19T07:30:03.374Z"
   },
   {
    "duration": 7,
    "start_time": "2022-11-19T07:30:03.411Z"
   },
   {
    "duration": 22,
    "start_time": "2022-11-19T07:30:03.420Z"
   },
   {
    "duration": 17,
    "start_time": "2022-11-19T07:30:03.444Z"
   },
   {
    "duration": 19,
    "start_time": "2022-11-19T07:30:03.463Z"
   },
   {
    "duration": 31,
    "start_time": "2022-11-19T07:30:03.483Z"
   },
   {
    "duration": 308,
    "start_time": "2022-11-19T07:30:03.516Z"
   },
   {
    "duration": 19,
    "start_time": "2022-11-19T07:30:03.826Z"
   },
   {
    "duration": 17,
    "start_time": "2022-11-19T07:30:03.847Z"
   },
   {
    "duration": 502,
    "start_time": "2022-11-19T07:30:03.865Z"
   },
   {
    "duration": 278,
    "start_time": "2022-11-19T07:30:04.369Z"
   },
   {
    "duration": 392,
    "start_time": "2022-11-19T07:30:04.649Z"
   },
   {
    "duration": 12,
    "start_time": "2022-11-19T07:30:05.043Z"
   },
   {
    "duration": 40,
    "start_time": "2022-11-19T07:30:05.057Z"
   },
   {
    "duration": 583,
    "start_time": "2022-11-19T07:30:05.112Z"
   },
   {
    "duration": 243,
    "start_time": "2022-11-19T07:31:17.903Z"
   },
   {
    "duration": 239,
    "start_time": "2022-11-19T07:31:36.176Z"
   },
   {
    "duration": 275,
    "start_time": "2022-11-19T07:31:46.435Z"
   },
   {
    "duration": 112,
    "start_time": "2022-11-19T07:33:17.419Z"
   },
   {
    "duration": 1265,
    "start_time": "2022-11-19T07:33:25.963Z"
   },
   {
    "duration": 14,
    "start_time": "2022-11-19T07:33:27.230Z"
   },
   {
    "duration": 14,
    "start_time": "2022-11-19T07:33:27.246Z"
   },
   {
    "duration": 38,
    "start_time": "2022-11-19T07:33:27.262Z"
   },
   {
    "duration": 12,
    "start_time": "2022-11-19T07:33:27.302Z"
   },
   {
    "duration": 24,
    "start_time": "2022-11-19T07:33:27.316Z"
   },
   {
    "duration": 7,
    "start_time": "2022-11-19T07:33:27.342Z"
   },
   {
    "duration": 21,
    "start_time": "2022-11-19T07:33:27.351Z"
   },
   {
    "duration": 13,
    "start_time": "2022-11-19T07:33:27.373Z"
   },
   {
    "duration": 304,
    "start_time": "2022-11-19T07:33:27.413Z"
   },
   {
    "duration": 19,
    "start_time": "2022-11-19T07:33:27.719Z"
   },
   {
    "duration": 19,
    "start_time": "2022-11-19T07:33:27.740Z"
   },
   {
    "duration": 515,
    "start_time": "2022-11-19T07:33:27.761Z"
   },
   {
    "duration": 289,
    "start_time": "2022-11-19T07:33:28.278Z"
   },
   {
    "duration": 330,
    "start_time": "2022-11-19T07:33:28.568Z"
   },
   {
    "duration": 22,
    "start_time": "2022-11-19T07:33:28.900Z"
   },
   {
    "duration": 37,
    "start_time": "2022-11-19T07:33:28.924Z"
   },
   {
    "duration": 320,
    "start_time": "2022-11-19T07:33:28.963Z"
   },
   {
    "duration": 246,
    "start_time": "2022-11-19T07:34:02.601Z"
   },
   {
    "duration": 10,
    "start_time": "2022-11-19T07:34:19.651Z"
   },
   {
    "duration": 264,
    "start_time": "2022-11-19T07:34:24.740Z"
   },
   {
    "duration": 11,
    "start_time": "2022-11-19T07:37:31.776Z"
   },
   {
    "duration": 1268,
    "start_time": "2022-11-19T07:37:44.517Z"
   },
   {
    "duration": 14,
    "start_time": "2022-11-19T07:37:45.787Z"
   },
   {
    "duration": 9,
    "start_time": "2022-11-19T07:37:45.802Z"
   },
   {
    "duration": 15,
    "start_time": "2022-11-19T07:37:45.813Z"
   },
   {
    "duration": 6,
    "start_time": "2022-11-19T07:37:45.830Z"
   },
   {
    "duration": 20,
    "start_time": "2022-11-19T07:37:45.838Z"
   },
   {
    "duration": 6,
    "start_time": "2022-11-19T07:37:45.860Z"
   },
   {
    "duration": 24,
    "start_time": "2022-11-19T07:37:45.867Z"
   },
   {
    "duration": 26,
    "start_time": "2022-11-19T07:37:45.898Z"
   },
   {
    "duration": 318,
    "start_time": "2022-11-19T07:37:45.925Z"
   },
   {
    "duration": 18,
    "start_time": "2022-11-19T07:37:46.244Z"
   },
   {
    "duration": 21,
    "start_time": "2022-11-19T07:37:46.264Z"
   },
   {
    "duration": 528,
    "start_time": "2022-11-19T07:37:46.287Z"
   },
   {
    "duration": 274,
    "start_time": "2022-11-19T07:37:46.818Z"
   },
   {
    "duration": 321,
    "start_time": "2022-11-19T07:37:47.094Z"
   },
   {
    "duration": 12,
    "start_time": "2022-11-19T07:37:47.416Z"
   },
   {
    "duration": 42,
    "start_time": "2022-11-19T07:37:47.430Z"
   },
   {
    "duration": 109,
    "start_time": "2022-11-19T07:37:47.473Z"
   },
   {
    "duration": 358,
    "start_time": "2022-11-19T07:57:24.223Z"
   },
   {
    "duration": 276,
    "start_time": "2022-11-19T07:57:47.971Z"
   },
   {
    "duration": 260,
    "start_time": "2022-11-19T09:04:17.221Z"
   },
   {
    "duration": 273,
    "start_time": "2022-11-19T09:08:33.856Z"
   },
   {
    "duration": 255,
    "start_time": "2022-11-19T09:17:03.799Z"
   },
   {
    "duration": 374,
    "start_time": "2022-11-19T09:17:21.328Z"
   },
   {
    "duration": 9,
    "start_time": "2022-11-19T09:26:07.864Z"
   },
   {
    "duration": 1321,
    "start_time": "2022-11-19T09:26:13.108Z"
   },
   {
    "duration": 15,
    "start_time": "2022-11-19T09:26:14.432Z"
   },
   {
    "duration": 14,
    "start_time": "2022-11-19T09:26:14.449Z"
   },
   {
    "duration": 21,
    "start_time": "2022-11-19T09:26:14.465Z"
   },
   {
    "duration": 25,
    "start_time": "2022-11-19T09:26:14.488Z"
   },
   {
    "duration": 23,
    "start_time": "2022-11-19T09:26:14.515Z"
   },
   {
    "duration": 10,
    "start_time": "2022-11-19T09:26:14.540Z"
   },
   {
    "duration": 25,
    "start_time": "2022-11-19T09:26:14.553Z"
   },
   {
    "duration": 36,
    "start_time": "2022-11-19T09:26:14.580Z"
   },
   {
    "duration": 337,
    "start_time": "2022-11-19T09:26:14.618Z"
   },
   {
    "duration": 20,
    "start_time": "2022-11-19T09:26:14.956Z"
   },
   {
    "duration": 35,
    "start_time": "2022-11-19T09:26:14.978Z"
   },
   {
    "duration": 509,
    "start_time": "2022-11-19T09:26:15.015Z"
   },
   {
    "duration": 299,
    "start_time": "2022-11-19T09:26:15.528Z"
   },
   {
    "duration": 338,
    "start_time": "2022-11-19T09:26:15.829Z"
   },
   {
    "duration": 13,
    "start_time": "2022-11-19T09:26:16.169Z"
   },
   {
    "duration": 49,
    "start_time": "2022-11-19T09:26:16.184Z"
   },
   {
    "duration": 412,
    "start_time": "2022-11-19T09:26:16.235Z"
   },
   {
    "duration": 313,
    "start_time": "2022-11-19T09:26:16.649Z"
   },
   {
    "duration": 3,
    "start_time": "2022-11-19T09:26:16.964Z"
   },
   {
    "duration": 118,
    "start_time": "2022-11-19T09:28:05.828Z"
   },
   {
    "duration": 305,
    "start_time": "2022-11-19T09:28:26.376Z"
   },
   {
    "duration": 249,
    "start_time": "2022-11-19T09:28:43.288Z"
   },
   {
    "duration": 379,
    "start_time": "2022-11-19T09:29:03.515Z"
   },
   {
    "duration": 257,
    "start_time": "2022-11-19T09:29:15.260Z"
   },
   {
    "duration": 1187,
    "start_time": "2022-11-19T13:23:04.881Z"
   },
   {
    "duration": 14,
    "start_time": "2022-11-19T13:23:06.070Z"
   },
   {
    "duration": 12,
    "start_time": "2022-11-19T13:23:06.086Z"
   },
   {
    "duration": 20,
    "start_time": "2022-11-19T13:23:06.100Z"
   },
   {
    "duration": 11,
    "start_time": "2022-11-19T13:23:06.122Z"
   },
   {
    "duration": 20,
    "start_time": "2022-11-19T13:23:06.135Z"
   },
   {
    "duration": 8,
    "start_time": "2022-11-19T13:23:06.157Z"
   },
   {
    "duration": 19,
    "start_time": "2022-11-19T13:23:06.167Z"
   },
   {
    "duration": 35,
    "start_time": "2022-11-19T13:23:06.188Z"
   },
   {
    "duration": 293,
    "start_time": "2022-11-19T13:23:06.225Z"
   },
   {
    "duration": 17,
    "start_time": "2022-11-19T13:23:06.519Z"
   },
   {
    "duration": 16,
    "start_time": "2022-11-19T13:23:06.538Z"
   },
   {
    "duration": 524,
    "start_time": "2022-11-19T13:23:06.556Z"
   },
   {
    "duration": 273,
    "start_time": "2022-11-19T13:23:07.082Z"
   },
   {
    "duration": 335,
    "start_time": "2022-11-19T13:23:07.357Z"
   },
   {
    "duration": 21,
    "start_time": "2022-11-19T13:23:07.693Z"
   },
   {
    "duration": 38,
    "start_time": "2022-11-19T13:23:07.716Z"
   },
   {
    "duration": 367,
    "start_time": "2022-11-19T13:23:07.755Z"
   },
   {
    "duration": 296,
    "start_time": "2022-11-19T13:23:08.124Z"
   },
   {
    "duration": 276,
    "start_time": "2022-11-19T13:23:08.421Z"
   },
   {
    "duration": 11,
    "start_time": "2022-11-19T13:24:49.722Z"
   },
   {
    "duration": 12,
    "start_time": "2022-11-19T13:27:38.469Z"
   },
   {
    "duration": 11,
    "start_time": "2022-11-19T13:27:44.374Z"
   },
   {
    "duration": 11,
    "start_time": "2022-11-19T13:27:48.998Z"
   },
   {
    "duration": 11,
    "start_time": "2022-11-19T13:27:57.999Z"
   },
   {
    "duration": 12,
    "start_time": "2022-11-19T13:29:39.642Z"
   },
   {
    "duration": 16,
    "start_time": "2022-11-19T14:26:11.173Z"
   },
   {
    "duration": 11,
    "start_time": "2022-11-19T14:26:17.478Z"
   },
   {
    "duration": 11,
    "start_time": "2022-11-19T14:26:20.645Z"
   },
   {
    "duration": 231,
    "start_time": "2022-11-19T14:41:33.503Z"
   },
   {
    "duration": 10,
    "start_time": "2022-11-19T14:43:09.800Z"
   },
   {
    "duration": 11,
    "start_time": "2022-11-19T14:43:12.777Z"
   },
   {
    "duration": 103,
    "start_time": "2022-11-19T15:04:55.846Z"
   },
   {
    "duration": 19,
    "start_time": "2022-11-19T15:05:07.335Z"
   },
   {
    "duration": 19,
    "start_time": "2022-11-19T15:05:34.146Z"
   },
   {
    "duration": 221,
    "start_time": "2022-11-19T15:05:59.613Z"
   },
   {
    "duration": 215,
    "start_time": "2022-11-19T15:07:42.642Z"
   },
   {
    "duration": 229,
    "start_time": "2022-11-19T15:08:05.850Z"
   },
   {
    "duration": 195,
    "start_time": "2022-11-19T15:08:16.923Z"
   },
   {
    "duration": 195,
    "start_time": "2022-11-19T15:10:12.768Z"
   },
   {
    "duration": 272,
    "start_time": "2022-11-19T15:10:19.993Z"
   },
   {
    "duration": 249,
    "start_time": "2022-11-19T15:14:37.308Z"
   },
   {
    "duration": 258,
    "start_time": "2022-11-19T15:14:48.022Z"
   },
   {
    "duration": 250,
    "start_time": "2022-11-19T15:14:55.711Z"
   },
   {
    "duration": 246,
    "start_time": "2022-11-19T15:15:30.603Z"
   },
   {
    "duration": 238,
    "start_time": "2022-11-19T15:16:27.114Z"
   },
   {
    "duration": 231,
    "start_time": "2022-11-19T15:17:10.920Z"
   },
   {
    "duration": 224,
    "start_time": "2022-11-19T15:17:32.864Z"
   },
   {
    "duration": 239,
    "start_time": "2022-11-19T15:17:52.466Z"
   },
   {
    "duration": 292,
    "start_time": "2022-11-19T15:18:26.821Z"
   },
   {
    "duration": 265,
    "start_time": "2022-11-19T15:18:37.296Z"
   },
   {
    "duration": 361,
    "start_time": "2022-11-19T15:18:49.192Z"
   },
   {
    "duration": 226,
    "start_time": "2022-11-19T15:18:58.450Z"
   },
   {
    "duration": 237,
    "start_time": "2022-11-19T15:19:52.471Z"
   },
   {
    "duration": 233,
    "start_time": "2022-11-19T15:20:06.632Z"
   },
   {
    "duration": 248,
    "start_time": "2022-11-19T15:20:12.897Z"
   },
   {
    "duration": 76,
    "start_time": "2022-11-20T06:05:45.886Z"
   },
   {
    "duration": 6,
    "start_time": "2022-11-20T06:08:20.550Z"
   },
   {
    "duration": 1692,
    "start_time": "2022-11-20T06:08:28.155Z"
   },
   {
    "duration": 21,
    "start_time": "2022-11-20T06:08:29.850Z"
   },
   {
    "duration": 14,
    "start_time": "2022-11-20T06:08:29.873Z"
   },
   {
    "duration": 19,
    "start_time": "2022-11-20T06:08:29.889Z"
   },
   {
    "duration": 16,
    "start_time": "2022-11-20T06:08:29.911Z"
   },
   {
    "duration": 32,
    "start_time": "2022-11-20T06:08:29.929Z"
   },
   {
    "duration": 9,
    "start_time": "2022-11-20T06:08:29.964Z"
   },
   {
    "duration": 31,
    "start_time": "2022-11-20T06:08:29.975Z"
   },
   {
    "duration": 33,
    "start_time": "2022-11-20T06:08:30.008Z"
   },
   {
    "duration": 391,
    "start_time": "2022-11-20T06:08:30.044Z"
   },
   {
    "duration": 17,
    "start_time": "2022-11-20T06:08:30.441Z"
   },
   {
    "duration": 49,
    "start_time": "2022-11-20T06:08:30.459Z"
   },
   {
    "duration": 474,
    "start_time": "2022-11-20T06:08:30.510Z"
   },
   {
    "duration": 279,
    "start_time": "2022-11-20T06:08:30.986Z"
   },
   {
    "duration": 326,
    "start_time": "2022-11-20T06:08:31.266Z"
   },
   {
    "duration": 14,
    "start_time": "2022-11-20T06:08:31.594Z"
   },
   {
    "duration": 76,
    "start_time": "2022-11-20T06:08:31.610Z"
   },
   {
    "duration": 340,
    "start_time": "2022-11-20T06:08:31.688Z"
   },
   {
    "duration": 312,
    "start_time": "2022-11-20T06:08:32.030Z"
   },
   {
    "duration": 239,
    "start_time": "2022-11-20T06:08:32.344Z"
   },
   {
    "duration": 10,
    "start_time": "2022-11-20T06:08:32.585Z"
   },
   {
    "duration": 56,
    "start_time": "2022-11-20T06:08:32.596Z"
   },
   {
    "duration": 256,
    "start_time": "2022-11-20T06:08:32.653Z"
   },
   {
    "duration": 32,
    "start_time": "2022-11-20T06:08:32.910Z"
   },
   {
    "duration": 143,
    "start_time": "2022-11-20T06:08:32.944Z"
   },
   {
    "duration": 363,
    "start_time": "2022-11-20T06:08:33.089Z"
   },
   {
    "duration": 15,
    "start_time": "2022-11-20T06:08:33.454Z"
   },
   {
    "duration": 12,
    "start_time": "2022-11-20T06:08:44.008Z"
   },
   {
    "duration": 18,
    "start_time": "2022-11-20T06:08:46.105Z"
   },
   {
    "duration": 17,
    "start_time": "2022-11-20T06:09:15.068Z"
   },
   {
    "duration": 17,
    "start_time": "2022-11-20T06:09:17.172Z"
   },
   {
    "duration": 12,
    "start_time": "2022-11-20T06:10:16.874Z"
   },
   {
    "duration": 102,
    "start_time": "2022-11-20T06:10:18.794Z"
   },
   {
    "duration": 1261,
    "start_time": "2022-11-20T06:10:32.520Z"
   },
   {
    "duration": 13,
    "start_time": "2022-11-20T06:10:33.783Z"
   },
   {
    "duration": 11,
    "start_time": "2022-11-20T06:10:33.798Z"
   },
   {
    "duration": 26,
    "start_time": "2022-11-20T06:10:33.812Z"
   },
   {
    "duration": 13,
    "start_time": "2022-11-20T06:10:33.841Z"
   },
   {
    "duration": 23,
    "start_time": "2022-11-20T06:10:33.857Z"
   },
   {
    "duration": 7,
    "start_time": "2022-11-20T06:10:33.882Z"
   },
   {
    "duration": 39,
    "start_time": "2022-11-20T06:10:33.891Z"
   },
   {
    "duration": 14,
    "start_time": "2022-11-20T06:10:33.931Z"
   },
   {
    "duration": 341,
    "start_time": "2022-11-20T06:10:33.949Z"
   },
   {
    "duration": 35,
    "start_time": "2022-11-20T06:10:34.292Z"
   },
   {
    "duration": 24,
    "start_time": "2022-11-20T06:10:34.329Z"
   },
   {
    "duration": 477,
    "start_time": "2022-11-20T06:10:34.355Z"
   },
   {
    "duration": 283,
    "start_time": "2022-11-20T06:10:34.834Z"
   },
   {
    "duration": 329,
    "start_time": "2022-11-20T06:10:35.119Z"
   },
   {
    "duration": 11,
    "start_time": "2022-11-20T06:10:35.450Z"
   },
   {
    "duration": 63,
    "start_time": "2022-11-20T06:10:35.463Z"
   },
   {
    "duration": 355,
    "start_time": "2022-11-20T06:10:35.528Z"
   },
   {
    "duration": 294,
    "start_time": "2022-11-20T06:10:35.887Z"
   },
   {
    "duration": 252,
    "start_time": "2022-11-20T06:10:36.183Z"
   },
   {
    "duration": 10,
    "start_time": "2022-11-20T06:10:36.438Z"
   },
   {
    "duration": 21,
    "start_time": "2022-11-20T06:10:36.450Z"
   },
   {
    "duration": 233,
    "start_time": "2022-11-20T06:10:36.473Z"
   },
   {
    "duration": 23,
    "start_time": "2022-11-20T06:10:36.708Z"
   },
   {
    "duration": 26,
    "start_time": "2022-11-20T06:10:36.734Z"
   },
   {
    "duration": 237,
    "start_time": "2022-11-20T06:10:36.762Z"
   },
   {
    "duration": 32,
    "start_time": "2022-11-20T06:10:37.001Z"
   },
   {
    "duration": 9,
    "start_time": "2022-11-20T06:10:37.040Z"
   },
   {
    "duration": 104,
    "start_time": "2022-11-20T06:10:37.051Z"
   },
   {
    "duration": 1362,
    "start_time": "2022-11-20T06:11:00.724Z"
   },
   {
    "duration": 15,
    "start_time": "2022-11-20T06:11:02.088Z"
   },
   {
    "duration": 11,
    "start_time": "2022-11-20T06:11:02.105Z"
   },
   {
    "duration": 87,
    "start_time": "2022-11-20T06:11:02.119Z"
   },
   {
    "duration": 12,
    "start_time": "2022-11-20T06:11:02.208Z"
   },
   {
    "duration": 55,
    "start_time": "2022-11-20T06:11:02.228Z"
   },
   {
    "duration": 10,
    "start_time": "2022-11-20T06:11:02.286Z"
   },
   {
    "duration": 23,
    "start_time": "2022-11-20T06:11:02.297Z"
   },
   {
    "duration": 36,
    "start_time": "2022-11-20T06:11:02.328Z"
   },
   {
    "duration": 341,
    "start_time": "2022-11-20T06:11:02.368Z"
   },
   {
    "duration": 35,
    "start_time": "2022-11-20T06:11:02.711Z"
   },
   {
    "duration": 40,
    "start_time": "2022-11-20T06:11:02.748Z"
   },
   {
    "duration": 470,
    "start_time": "2022-11-20T06:11:02.790Z"
   },
   {
    "duration": 281,
    "start_time": "2022-11-20T06:11:03.262Z"
   },
   {
    "duration": 321,
    "start_time": "2022-11-20T06:11:03.545Z"
   },
   {
    "duration": 15,
    "start_time": "2022-11-20T06:11:03.868Z"
   },
   {
    "duration": 69,
    "start_time": "2022-11-20T06:11:03.884Z"
   },
   {
    "duration": 429,
    "start_time": "2022-11-20T06:11:03.955Z"
   },
   {
    "duration": 385,
    "start_time": "2022-11-20T06:11:04.387Z"
   },
   {
    "duration": 271,
    "start_time": "2022-11-20T06:11:04.773Z"
   },
   {
    "duration": 10,
    "start_time": "2022-11-20T06:11:05.046Z"
   },
   {
    "duration": 17,
    "start_time": "2022-11-20T06:11:05.058Z"
   },
   {
    "duration": 279,
    "start_time": "2022-11-20T06:11:05.077Z"
   },
   {
    "duration": 9,
    "start_time": "2022-11-20T06:11:05.358Z"
   },
   {
    "duration": 39,
    "start_time": "2022-11-20T06:11:05.370Z"
   },
   {
    "duration": 250,
    "start_time": "2022-11-20T06:11:05.411Z"
   },
   {
    "duration": 16,
    "start_time": "2022-11-20T06:11:05.663Z"
   },
   {
    "duration": 54,
    "start_time": "2022-11-20T06:11:05.684Z"
   },
   {
    "duration": 21,
    "start_time": "2022-11-20T06:11:05.744Z"
   },
   {
    "duration": 15,
    "start_time": "2022-11-20T06:12:51.426Z"
   },
   {
    "duration": 10,
    "start_time": "2022-11-20T06:13:08.877Z"
   },
   {
    "duration": 17,
    "start_time": "2022-11-20T06:13:10.526Z"
   },
   {
    "duration": 1141,
    "start_time": "2022-11-20T06:13:17.740Z"
   },
   {
    "duration": 18,
    "start_time": "2022-11-20T06:13:18.884Z"
   },
   {
    "duration": 12,
    "start_time": "2022-11-20T06:13:18.904Z"
   },
   {
    "duration": 17,
    "start_time": "2022-11-20T06:13:18.919Z"
   },
   {
    "duration": 11,
    "start_time": "2022-11-20T06:13:18.937Z"
   },
   {
    "duration": 22,
    "start_time": "2022-11-20T06:13:18.950Z"
   },
   {
    "duration": 9,
    "start_time": "2022-11-20T06:13:18.974Z"
   },
   {
    "duration": 17,
    "start_time": "2022-11-20T06:13:18.984Z"
   },
   {
    "duration": 15,
    "start_time": "2022-11-20T06:13:19.021Z"
   },
   {
    "duration": 303,
    "start_time": "2022-11-20T06:13:19.039Z"
   },
   {
    "duration": 18,
    "start_time": "2022-11-20T06:13:19.344Z"
   },
   {
    "duration": 16,
    "start_time": "2022-11-20T06:13:19.363Z"
   },
   {
    "duration": 434,
    "start_time": "2022-11-20T06:13:19.381Z"
   },
   {
    "duration": 271,
    "start_time": "2022-11-20T06:13:19.817Z"
   },
   {
    "duration": 296,
    "start_time": "2022-11-20T06:13:20.090Z"
   },
   {
    "duration": 12,
    "start_time": "2022-11-20T06:13:20.387Z"
   },
   {
    "duration": 51,
    "start_time": "2022-11-20T06:13:20.400Z"
   },
   {
    "duration": 335,
    "start_time": "2022-11-20T06:13:20.453Z"
   },
   {
    "duration": 269,
    "start_time": "2022-11-20T06:13:20.790Z"
   },
   {
    "duration": 236,
    "start_time": "2022-11-20T06:13:21.061Z"
   },
   {
    "duration": 9,
    "start_time": "2022-11-20T06:13:21.298Z"
   },
   {
    "duration": 14,
    "start_time": "2022-11-20T06:13:21.309Z"
   },
   {
    "duration": 232,
    "start_time": "2022-11-20T06:13:21.325Z"
   },
   {
    "duration": 9,
    "start_time": "2022-11-20T06:13:21.559Z"
   },
   {
    "duration": 19,
    "start_time": "2022-11-20T06:13:21.570Z"
   },
   {
    "duration": 241,
    "start_time": "2022-11-20T06:13:21.592Z"
   },
   {
    "duration": 16,
    "start_time": "2022-11-20T06:13:21.835Z"
   },
   {
    "duration": 13,
    "start_time": "2022-11-20T06:13:21.853Z"
   },
   {
    "duration": 24,
    "start_time": "2022-11-20T06:13:21.868Z"
   },
   {
    "duration": 13,
    "start_time": "2022-11-20T06:18:35.488Z"
   },
   {
    "duration": 17,
    "start_time": "2022-11-20T06:18:37.248Z"
   },
   {
    "duration": 138,
    "start_time": "2022-11-20T06:27:15.584Z"
   },
   {
    "duration": 126,
    "start_time": "2022-11-20T06:27:42.044Z"
   },
   {
    "duration": 129,
    "start_time": "2022-11-20T06:27:52.396Z"
   },
   {
    "duration": 10,
    "start_time": "2022-11-20T06:29:44.504Z"
   },
   {
    "duration": 16,
    "start_time": "2022-11-20T06:29:46.393Z"
   },
   {
    "duration": 138,
    "start_time": "2022-11-20T06:33:01.709Z"
   },
   {
    "duration": 214,
    "start_time": "2022-11-20T06:33:36.385Z"
   },
   {
    "duration": 358,
    "start_time": "2022-11-20T06:34:31.976Z"
   },
   {
    "duration": 103,
    "start_time": "2022-11-20T06:45:16.532Z"
   },
   {
    "duration": 1126,
    "start_time": "2022-11-20T06:46:00.464Z"
   },
   {
    "duration": 16,
    "start_time": "2022-11-20T06:46:01.593Z"
   },
   {
    "duration": 33,
    "start_time": "2022-11-20T06:46:01.612Z"
   },
   {
    "duration": 29,
    "start_time": "2022-11-20T06:46:01.648Z"
   },
   {
    "duration": 9,
    "start_time": "2022-11-20T06:46:01.679Z"
   },
   {
    "duration": 23,
    "start_time": "2022-11-20T06:46:01.689Z"
   },
   {
    "duration": 7,
    "start_time": "2022-11-20T06:46:01.713Z"
   },
   {
    "duration": 49,
    "start_time": "2022-11-20T06:46:01.722Z"
   },
   {
    "duration": 17,
    "start_time": "2022-11-20T06:46:01.772Z"
   },
   {
    "duration": 323,
    "start_time": "2022-11-20T06:46:01.791Z"
   },
   {
    "duration": 19,
    "start_time": "2022-11-20T06:46:02.121Z"
   },
   {
    "duration": 73,
    "start_time": "2022-11-20T06:46:02.142Z"
   },
   {
    "duration": 497,
    "start_time": "2022-11-20T06:46:02.218Z"
   },
   {
    "duration": 325,
    "start_time": "2022-11-20T06:46:02.717Z"
   },
   {
    "duration": 366,
    "start_time": "2022-11-20T06:46:03.044Z"
   },
   {
    "duration": 18,
    "start_time": "2022-11-20T06:46:03.412Z"
   },
   {
    "duration": 40,
    "start_time": "2022-11-20T06:46:03.432Z"
   },
   {
    "duration": 358,
    "start_time": "2022-11-20T06:46:03.474Z"
   },
   {
    "duration": 399,
    "start_time": "2022-11-20T06:46:03.834Z"
   },
   {
    "duration": 290,
    "start_time": "2022-11-20T06:46:04.236Z"
   },
   {
    "duration": 10,
    "start_time": "2022-11-20T06:46:04.528Z"
   },
   {
    "duration": 17,
    "start_time": "2022-11-20T06:46:04.539Z"
   },
   {
    "duration": 264,
    "start_time": "2022-11-20T06:46:04.557Z"
   },
   {
    "duration": 11,
    "start_time": "2022-11-20T06:46:04.822Z"
   },
   {
    "duration": 32,
    "start_time": "2022-11-20T06:46:04.834Z"
   },
   {
    "duration": 308,
    "start_time": "2022-11-20T06:46:04.868Z"
   },
   {
    "duration": 15,
    "start_time": "2022-11-20T06:46:05.177Z"
   },
   {
    "duration": 14,
    "start_time": "2022-11-20T06:46:05.195Z"
   },
   {
    "duration": 25,
    "start_time": "2022-11-20T06:46:05.211Z"
   },
   {
    "duration": 9,
    "start_time": "2022-11-20T06:46:05.238Z"
   },
   {
    "duration": 17,
    "start_time": "2022-11-20T06:46:05.249Z"
   },
   {
    "duration": 449,
    "start_time": "2022-11-20T06:46:05.268Z"
   },
   {
    "duration": 13,
    "start_time": "2022-11-20T06:46:05.718Z"
   },
   {
    "duration": 1109,
    "start_time": "2022-11-20T06:48:39.681Z"
   },
   {
    "duration": 13,
    "start_time": "2022-11-20T06:48:40.792Z"
   },
   {
    "duration": 16,
    "start_time": "2022-11-20T06:48:40.807Z"
   },
   {
    "duration": 19,
    "start_time": "2022-11-20T06:48:40.825Z"
   },
   {
    "duration": 27,
    "start_time": "2022-11-20T06:48:40.846Z"
   },
   {
    "duration": 25,
    "start_time": "2022-11-20T06:48:40.875Z"
   },
   {
    "duration": 9,
    "start_time": "2022-11-20T06:48:40.902Z"
   },
   {
    "duration": 16,
    "start_time": "2022-11-20T06:48:40.912Z"
   },
   {
    "duration": 13,
    "start_time": "2022-11-20T06:48:40.929Z"
   },
   {
    "duration": 285,
    "start_time": "2022-11-20T06:48:40.944Z"
   },
   {
    "duration": 18,
    "start_time": "2022-11-20T06:48:41.230Z"
   },
   {
    "duration": 17,
    "start_time": "2022-11-20T06:48:41.249Z"
   },
   {
    "duration": 460,
    "start_time": "2022-11-20T06:48:41.268Z"
   },
   {
    "duration": 271,
    "start_time": "2022-11-20T06:48:41.730Z"
   },
   {
    "duration": 293,
    "start_time": "2022-11-20T06:48:42.004Z"
   },
   {
    "duration": 25,
    "start_time": "2022-11-20T06:48:42.299Z"
   },
   {
    "duration": 34,
    "start_time": "2022-11-20T06:48:42.325Z"
   },
   {
    "duration": 334,
    "start_time": "2022-11-20T06:48:42.361Z"
   },
   {
    "duration": 268,
    "start_time": "2022-11-20T06:48:42.698Z"
   },
   {
    "duration": 225,
    "start_time": "2022-11-20T06:48:42.968Z"
   },
   {
    "duration": 9,
    "start_time": "2022-11-20T06:48:43.195Z"
   },
   {
    "duration": 20,
    "start_time": "2022-11-20T06:48:43.205Z"
   },
   {
    "duration": 230,
    "start_time": "2022-11-20T06:48:43.226Z"
   },
   {
    "duration": 9,
    "start_time": "2022-11-20T06:48:43.458Z"
   },
   {
    "duration": 50,
    "start_time": "2022-11-20T06:48:43.469Z"
   },
   {
    "duration": 220,
    "start_time": "2022-11-20T06:48:43.521Z"
   },
   {
    "duration": 14,
    "start_time": "2022-11-20T06:48:43.742Z"
   },
   {
    "duration": 13,
    "start_time": "2022-11-20T06:48:43.759Z"
   },
   {
    "duration": 16,
    "start_time": "2022-11-20T06:48:43.773Z"
   },
   {
    "duration": 33,
    "start_time": "2022-11-20T06:48:43.791Z"
   },
   {
    "duration": 16,
    "start_time": "2022-11-20T06:48:43.826Z"
   },
   {
    "duration": 449,
    "start_time": "2022-11-20T06:48:43.844Z"
   },
   {
    "duration": 11,
    "start_time": "2022-11-20T06:48:44.295Z"
   },
   {
    "duration": 10,
    "start_time": "2022-11-20T06:56:53.264Z"
   },
   {
    "duration": 12,
    "start_time": "2022-11-20T06:57:30.092Z"
   },
   {
    "duration": 73,
    "start_time": "2022-11-20T06:58:49.284Z"
   },
   {
    "duration": 1156,
    "start_time": "2022-11-20T07:10:36.240Z"
   },
   {
    "duration": 13,
    "start_time": "2022-11-20T07:10:37.397Z"
   },
   {
    "duration": 183,
    "start_time": "2022-11-20T07:10:37.414Z"
   },
   {
    "duration": 33,
    "start_time": "2022-11-20T07:10:37.598Z"
   },
   {
    "duration": 14,
    "start_time": "2022-11-20T07:10:37.632Z"
   },
   {
    "duration": 34,
    "start_time": "2022-11-20T07:10:37.648Z"
   },
   {
    "duration": 31,
    "start_time": "2022-11-20T07:10:37.683Z"
   },
   {
    "duration": 36,
    "start_time": "2022-11-20T07:10:37.716Z"
   },
   {
    "duration": 15,
    "start_time": "2022-11-20T07:10:37.755Z"
   },
   {
    "duration": 284,
    "start_time": "2022-11-20T07:10:37.772Z"
   },
   {
    "duration": 17,
    "start_time": "2022-11-20T07:10:38.058Z"
   },
   {
    "duration": 24,
    "start_time": "2022-11-20T07:10:38.077Z"
   },
   {
    "duration": 433,
    "start_time": "2022-11-20T07:10:38.103Z"
   },
   {
    "duration": 249,
    "start_time": "2022-11-20T07:10:38.537Z"
   },
   {
    "duration": 299,
    "start_time": "2022-11-20T07:10:38.787Z"
   },
   {
    "duration": 10,
    "start_time": "2022-11-20T07:10:39.088Z"
   },
   {
    "duration": 51,
    "start_time": "2022-11-20T07:10:39.099Z"
   },
   {
    "duration": 313,
    "start_time": "2022-11-20T07:10:39.152Z"
   },
   {
    "duration": 273,
    "start_time": "2022-11-20T07:10:39.467Z"
   },
   {
    "duration": 245,
    "start_time": "2022-11-20T07:10:39.742Z"
   },
   {
    "duration": 10,
    "start_time": "2022-11-20T07:10:39.989Z"
   },
   {
    "duration": 32,
    "start_time": "2022-11-20T07:10:40.001Z"
   },
   {
    "duration": 243,
    "start_time": "2022-11-20T07:10:40.036Z"
   },
   {
    "duration": 10,
    "start_time": "2022-11-20T07:10:40.281Z"
   },
   {
    "duration": 12,
    "start_time": "2022-11-20T07:10:40.293Z"
   },
   {
    "duration": 236,
    "start_time": "2022-11-20T07:10:40.321Z"
   },
   {
    "duration": 15,
    "start_time": "2022-11-20T07:10:40.560Z"
   },
   {
    "duration": 15,
    "start_time": "2022-11-20T07:10:40.576Z"
   },
   {
    "duration": 31,
    "start_time": "2022-11-20T07:10:40.592Z"
   },
   {
    "duration": 10,
    "start_time": "2022-11-20T07:10:40.625Z"
   },
   {
    "duration": 20,
    "start_time": "2022-11-20T07:10:40.637Z"
   },
   {
    "duration": 392,
    "start_time": "2022-11-20T07:10:40.659Z"
   },
   {
    "duration": 11,
    "start_time": "2022-11-20T07:10:41.052Z"
   },
   {
    "duration": 13,
    "start_time": "2022-11-20T07:10:41.064Z"
   },
   {
    "duration": 82,
    "start_time": "2022-11-20T08:08:51.534Z"
   },
   {
    "duration": 13,
    "start_time": "2022-11-20T08:08:51.618Z"
   },
   {
    "duration": 18,
    "start_time": "2022-11-20T08:08:51.633Z"
   },
   {
    "duration": 20,
    "start_time": "2022-11-20T08:08:51.653Z"
   },
   {
    "duration": 11,
    "start_time": "2022-11-20T08:08:51.675Z"
   },
   {
    "duration": 20,
    "start_time": "2022-11-20T08:08:51.688Z"
   },
   {
    "duration": 8,
    "start_time": "2022-11-20T08:08:51.710Z"
   },
   {
    "duration": 38,
    "start_time": "2022-11-20T08:08:51.720Z"
   },
   {
    "duration": 13,
    "start_time": "2022-11-20T08:08:51.760Z"
   },
   {
    "duration": 291,
    "start_time": "2022-11-20T08:08:51.775Z"
   },
   {
    "duration": 21,
    "start_time": "2022-11-20T08:08:52.068Z"
   },
   {
    "duration": 15,
    "start_time": "2022-11-20T08:08:52.090Z"
   },
   {
    "duration": 504,
    "start_time": "2022-11-20T08:08:52.107Z"
   },
   {
    "duration": 273,
    "start_time": "2022-11-20T08:08:52.613Z"
   },
   {
    "duration": 318,
    "start_time": "2022-11-20T08:08:52.888Z"
   },
   {
    "duration": 11,
    "start_time": "2022-11-20T08:08:53.208Z"
   },
   {
    "duration": 44,
    "start_time": "2022-11-20T08:08:53.220Z"
   },
   {
    "duration": 267,
    "start_time": "2022-11-20T08:08:53.266Z"
   },
   {
    "duration": 271,
    "start_time": "2022-11-20T08:08:53.535Z"
   },
   {
    "duration": 251,
    "start_time": "2022-11-20T08:08:53.807Z"
   },
   {
    "duration": 9,
    "start_time": "2022-11-20T08:08:54.059Z"
   },
   {
    "duration": 18,
    "start_time": "2022-11-20T08:08:54.070Z"
   },
   {
    "duration": 325,
    "start_time": "2022-11-20T08:08:54.089Z"
   },
   {
    "duration": 9,
    "start_time": "2022-11-20T08:08:54.415Z"
   },
   {
    "duration": 27,
    "start_time": "2022-11-20T08:08:54.425Z"
   },
   {
    "duration": 238,
    "start_time": "2022-11-20T08:08:54.453Z"
   },
   {
    "duration": 15,
    "start_time": "2022-11-20T08:08:54.693Z"
   },
   {
    "duration": 12,
    "start_time": "2022-11-20T08:08:54.709Z"
   },
   {
    "duration": 35,
    "start_time": "2022-11-20T08:08:54.723Z"
   },
   {
    "duration": 10,
    "start_time": "2022-11-20T08:08:54.760Z"
   },
   {
    "duration": 21,
    "start_time": "2022-11-20T08:08:54.771Z"
   },
   {
    "duration": 430,
    "start_time": "2022-11-20T08:08:54.793Z"
   },
   {
    "duration": 12,
    "start_time": "2022-11-20T08:08:55.225Z"
   },
   {
    "duration": 22,
    "start_time": "2022-11-20T08:08:55.238Z"
   },
   {
    "duration": 1738,
    "start_time": "2022-11-20T08:11:30.996Z"
   },
   {
    "duration": 15,
    "start_time": "2022-11-20T08:11:32.736Z"
   },
   {
    "duration": 11,
    "start_time": "2022-11-20T08:11:32.753Z"
   },
   {
    "duration": 14,
    "start_time": "2022-11-20T08:11:32.766Z"
   },
   {
    "duration": 6,
    "start_time": "2022-11-20T08:11:32.782Z"
   },
   {
    "duration": 22,
    "start_time": "2022-11-20T08:11:32.789Z"
   },
   {
    "duration": 42,
    "start_time": "2022-11-20T08:11:32.812Z"
   },
   {
    "duration": 19,
    "start_time": "2022-11-20T08:11:32.857Z"
   },
   {
    "duration": 15,
    "start_time": "2022-11-20T08:11:32.878Z"
   },
   {
    "duration": 336,
    "start_time": "2022-11-20T08:11:32.895Z"
   },
   {
    "duration": 25,
    "start_time": "2022-11-20T08:11:33.233Z"
   },
   {
    "duration": 17,
    "start_time": "2022-11-20T08:11:33.260Z"
   },
   {
    "duration": 482,
    "start_time": "2022-11-20T08:11:33.278Z"
   },
   {
    "duration": 294,
    "start_time": "2022-11-20T08:11:33.762Z"
   },
   {
    "duration": 318,
    "start_time": "2022-11-20T08:11:34.058Z"
   },
   {
    "duration": 11,
    "start_time": "2022-11-20T08:11:34.379Z"
   },
   {
    "duration": 123,
    "start_time": "2022-11-20T08:11:34.391Z"
   },
   {
    "duration": 260,
    "start_time": "2022-11-20T08:11:34.516Z"
   },
   {
    "duration": 287,
    "start_time": "2022-11-20T08:11:34.778Z"
   },
   {
    "duration": 246,
    "start_time": "2022-11-20T08:11:35.067Z"
   },
   {
    "duration": 10,
    "start_time": "2022-11-20T08:11:35.315Z"
   },
   {
    "duration": 26,
    "start_time": "2022-11-20T08:11:35.326Z"
   },
   {
    "duration": 243,
    "start_time": "2022-11-20T08:11:35.354Z"
   },
   {
    "duration": 10,
    "start_time": "2022-11-20T08:11:35.600Z"
   },
   {
    "duration": 12,
    "start_time": "2022-11-20T08:11:35.613Z"
   },
   {
    "duration": 270,
    "start_time": "2022-11-20T08:11:35.627Z"
   },
   {
    "duration": 27,
    "start_time": "2022-11-20T08:11:35.899Z"
   },
   {
    "duration": 17,
    "start_time": "2022-11-20T08:11:35.928Z"
   },
   {
    "duration": 16,
    "start_time": "2022-11-20T08:11:35.950Z"
   },
   {
    "duration": 11,
    "start_time": "2022-11-20T08:11:35.967Z"
   },
   {
    "duration": 16,
    "start_time": "2022-11-20T08:11:35.979Z"
   },
   {
    "duration": 432,
    "start_time": "2022-11-20T08:11:35.996Z"
   },
   {
    "duration": 25,
    "start_time": "2022-11-20T08:11:36.430Z"
   },
   {
    "duration": 18,
    "start_time": "2022-11-20T08:11:36.457Z"
   },
   {
    "duration": 50,
    "start_time": "2022-11-20T11:11:11.141Z"
   },
   {
    "duration": 1474,
    "start_time": "2022-11-20T11:11:17.577Z"
   },
   {
    "duration": 17,
    "start_time": "2022-11-20T11:11:19.053Z"
   },
   {
    "duration": 19,
    "start_time": "2022-11-20T11:11:19.071Z"
   },
   {
    "duration": 21,
    "start_time": "2022-11-20T11:11:19.091Z"
   },
   {
    "duration": 14,
    "start_time": "2022-11-20T11:11:19.115Z"
   },
   {
    "duration": 21,
    "start_time": "2022-11-20T11:11:19.131Z"
   },
   {
    "duration": 11,
    "start_time": "2022-11-20T11:11:19.153Z"
   },
   {
    "duration": 43,
    "start_time": "2022-11-20T11:11:19.165Z"
   },
   {
    "duration": 17,
    "start_time": "2022-11-20T11:11:19.210Z"
   },
   {
    "duration": 344,
    "start_time": "2022-11-20T11:11:19.229Z"
   },
   {
    "duration": 28,
    "start_time": "2022-11-20T11:11:19.574Z"
   },
   {
    "duration": 19,
    "start_time": "2022-11-20T11:11:19.604Z"
   },
   {
    "duration": 493,
    "start_time": "2022-11-20T11:11:19.625Z"
   },
   {
    "duration": 317,
    "start_time": "2022-11-20T11:11:20.121Z"
   },
   {
    "duration": 349,
    "start_time": "2022-11-20T11:11:20.440Z"
   },
   {
    "duration": 18,
    "start_time": "2022-11-20T11:11:20.790Z"
   },
   {
    "duration": 41,
    "start_time": "2022-11-20T11:11:20.810Z"
   },
   {
    "duration": 377,
    "start_time": "2022-11-20T11:11:20.853Z"
   },
   {
    "duration": 298,
    "start_time": "2022-11-20T11:11:21.231Z"
   },
   {
    "duration": 256,
    "start_time": "2022-11-20T11:11:21.530Z"
   },
   {
    "duration": 18,
    "start_time": "2022-11-20T11:11:21.788Z"
   },
   {
    "duration": 19,
    "start_time": "2022-11-20T11:11:21.808Z"
   },
   {
    "duration": 264,
    "start_time": "2022-11-20T11:11:21.829Z"
   },
   {
    "duration": 13,
    "start_time": "2022-11-20T11:11:22.095Z"
   },
   {
    "duration": 19,
    "start_time": "2022-11-20T11:11:22.111Z"
   },
   {
    "duration": 271,
    "start_time": "2022-11-20T11:11:22.132Z"
   },
   {
    "duration": 18,
    "start_time": "2022-11-20T11:11:22.405Z"
   },
   {
    "duration": 10,
    "start_time": "2022-11-20T11:11:22.425Z"
   },
   {
    "duration": 21,
    "start_time": "2022-11-20T11:11:22.437Z"
   },
   {
    "duration": 10,
    "start_time": "2022-11-20T11:11:22.459Z"
   },
   {
    "duration": 46,
    "start_time": "2022-11-20T11:11:22.470Z"
   },
   {
    "duration": 438,
    "start_time": "2022-11-20T11:11:22.517Z"
   },
   {
    "duration": 11,
    "start_time": "2022-11-20T11:11:22.957Z"
   },
   {
    "duration": 15,
    "start_time": "2022-11-20T11:11:22.970Z"
   },
   {
    "duration": 22,
    "start_time": "2022-11-20T11:15:06.932Z"
   },
   {
    "duration": 19,
    "start_time": "2022-11-20T11:15:12.980Z"
   },
   {
    "duration": 103,
    "start_time": "2022-11-20T11:15:56.769Z"
   },
   {
    "duration": 7,
    "start_time": "2022-11-20T11:16:31.532Z"
   },
   {
    "duration": 38,
    "start_time": "2022-11-20T11:22:28.937Z"
   },
   {
    "duration": 18,
    "start_time": "2022-11-20T11:22:58.085Z"
   },
   {
    "duration": 512,
    "start_time": "2022-11-20T11:25:36.143Z"
   },
   {
    "duration": 1135,
    "start_time": "2022-11-20T11:27:18.637Z"
   },
   {
    "duration": 13,
    "start_time": "2022-11-20T11:27:19.774Z"
   },
   {
    "duration": 14,
    "start_time": "2022-11-20T11:27:19.789Z"
   },
   {
    "duration": 34,
    "start_time": "2022-11-20T11:27:19.804Z"
   },
   {
    "duration": 18,
    "start_time": "2022-11-20T11:27:19.839Z"
   },
   {
    "duration": 5,
    "start_time": "2022-11-20T11:27:19.859Z"
   },
   {
    "duration": 45,
    "start_time": "2022-11-20T11:27:19.866Z"
   },
   {
    "duration": 9,
    "start_time": "2022-11-20T11:27:19.913Z"
   },
   {
    "duration": 17,
    "start_time": "2022-11-20T11:27:19.924Z"
   },
   {
    "duration": 11,
    "start_time": "2022-11-20T11:27:19.943Z"
   },
   {
    "duration": 308,
    "start_time": "2022-11-20T11:27:19.955Z"
   },
   {
    "duration": 19,
    "start_time": "2022-11-20T11:27:20.265Z"
   },
   {
    "duration": 17,
    "start_time": "2022-11-20T11:27:20.297Z"
   },
   {
    "duration": 431,
    "start_time": "2022-11-20T11:27:20.315Z"
   },
   {
    "duration": 266,
    "start_time": "2022-11-20T11:27:20.747Z"
   },
   {
    "duration": 319,
    "start_time": "2022-11-20T11:27:21.015Z"
   },
   {
    "duration": 11,
    "start_time": "2022-11-20T11:27:21.336Z"
   },
   {
    "duration": 53,
    "start_time": "2022-11-20T11:27:21.348Z"
   },
   {
    "duration": 308,
    "start_time": "2022-11-20T11:27:21.403Z"
   },
   {
    "duration": 283,
    "start_time": "2022-11-20T11:27:21.713Z"
   },
   {
    "duration": 251,
    "start_time": "2022-11-20T11:27:21.998Z"
   },
   {
    "duration": 10,
    "start_time": "2022-11-20T11:27:22.251Z"
   },
   {
    "duration": 28,
    "start_time": "2022-11-20T11:27:22.263Z"
   },
   {
    "duration": 236,
    "start_time": "2022-11-20T11:27:22.293Z"
   },
   {
    "duration": 10,
    "start_time": "2022-11-20T11:27:22.531Z"
   },
   {
    "duration": 17,
    "start_time": "2022-11-20T11:27:22.542Z"
   },
   {
    "duration": 245,
    "start_time": "2022-11-20T11:27:22.560Z"
   },
   {
    "duration": 16,
    "start_time": "2022-11-20T11:27:22.808Z"
   },
   {
    "duration": 12,
    "start_time": "2022-11-20T11:27:22.826Z"
   },
   {
    "duration": 16,
    "start_time": "2022-11-20T11:27:22.840Z"
   },
   {
    "duration": 12,
    "start_time": "2022-11-20T11:27:22.858Z"
   },
   {
    "duration": 18,
    "start_time": "2022-11-20T11:27:22.896Z"
   },
   {
    "duration": 432,
    "start_time": "2022-11-20T11:27:22.916Z"
   },
   {
    "duration": 12,
    "start_time": "2022-11-20T11:27:23.350Z"
   },
   {
    "duration": 14,
    "start_time": "2022-11-20T11:27:23.363Z"
   },
   {
    "duration": 275,
    "start_time": "2022-11-20T11:27:49.797Z"
   },
   {
    "duration": 320,
    "start_time": "2022-11-20T11:27:56.229Z"
   },
   {
    "duration": 222,
    "start_time": "2022-11-20T11:28:00.102Z"
   },
   {
    "duration": 218,
    "start_time": "2022-11-20T11:28:05.102Z"
   },
   {
    "duration": 208,
    "start_time": "2022-11-20T11:28:08.558Z"
   },
   {
    "duration": 227,
    "start_time": "2022-11-20T11:28:12.591Z"
   },
   {
    "duration": 228,
    "start_time": "2022-11-20T11:28:16.159Z"
   },
   {
    "duration": 201,
    "start_time": "2022-11-20T11:28:20.371Z"
   },
   {
    "duration": 204,
    "start_time": "2022-11-20T11:28:27.057Z"
   },
   {
    "duration": 208,
    "start_time": "2022-11-20T11:28:30.817Z"
   },
   {
    "duration": 115,
    "start_time": "2022-11-20T11:31:26.428Z"
   },
   {
    "duration": 115,
    "start_time": "2022-11-20T11:31:39.238Z"
   },
   {
    "duration": 13,
    "start_time": "2022-11-20T11:31:52.430Z"
   },
   {
    "duration": 7,
    "start_time": "2022-11-20T11:32:14.433Z"
   },
   {
    "duration": 9,
    "start_time": "2022-11-20T11:32:41.109Z"
   },
   {
    "duration": 11,
    "start_time": "2022-11-20T11:33:01.303Z"
   },
   {
    "duration": 8,
    "start_time": "2022-11-20T11:34:24.874Z"
   },
   {
    "duration": 37,
    "start_time": "2022-11-20T11:39:38.120Z"
   },
   {
    "duration": 47,
    "start_time": "2022-11-20T11:39:57.930Z"
   },
   {
    "duration": 63,
    "start_time": "2022-11-20T11:40:15.420Z"
   },
   {
    "duration": 4,
    "start_time": "2022-11-20T11:41:05.934Z"
   },
   {
    "duration": 9,
    "start_time": "2022-11-20T11:41:41.847Z"
   },
   {
    "duration": 1143,
    "start_time": "2022-11-20T11:41:53.725Z"
   },
   {
    "duration": 15,
    "start_time": "2022-11-20T11:41:54.870Z"
   },
   {
    "duration": 16,
    "start_time": "2022-11-20T11:41:54.886Z"
   },
   {
    "duration": 35,
    "start_time": "2022-11-20T11:41:54.904Z"
   },
   {
    "duration": 27,
    "start_time": "2022-11-20T11:41:54.941Z"
   },
   {
    "duration": 25,
    "start_time": "2022-11-20T11:41:54.972Z"
   },
   {
    "duration": 18,
    "start_time": "2022-11-20T11:41:54.999Z"
   },
   {
    "duration": 9,
    "start_time": "2022-11-20T11:41:55.018Z"
   },
   {
    "duration": 29,
    "start_time": "2022-11-20T11:41:55.029Z"
   },
   {
    "duration": 36,
    "start_time": "2022-11-20T11:41:55.060Z"
   },
   {
    "duration": 256,
    "start_time": "2022-11-20T11:41:55.098Z"
   },
   {
    "duration": 18,
    "start_time": "2022-11-20T11:41:55.355Z"
   },
   {
    "duration": 29,
    "start_time": "2022-11-20T11:41:55.375Z"
   },
   {
    "duration": 36,
    "start_time": "2022-11-20T11:41:55.405Z"
   },
   {
    "duration": 32,
    "start_time": "2022-11-20T11:41:55.443Z"
   },
   {
    "duration": 111,
    "start_time": "2022-11-20T11:41:55.476Z"
   },
   {
    "duration": 0,
    "start_time": "2022-11-20T11:41:55.589Z"
   },
   {
    "duration": 0,
    "start_time": "2022-11-20T11:41:55.590Z"
   },
   {
    "duration": 0,
    "start_time": "2022-11-20T11:41:55.591Z"
   },
   {
    "duration": 0,
    "start_time": "2022-11-20T11:41:55.592Z"
   },
   {
    "duration": 0,
    "start_time": "2022-11-20T11:41:55.593Z"
   },
   {
    "duration": 0,
    "start_time": "2022-11-20T11:41:55.596Z"
   },
   {
    "duration": 0,
    "start_time": "2022-11-20T11:41:55.597Z"
   },
   {
    "duration": 0,
    "start_time": "2022-11-20T11:41:55.598Z"
   },
   {
    "duration": 0,
    "start_time": "2022-11-20T11:41:55.599Z"
   },
   {
    "duration": 0,
    "start_time": "2022-11-20T11:41:55.600Z"
   },
   {
    "duration": 0,
    "start_time": "2022-11-20T11:41:55.601Z"
   },
   {
    "duration": 0,
    "start_time": "2022-11-20T11:41:55.601Z"
   },
   {
    "duration": 0,
    "start_time": "2022-11-20T11:41:55.602Z"
   },
   {
    "duration": 0,
    "start_time": "2022-11-20T11:41:55.603Z"
   },
   {
    "duration": 0,
    "start_time": "2022-11-20T11:41:55.604Z"
   },
   {
    "duration": 0,
    "start_time": "2022-11-20T11:41:55.605Z"
   },
   {
    "duration": 0,
    "start_time": "2022-11-20T11:41:55.606Z"
   },
   {
    "duration": 0,
    "start_time": "2022-11-20T11:41:55.607Z"
   },
   {
    "duration": 0,
    "start_time": "2022-11-20T11:41:55.608Z"
   },
   {
    "duration": 0,
    "start_time": "2022-11-20T11:41:55.609Z"
   },
   {
    "duration": 0,
    "start_time": "2022-11-20T11:41:55.610Z"
   },
   {
    "duration": 0,
    "start_time": "2022-11-20T11:41:55.611Z"
   },
   {
    "duration": 1216,
    "start_time": "2022-11-20T11:42:59.180Z"
   },
   {
    "duration": 14,
    "start_time": "2022-11-20T11:43:00.398Z"
   },
   {
    "duration": 39,
    "start_time": "2022-11-20T11:43:00.414Z"
   },
   {
    "duration": 91,
    "start_time": "2022-11-20T11:43:00.455Z"
   },
   {
    "duration": 27,
    "start_time": "2022-11-20T11:43:00.547Z"
   },
   {
    "duration": 11,
    "start_time": "2022-11-20T11:43:00.575Z"
   },
   {
    "duration": 56,
    "start_time": "2022-11-20T11:43:00.587Z"
   },
   {
    "duration": 16,
    "start_time": "2022-11-20T11:43:00.644Z"
   },
   {
    "duration": 33,
    "start_time": "2022-11-20T11:43:00.661Z"
   },
   {
    "duration": 45,
    "start_time": "2022-11-20T11:43:00.697Z"
   },
   {
    "duration": 240,
    "start_time": "2022-11-20T11:43:00.743Z"
   },
   {
    "duration": 27,
    "start_time": "2022-11-20T11:43:00.985Z"
   },
   {
    "duration": 48,
    "start_time": "2022-11-20T11:43:01.014Z"
   },
   {
    "duration": 14,
    "start_time": "2022-11-20T11:43:01.064Z"
   },
   {
    "duration": 46,
    "start_time": "2022-11-20T11:43:01.080Z"
   },
   {
    "duration": 0,
    "start_time": "2022-11-20T11:43:01.129Z"
   },
   {
    "duration": 0,
    "start_time": "2022-11-20T11:43:01.130Z"
   },
   {
    "duration": 0,
    "start_time": "2022-11-20T11:43:01.131Z"
   },
   {
    "duration": 0,
    "start_time": "2022-11-20T11:43:01.132Z"
   },
   {
    "duration": 0,
    "start_time": "2022-11-20T11:43:01.133Z"
   },
   {
    "duration": 0,
    "start_time": "2022-11-20T11:43:01.134Z"
   },
   {
    "duration": 0,
    "start_time": "2022-11-20T11:43:01.135Z"
   },
   {
    "duration": 0,
    "start_time": "2022-11-20T11:43:01.136Z"
   },
   {
    "duration": 0,
    "start_time": "2022-11-20T11:43:01.137Z"
   },
   {
    "duration": 0,
    "start_time": "2022-11-20T11:43:01.139Z"
   },
   {
    "duration": 0,
    "start_time": "2022-11-20T11:43:01.140Z"
   },
   {
    "duration": 0,
    "start_time": "2022-11-20T11:43:01.141Z"
   },
   {
    "duration": 0,
    "start_time": "2022-11-20T11:43:01.142Z"
   },
   {
    "duration": 0,
    "start_time": "2022-11-20T11:43:01.143Z"
   },
   {
    "duration": 0,
    "start_time": "2022-11-20T11:43:01.144Z"
   },
   {
    "duration": 0,
    "start_time": "2022-11-20T11:43:01.145Z"
   },
   {
    "duration": 0,
    "start_time": "2022-11-20T11:43:01.147Z"
   },
   {
    "duration": 0,
    "start_time": "2022-11-20T11:43:01.148Z"
   },
   {
    "duration": 0,
    "start_time": "2022-11-20T11:43:01.149Z"
   },
   {
    "duration": 0,
    "start_time": "2022-11-20T11:43:01.150Z"
   },
   {
    "duration": 0,
    "start_time": "2022-11-20T11:43:01.151Z"
   },
   {
    "duration": 0,
    "start_time": "2022-11-20T11:43:01.152Z"
   },
   {
    "duration": 0,
    "start_time": "2022-11-20T11:43:01.153Z"
   },
   {
    "duration": 1219,
    "start_time": "2022-11-20T11:43:18.871Z"
   },
   {
    "duration": 16,
    "start_time": "2022-11-20T11:43:20.092Z"
   },
   {
    "duration": 33,
    "start_time": "2022-11-20T11:43:20.110Z"
   },
   {
    "duration": 51,
    "start_time": "2022-11-20T11:43:20.146Z"
   },
   {
    "duration": 19,
    "start_time": "2022-11-20T11:43:20.199Z"
   },
   {
    "duration": 23,
    "start_time": "2022-11-20T11:43:20.220Z"
   },
   {
    "duration": 37,
    "start_time": "2022-11-20T11:43:20.245Z"
   },
   {
    "duration": 10,
    "start_time": "2022-11-20T11:43:20.284Z"
   },
   {
    "duration": 48,
    "start_time": "2022-11-20T11:43:20.296Z"
   },
   {
    "duration": 23,
    "start_time": "2022-11-20T11:43:20.346Z"
   },
   {
    "duration": 221,
    "start_time": "2022-11-20T11:43:20.371Z"
   },
   {
    "duration": 18,
    "start_time": "2022-11-20T11:43:20.593Z"
   },
   {
    "duration": 21,
    "start_time": "2022-11-20T11:43:20.612Z"
   },
   {
    "duration": 9,
    "start_time": "2022-11-20T11:43:20.635Z"
   },
   {
    "duration": 468,
    "start_time": "2022-11-20T11:43:20.646Z"
   },
   {
    "duration": 4,
    "start_time": "2022-11-20T11:43:21.116Z"
   },
   {
    "duration": 125,
    "start_time": "2022-11-20T11:43:21.121Z"
   },
   {
    "duration": 0,
    "start_time": "2022-11-20T11:43:21.248Z"
   },
   {
    "duration": 0,
    "start_time": "2022-11-20T11:43:21.249Z"
   },
   {
    "duration": 0,
    "start_time": "2022-11-20T11:43:21.250Z"
   },
   {
    "duration": 0,
    "start_time": "2022-11-20T11:43:21.251Z"
   },
   {
    "duration": 0,
    "start_time": "2022-11-20T11:43:21.253Z"
   },
   {
    "duration": 0,
    "start_time": "2022-11-20T11:43:21.254Z"
   },
   {
    "duration": 0,
    "start_time": "2022-11-20T11:43:21.255Z"
   },
   {
    "duration": 0,
    "start_time": "2022-11-20T11:43:21.256Z"
   },
   {
    "duration": 0,
    "start_time": "2022-11-20T11:43:21.257Z"
   },
   {
    "duration": 0,
    "start_time": "2022-11-20T11:43:21.259Z"
   },
   {
    "duration": 0,
    "start_time": "2022-11-20T11:43:21.260Z"
   },
   {
    "duration": 0,
    "start_time": "2022-11-20T11:43:21.261Z"
   },
   {
    "duration": 0,
    "start_time": "2022-11-20T11:43:21.262Z"
   },
   {
    "duration": 0,
    "start_time": "2022-11-20T11:43:21.264Z"
   },
   {
    "duration": 0,
    "start_time": "2022-11-20T11:43:21.296Z"
   },
   {
    "duration": 0,
    "start_time": "2022-11-20T11:43:21.297Z"
   },
   {
    "duration": 0,
    "start_time": "2022-11-20T11:43:21.299Z"
   },
   {
    "duration": 0,
    "start_time": "2022-11-20T11:43:21.300Z"
   },
   {
    "duration": 0,
    "start_time": "2022-11-20T11:43:21.301Z"
   },
   {
    "duration": 0,
    "start_time": "2022-11-20T11:43:21.303Z"
   },
   {
    "duration": 1145,
    "start_time": "2022-11-20T11:43:56.100Z"
   },
   {
    "duration": 13,
    "start_time": "2022-11-20T11:43:57.247Z"
   },
   {
    "duration": 16,
    "start_time": "2022-11-20T11:43:57.264Z"
   },
   {
    "duration": 48,
    "start_time": "2022-11-20T11:43:57.281Z"
   },
   {
    "duration": 18,
    "start_time": "2022-11-20T11:43:57.331Z"
   },
   {
    "duration": 5,
    "start_time": "2022-11-20T11:43:57.350Z"
   },
   {
    "duration": 46,
    "start_time": "2022-11-20T11:43:57.357Z"
   },
   {
    "duration": 10,
    "start_time": "2022-11-20T11:43:57.404Z"
   },
   {
    "duration": 17,
    "start_time": "2022-11-20T11:43:57.416Z"
   },
   {
    "duration": 11,
    "start_time": "2022-11-20T11:43:57.435Z"
   },
   {
    "duration": 252,
    "start_time": "2022-11-20T11:43:57.447Z"
   },
   {
    "duration": 21,
    "start_time": "2022-11-20T11:43:57.701Z"
   },
   {
    "duration": 18,
    "start_time": "2022-11-20T11:43:57.724Z"
   },
   {
    "duration": 10,
    "start_time": "2022-11-20T11:43:57.744Z"
   },
   {
    "duration": 457,
    "start_time": "2022-11-20T11:43:57.756Z"
   },
   {
    "duration": 275,
    "start_time": "2022-11-20T11:43:58.215Z"
   },
   {
    "duration": 300,
    "start_time": "2022-11-20T11:43:58.492Z"
   },
   {
    "duration": 11,
    "start_time": "2022-11-20T11:43:58.794Z"
   },
   {
    "duration": 36,
    "start_time": "2022-11-20T11:43:58.806Z"
   },
   {
    "duration": 342,
    "start_time": "2022-11-20T11:43:58.844Z"
   },
   {
    "duration": 288,
    "start_time": "2022-11-20T11:43:59.189Z"
   },
   {
    "duration": 231,
    "start_time": "2022-11-20T11:43:59.479Z"
   },
   {
    "duration": 9,
    "start_time": "2022-11-20T11:43:59.712Z"
   },
   {
    "duration": 13,
    "start_time": "2022-11-20T11:43:59.723Z"
   },
   {
    "duration": 255,
    "start_time": "2022-11-20T11:43:59.737Z"
   },
   {
    "duration": 10,
    "start_time": "2022-11-20T11:43:59.994Z"
   },
   {
    "duration": 14,
    "start_time": "2022-11-20T11:44:00.007Z"
   },
   {
    "duration": 256,
    "start_time": "2022-11-20T11:44:00.022Z"
   },
   {
    "duration": 22,
    "start_time": "2022-11-20T11:44:00.280Z"
   },
   {
    "duration": 38,
    "start_time": "2022-11-20T11:44:00.303Z"
   },
   {
    "duration": 33,
    "start_time": "2022-11-20T11:44:00.342Z"
   },
   {
    "duration": 25,
    "start_time": "2022-11-20T11:44:00.377Z"
   },
   {
    "duration": 62,
    "start_time": "2022-11-20T11:44:00.403Z"
   },
   {
    "duration": 421,
    "start_time": "2022-11-20T11:44:00.467Z"
   },
   {
    "duration": 15,
    "start_time": "2022-11-20T11:44:00.890Z"
   },
   {
    "duration": 23,
    "start_time": "2022-11-20T11:44:00.907Z"
   },
   {
    "duration": 222,
    "start_time": "2022-11-20T11:45:50.777Z"
   },
   {
    "duration": 302,
    "start_time": "2022-11-20T11:47:58.614Z"
   },
   {
    "duration": 115,
    "start_time": "2022-11-20T11:56:02.431Z"
   },
   {
    "duration": 373,
    "start_time": "2022-11-20T11:56:07.299Z"
   },
   {
    "duration": 272,
    "start_time": "2022-11-20T11:56:25.182Z"
   },
   {
    "duration": 9,
    "start_time": "2022-11-20T11:57:17.155Z"
   },
   {
    "duration": 1286,
    "start_time": "2022-11-20T11:57:35.057Z"
   },
   {
    "duration": 17,
    "start_time": "2022-11-20T11:57:36.346Z"
   },
   {
    "duration": 31,
    "start_time": "2022-11-20T11:57:36.365Z"
   },
   {
    "duration": 34,
    "start_time": "2022-11-20T11:57:36.398Z"
   },
   {
    "duration": 18,
    "start_time": "2022-11-20T11:57:36.434Z"
   },
   {
    "duration": 5,
    "start_time": "2022-11-20T11:57:36.453Z"
   },
   {
    "duration": 42,
    "start_time": "2022-11-20T11:57:36.460Z"
   },
   {
    "duration": 9,
    "start_time": "2022-11-20T11:57:36.503Z"
   },
   {
    "duration": 23,
    "start_time": "2022-11-20T11:57:36.513Z"
   },
   {
    "duration": 12,
    "start_time": "2022-11-20T11:57:36.537Z"
   },
   {
    "duration": 247,
    "start_time": "2022-11-20T11:57:36.551Z"
   },
   {
    "duration": 19,
    "start_time": "2022-11-20T11:57:36.801Z"
   },
   {
    "duration": 18,
    "start_time": "2022-11-20T11:57:36.821Z"
   },
   {
    "duration": 8,
    "start_time": "2022-11-20T11:57:36.842Z"
   },
   {
    "duration": 462,
    "start_time": "2022-11-20T11:57:36.852Z"
   },
   {
    "duration": 271,
    "start_time": "2022-11-20T11:57:37.315Z"
   },
   {
    "duration": 308,
    "start_time": "2022-11-20T11:57:37.588Z"
   },
   {
    "duration": 13,
    "start_time": "2022-11-20T11:57:37.898Z"
   },
   {
    "duration": 50,
    "start_time": "2022-11-20T11:57:37.913Z"
   },
   {
    "duration": 134,
    "start_time": "2022-11-20T11:57:37.965Z"
   },
   {
    "duration": 0,
    "start_time": "2022-11-20T11:57:38.100Z"
   },
   {
    "duration": 0,
    "start_time": "2022-11-20T11:57:38.102Z"
   },
   {
    "duration": 0,
    "start_time": "2022-11-20T11:57:38.103Z"
   },
   {
    "duration": 0,
    "start_time": "2022-11-20T11:57:38.104Z"
   },
   {
    "duration": 0,
    "start_time": "2022-11-20T11:57:38.105Z"
   },
   {
    "duration": 0,
    "start_time": "2022-11-20T11:57:38.107Z"
   },
   {
    "duration": 0,
    "start_time": "2022-11-20T11:57:38.108Z"
   },
   {
    "duration": 0,
    "start_time": "2022-11-20T11:57:38.109Z"
   },
   {
    "duration": 0,
    "start_time": "2022-11-20T11:57:38.110Z"
   },
   {
    "duration": 0,
    "start_time": "2022-11-20T11:57:38.111Z"
   },
   {
    "duration": 0,
    "start_time": "2022-11-20T11:57:38.111Z"
   },
   {
    "duration": 0,
    "start_time": "2022-11-20T11:57:38.112Z"
   },
   {
    "duration": 0,
    "start_time": "2022-11-20T11:57:38.113Z"
   },
   {
    "duration": 0,
    "start_time": "2022-11-20T11:57:38.114Z"
   },
   {
    "duration": 0,
    "start_time": "2022-11-20T11:57:38.115Z"
   },
   {
    "duration": 0,
    "start_time": "2022-11-20T11:57:38.116Z"
   },
   {
    "duration": 31,
    "start_time": "2022-11-20T11:58:09.785Z"
   },
   {
    "duration": 1207,
    "start_time": "2022-11-20T12:01:11.071Z"
   },
   {
    "duration": 15,
    "start_time": "2022-11-20T12:01:12.281Z"
   },
   {
    "duration": 17,
    "start_time": "2022-11-20T12:01:12.298Z"
   },
   {
    "duration": 34,
    "start_time": "2022-11-20T12:01:12.317Z"
   },
   {
    "duration": 18,
    "start_time": "2022-11-20T12:01:12.353Z"
   },
   {
    "duration": 25,
    "start_time": "2022-11-20T12:01:12.373Z"
   },
   {
    "duration": 22,
    "start_time": "2022-11-20T12:01:12.400Z"
   },
   {
    "duration": 9,
    "start_time": "2022-11-20T12:01:12.423Z"
   },
   {
    "duration": 23,
    "start_time": "2022-11-20T12:01:12.434Z"
   },
   {
    "duration": 37,
    "start_time": "2022-11-20T12:01:12.459Z"
   },
   {
    "duration": 225,
    "start_time": "2022-11-20T12:01:12.498Z"
   },
   {
    "duration": 17,
    "start_time": "2022-11-20T12:01:12.725Z"
   },
   {
    "duration": 17,
    "start_time": "2022-11-20T12:01:12.743Z"
   },
   {
    "duration": 35,
    "start_time": "2022-11-20T12:01:12.762Z"
   },
   {
    "duration": 454,
    "start_time": "2022-11-20T12:01:12.799Z"
   },
   {
    "duration": 263,
    "start_time": "2022-11-20T12:01:13.255Z"
   },
   {
    "duration": 318,
    "start_time": "2022-11-20T12:01:13.520Z"
   },
   {
    "duration": 12,
    "start_time": "2022-11-20T12:01:13.840Z"
   },
   {
    "duration": 57,
    "start_time": "2022-11-20T12:01:13.853Z"
   },
   {
    "duration": 329,
    "start_time": "2022-11-20T12:01:13.913Z"
   },
   {
    "duration": 273,
    "start_time": "2022-11-20T12:01:14.244Z"
   },
   {
    "duration": 244,
    "start_time": "2022-11-20T12:01:14.519Z"
   },
   {
    "duration": 10,
    "start_time": "2022-11-20T12:01:14.765Z"
   },
   {
    "duration": 26,
    "start_time": "2022-11-20T12:01:14.776Z"
   },
   {
    "duration": 255,
    "start_time": "2022-11-20T12:01:14.804Z"
   },
   {
    "duration": 10,
    "start_time": "2022-11-20T12:01:15.060Z"
   },
   {
    "duration": 26,
    "start_time": "2022-11-20T12:01:15.072Z"
   },
   {
    "duration": 249,
    "start_time": "2022-11-20T12:01:15.102Z"
   },
   {
    "duration": 16,
    "start_time": "2022-11-20T12:01:15.352Z"
   },
   {
    "duration": 27,
    "start_time": "2022-11-20T12:01:15.369Z"
   },
   {
    "duration": 16,
    "start_time": "2022-11-20T12:01:15.398Z"
   },
   {
    "duration": 10,
    "start_time": "2022-11-20T12:01:15.415Z"
   },
   {
    "duration": 17,
    "start_time": "2022-11-20T12:01:15.426Z"
   },
   {
    "duration": 414,
    "start_time": "2022-11-20T12:01:15.445Z"
   },
   {
    "duration": 11,
    "start_time": "2022-11-20T12:01:15.861Z"
   },
   {
    "duration": 30,
    "start_time": "2022-11-20T12:01:15.874Z"
   },
   {
    "duration": 49,
    "start_time": "2022-11-20T12:07:05.242Z"
   },
   {
    "duration": 45,
    "start_time": "2022-11-20T12:11:40.495Z"
   },
   {
    "duration": 193,
    "start_time": "2022-11-20T12:11:50.673Z"
   },
   {
    "duration": 535,
    "start_time": "2022-11-20T12:13:55.022Z"
   },
   {
    "duration": 431,
    "start_time": "2022-11-20T12:14:08.956Z"
   },
   {
    "duration": 392,
    "start_time": "2022-11-20T12:16:14.030Z"
   },
   {
    "duration": 434,
    "start_time": "2022-11-20T12:16:26.039Z"
   }
  ],
  "kernelspec": {
   "display_name": "Python 3 (ipykernel)",
   "language": "python",
   "name": "python3"
  },
  "language_info": {
   "codemirror_mode": {
    "name": "ipython",
    "version": 3
   },
   "file_extension": ".py",
   "mimetype": "text/x-python",
   "name": "python",
   "nbconvert_exporter": "python",
   "pygments_lexer": "ipython3",
   "version": "3.9.5"
  },
  "toc": {
   "base_numbering": 1,
   "nav_menu": {},
   "number_sections": true,
   "sideBar": true,
   "skip_h1_title": true,
   "title_cell": "Table of Contents",
   "title_sidebar": "Contents",
   "toc_cell": false,
   "toc_position": {},
   "toc_section_display": true,
   "toc_window_display": false
  }
 },
 "nbformat": 4,
 "nbformat_minor": 2
}
