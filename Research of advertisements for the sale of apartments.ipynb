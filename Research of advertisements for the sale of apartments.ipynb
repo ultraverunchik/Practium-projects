{
 "cells": [
  {
   "cell_type": "markdown",
   "metadata": {},
   "source": [
    "# Research of ads for the sale of apartments\n",
    "\n",
    "At your disposal is the data of the Yandex.Realty service - an archive of ads for the sale of apartments in St. Petersburg and neighboring settlements for several years. You need to learn how to determine the market value of real estate. Your job is to set the parameters. This will allow to build an automated system: it will track anomalies and fraudulent activity.\n",
    "\n",
    "Two types of data are available for each apartment for sale. The first ones are entered by the user, the second ones are obtained automatically on the basis of cartographic data. For example, the distance to the center, airport, nearest park and reservoir."
   ]
  },
  {
   "cell_type": "markdown",
   "metadata": {},
   "source": [
    "### Open the data file and examine the general information."
   ]
  },
  {
   "cell_type": "code",
   "execution_count": 1,
   "metadata": {
    "scrolled": true
   },
   "outputs": [
    {
     "name": "stdout",
     "output_type": "stream",
     "text": [
      "<class 'pandas.core.frame.DataFrame'>\n",
      "RangeIndex: 23699 entries, 0 to 23698\n",
      "Data columns (total 22 columns):\n",
      " #   Column                Non-Null Count  Dtype  \n",
      "---  ------                --------------  -----  \n",
      " 0   total_images          23699 non-null  int64  \n",
      " 1   last_price            23699 non-null  float64\n",
      " 2   total_area            23699 non-null  float64\n",
      " 3   first_day_exposition  23699 non-null  object \n",
      " 4   rooms                 23699 non-null  int64  \n",
      " 5   ceiling_height        14504 non-null  float64\n",
      " 6   floors_total          23613 non-null  float64\n",
      " 7   living_area           21796 non-null  float64\n",
      " 8   floor                 23699 non-null  int64  \n",
      " 9   is_apartment          2775 non-null   object \n",
      " 10  studio                23699 non-null  bool   \n",
      " 11  open_plan             23699 non-null  bool   \n",
      " 12  kitchen_area          21421 non-null  float64\n",
      " 13  balcony               12180 non-null  float64\n",
      " 14  locality_name         23650 non-null  object \n",
      " 15  airports_nearest      18157 non-null  float64\n",
      " 16  cityCenters_nearest   18180 non-null  float64\n",
      " 17  parks_around3000      18181 non-null  float64\n",
      " 18  parks_nearest         8079 non-null   float64\n",
      " 19  ponds_around3000      18181 non-null  float64\n",
      " 20  ponds_nearest         9110 non-null   float64\n",
      " 21  days_exposition       20518 non-null  float64\n",
      "dtypes: bool(2), float64(14), int64(3), object(3)\n",
      "memory usage: 3.7+ MB\n"
     ]
    },
    {
     "data": {
      "text/html": [
       "<div>\n",
       "<style scoped>\n",
       "    .dataframe tbody tr th:only-of-type {\n",
       "        vertical-align: middle;\n",
       "    }\n",
       "\n",
       "    .dataframe tbody tr th {\n",
       "        vertical-align: top;\n",
       "    }\n",
       "\n",
       "    .dataframe thead th {\n",
       "        text-align: right;\n",
       "    }\n",
       "</style>\n",
       "<table border=\"1\" class=\"dataframe\">\n",
       "  <thead>\n",
       "    <tr style=\"text-align: right;\">\n",
       "      <th></th>\n",
       "      <th>total_images</th>\n",
       "      <th>last_price</th>\n",
       "      <th>total_area</th>\n",
       "      <th>first_day_exposition</th>\n",
       "      <th>rooms</th>\n",
       "      <th>ceiling_height</th>\n",
       "      <th>floors_total</th>\n",
       "      <th>living_area</th>\n",
       "      <th>floor</th>\n",
       "      <th>is_apartment</th>\n",
       "      <th>...</th>\n",
       "      <th>kitchen_area</th>\n",
       "      <th>balcony</th>\n",
       "      <th>locality_name</th>\n",
       "      <th>airports_nearest</th>\n",
       "      <th>cityCenters_nearest</th>\n",
       "      <th>parks_around3000</th>\n",
       "      <th>parks_nearest</th>\n",
       "      <th>ponds_around3000</th>\n",
       "      <th>ponds_nearest</th>\n",
       "      <th>days_exposition</th>\n",
       "    </tr>\n",
       "  </thead>\n",
       "  <tbody>\n",
       "    <tr>\n",
       "      <th>0</th>\n",
       "      <td>20</td>\n",
       "      <td>13000000.0</td>\n",
       "      <td>108.00</td>\n",
       "      <td>2019-03-07T00:00:00</td>\n",
       "      <td>3</td>\n",
       "      <td>2.70</td>\n",
       "      <td>16.0</td>\n",
       "      <td>51.00</td>\n",
       "      <td>8</td>\n",
       "      <td>NaN</td>\n",
       "      <td>...</td>\n",
       "      <td>25.00</td>\n",
       "      <td>NaN</td>\n",
       "      <td>Санкт-Петербург</td>\n",
       "      <td>18863.0</td>\n",
       "      <td>16028.0</td>\n",
       "      <td>1.0</td>\n",
       "      <td>482.0</td>\n",
       "      <td>2.0</td>\n",
       "      <td>755.0</td>\n",
       "      <td>NaN</td>\n",
       "    </tr>\n",
       "    <tr>\n",
       "      <th>1</th>\n",
       "      <td>7</td>\n",
       "      <td>3350000.0</td>\n",
       "      <td>40.40</td>\n",
       "      <td>2018-12-04T00:00:00</td>\n",
       "      <td>1</td>\n",
       "      <td>NaN</td>\n",
       "      <td>11.0</td>\n",
       "      <td>18.60</td>\n",
       "      <td>1</td>\n",
       "      <td>NaN</td>\n",
       "      <td>...</td>\n",
       "      <td>11.00</td>\n",
       "      <td>2.0</td>\n",
       "      <td>посёлок Шушары</td>\n",
       "      <td>12817.0</td>\n",
       "      <td>18603.0</td>\n",
       "      <td>0.0</td>\n",
       "      <td>NaN</td>\n",
       "      <td>0.0</td>\n",
       "      <td>NaN</td>\n",
       "      <td>81.0</td>\n",
       "    </tr>\n",
       "    <tr>\n",
       "      <th>2</th>\n",
       "      <td>10</td>\n",
       "      <td>5196000.0</td>\n",
       "      <td>56.00</td>\n",
       "      <td>2015-08-20T00:00:00</td>\n",
       "      <td>2</td>\n",
       "      <td>NaN</td>\n",
       "      <td>5.0</td>\n",
       "      <td>34.30</td>\n",
       "      <td>4</td>\n",
       "      <td>NaN</td>\n",
       "      <td>...</td>\n",
       "      <td>8.30</td>\n",
       "      <td>0.0</td>\n",
       "      <td>Санкт-Петербург</td>\n",
       "      <td>21741.0</td>\n",
       "      <td>13933.0</td>\n",
       "      <td>1.0</td>\n",
       "      <td>90.0</td>\n",
       "      <td>2.0</td>\n",
       "      <td>574.0</td>\n",
       "      <td>558.0</td>\n",
       "    </tr>\n",
       "    <tr>\n",
       "      <th>3</th>\n",
       "      <td>0</td>\n",
       "      <td>64900000.0</td>\n",
       "      <td>159.00</td>\n",
       "      <td>2015-07-24T00:00:00</td>\n",
       "      <td>3</td>\n",
       "      <td>NaN</td>\n",
       "      <td>14.0</td>\n",
       "      <td>NaN</td>\n",
       "      <td>9</td>\n",
       "      <td>NaN</td>\n",
       "      <td>...</td>\n",
       "      <td>NaN</td>\n",
       "      <td>0.0</td>\n",
       "      <td>Санкт-Петербург</td>\n",
       "      <td>28098.0</td>\n",
       "      <td>6800.0</td>\n",
       "      <td>2.0</td>\n",
       "      <td>84.0</td>\n",
       "      <td>3.0</td>\n",
       "      <td>234.0</td>\n",
       "      <td>424.0</td>\n",
       "    </tr>\n",
       "    <tr>\n",
       "      <th>4</th>\n",
       "      <td>2</td>\n",
       "      <td>10000000.0</td>\n",
       "      <td>100.00</td>\n",
       "      <td>2018-06-19T00:00:00</td>\n",
       "      <td>2</td>\n",
       "      <td>3.03</td>\n",
       "      <td>14.0</td>\n",
       "      <td>32.00</td>\n",
       "      <td>13</td>\n",
       "      <td>NaN</td>\n",
       "      <td>...</td>\n",
       "      <td>41.00</td>\n",
       "      <td>NaN</td>\n",
       "      <td>Санкт-Петербург</td>\n",
       "      <td>31856.0</td>\n",
       "      <td>8098.0</td>\n",
       "      <td>2.0</td>\n",
       "      <td>112.0</td>\n",
       "      <td>1.0</td>\n",
       "      <td>48.0</td>\n",
       "      <td>121.0</td>\n",
       "    </tr>\n",
       "    <tr>\n",
       "      <th>5</th>\n",
       "      <td>10</td>\n",
       "      <td>2890000.0</td>\n",
       "      <td>30.40</td>\n",
       "      <td>2018-09-10T00:00:00</td>\n",
       "      <td>1</td>\n",
       "      <td>NaN</td>\n",
       "      <td>12.0</td>\n",
       "      <td>14.40</td>\n",
       "      <td>5</td>\n",
       "      <td>NaN</td>\n",
       "      <td>...</td>\n",
       "      <td>9.10</td>\n",
       "      <td>NaN</td>\n",
       "      <td>городской посёлок Янино-1</td>\n",
       "      <td>NaN</td>\n",
       "      <td>NaN</td>\n",
       "      <td>NaN</td>\n",
       "      <td>NaN</td>\n",
       "      <td>NaN</td>\n",
       "      <td>NaN</td>\n",
       "      <td>55.0</td>\n",
       "    </tr>\n",
       "    <tr>\n",
       "      <th>6</th>\n",
       "      <td>6</td>\n",
       "      <td>3700000.0</td>\n",
       "      <td>37.30</td>\n",
       "      <td>2017-11-02T00:00:00</td>\n",
       "      <td>1</td>\n",
       "      <td>NaN</td>\n",
       "      <td>26.0</td>\n",
       "      <td>10.60</td>\n",
       "      <td>6</td>\n",
       "      <td>NaN</td>\n",
       "      <td>...</td>\n",
       "      <td>14.40</td>\n",
       "      <td>1.0</td>\n",
       "      <td>посёлок Парголово</td>\n",
       "      <td>52996.0</td>\n",
       "      <td>19143.0</td>\n",
       "      <td>0.0</td>\n",
       "      <td>NaN</td>\n",
       "      <td>0.0</td>\n",
       "      <td>NaN</td>\n",
       "      <td>155.0</td>\n",
       "    </tr>\n",
       "    <tr>\n",
       "      <th>7</th>\n",
       "      <td>5</td>\n",
       "      <td>7915000.0</td>\n",
       "      <td>71.60</td>\n",
       "      <td>2019-04-18T00:00:00</td>\n",
       "      <td>2</td>\n",
       "      <td>NaN</td>\n",
       "      <td>24.0</td>\n",
       "      <td>NaN</td>\n",
       "      <td>22</td>\n",
       "      <td>NaN</td>\n",
       "      <td>...</td>\n",
       "      <td>18.90</td>\n",
       "      <td>2.0</td>\n",
       "      <td>Санкт-Петербург</td>\n",
       "      <td>23982.0</td>\n",
       "      <td>11634.0</td>\n",
       "      <td>0.0</td>\n",
       "      <td>NaN</td>\n",
       "      <td>0.0</td>\n",
       "      <td>NaN</td>\n",
       "      <td>NaN</td>\n",
       "    </tr>\n",
       "    <tr>\n",
       "      <th>8</th>\n",
       "      <td>20</td>\n",
       "      <td>2900000.0</td>\n",
       "      <td>33.16</td>\n",
       "      <td>2018-05-23T00:00:00</td>\n",
       "      <td>1</td>\n",
       "      <td>NaN</td>\n",
       "      <td>27.0</td>\n",
       "      <td>15.43</td>\n",
       "      <td>26</td>\n",
       "      <td>NaN</td>\n",
       "      <td>...</td>\n",
       "      <td>8.81</td>\n",
       "      <td>NaN</td>\n",
       "      <td>посёлок Мурино</td>\n",
       "      <td>NaN</td>\n",
       "      <td>NaN</td>\n",
       "      <td>NaN</td>\n",
       "      <td>NaN</td>\n",
       "      <td>NaN</td>\n",
       "      <td>NaN</td>\n",
       "      <td>189.0</td>\n",
       "    </tr>\n",
       "    <tr>\n",
       "      <th>9</th>\n",
       "      <td>18</td>\n",
       "      <td>5400000.0</td>\n",
       "      <td>61.00</td>\n",
       "      <td>2017-02-26T00:00:00</td>\n",
       "      <td>3</td>\n",
       "      <td>2.50</td>\n",
       "      <td>9.0</td>\n",
       "      <td>43.60</td>\n",
       "      <td>7</td>\n",
       "      <td>NaN</td>\n",
       "      <td>...</td>\n",
       "      <td>6.50</td>\n",
       "      <td>2.0</td>\n",
       "      <td>Санкт-Петербург</td>\n",
       "      <td>50898.0</td>\n",
       "      <td>15008.0</td>\n",
       "      <td>0.0</td>\n",
       "      <td>NaN</td>\n",
       "      <td>0.0</td>\n",
       "      <td>NaN</td>\n",
       "      <td>289.0</td>\n",
       "    </tr>\n",
       "  </tbody>\n",
       "</table>\n",
       "<p>10 rows × 22 columns</p>\n",
       "</div>"
      ],
      "text/plain": [
       "   total_images  last_price  total_area first_day_exposition  rooms  \\\n",
       "0            20  13000000.0      108.00  2019-03-07T00:00:00      3   \n",
       "1             7   3350000.0       40.40  2018-12-04T00:00:00      1   \n",
       "2            10   5196000.0       56.00  2015-08-20T00:00:00      2   \n",
       "3             0  64900000.0      159.00  2015-07-24T00:00:00      3   \n",
       "4             2  10000000.0      100.00  2018-06-19T00:00:00      2   \n",
       "5            10   2890000.0       30.40  2018-09-10T00:00:00      1   \n",
       "6             6   3700000.0       37.30  2017-11-02T00:00:00      1   \n",
       "7             5   7915000.0       71.60  2019-04-18T00:00:00      2   \n",
       "8            20   2900000.0       33.16  2018-05-23T00:00:00      1   \n",
       "9            18   5400000.0       61.00  2017-02-26T00:00:00      3   \n",
       "\n",
       "   ceiling_height  floors_total  living_area  floor is_apartment  ...  \\\n",
       "0            2.70          16.0        51.00      8          NaN  ...   \n",
       "1             NaN          11.0        18.60      1          NaN  ...   \n",
       "2             NaN           5.0        34.30      4          NaN  ...   \n",
       "3             NaN          14.0          NaN      9          NaN  ...   \n",
       "4            3.03          14.0        32.00     13          NaN  ...   \n",
       "5             NaN          12.0        14.40      5          NaN  ...   \n",
       "6             NaN          26.0        10.60      6          NaN  ...   \n",
       "7             NaN          24.0          NaN     22          NaN  ...   \n",
       "8             NaN          27.0        15.43     26          NaN  ...   \n",
       "9            2.50           9.0        43.60      7          NaN  ...   \n",
       "\n",
       "   kitchen_area  balcony              locality_name  airports_nearest  \\\n",
       "0         25.00      NaN            Санкт-Петербург           18863.0   \n",
       "1         11.00      2.0             посёлок Шушары           12817.0   \n",
       "2          8.30      0.0            Санкт-Петербург           21741.0   \n",
       "3           NaN      0.0            Санкт-Петербург           28098.0   \n",
       "4         41.00      NaN            Санкт-Петербург           31856.0   \n",
       "5          9.10      NaN  городской посёлок Янино-1               NaN   \n",
       "6         14.40      1.0          посёлок Парголово           52996.0   \n",
       "7         18.90      2.0            Санкт-Петербург           23982.0   \n",
       "8          8.81      NaN             посёлок Мурино               NaN   \n",
       "9          6.50      2.0            Санкт-Петербург           50898.0   \n",
       "\n",
       "  cityCenters_nearest  parks_around3000  parks_nearest  ponds_around3000  \\\n",
       "0             16028.0               1.0          482.0               2.0   \n",
       "1             18603.0               0.0            NaN               0.0   \n",
       "2             13933.0               1.0           90.0               2.0   \n",
       "3              6800.0               2.0           84.0               3.0   \n",
       "4              8098.0               2.0          112.0               1.0   \n",
       "5                 NaN               NaN            NaN               NaN   \n",
       "6             19143.0               0.0            NaN               0.0   \n",
       "7             11634.0               0.0            NaN               0.0   \n",
       "8                 NaN               NaN            NaN               NaN   \n",
       "9             15008.0               0.0            NaN               0.0   \n",
       "\n",
       "   ponds_nearest  days_exposition  \n",
       "0          755.0              NaN  \n",
       "1            NaN             81.0  \n",
       "2          574.0            558.0  \n",
       "3          234.0            424.0  \n",
       "4           48.0            121.0  \n",
       "5            NaN             55.0  \n",
       "6            NaN            155.0  \n",
       "7            NaN              NaN  \n",
       "8            NaN            189.0  \n",
       "9            NaN            289.0  \n",
       "\n",
       "[10 rows x 22 columns]"
      ]
     },
     "metadata": {},
     "output_type": "display_data"
    },
    {
     "data": {
      "image/png": "[encoded data removed]",
      "text/plain": [
       "<Figure size 1440x1440 with 20 Axes>"
      ]
     },
     "metadata": {
      "needs_background": "light"
     },
     "output_type": "display_data"
    }
   ],
   "source": [
    "import pandas as pd\n",
    "import matplotlib.pyplot as plt\n",
    "data = pd.read_csv('/datasets/real_estate_data.csv', sep='\\t')\n",
    "data.info()\n",
    "display(data.head(10))\n",
    "data.hist(figsize=(20,20))\n",
    "plt.show()"
   ]
  },
  {
   "cell_type": "markdown",
   "metadata": {},
   "source": [
    "**Conclusion**\n",
    "\n",
    "You can notice incorrect data types and gaps, let's look at it below"
   ]
  },
  {
   "cell_type": "markdown",
   "metadata": {},
   "source": [
    "### Data preprocessing"
   ]
  },
  {
   "cell_type": "code",
   "execution_count": 2,
   "metadata": {
    "scrolled": false
   },
   "outputs": [
    {
     "data": {
      "text/html": [
       "<div>\n",
       "<style scoped>\n",
       "    .dataframe tbody tr th:only-of-type {\n",
       "        vertical-align: middle;\n",
       "    }\n",
       "\n",
       "    .dataframe tbody tr th {\n",
       "        vertical-align: top;\n",
       "    }\n",
       "\n",
       "    .dataframe thead th {\n",
       "        text-align: right;\n",
       "    }\n",
       "</style>\n",
       "<table border=\"1\" class=\"dataframe\">\n",
       "  <thead>\n",
       "    <tr style=\"text-align: right;\">\n",
       "      <th></th>\n",
       "      <th>total_images</th>\n",
       "      <th>last_price</th>\n",
       "      <th>total_area</th>\n",
       "      <th>first_day_exposition</th>\n",
       "      <th>rooms</th>\n",
       "      <th>ceiling_height</th>\n",
       "      <th>floors_total</th>\n",
       "      <th>living_area</th>\n",
       "      <th>floor</th>\n",
       "      <th>is_apartment</th>\n",
       "      <th>...</th>\n",
       "      <th>kitchen_area</th>\n",
       "      <th>balcony</th>\n",
       "      <th>locality_name</th>\n",
       "      <th>airports_nearest</th>\n",
       "      <th>cityCenters_nearest</th>\n",
       "      <th>parks_around3000</th>\n",
       "      <th>parks_nearest</th>\n",
       "      <th>ponds_around3000</th>\n",
       "      <th>ponds_nearest</th>\n",
       "      <th>days_exposition</th>\n",
       "    </tr>\n",
       "  </thead>\n",
       "  <tbody>\n",
       "    <tr>\n",
       "      <th>0</th>\n",
       "      <td>20</td>\n",
       "      <td>13000000.0</td>\n",
       "      <td>108.00</td>\n",
       "      <td>2019-03-07T00:00:00</td>\n",
       "      <td>3</td>\n",
       "      <td>2.70</td>\n",
       "      <td>16.0</td>\n",
       "      <td>51.00</td>\n",
       "      <td>8</td>\n",
       "      <td>NaN</td>\n",
       "      <td>...</td>\n",
       "      <td>25.00</td>\n",
       "      <td>NaN</td>\n",
       "      <td>Санкт-Петербург</td>\n",
       "      <td>18863.0</td>\n",
       "      <td>16028.0</td>\n",
       "      <td>1.0</td>\n",
       "      <td>482.0</td>\n",
       "      <td>2.0</td>\n",
       "      <td>755.0</td>\n",
       "      <td>NaN</td>\n",
       "    </tr>\n",
       "    <tr>\n",
       "      <th>1</th>\n",
       "      <td>7</td>\n",
       "      <td>3350000.0</td>\n",
       "      <td>40.40</td>\n",
       "      <td>2018-12-04T00:00:00</td>\n",
       "      <td>1</td>\n",
       "      <td>NaN</td>\n",
       "      <td>11.0</td>\n",
       "      <td>18.60</td>\n",
       "      <td>1</td>\n",
       "      <td>NaN</td>\n",
       "      <td>...</td>\n",
       "      <td>11.00</td>\n",
       "      <td>2.0</td>\n",
       "      <td>посёлок Шушары</td>\n",
       "      <td>12817.0</td>\n",
       "      <td>18603.0</td>\n",
       "      <td>0.0</td>\n",
       "      <td>NaN</td>\n",
       "      <td>0.0</td>\n",
       "      <td>NaN</td>\n",
       "      <td>81.0</td>\n",
       "    </tr>\n",
       "    <tr>\n",
       "      <th>2</th>\n",
       "      <td>10</td>\n",
       "      <td>5196000.0</td>\n",
       "      <td>56.00</td>\n",
       "      <td>2015-08-20T00:00:00</td>\n",
       "      <td>2</td>\n",
       "      <td>NaN</td>\n",
       "      <td>5.0</td>\n",
       "      <td>34.30</td>\n",
       "      <td>4</td>\n",
       "      <td>NaN</td>\n",
       "      <td>...</td>\n",
       "      <td>8.30</td>\n",
       "      <td>0.0</td>\n",
       "      <td>Санкт-Петербург</td>\n",
       "      <td>21741.0</td>\n",
       "      <td>13933.0</td>\n",
       "      <td>1.0</td>\n",
       "      <td>90.0</td>\n",
       "      <td>2.0</td>\n",
       "      <td>574.0</td>\n",
       "      <td>558.0</td>\n",
       "    </tr>\n",
       "    <tr>\n",
       "      <th>3</th>\n",
       "      <td>0</td>\n",
       "      <td>64900000.0</td>\n",
       "      <td>159.00</td>\n",
       "      <td>2015-07-24T00:00:00</td>\n",
       "      <td>3</td>\n",
       "      <td>NaN</td>\n",
       "      <td>14.0</td>\n",
       "      <td>NaN</td>\n",
       "      <td>9</td>\n",
       "      <td>NaN</td>\n",
       "      <td>...</td>\n",
       "      <td>NaN</td>\n",
       "      <td>0.0</td>\n",
       "      <td>Санкт-Петербург</td>\n",
       "      <td>28098.0</td>\n",
       "      <td>6800.0</td>\n",
       "      <td>2.0</td>\n",
       "      <td>84.0</td>\n",
       "      <td>3.0</td>\n",
       "      <td>234.0</td>\n",
       "      <td>424.0</td>\n",
       "    </tr>\n",
       "    <tr>\n",
       "      <th>4</th>\n",
       "      <td>2</td>\n",
       "      <td>10000000.0</td>\n",
       "      <td>100.00</td>\n",
       "      <td>2018-06-19T00:00:00</td>\n",
       "      <td>2</td>\n",
       "      <td>3.03</td>\n",
       "      <td>14.0</td>\n",
       "      <td>32.00</td>\n",
       "      <td>13</td>\n",
       "      <td>NaN</td>\n",
       "      <td>...</td>\n",
       "      <td>41.00</td>\n",
       "      <td>NaN</td>\n",
       "      <td>Санкт-Петербург</td>\n",
       "      <td>31856.0</td>\n",
       "      <td>8098.0</td>\n",
       "      <td>2.0</td>\n",
       "      <td>112.0</td>\n",
       "      <td>1.0</td>\n",
       "      <td>48.0</td>\n",
       "      <td>121.0</td>\n",
       "    </tr>\n",
       "    <tr>\n",
       "      <th>5</th>\n",
       "      <td>10</td>\n",
       "      <td>2890000.0</td>\n",
       "      <td>30.40</td>\n",
       "      <td>2018-09-10T00:00:00</td>\n",
       "      <td>1</td>\n",
       "      <td>NaN</td>\n",
       "      <td>12.0</td>\n",
       "      <td>14.40</td>\n",
       "      <td>5</td>\n",
       "      <td>NaN</td>\n",
       "      <td>...</td>\n",
       "      <td>9.10</td>\n",
       "      <td>NaN</td>\n",
       "      <td>городской посёлок Янино-1</td>\n",
       "      <td>NaN</td>\n",
       "      <td>NaN</td>\n",
       "      <td>NaN</td>\n",
       "      <td>NaN</td>\n",
       "      <td>NaN</td>\n",
       "      <td>NaN</td>\n",
       "      <td>55.0</td>\n",
       "    </tr>\n",
       "    <tr>\n",
       "      <th>6</th>\n",
       "      <td>6</td>\n",
       "      <td>3700000.0</td>\n",
       "      <td>37.30</td>\n",
       "      <td>2017-11-02T00:00:00</td>\n",
       "      <td>1</td>\n",
       "      <td>NaN</td>\n",
       "      <td>26.0</td>\n",
       "      <td>10.60</td>\n",
       "      <td>6</td>\n",
       "      <td>NaN</td>\n",
       "      <td>...</td>\n",
       "      <td>14.40</td>\n",
       "      <td>1.0</td>\n",
       "      <td>посёлок Парголово</td>\n",
       "      <td>52996.0</td>\n",
       "      <td>19143.0</td>\n",
       "      <td>0.0</td>\n",
       "      <td>NaN</td>\n",
       "      <td>0.0</td>\n",
       "      <td>NaN</td>\n",
       "      <td>155.0</td>\n",
       "    </tr>\n",
       "    <tr>\n",
       "      <th>7</th>\n",
       "      <td>5</td>\n",
       "      <td>7915000.0</td>\n",
       "      <td>71.60</td>\n",
       "      <td>2019-04-18T00:00:00</td>\n",
       "      <td>2</td>\n",
       "      <td>NaN</td>\n",
       "      <td>24.0</td>\n",
       "      <td>NaN</td>\n",
       "      <td>22</td>\n",
       "      <td>NaN</td>\n",
       "      <td>...</td>\n",
       "      <td>18.90</td>\n",
       "      <td>2.0</td>\n",
       "      <td>Санкт-Петербург</td>\n",
       "      <td>23982.0</td>\n",
       "      <td>11634.0</td>\n",
       "      <td>0.0</td>\n",
       "      <td>NaN</td>\n",
       "      <td>0.0</td>\n",
       "      <td>NaN</td>\n",
       "      <td>NaN</td>\n",
       "    </tr>\n",
       "    <tr>\n",
       "      <th>8</th>\n",
       "      <td>20</td>\n",
       "      <td>2900000.0</td>\n",
       "      <td>33.16</td>\n",
       "      <td>2018-05-23T00:00:00</td>\n",
       "      <td>1</td>\n",
       "      <td>NaN</td>\n",
       "      <td>27.0</td>\n",
       "      <td>15.43</td>\n",
       "      <td>26</td>\n",
       "      <td>NaN</td>\n",
       "      <td>...</td>\n",
       "      <td>8.81</td>\n",
       "      <td>NaN</td>\n",
       "      <td>посёлок Мурино</td>\n",
       "      <td>NaN</td>\n",
       "      <td>NaN</td>\n",
       "      <td>NaN</td>\n",
       "      <td>NaN</td>\n",
       "      <td>NaN</td>\n",
       "      <td>NaN</td>\n",
       "      <td>189.0</td>\n",
       "    </tr>\n",
       "    <tr>\n",
       "      <th>9</th>\n",
       "      <td>18</td>\n",
       "      <td>5400000.0</td>\n",
       "      <td>61.00</td>\n",
       "      <td>2017-02-26T00:00:00</td>\n",
       "      <td>3</td>\n",
       "      <td>2.50</td>\n",
       "      <td>9.0</td>\n",
       "      <td>43.60</td>\n",
       "      <td>7</td>\n",
       "      <td>NaN</td>\n",
       "      <td>...</td>\n",
       "      <td>6.50</td>\n",
       "      <td>2.0</td>\n",
       "      <td>Санкт-Петербург</td>\n",
       "      <td>50898.0</td>\n",
       "      <td>15008.0</td>\n",
       "      <td>0.0</td>\n",
       "      <td>NaN</td>\n",
       "      <td>0.0</td>\n",
       "      <td>NaN</td>\n",
       "      <td>289.0</td>\n",
       "    </tr>\n",
       "  </tbody>\n",
       "</table>\n",
       "<p>10 rows × 22 columns</p>\n",
       "</div>"
      ],
      "text/plain": [
       "   total_images  last_price  total_area first_day_exposition  rooms  \\\n",
       "0            20  13000000.0      108.00  2019-03-07T00:00:00      3   \n",
       "1             7   3350000.0       40.40  2018-12-04T00:00:00      1   \n",
       "2            10   5196000.0       56.00  2015-08-20T00:00:00      2   \n",
       "3             0  64900000.0      159.00  2015-07-24T00:00:00      3   \n",
       "4             2  10000000.0      100.00  2018-06-19T00:00:00      2   \n",
       "5            10   2890000.0       30.40  2018-09-10T00:00:00      1   \n",
       "6             6   3700000.0       37.30  2017-11-02T00:00:00      1   \n",
       "7             5   7915000.0       71.60  2019-04-18T00:00:00      2   \n",
       "8            20   2900000.0       33.16  2018-05-23T00:00:00      1   \n",
       "9            18   5400000.0       61.00  2017-02-26T00:00:00      3   \n",
       "\n",
       "   ceiling_height  floors_total  living_area  floor is_apartment  ...  \\\n",
       "0            2.70          16.0        51.00      8          NaN  ...   \n",
       "1             NaN          11.0        18.60      1          NaN  ...   \n",
       "2             NaN           5.0        34.30      4          NaN  ...   \n",
       "3             NaN          14.0          NaN      9          NaN  ...   \n",
       "4            3.03          14.0        32.00     13          NaN  ...   \n",
       "5             NaN          12.0        14.40      5          NaN  ...   \n",
       "6             NaN          26.0        10.60      6          NaN  ...   \n",
       "7             NaN          24.0          NaN     22          NaN  ...   \n",
       "8             NaN          27.0        15.43     26          NaN  ...   \n",
       "9            2.50           9.0        43.60      7          NaN  ...   \n",
       "\n",
       "   kitchen_area  balcony              locality_name  airports_nearest  \\\n",
       "0         25.00      NaN            Санкт-Петербург           18863.0   \n",
       "1         11.00      2.0             посёлок Шушары           12817.0   \n",
       "2          8.30      0.0            Санкт-Петербург           21741.0   \n",
       "3           NaN      0.0            Санкт-Петербург           28098.0   \n",
       "4         41.00      NaN            Санкт-Петербург           31856.0   \n",
       "5          9.10      NaN  городской посёлок Янино-1               NaN   \n",
       "6         14.40      1.0          посёлок Парголово           52996.0   \n",
       "7         18.90      2.0            Санкт-Петербург           23982.0   \n",
       "8          8.81      NaN             посёлок Мурино               NaN   \n",
       "9          6.50      2.0            Санкт-Петербург           50898.0   \n",
       "\n",
       "  cityCenters_nearest  parks_around3000  parks_nearest  ponds_around3000  \\\n",
       "0             16028.0               1.0          482.0               2.0   \n",
       "1             18603.0               0.0            NaN               0.0   \n",
       "2             13933.0               1.0           90.0               2.0   \n",
       "3              6800.0               2.0           84.0               3.0   \n",
       "4              8098.0               2.0          112.0               1.0   \n",
       "5                 NaN               NaN            NaN               NaN   \n",
       "6             19143.0               0.0            NaN               0.0   \n",
       "7             11634.0               0.0            NaN               0.0   \n",
       "8                 NaN               NaN            NaN               NaN   \n",
       "9             15008.0               0.0            NaN               0.0   \n",
       "\n",
       "   ponds_nearest  days_exposition  \n",
       "0          755.0              NaN  \n",
       "1            NaN             81.0  \n",
       "2          574.0            558.0  \n",
       "3          234.0            424.0  \n",
       "4           48.0            121.0  \n",
       "5            NaN             55.0  \n",
       "6            NaN            155.0  \n",
       "7            NaN              NaN  \n",
       "8            NaN            189.0  \n",
       "9            NaN            289.0  \n",
       "\n",
       "[10 rows x 22 columns]"
      ]
     },
     "execution_count": 2,
     "metadata": {},
     "output_type": "execute_result"
    }
   ],
   "source": [
    "data.head(10)"
   ]
  },
  {
   "cell_type": "code",
   "execution_count": 3,
   "metadata": {
    "scrolled": false
   },
   "outputs": [
    {
     "data": {
      "text/plain": [
       "total_images                0\n",
       "open_plan                   0\n",
       "floor                       0\n",
       "rooms                       0\n",
       "studio                      0\n",
       "total_area                  0\n",
       "last_price                  0\n",
       "first_day_exposition        0\n",
       "locality_name              49\n",
       "floors_total               86\n",
       "living_area              1903\n",
       "kitchen_area             2278\n",
       "days_exposition          3181\n",
       "ponds_around3000         5518\n",
       "parks_around3000         5518\n",
       "cityCenters_nearest      5519\n",
       "airports_nearest         5542\n",
       "ceiling_height           9195\n",
       "balcony                 11519\n",
       "ponds_nearest           14589\n",
       "parks_nearest           15620\n",
       "is_apartment            20924\n",
       "dtype: int64"
      ]
     },
     "execution_count": 3,
     "metadata": {},
     "output_type": "execute_result"
    }
   ],
   "source": [
    "data.isnull().sum().sort_values()\n",
    "#посмотрим в каких стобцах пропуски и нужно ли их заполнять"
   ]
  },
  {
   "cell_type": "code",
   "execution_count": 4,
   "metadata": {
    "scrolled": true
   },
   "outputs": [
    {
     "data": {
      "text/plain": [
       "365"
      ]
     },
     "execution_count": 4,
     "metadata": {},
     "output_type": "execute_result"
    }
   ],
   "source": [
    "len(data['locality_name'].unique()) # how many unique values are in the city column"
   ]
  },
  {
   "cell_type": "code",
   "execution_count": 5,
   "metadata": {},
   "outputs": [
    {
     "data": {
      "text/plain": [
       "331"
      ]
     },
     "execution_count": 5,
     "metadata": {},
     "output_type": "execute_result"
    }
   ],
   "source": [
    "#replace all 'е' with 'ё' and see how many unique values are left\n",
    "data['locality_name'] = data['locality_name'].str.replace('ё', 'е', regex=True) \n",
    "len(data['locality_name'].unique())"
   ]
  },
  {
   "cell_type": "code",
   "execution_count": 6,
   "metadata": {},
   "outputs": [
    {
     "data": {
      "text/plain": [
       "array(['Санкт-Петербург', 'поселок Шушары', 'поселок Янино-1',\n",
       "       'поселок Парголово', 'поселок Мурино', 'Ломоносов', 'Сертолово',\n",
       "       'Петергоф', 'Пушкин', 'деревня Кудрово', 'Коммунар', 'Колпино',\n",
       "       'поселок Красный Бор', 'Гатчина', 'деревня Федоровское', 'Выборг',\n",
       "       'Кронштадт', 'Кировск', 'деревня Новое Девяткино',\n",
       "       'поселок Металлострой', 'поселок Лебяжье', 'поселок Сиверский',\n",
       "       'поселок Молодцово', 'поселок Кузьмоловский',\n",
       "       'садовое товарищество Новая Ропша', 'Павловск',\n",
       "       'деревня Пикколово', 'Всеволожск', 'Волхов', 'Кингисепп',\n",
       "       'Приозерск', 'Сестрорецк', 'деревня Куттузи', 'поселок Аннино',\n",
       "       'поселок Ефимовский', 'поселок Плодовое', 'деревня Заклинье',\n",
       "       'поселок Торковичи', 'поселок Первомайское', 'Красное Село',\n",
       "       'поселок Понтонный', 'Сясьстрой', 'деревня Старая',\n",
       "       'деревня Лесколово', 'поселок Новый Свет', 'Сланцы',\n",
       "       'село Путилово', 'Ивангород', 'Мурино', 'Шлиссельбург',\n",
       "       'Никольское', 'Зеленогорск', 'Сосновый Бор', 'деревня Оржицы',\n",
       "       'деревня Кальтино', 'Кудрово', 'поселок Романовка',\n",
       "       'поселок Бугры', 'поселок Рощино', 'Кириши', 'Луга', 'Волосово',\n",
       "       'Отрадное', 'село Павлово', 'поселок Оредеж', 'село Копорье',\n",
       "       'поселок Молодежное', 'Тихвин', 'поселок Победа', 'деревня Нурма',\n",
       "       'поселок Синявино', 'Тосно', 'поселок Стрельна', 'Бокситогорск',\n",
       "       'поселок Александровская', 'деревня Лопухинка', 'Пикалево',\n",
       "       'поселок Терволово', 'поселок Советский', 'Подпорожье',\n",
       "       'поселок Петровское', 'поселок Токсово', 'поселок Сельцо',\n",
       "       'поселок Вырица', 'деревня Кипень', 'деревня Келози',\n",
       "       'деревня Вартемяги', 'поселок Тельмана', 'поселок Севастьяново',\n",
       "       'поселок Большая Ижора', nan, 'поселок Павлово',\n",
       "       'деревня Агалатово', 'поселок Новогорелово', 'поселок Лесогорский',\n",
       "       'деревня Лаголово', 'поселок Цвелодубово', 'поселок Рахья',\n",
       "       'деревня Белогорка', 'поселок Заводской', 'поселок Новоселье',\n",
       "       'деревня Большие Колпаны', 'деревня Горбунки', 'деревня Батово',\n",
       "       'деревня Заневка', 'деревня Иссад', 'Приморск',\n",
       "       'поселок Федоровское', 'деревня Мистолово', 'Новая Ладога',\n",
       "       'поселок Зимитицы', 'поселок Барышево', 'деревня Разметелево',\n",
       "       'поселок имени Свердлова', 'деревня Пеники', 'поселок Рябово',\n",
       "       'деревня Пудомяги', 'поселок Корнево', 'деревня Низино',\n",
       "       'деревня Бегуницы', 'поселок Поляны', 'поселок Мга',\n",
       "       'поселок Елизаветино', 'поселок Кузнечное', 'деревня Колтуши',\n",
       "       'поселок Запорожское', 'деревня Гостилицы',\n",
       "       'деревня Малое Карлино', 'поселок Мичуринское',\n",
       "       'поселок имени Морозова', 'поселок Песочный', 'поселок Сосново',\n",
       "       'деревня Аро', 'поселок Ильичево', 'поселок Тайцы',\n",
       "       'деревня Малое Верево', 'деревня Извара', 'поселок Вещево',\n",
       "       'село Паша', 'деревня Калитино', 'поселок Ульяновка',\n",
       "       'деревня Чудской Бор', 'поселок Дубровка', 'деревня Мины',\n",
       "       'поселок Войсковицы', 'деревня Коркино', 'поселок Ропша',\n",
       "       'поселок Приладожский', 'поселок Щеглово', 'поселок Гаврилово',\n",
       "       'Лодейное Поле', 'деревня Рабитицы', 'поселок Никольский',\n",
       "       'деревня Кузьмолово', 'деревня Малые Колпаны',\n",
       "       'поселок Петро-Славянка', 'поселок Назия', 'поселок Репино',\n",
       "       'поселок Углово', 'поселок Старая Малукса',\n",
       "       'садовое товарищество Рахья', 'деревня Меньково',\n",
       "       'деревня Старые Бегуницы', 'поселок Саперный', 'поселок Семрино',\n",
       "       'поселок Глажево', 'поселок Кобринское', 'деревня Гарболово',\n",
       "       'деревня Юкки', 'поселок Приветнинское', 'деревня Мануйлово',\n",
       "       'деревня Пчева', 'поселок Цвылево', 'поселок Мельниково',\n",
       "       'поселок Пудость', 'поселок Усть-Луга', 'Светогорск', 'Любань',\n",
       "       'поселок Селезнево', 'Каменногорск', 'деревня Кривко',\n",
       "       'поселок Глебычево', 'деревня Парицы', 'поселок Жилпоселок',\n",
       "       'поселок Войскорово', 'село Никольское', 'поселок Стеклянный',\n",
       "       'поселок Важины', 'поселок Мыза-Ивановка', 'село Русско-Высоцкое',\n",
       "       'поселок Форносово', 'село Старая Ладога', 'поселок Житково',\n",
       "       'поселок Виллози', 'деревня Лампово', 'деревня Шпаньково',\n",
       "       'деревня Лаврики', 'поселок Сумино', 'поселок Возрождение',\n",
       "       'деревня Старосиверская', 'поселок Кикерино',\n",
       "       'деревня Старое Хинколово', 'поселок Пригородный',\n",
       "       'поселок Торфяное', 'поселок Будогощь', 'поселок Суходолье',\n",
       "       'поселок Красная Долина', 'деревня Хапо-Ое',\n",
       "       'поселок Дружная Горка', 'поселок Лисий Нос', 'деревня Яльгелево',\n",
       "       'село Рождествено', 'деревня Старополье', 'поселок Левашово',\n",
       "       'деревня Сяськелево', 'деревня Камышовка',\n",
       "       'садоводческое некоммерческое товарищество Лесная Поляна',\n",
       "       'деревня Хязельки', 'поселок Жилгородок', 'деревня Ялгино',\n",
       "       'поселок Новый Учхоз', 'поселок Гончарово', 'поселок Почап',\n",
       "       'поселок Саперное', 'поселок Платформа 69-й километр',\n",
       "       'поселок Каложицы', 'деревня Фалилеево', 'деревня Пельгора',\n",
       "       'деревня Торошковичи', 'поселок Белоостров', 'поселок Алексеевка',\n",
       "       'поселок Серебрянский', 'поселок Лукаши', 'деревня Щеглово',\n",
       "       'деревня Тарасово', 'поселок Кингисеппский', 'поселок Ушаки',\n",
       "       'деревня Котлы', 'деревня Сижно', 'деревня Торосово',\n",
       "       'поселок Форт Красная Горка', 'деревня Новолисино',\n",
       "       'поселок Громово', 'деревня Глинка', 'деревня Старая Пустошь',\n",
       "       'поселок Коммунары', 'поселок Починок', 'поселок Вознесенье',\n",
       "       'деревня Разбегаево', 'поселок Гладкое', 'поселок Тесово-4',\n",
       "       'деревня Бор', 'поселок Коробицыно', 'деревня Большая Вруда',\n",
       "       'деревня Курковицы', 'поселок Кобралово', 'деревня Суоранда',\n",
       "       'поселок Кондратьево', 'коттеджный поселок Счастье',\n",
       "       'поселок Любань', 'деревня Реброво', 'деревня Зимитицы',\n",
       "       'деревня Тойворово', 'поселок Семиозерье', 'поселок Лесное',\n",
       "       'поселок Совхозный', 'поселок Ленинское', 'поселок Суйда',\n",
       "       'деревня Нижние Осельки', 'поселок Свирь', 'поселок Перово',\n",
       "       'Высоцк', 'поселок Гарболово', 'село Шум', 'поселок Котельский',\n",
       "       'поселок Лужайка', 'деревня Большая Пустомержа',\n",
       "       'поселок Красносельское', 'деревня Вахнова Кара', 'деревня Пижма',\n",
       "       'коттеджный поселок Кивеннапа Север', 'поселок Ромашки',\n",
       "       'деревня Каськово', 'деревня Куровицы', 'поселок Плоское',\n",
       "       'поселок Кирпичное', 'деревня Ям-Тесово', 'деревня Раздолье',\n",
       "       'деревня Терпилицы', 'поселок Шугозеро', 'деревня Ваганово',\n",
       "       'поселок Пушное', 'садовое товарищество Садко',\n",
       "       'поселок Усть-Ижора', 'деревня Выскатка', 'поселок Свирьстрой',\n",
       "       'деревня Кисельня', 'деревня Трубников Бор', 'поселок Калитино',\n",
       "       'поселок Высокоключевой', 'садовое товарищество Приладожский',\n",
       "       'поселок Пансионат Зеленый Бор', 'деревня Ненимяки',\n",
       "       'деревня Снегиревка', 'деревня Рапполово', 'деревня Пустынка',\n",
       "       'поселок Рабитицы', 'деревня Большой Сабск', 'деревня Русско',\n",
       "       'деревня Лупполово', 'деревня Большое Рейзино',\n",
       "       'деревня Малая Романовка', 'поселок Дружноселье', 'поселок Пчевжа',\n",
       "       'поселок Володарское', 'деревня Нижняя',\n",
       "       'коттеджный поселок Лесное', 'деревня Тихковицы',\n",
       "       'деревня Борисова Грива', 'поселок Дзержинского'], dtype=object)"
      ]
     },
     "execution_count": 6,
     "metadata": {},
     "output_type": "execute_result"
    }
   ],
   "source": [
    "duplicates = ['поселок городского типа', 'городской поселок', 'поселок при железнодорожной станции', 'поселок станции']\n",
    "name = 'поселок'\n",
    "def replace_wrong_values(duplicates, name):\n",
    "    for wrong_value in duplicates:\n",
    "        data['locality_name'] = data['locality_name'].str.replace(wrong_value, name)\n",
    "replace_wrong_values(duplicates, name)\n",
    "data['locality_name'].unique()"
   ]
  },
  {
   "cell_type": "code",
   "execution_count": 7,
   "metadata": {},
   "outputs": [
    {
     "data": {
      "text/plain": [
       "array(['Санкт-Петербург', 'поселок Шушары', 'поселок Янино-1',\n",
       "       'поселок Парголово', 'поселок Мурино', 'Ломоносов', 'Сертолово',\n",
       "       'Петергоф', 'Пушкин', 'деревня Кудрово', 'Коммунар', 'Колпино',\n",
       "       'поселок Красный Бор', 'Гатчина', 'деревня Федоровское', 'Выборг',\n",
       "       'Кронштадт', 'Кировск', 'деревня Новое Девяткино',\n",
       "       'поселок Металлострой', 'поселок Лебяжье', 'поселок Сиверский',\n",
       "       'поселок Молодцово', 'поселок Кузьмоловский',\n",
       "       'садовое товарищество Новая Ропша', 'Павловск',\n",
       "       'деревня Пикколово', 'Всеволожск', 'Волхов', 'Кингисепп',\n",
       "       'Приозерск', 'Сестрорецк', 'деревня Куттузи', 'поселок Аннино',\n",
       "       'поселок Ефимовский', 'поселок Плодовое', 'деревня Заклинье',\n",
       "       'поселок Торковичи', 'поселок Первомайское', 'Красное Село',\n",
       "       'поселок Понтонный', 'Сясьстрой', 'деревня Старая',\n",
       "       'деревня Лесколово', 'поселок Новый Свет', 'Сланцы',\n",
       "       'село Путилово', 'Ивангород', 'Мурино', 'Шлиссельбург',\n",
       "       'Никольское', 'Зеленогорск', 'Сосновый Бор', 'деревня Оржицы',\n",
       "       'деревня Кальтино', 'Кудрово', 'поселок Романовка',\n",
       "       'поселок Бугры', 'поселок Рощино', 'Кириши', 'Луга', 'Волосово',\n",
       "       'Отрадное', 'село Павлово', 'поселок Оредеж', 'село Копорье',\n",
       "       'поселок Молодежное', 'Тихвин', 'поселок Победа', 'деревня Нурма',\n",
       "       'поселок Синявино', 'Тосно', 'поселок Стрельна', 'Бокситогорск',\n",
       "       'поселок Александровская', 'деревня Лопухинка', 'Пикалево',\n",
       "       'поселок Терволово', 'поселок Советский', 'Подпорожье',\n",
       "       'поселок Петровское', 'поселок Токсово', 'поселок Сельцо',\n",
       "       'поселок Вырица', 'деревня Кипень', 'деревня Келози',\n",
       "       'деревня Вартемяги', 'поселок Тельмана', 'поселок Севастьяново',\n",
       "       'поселок Большая Ижора', nan, 'поселок Павлово',\n",
       "       'деревня Агалатово', 'поселок Новогорелово', 'поселок Лесогорский',\n",
       "       'деревня Лаголово', 'поселок Цвелодубово', 'поселок Рахья',\n",
       "       'деревня Белогорка', 'поселок Заводской', 'поселок Новоселье',\n",
       "       'деревня Большие Колпаны', 'деревня Горбунки', 'деревня Батово',\n",
       "       'деревня Заневка', 'деревня Иссад', 'Приморск',\n",
       "       'поселок Федоровское', 'деревня Мистолово', 'Новая Ладога',\n",
       "       'поселок Зимитицы', 'поселок Барышево', 'деревня Разметелево',\n",
       "       'поселок имени Свердлова', 'деревня Пеники', 'поселок Рябово',\n",
       "       'деревня Пудомяги', 'поселок Корнево', 'деревня Низино',\n",
       "       'деревня Бегуницы', 'поселок Поляны', 'поселок Мга',\n",
       "       'поселок Елизаветино', 'поселок Кузнечное', 'деревня Колтуши',\n",
       "       'поселок Запорожское', 'деревня Гостилицы',\n",
       "       'деревня Малое Карлино', 'поселок Мичуринское',\n",
       "       'поселок имени Морозова', 'поселок Песочный', 'поселок Сосново',\n",
       "       'деревня Аро', 'поселок Ильичево', 'поселок Тайцы',\n",
       "       'деревня Малое Верево', 'деревня Извара', 'поселок Вещево',\n",
       "       'село Паша', 'деревня Калитино', 'поселок Ульяновка',\n",
       "       'деревня Чудской Бор', 'поселок Дубровка', 'деревня Мины',\n",
       "       'поселок Войсковицы', 'деревня Коркино', 'поселок Ропша',\n",
       "       'поселок Приладожский', 'поселок Щеглово', 'поселок Гаврилово',\n",
       "       'Лодейное Поле', 'деревня Рабитицы', 'поселок Никольский',\n",
       "       'деревня Кузьмолово', 'деревня Малые Колпаны',\n",
       "       'поселок Петро-Славянка', 'поселок Назия', 'поселок Репино',\n",
       "       'поселок Углово', 'поселок Старая Малукса',\n",
       "       'садовое товарищество Рахья', 'деревня Меньково',\n",
       "       'деревня Старые Бегуницы', 'поселок Саперный', 'поселок Семрино',\n",
       "       'поселок Глажево', 'поселок Кобринское', 'деревня Гарболово',\n",
       "       'деревня Юкки', 'поселок Приветнинское', 'деревня Мануйлово',\n",
       "       'деревня Пчева', 'поселок Цвылево', 'поселок Мельниково',\n",
       "       'поселок Пудость', 'поселок Усть-Луга', 'Светогорск', 'Любань',\n",
       "       'поселок Селезнево', 'Каменногорск', 'деревня Кривко',\n",
       "       'поселок Глебычево', 'деревня Парицы', 'поселок Жилпоселок',\n",
       "       'поселок Войскорово', 'село Никольское', 'поселок Стеклянный',\n",
       "       'поселок Важины', 'поселок Мыза-Ивановка', 'село Русско-Высоцкое',\n",
       "       'поселок Форносово', 'село Старая Ладога', 'поселок Житково',\n",
       "       'поселок Виллози', 'деревня Лампово', 'деревня Шпаньково',\n",
       "       'деревня Лаврики', 'поселок Сумино', 'поселок Возрождение',\n",
       "       'деревня Старосиверская', 'поселок Кикерино',\n",
       "       'деревня Старое Хинколово', 'поселок Пригородный',\n",
       "       'поселок Торфяное', 'поселок Будогощь', 'поселок Суходолье',\n",
       "       'поселок Красная Долина', 'деревня Хапо-Ое',\n",
       "       'поселок Дружная Горка', 'поселок Лисий Нос', 'деревня Яльгелево',\n",
       "       'село Рождествено', 'деревня Старополье', 'поселок Левашово',\n",
       "       'деревня Сяськелево', 'деревня Камышовка',\n",
       "       'садовое товарищество Лесная Поляна', 'деревня Хязельки',\n",
       "       'поселок Жилгородок', 'деревня Ялгино', 'поселок Новый Учхоз',\n",
       "       'поселок Гончарово', 'поселок Почап', 'поселок Саперное',\n",
       "       'поселок Платформа 69-й километр', 'поселок Каложицы',\n",
       "       'деревня Фалилеево', 'деревня Пельгора', 'деревня Торошковичи',\n",
       "       'поселок Белоостров', 'поселок Алексеевка', 'поселок Серебрянский',\n",
       "       'поселок Лукаши', 'деревня Щеглово', 'деревня Тарасово',\n",
       "       'поселок Кингисеппский', 'поселок Ушаки', 'деревня Котлы',\n",
       "       'деревня Сижно', 'деревня Торосово', 'поселок Форт Красная Горка',\n",
       "       'деревня Новолисино', 'поселок Громово', 'деревня Глинка',\n",
       "       'деревня Старая Пустошь', 'поселок Коммунары', 'поселок Починок',\n",
       "       'поселок Вознесенье', 'деревня Разбегаево', 'поселок Гладкое',\n",
       "       'поселок Тесово-4', 'деревня Бор', 'поселок Коробицыно',\n",
       "       'деревня Большая Вруда', 'деревня Курковицы', 'поселок Кобралово',\n",
       "       'деревня Суоранда', 'поселок Кондратьево',\n",
       "       'коттеджный поселок Счастье', 'поселок Любань', 'деревня Реброво',\n",
       "       'деревня Зимитицы', 'деревня Тойворово', 'поселок Семиозерье',\n",
       "       'поселок Лесное', 'поселок Совхозный', 'поселок Ленинское',\n",
       "       'поселок Суйда', 'деревня Нижние Осельки', 'поселок Свирь',\n",
       "       'поселок Перово', 'Высоцк', 'поселок Гарболово', 'село Шум',\n",
       "       'поселок Котельский', 'поселок Лужайка',\n",
       "       'деревня Большая Пустомержа', 'поселок Красносельское',\n",
       "       'деревня Вахнова Кара', 'деревня Пижма',\n",
       "       'коттеджный поселок Кивеннапа Север', 'поселок Ромашки',\n",
       "       'деревня Каськово', 'деревня Куровицы', 'поселок Плоское',\n",
       "       'поселок Кирпичное', 'деревня Ям-Тесово', 'деревня Раздолье',\n",
       "       'деревня Терпилицы', 'поселок Шугозеро', 'деревня Ваганово',\n",
       "       'поселок Пушное', 'садовое товарищество Садко',\n",
       "       'поселок Усть-Ижора', 'деревня Выскатка', 'поселок Свирьстрой',\n",
       "       'деревня Кисельня', 'деревня Трубников Бор', 'поселок Калитино',\n",
       "       'поселок Высокоключевой', 'садовое товарищество Приладожский',\n",
       "       'поселок Пансионат Зеленый Бор', 'деревня Ненимяки',\n",
       "       'деревня Снегиревка', 'деревня Рапполово', 'деревня Пустынка',\n",
       "       'поселок Рабитицы', 'деревня Большой Сабск', 'деревня Русско',\n",
       "       'деревня Лупполово', 'деревня Большое Рейзино',\n",
       "       'деревня Малая Романовка', 'поселок Дружноселье', 'поселок Пчевжа',\n",
       "       'поселок Володарское', 'деревня Нижняя',\n",
       "       'коттеджный поселок Лесное', 'деревня Тихковицы',\n",
       "       'деревня Борисова Грива', 'поселок Дзержинского'], dtype=object)"
      ]
     },
     "execution_count": 7,
     "metadata": {},
     "output_type": "execute_result"
    }
   ],
   "source": [
    "duplicates = ['садоводческое некоммерческое товарищество']\n",
    "name = 'садовое товарищество'\n",
    "def replace_wrong_values(duplicates, name):\n",
    "    for wrong_value in duplicates:\n",
    "        data['locality_name'] = data['locality_name'].str.replace(wrong_value, name)\n",
    "replace_wrong_values(duplicates, name)\n",
    "data['locality_name'].unique()"
   ]
  },
  {
   "cell_type": "code",
   "execution_count": 8,
   "metadata": {},
   "outputs": [
    {
     "data": {
      "text/plain": [
       "49"
      ]
     },
     "execution_count": 8,
     "metadata": {},
     "output_type": "execute_result"
    }
   ],
   "source": [
    "data['locality_name'].isna().sum() # how many gaps are in a column"
   ]
  },
  {
   "cell_type": "code",
   "execution_count": 9,
   "metadata": {},
   "outputs": [
    {
     "data": {
      "text/plain": [
       "0"
      ]
     },
     "execution_count": 9,
     "metadata": {},
     "output_type": "execute_result"
    }
   ],
   "source": [
    "data = data.dropna(subset=['locality_name']) # remove all gaps from the column, we don't need them\n",
    "data.reset_index(drop=True, inplace=True)\n",
    "data['locality_name'].isna().sum()"
   ]
  },
  {
   "cell_type": "code",
   "execution_count": 10,
   "metadata": {},
   "outputs": [
    {
     "data": {
      "text/plain": [
       "count    14490.000000\n",
       "mean         2.729355\n",
       "std          0.319691\n",
       "min          1.000000\n",
       "25%          2.510000\n",
       "50%          2.650000\n",
       "75%          2.800000\n",
       "max         14.000000\n",
       "Name: ceiling_height, dtype: float64"
      ]
     },
     "execution_count": 10,
     "metadata": {},
     "output_type": "execute_result"
    }
   ],
   "source": [
    "# consider the height of the ceilings\n",
    "data['ceiling_height'].value_counts()\n",
    "data['ceiling_height'].describe()\n",
    "#data = data.loc[(data['ceiling_height'] >= 1.75) & (data['ceiling_height'] <= 3.5)]\n",
    "data.loc[data['ceiling_height']>=20, 'ceiling_height']=data['ceiling_height']/10\n",
    "# got rid of anomalous ceiling heights above 20, most likely they made a mistake in these values, divided by 10\n",
    "data['ceiling_height'].describe()"
   ]
  },
  {
   "cell_type": "code",
   "execution_count": 12,
   "metadata": {},
   "outputs": [
    {
     "data": {
      "text/plain": [
       "array([nan, False, True], dtype=object)"
      ]
     },
     "execution_count": 12,
     "metadata": {},
     "output_type": "execute_result"
    }
   ],
   "source": [
    "# deal with apartments\n",
    "data['is_apartment'].unique()"
   ]
  },
  {
   "cell_type": "code",
   "execution_count": 13,
   "metadata": {
    "scrolled": false
   },
   "outputs": [
    {
     "data": {
      "text/html": [
       "<div>\n",
       "<style scoped>\n",
       "    .dataframe tbody tr th:only-of-type {\n",
       "        vertical-align: middle;\n",
       "    }\n",
       "\n",
       "    .dataframe tbody tr th {\n",
       "        vertical-align: top;\n",
       "    }\n",
       "\n",
       "    .dataframe thead th {\n",
       "        text-align: right;\n",
       "    }\n",
       "</style>\n",
       "<table border=\"1\" class=\"dataframe\">\n",
       "  <thead>\n",
       "    <tr style=\"text-align: right;\">\n",
       "      <th></th>\n",
       "      <th>total_images</th>\n",
       "      <th>last_price</th>\n",
       "      <th>total_area</th>\n",
       "      <th>first_day_exposition</th>\n",
       "      <th>rooms</th>\n",
       "      <th>ceiling_height</th>\n",
       "      <th>floors_total</th>\n",
       "      <th>living_area</th>\n",
       "      <th>floor</th>\n",
       "      <th>is_apartment</th>\n",
       "      <th>...</th>\n",
       "      <th>kitchen_area</th>\n",
       "      <th>balcony</th>\n",
       "      <th>locality_name</th>\n",
       "      <th>airports_nearest</th>\n",
       "      <th>cityCenters_nearest</th>\n",
       "      <th>parks_around3000</th>\n",
       "      <th>parks_nearest</th>\n",
       "      <th>ponds_around3000</th>\n",
       "      <th>ponds_nearest</th>\n",
       "      <th>days_exposition</th>\n",
       "    </tr>\n",
       "  </thead>\n",
       "  <tbody>\n",
       "    <tr>\n",
       "      <th>0</th>\n",
       "      <td>20</td>\n",
       "      <td>13000000.0</td>\n",
       "      <td>108.0</td>\n",
       "      <td>2019-03-07T00:00:00</td>\n",
       "      <td>3</td>\n",
       "      <td>2.70</td>\n",
       "      <td>16.0</td>\n",
       "      <td>51.0</td>\n",
       "      <td>8</td>\n",
       "      <td>False</td>\n",
       "      <td>...</td>\n",
       "      <td>25.0</td>\n",
       "      <td>NaN</td>\n",
       "      <td>Санкт-Петербург</td>\n",
       "      <td>18863.0</td>\n",
       "      <td>16028.0</td>\n",
       "      <td>1.0</td>\n",
       "      <td>482.0</td>\n",
       "      <td>2.0</td>\n",
       "      <td>755.0</td>\n",
       "      <td>NaN</td>\n",
       "    </tr>\n",
       "    <tr>\n",
       "      <th>1</th>\n",
       "      <td>7</td>\n",
       "      <td>3350000.0</td>\n",
       "      <td>40.4</td>\n",
       "      <td>2018-12-04T00:00:00</td>\n",
       "      <td>1</td>\n",
       "      <td>NaN</td>\n",
       "      <td>11.0</td>\n",
       "      <td>18.6</td>\n",
       "      <td>1</td>\n",
       "      <td>False</td>\n",
       "      <td>...</td>\n",
       "      <td>11.0</td>\n",
       "      <td>2.0</td>\n",
       "      <td>поселок Шушары</td>\n",
       "      <td>12817.0</td>\n",
       "      <td>18603.0</td>\n",
       "      <td>0.0</td>\n",
       "      <td>NaN</td>\n",
       "      <td>0.0</td>\n",
       "      <td>NaN</td>\n",
       "      <td>81.0</td>\n",
       "    </tr>\n",
       "    <tr>\n",
       "      <th>2</th>\n",
       "      <td>10</td>\n",
       "      <td>5196000.0</td>\n",
       "      <td>56.0</td>\n",
       "      <td>2015-08-20T00:00:00</td>\n",
       "      <td>2</td>\n",
       "      <td>NaN</td>\n",
       "      <td>5.0</td>\n",
       "      <td>34.3</td>\n",
       "      <td>4</td>\n",
       "      <td>False</td>\n",
       "      <td>...</td>\n",
       "      <td>8.3</td>\n",
       "      <td>0.0</td>\n",
       "      <td>Санкт-Петербург</td>\n",
       "      <td>21741.0</td>\n",
       "      <td>13933.0</td>\n",
       "      <td>1.0</td>\n",
       "      <td>90.0</td>\n",
       "      <td>2.0</td>\n",
       "      <td>574.0</td>\n",
       "      <td>558.0</td>\n",
       "    </tr>\n",
       "    <tr>\n",
       "      <th>3</th>\n",
       "      <td>0</td>\n",
       "      <td>64900000.0</td>\n",
       "      <td>159.0</td>\n",
       "      <td>2015-07-24T00:00:00</td>\n",
       "      <td>3</td>\n",
       "      <td>NaN</td>\n",
       "      <td>14.0</td>\n",
       "      <td>NaN</td>\n",
       "      <td>9</td>\n",
       "      <td>False</td>\n",
       "      <td>...</td>\n",
       "      <td>NaN</td>\n",
       "      <td>0.0</td>\n",
       "      <td>Санкт-Петербург</td>\n",
       "      <td>28098.0</td>\n",
       "      <td>6800.0</td>\n",
       "      <td>2.0</td>\n",
       "      <td>84.0</td>\n",
       "      <td>3.0</td>\n",
       "      <td>234.0</td>\n",
       "      <td>424.0</td>\n",
       "    </tr>\n",
       "    <tr>\n",
       "      <th>4</th>\n",
       "      <td>2</td>\n",
       "      <td>10000000.0</td>\n",
       "      <td>100.0</td>\n",
       "      <td>2018-06-19T00:00:00</td>\n",
       "      <td>2</td>\n",
       "      <td>3.03</td>\n",
       "      <td>14.0</td>\n",
       "      <td>32.0</td>\n",
       "      <td>13</td>\n",
       "      <td>False</td>\n",
       "      <td>...</td>\n",
       "      <td>41.0</td>\n",
       "      <td>NaN</td>\n",
       "      <td>Санкт-Петербург</td>\n",
       "      <td>31856.0</td>\n",
       "      <td>8098.0</td>\n",
       "      <td>2.0</td>\n",
       "      <td>112.0</td>\n",
       "      <td>1.0</td>\n",
       "      <td>48.0</td>\n",
       "      <td>121.0</td>\n",
       "    </tr>\n",
       "  </tbody>\n",
       "</table>\n",
       "<p>5 rows × 22 columns</p>\n",
       "</div>"
      ],
      "text/plain": [
       "   total_images  last_price  total_area first_day_exposition  rooms  \\\n",
       "0            20  13000000.0       108.0  2019-03-07T00:00:00      3   \n",
       "1             7   3350000.0        40.4  2018-12-04T00:00:00      1   \n",
       "2            10   5196000.0        56.0  2015-08-20T00:00:00      2   \n",
       "3             0  64900000.0       159.0  2015-07-24T00:00:00      3   \n",
       "4             2  10000000.0       100.0  2018-06-19T00:00:00      2   \n",
       "\n",
       "   ceiling_height  floors_total  living_area  floor  is_apartment  ...  \\\n",
       "0            2.70          16.0         51.0      8         False  ...   \n",
       "1             NaN          11.0         18.6      1         False  ...   \n",
       "2             NaN           5.0         34.3      4         False  ...   \n",
       "3             NaN          14.0          NaN      9         False  ...   \n",
       "4            3.03          14.0         32.0     13         False  ...   \n",
       "\n",
       "   kitchen_area  balcony    locality_name  airports_nearest  \\\n",
       "0          25.0      NaN  Санкт-Петербург           18863.0   \n",
       "1          11.0      2.0   поселок Шушары           12817.0   \n",
       "2           8.3      0.0  Санкт-Петербург           21741.0   \n",
       "3           NaN      0.0  Санкт-Петербург           28098.0   \n",
       "4          41.0      NaN  Санкт-Петербург           31856.0   \n",
       "\n",
       "  cityCenters_nearest  parks_around3000  parks_nearest  ponds_around3000  \\\n",
       "0             16028.0               1.0          482.0               2.0   \n",
       "1             18603.0               0.0            NaN               0.0   \n",
       "2             13933.0               1.0           90.0               2.0   \n",
       "3              6800.0               2.0           84.0               3.0   \n",
       "4              8098.0               2.0          112.0               1.0   \n",
       "\n",
       "   ponds_nearest  days_exposition  \n",
       "0          755.0              NaN  \n",
       "1            NaN             81.0  \n",
       "2          574.0            558.0  \n",
       "3          234.0            424.0  \n",
       "4           48.0            121.0  \n",
       "\n",
       "[5 rows x 22 columns]"
      ]
     },
     "execution_count": 13,
     "metadata": {},
     "output_type": "execute_result"
    }
   ],
   "source": [
    "# replace all NaNs with False\n",
    "data['is_apartment'] = data['is_apartment'].fillna(False)\n",
    "data.head()"
   ]
  },
  {
   "cell_type": "code",
   "execution_count": 14,
   "metadata": {
    "scrolled": false
   },
   "outputs": [
    {
     "name": "stdout",
     "output_type": "stream",
     "text": [
      "<class 'pandas.core.frame.DataFrame'>\n",
      "RangeIndex: 23650 entries, 0 to 23649\n",
      "Data columns (total 22 columns):\n",
      " #   Column                Non-Null Count  Dtype  \n",
      "---  ------                --------------  -----  \n",
      " 0   total_images          23650 non-null  int64  \n",
      " 1   last_price            23650 non-null  float64\n",
      " 2   total_area            23650 non-null  float64\n",
      " 3   first_day_exposition  23650 non-null  object \n",
      " 4   rooms                 23650 non-null  int64  \n",
      " 5   ceiling_height        14490 non-null  float64\n",
      " 6   floors_total          23565 non-null  float64\n",
      " 7   living_area           21752 non-null  float64\n",
      " 8   floor                 23650 non-null  int64  \n",
      " 9   is_apartment          23650 non-null  bool   \n",
      " 10  studio                23650 non-null  bool   \n",
      " 11  open_plan             23650 non-null  bool   \n",
      " 12  kitchen_area          21381 non-null  float64\n",
      " 13  balcony               12137 non-null  float64\n",
      " 14  locality_name         23650 non-null  object \n",
      " 15  airports_nearest      18116 non-null  float64\n",
      " 16  cityCenters_nearest   18139 non-null  float64\n",
      " 17  parks_around3000      18140 non-null  float64\n",
      " 18  parks_nearest         8064 non-null   float64\n",
      " 19  ponds_around3000      18140 non-null  float64\n",
      " 20  ponds_nearest         9085 non-null   float64\n",
      " 21  days_exposition       20470 non-null  float64\n",
      "dtypes: bool(3), float64(14), int64(3), object(2)\n",
      "memory usage: 3.5+ MB\n"
     ]
    }
   ],
   "source": [
    "data.info()"
   ]
  },
  {
   "cell_type": "code",
   "execution_count": 15,
   "metadata": {},
   "outputs": [
    {
     "name": "stdout",
     "output_type": "stream",
     "text": [
      "<class 'pandas.core.frame.DataFrame'>\n",
      "RangeIndex: 23650 entries, 0 to 23649\n",
      "Data columns (total 22 columns):\n",
      " #   Column                Non-Null Count  Dtype  \n",
      "---  ------                --------------  -----  \n",
      " 0   total_images          23650 non-null  int64  \n",
      " 1   last_price            23650 non-null  float64\n",
      " 2   total_area            23650 non-null  float64\n",
      " 3   first_day_exposition  23650 non-null  object \n",
      " 4   rooms                 23650 non-null  int64  \n",
      " 5   ceiling_height        14490 non-null  float64\n",
      " 6   floors_total          23565 non-null  float64\n",
      " 7   living_area           21752 non-null  float64\n",
      " 8   floor                 23650 non-null  int64  \n",
      " 9   is_apartment          23650 non-null  bool   \n",
      " 10  studio                23650 non-null  bool   \n",
      " 11  open_plan             23650 non-null  bool   \n",
      " 12  kitchen_area          21381 non-null  float64\n",
      " 13  balcony               12137 non-null  float64\n",
      " 14  locality_name         23650 non-null  object \n",
      " 15  airports_nearest      18116 non-null  float64\n",
      " 16  cityCenters_nearest   18139 non-null  float64\n",
      " 17  parks_around3000      18140 non-null  float64\n",
      " 18  parks_nearest         8064 non-null   float64\n",
      " 19  ponds_around3000      18140 non-null  float64\n",
      " 20  ponds_nearest         9085 non-null   float64\n",
      " 21  days_exposition       20470 non-null  float64\n",
      "dtypes: bool(3), float64(14), int64(3), object(2)\n",
      "memory usage: 3.5+ MB\n"
     ]
    }
   ],
   "source": [
    "data['is_apartment'] = data['is_apartment'].astype(bool) # change the type of the column to boolean so that all values of 0 change to False\n",
    "data.info()"
   ]
  },
  {
   "cell_type": "code",
   "execution_count": 16,
   "metadata": {},
   "outputs": [
    {
     "data": {
      "text/html": [
       "<div>\n",
       "<style scoped>\n",
       "    .dataframe tbody tr th:only-of-type {\n",
       "        vertical-align: middle;\n",
       "    }\n",
       "\n",
       "    .dataframe tbody tr th {\n",
       "        vertical-align: top;\n",
       "    }\n",
       "\n",
       "    .dataframe thead th {\n",
       "        text-align: right;\n",
       "    }\n",
       "</style>\n",
       "<table border=\"1\" class=\"dataframe\">\n",
       "  <thead>\n",
       "    <tr style=\"text-align: right;\">\n",
       "      <th></th>\n",
       "      <th>total_images</th>\n",
       "      <th>last_price</th>\n",
       "      <th>total_area</th>\n",
       "      <th>first_day_exposition</th>\n",
       "      <th>rooms</th>\n",
       "      <th>ceiling_height</th>\n",
       "      <th>floors_total</th>\n",
       "      <th>living_area</th>\n",
       "      <th>floor</th>\n",
       "      <th>is_apartment</th>\n",
       "      <th>...</th>\n",
       "      <th>kitchen_area</th>\n",
       "      <th>balcony</th>\n",
       "      <th>locality_name</th>\n",
       "      <th>airports_nearest</th>\n",
       "      <th>cityCenters_nearest</th>\n",
       "      <th>parks_around3000</th>\n",
       "      <th>parks_nearest</th>\n",
       "      <th>ponds_around3000</th>\n",
       "      <th>ponds_nearest</th>\n",
       "      <th>days_exposition</th>\n",
       "    </tr>\n",
       "  </thead>\n",
       "  <tbody>\n",
       "    <tr>\n",
       "      <th>0</th>\n",
       "      <td>20</td>\n",
       "      <td>13000000.0</td>\n",
       "      <td>108.0</td>\n",
       "      <td>2019-03-07T00:00:00</td>\n",
       "      <td>3</td>\n",
       "      <td>2.70</td>\n",
       "      <td>16.0</td>\n",
       "      <td>51.0</td>\n",
       "      <td>8</td>\n",
       "      <td>False</td>\n",
       "      <td>...</td>\n",
       "      <td>25.0</td>\n",
       "      <td>NaN</td>\n",
       "      <td>Санкт-Петербург</td>\n",
       "      <td>18863.0</td>\n",
       "      <td>16028.0</td>\n",
       "      <td>1.0</td>\n",
       "      <td>482.0</td>\n",
       "      <td>2.0</td>\n",
       "      <td>755.0</td>\n",
       "      <td>NaN</td>\n",
       "    </tr>\n",
       "    <tr>\n",
       "      <th>1</th>\n",
       "      <td>7</td>\n",
       "      <td>3350000.0</td>\n",
       "      <td>40.4</td>\n",
       "      <td>2018-12-04T00:00:00</td>\n",
       "      <td>1</td>\n",
       "      <td>NaN</td>\n",
       "      <td>11.0</td>\n",
       "      <td>18.6</td>\n",
       "      <td>1</td>\n",
       "      <td>False</td>\n",
       "      <td>...</td>\n",
       "      <td>11.0</td>\n",
       "      <td>2.0</td>\n",
       "      <td>поселок Шушары</td>\n",
       "      <td>12817.0</td>\n",
       "      <td>18603.0</td>\n",
       "      <td>0.0</td>\n",
       "      <td>NaN</td>\n",
       "      <td>0.0</td>\n",
       "      <td>NaN</td>\n",
       "      <td>81.0</td>\n",
       "    </tr>\n",
       "    <tr>\n",
       "      <th>2</th>\n",
       "      <td>10</td>\n",
       "      <td>5196000.0</td>\n",
       "      <td>56.0</td>\n",
       "      <td>2015-08-20T00:00:00</td>\n",
       "      <td>2</td>\n",
       "      <td>NaN</td>\n",
       "      <td>5.0</td>\n",
       "      <td>34.3</td>\n",
       "      <td>4</td>\n",
       "      <td>False</td>\n",
       "      <td>...</td>\n",
       "      <td>8.3</td>\n",
       "      <td>0.0</td>\n",
       "      <td>Санкт-Петербург</td>\n",
       "      <td>21741.0</td>\n",
       "      <td>13933.0</td>\n",
       "      <td>1.0</td>\n",
       "      <td>90.0</td>\n",
       "      <td>2.0</td>\n",
       "      <td>574.0</td>\n",
       "      <td>558.0</td>\n",
       "    </tr>\n",
       "    <tr>\n",
       "      <th>3</th>\n",
       "      <td>0</td>\n",
       "      <td>64900000.0</td>\n",
       "      <td>159.0</td>\n",
       "      <td>2015-07-24T00:00:00</td>\n",
       "      <td>3</td>\n",
       "      <td>NaN</td>\n",
       "      <td>14.0</td>\n",
       "      <td>NaN</td>\n",
       "      <td>9</td>\n",
       "      <td>False</td>\n",
       "      <td>...</td>\n",
       "      <td>NaN</td>\n",
       "      <td>0.0</td>\n",
       "      <td>Санкт-Петербург</td>\n",
       "      <td>28098.0</td>\n",
       "      <td>6800.0</td>\n",
       "      <td>2.0</td>\n",
       "      <td>84.0</td>\n",
       "      <td>3.0</td>\n",
       "      <td>234.0</td>\n",
       "      <td>424.0</td>\n",
       "    </tr>\n",
       "    <tr>\n",
       "      <th>4</th>\n",
       "      <td>2</td>\n",
       "      <td>10000000.0</td>\n",
       "      <td>100.0</td>\n",
       "      <td>2018-06-19T00:00:00</td>\n",
       "      <td>2</td>\n",
       "      <td>3.03</td>\n",
       "      <td>14.0</td>\n",
       "      <td>32.0</td>\n",
       "      <td>13</td>\n",
       "      <td>False</td>\n",
       "      <td>...</td>\n",
       "      <td>41.0</td>\n",
       "      <td>NaN</td>\n",
       "      <td>Санкт-Петербург</td>\n",
       "      <td>31856.0</td>\n",
       "      <td>8098.0</td>\n",
       "      <td>2.0</td>\n",
       "      <td>112.0</td>\n",
       "      <td>1.0</td>\n",
       "      <td>48.0</td>\n",
       "      <td>121.0</td>\n",
       "    </tr>\n",
       "  </tbody>\n",
       "</table>\n",
       "<p>5 rows × 22 columns</p>\n",
       "</div>"
      ],
      "text/plain": [
       "   total_images  last_price  total_area first_day_exposition  rooms  \\\n",
       "0            20  13000000.0       108.0  2019-03-07T00:00:00      3   \n",
       "1             7   3350000.0        40.4  2018-12-04T00:00:00      1   \n",
       "2            10   5196000.0        56.0  2015-08-20T00:00:00      2   \n",
       "3             0  64900000.0       159.0  2015-07-24T00:00:00      3   \n",
       "4             2  10000000.0       100.0  2018-06-19T00:00:00      2   \n",
       "\n",
       "   ceiling_height  floors_total  living_area  floor  is_apartment  ...  \\\n",
       "0            2.70          16.0         51.0      8         False  ...   \n",
       "1             NaN          11.0         18.6      1         False  ...   \n",
       "2             NaN           5.0         34.3      4         False  ...   \n",
       "3             NaN          14.0          NaN      9         False  ...   \n",
       "4            3.03          14.0         32.0     13         False  ...   \n",
       "\n",
       "   kitchen_area  balcony    locality_name  airports_nearest  \\\n",
       "0          25.0      NaN  Санкт-Петербург           18863.0   \n",
       "1          11.0      2.0   поселок Шушары           12817.0   \n",
       "2           8.3      0.0  Санкт-Петербург           21741.0   \n",
       "3           NaN      0.0  Санкт-Петербург           28098.0   \n",
       "4          41.0      NaN  Санкт-Петербург           31856.0   \n",
       "\n",
       "  cityCenters_nearest  parks_around3000  parks_nearest  ponds_around3000  \\\n",
       "0             16028.0               1.0          482.0               2.0   \n",
       "1             18603.0               0.0            NaN               0.0   \n",
       "2             13933.0               1.0           90.0               2.0   \n",
       "3              6800.0               2.0           84.0               3.0   \n",
       "4              8098.0               2.0          112.0               1.0   \n",
       "\n",
       "   ponds_nearest  days_exposition  \n",
       "0          755.0              NaN  \n",
       "1            NaN             81.0  \n",
       "2          574.0            558.0  \n",
       "3          234.0            424.0  \n",
       "4           48.0            121.0  \n",
       "\n",
       "[5 rows x 22 columns]"
      ]
     },
     "execution_count": 16,
     "metadata": {},
     "output_type": "execute_result"
    }
   ],
   "source": [
    "data.head() # all 0 values changed to False"
   ]
  },
  {
   "cell_type": "code",
   "execution_count": 17,
   "metadata": {},
   "outputs": [
    {
     "data": {
      "text/plain": [
       "array([nan,  2.,  0.,  1.,  5.,  4.,  3.])"
      ]
     },
     "execution_count": 17,
     "metadata": {},
     "output_type": "execute_result"
    }
   ],
   "source": [
    "# look at the balconies\n",
    "data['balcony'].unique()"
   ]
  },
  {
   "cell_type": "code",
   "execution_count": 18,
   "metadata": {},
   "outputs": [
    {
     "data": {
      "text/plain": [
       "array([0., 2., 1., 5., 4., 3.])"
      ]
     },
     "execution_count": 18,
     "metadata": {},
     "output_type": "execute_result"
    }
   ],
   "source": [
    "# all NaNs will be replaced by 0, because most people who do not have a balcony skip this point\n",
    "data['balcony'] = data['balcony'].fillna(0)\n",
    "data['balcony'].unique()"
   ]
  },
  {
   "cell_type": "code",
   "execution_count": 19,
   "metadata": {},
   "outputs": [
    {
     "data": {
      "text/plain": [
       "3.0       81\n",
       "4.0      182\n",
       "5.0      304\n",
       "2.0     3658\n",
       "1.0     4187\n",
       "0.0    15238\n",
       "Name: balcony, dtype: int64"
      ]
     },
     "execution_count": 19,
     "metadata": {},
     "output_type": "execute_result"
    }
   ],
   "source": [
    "data['balcony'].value_counts().sort_values() # sorted out with balconies"
   ]
  },
  {
   "cell_type": "code",
   "execution_count": 20,
   "metadata": {},
   "outputs": [
    {
     "data": {
      "text/html": [
       "<div>\n",
       "<style scoped>\n",
       "    .dataframe tbody tr th:only-of-type {\n",
       "        vertical-align: middle;\n",
       "    }\n",
       "\n",
       "    .dataframe tbody tr th {\n",
       "        vertical-align: top;\n",
       "    }\n",
       "\n",
       "    .dataframe thead th {\n",
       "        text-align: right;\n",
       "    }\n",
       "</style>\n",
       "<table border=\"1\" class=\"dataframe\">\n",
       "  <thead>\n",
       "    <tr style=\"text-align: right;\">\n",
       "      <th></th>\n",
       "      <th>total_images</th>\n",
       "      <th>last_price</th>\n",
       "      <th>total_area</th>\n",
       "      <th>first_day_exposition</th>\n",
       "      <th>rooms</th>\n",
       "      <th>ceiling_height</th>\n",
       "      <th>floors_total</th>\n",
       "      <th>living_area</th>\n",
       "      <th>floor</th>\n",
       "      <th>is_apartment</th>\n",
       "      <th>...</th>\n",
       "      <th>kitchen_area</th>\n",
       "      <th>balcony</th>\n",
       "      <th>locality_name</th>\n",
       "      <th>airports_nearest</th>\n",
       "      <th>cityCenters_nearest</th>\n",
       "      <th>parks_around3000</th>\n",
       "      <th>parks_nearest</th>\n",
       "      <th>ponds_around3000</th>\n",
       "      <th>ponds_nearest</th>\n",
       "      <th>days_exposition</th>\n",
       "    </tr>\n",
       "  </thead>\n",
       "  <tbody>\n",
       "    <tr>\n",
       "      <th>0</th>\n",
       "      <td>20</td>\n",
       "      <td>13000000.0</td>\n",
       "      <td>108.0</td>\n",
       "      <td>2019-03-07</td>\n",
       "      <td>3</td>\n",
       "      <td>2.70</td>\n",
       "      <td>16.0</td>\n",
       "      <td>51.0</td>\n",
       "      <td>8</td>\n",
       "      <td>False</td>\n",
       "      <td>...</td>\n",
       "      <td>25.0</td>\n",
       "      <td>0.0</td>\n",
       "      <td>Санкт-Петербург</td>\n",
       "      <td>18863.0</td>\n",
       "      <td>16028.0</td>\n",
       "      <td>1.0</td>\n",
       "      <td>482.0</td>\n",
       "      <td>2.0</td>\n",
       "      <td>755.0</td>\n",
       "      <td>NaN</td>\n",
       "    </tr>\n",
       "    <tr>\n",
       "      <th>1</th>\n",
       "      <td>7</td>\n",
       "      <td>3350000.0</td>\n",
       "      <td>40.4</td>\n",
       "      <td>2018-12-04</td>\n",
       "      <td>1</td>\n",
       "      <td>NaN</td>\n",
       "      <td>11.0</td>\n",
       "      <td>18.6</td>\n",
       "      <td>1</td>\n",
       "      <td>False</td>\n",
       "      <td>...</td>\n",
       "      <td>11.0</td>\n",
       "      <td>2.0</td>\n",
       "      <td>поселок Шушары</td>\n",
       "      <td>12817.0</td>\n",
       "      <td>18603.0</td>\n",
       "      <td>0.0</td>\n",
       "      <td>NaN</td>\n",
       "      <td>0.0</td>\n",
       "      <td>NaN</td>\n",
       "      <td>81.0</td>\n",
       "    </tr>\n",
       "    <tr>\n",
       "      <th>2</th>\n",
       "      <td>10</td>\n",
       "      <td>5196000.0</td>\n",
       "      <td>56.0</td>\n",
       "      <td>2015-08-20</td>\n",
       "      <td>2</td>\n",
       "      <td>NaN</td>\n",
       "      <td>5.0</td>\n",
       "      <td>34.3</td>\n",
       "      <td>4</td>\n",
       "      <td>False</td>\n",
       "      <td>...</td>\n",
       "      <td>8.3</td>\n",
       "      <td>0.0</td>\n",
       "      <td>Санкт-Петербург</td>\n",
       "      <td>21741.0</td>\n",
       "      <td>13933.0</td>\n",
       "      <td>1.0</td>\n",
       "      <td>90.0</td>\n",
       "      <td>2.0</td>\n",
       "      <td>574.0</td>\n",
       "      <td>558.0</td>\n",
       "    </tr>\n",
       "    <tr>\n",
       "      <th>3</th>\n",
       "      <td>0</td>\n",
       "      <td>64900000.0</td>\n",
       "      <td>159.0</td>\n",
       "      <td>2015-07-24</td>\n",
       "      <td>3</td>\n",
       "      <td>NaN</td>\n",
       "      <td>14.0</td>\n",
       "      <td>NaN</td>\n",
       "      <td>9</td>\n",
       "      <td>False</td>\n",
       "      <td>...</td>\n",
       "      <td>NaN</td>\n",
       "      <td>0.0</td>\n",
       "      <td>Санкт-Петербург</td>\n",
       "      <td>28098.0</td>\n",
       "      <td>6800.0</td>\n",
       "      <td>2.0</td>\n",
       "      <td>84.0</td>\n",
       "      <td>3.0</td>\n",
       "      <td>234.0</td>\n",
       "      <td>424.0</td>\n",
       "    </tr>\n",
       "    <tr>\n",
       "      <th>4</th>\n",
       "      <td>2</td>\n",
       "      <td>10000000.0</td>\n",
       "      <td>100.0</td>\n",
       "      <td>2018-06-19</td>\n",
       "      <td>2</td>\n",
       "      <td>3.03</td>\n",
       "      <td>14.0</td>\n",
       "      <td>32.0</td>\n",
       "      <td>13</td>\n",
       "      <td>False</td>\n",
       "      <td>...</td>\n",
       "      <td>41.0</td>\n",
       "      <td>0.0</td>\n",
       "      <td>Санкт-Петербург</td>\n",
       "      <td>31856.0</td>\n",
       "      <td>8098.0</td>\n",
       "      <td>2.0</td>\n",
       "      <td>112.0</td>\n",
       "      <td>1.0</td>\n",
       "      <td>48.0</td>\n",
       "      <td>121.0</td>\n",
       "    </tr>\n",
       "  </tbody>\n",
       "</table>\n",
       "<p>5 rows × 22 columns</p>\n",
       "</div>"
      ],
      "text/plain": [
       "   total_images  last_price  total_area first_day_exposition  rooms  \\\n",
       "0            20  13000000.0       108.0           2019-03-07      3   \n",
       "1             7   3350000.0        40.4           2018-12-04      1   \n",
       "2            10   5196000.0        56.0           2015-08-20      2   \n",
       "3             0  64900000.0       159.0           2015-07-24      3   \n",
       "4             2  10000000.0       100.0           2018-06-19      2   \n",
       "\n",
       "   ceiling_height  floors_total  living_area  floor  is_apartment  ...  \\\n",
       "0            2.70          16.0         51.0      8         False  ...   \n",
       "1             NaN          11.0         18.6      1         False  ...   \n",
       "2             NaN           5.0         34.3      4         False  ...   \n",
       "3             NaN          14.0          NaN      9         False  ...   \n",
       "4            3.03          14.0         32.0     13         False  ...   \n",
       "\n",
       "   kitchen_area  balcony    locality_name  airports_nearest  \\\n",
       "0          25.0      0.0  Санкт-Петербург           18863.0   \n",
       "1          11.0      2.0   поселок Шушары           12817.0   \n",
       "2           8.3      0.0  Санкт-Петербург           21741.0   \n",
       "3           NaN      0.0  Санкт-Петербург           28098.0   \n",
       "4          41.0      0.0  Санкт-Петербург           31856.0   \n",
       "\n",
       "  cityCenters_nearest  parks_around3000  parks_nearest  ponds_around3000  \\\n",
       "0             16028.0               1.0          482.0               2.0   \n",
       "1             18603.0               0.0            NaN               0.0   \n",
       "2             13933.0               1.0           90.0               2.0   \n",
       "3              6800.0               2.0           84.0               3.0   \n",
       "4              8098.0               2.0          112.0               1.0   \n",
       "\n",
       "   ponds_nearest  days_exposition  \n",
       "0          755.0              NaN  \n",
       "1            NaN             81.0  \n",
       "2          574.0            558.0  \n",
       "3          234.0            424.0  \n",
       "4           48.0            121.0  \n",
       "\n",
       "[5 rows x 22 columns]"
      ]
     },
     "execution_count": 20,
     "metadata": {},
     "output_type": "execute_result"
    }
   ],
   "source": [
    "# day of publication of announcements\n",
    "data['first_day_exposition'] = pd.to_datetime(data['first_day_exposition'], format=\"%Y-%m-%dT%H:%M:%S\")\n",
    "data.head()"
   ]
  },
  {
   "cell_type": "code",
   "execution_count": 21,
   "metadata": {
    "scrolled": true
   },
   "outputs": [
    {
     "data": {
      "text/html": [
       "<div>\n",
       "<style scoped>\n",
       "    .dataframe tbody tr th:only-of-type {\n",
       "        vertical-align: middle;\n",
       "    }\n",
       "\n",
       "    .dataframe tbody tr th {\n",
       "        vertical-align: top;\n",
       "    }\n",
       "\n",
       "    .dataframe thead th {\n",
       "        text-align: right;\n",
       "    }\n",
       "</style>\n",
       "<table border=\"1\" class=\"dataframe\">\n",
       "  <thead>\n",
       "    <tr style=\"text-align: right;\">\n",
       "      <th></th>\n",
       "      <th>total_images</th>\n",
       "      <th>last_price</th>\n",
       "      <th>total_area</th>\n",
       "      <th>first_day_exposition</th>\n",
       "      <th>rooms</th>\n",
       "      <th>ceiling_height</th>\n",
       "      <th>floors_total</th>\n",
       "      <th>living_area</th>\n",
       "      <th>floor</th>\n",
       "      <th>is_apartment</th>\n",
       "      <th>...</th>\n",
       "      <th>kitchen_area</th>\n",
       "      <th>balcony</th>\n",
       "      <th>locality_name</th>\n",
       "      <th>airports_nearest</th>\n",
       "      <th>cityCenters_nearest</th>\n",
       "      <th>parks_around3000</th>\n",
       "      <th>parks_nearest</th>\n",
       "      <th>ponds_around3000</th>\n",
       "      <th>ponds_nearest</th>\n",
       "      <th>days_exposition</th>\n",
       "    </tr>\n",
       "  </thead>\n",
       "  <tbody>\n",
       "    <tr>\n",
       "      <th>0</th>\n",
       "      <td>20</td>\n",
       "      <td>13000000.0</td>\n",
       "      <td>108.0</td>\n",
       "      <td>2019-03-07</td>\n",
       "      <td>3</td>\n",
       "      <td>2.70</td>\n",
       "      <td>16.0</td>\n",
       "      <td>51.0</td>\n",
       "      <td>8</td>\n",
       "      <td>False</td>\n",
       "      <td>...</td>\n",
       "      <td>25.0</td>\n",
       "      <td>0.0</td>\n",
       "      <td>Санкт-Петербург</td>\n",
       "      <td>18.863</td>\n",
       "      <td>16.028</td>\n",
       "      <td>1.0</td>\n",
       "      <td>0.482</td>\n",
       "      <td>2.0</td>\n",
       "      <td>0.755</td>\n",
       "      <td>NaN</td>\n",
       "    </tr>\n",
       "    <tr>\n",
       "      <th>1</th>\n",
       "      <td>7</td>\n",
       "      <td>3350000.0</td>\n",
       "      <td>40.4</td>\n",
       "      <td>2018-12-04</td>\n",
       "      <td>1</td>\n",
       "      <td>NaN</td>\n",
       "      <td>11.0</td>\n",
       "      <td>18.6</td>\n",
       "      <td>1</td>\n",
       "      <td>False</td>\n",
       "      <td>...</td>\n",
       "      <td>11.0</td>\n",
       "      <td>2.0</td>\n",
       "      <td>поселок Шушары</td>\n",
       "      <td>12.817</td>\n",
       "      <td>18.603</td>\n",
       "      <td>0.0</td>\n",
       "      <td>NaN</td>\n",
       "      <td>0.0</td>\n",
       "      <td>NaN</td>\n",
       "      <td>81.0</td>\n",
       "    </tr>\n",
       "    <tr>\n",
       "      <th>2</th>\n",
       "      <td>10</td>\n",
       "      <td>5196000.0</td>\n",
       "      <td>56.0</td>\n",
       "      <td>2015-08-20</td>\n",
       "      <td>2</td>\n",
       "      <td>NaN</td>\n",
       "      <td>5.0</td>\n",
       "      <td>34.3</td>\n",
       "      <td>4</td>\n",
       "      <td>False</td>\n",
       "      <td>...</td>\n",
       "      <td>8.3</td>\n",
       "      <td>0.0</td>\n",
       "      <td>Санкт-Петербург</td>\n",
       "      <td>21.741</td>\n",
       "      <td>13.933</td>\n",
       "      <td>1.0</td>\n",
       "      <td>0.090</td>\n",
       "      <td>2.0</td>\n",
       "      <td>0.574</td>\n",
       "      <td>558.0</td>\n",
       "    </tr>\n",
       "    <tr>\n",
       "      <th>3</th>\n",
       "      <td>0</td>\n",
       "      <td>64900000.0</td>\n",
       "      <td>159.0</td>\n",
       "      <td>2015-07-24</td>\n",
       "      <td>3</td>\n",
       "      <td>NaN</td>\n",
       "      <td>14.0</td>\n",
       "      <td>NaN</td>\n",
       "      <td>9</td>\n",
       "      <td>False</td>\n",
       "      <td>...</td>\n",
       "      <td>NaN</td>\n",
       "      <td>0.0</td>\n",
       "      <td>Санкт-Петербург</td>\n",
       "      <td>28.098</td>\n",
       "      <td>6.800</td>\n",
       "      <td>2.0</td>\n",
       "      <td>0.084</td>\n",
       "      <td>3.0</td>\n",
       "      <td>0.234</td>\n",
       "      <td>424.0</td>\n",
       "    </tr>\n",
       "    <tr>\n",
       "      <th>4</th>\n",
       "      <td>2</td>\n",
       "      <td>10000000.0</td>\n",
       "      <td>100.0</td>\n",
       "      <td>2018-06-19</td>\n",
       "      <td>2</td>\n",
       "      <td>3.03</td>\n",
       "      <td>14.0</td>\n",
       "      <td>32.0</td>\n",
       "      <td>13</td>\n",
       "      <td>False</td>\n",
       "      <td>...</td>\n",
       "      <td>41.0</td>\n",
       "      <td>0.0</td>\n",
       "      <td>Санкт-Петербург</td>\n",
       "      <td>31.856</td>\n",
       "      <td>8.098</td>\n",
       "      <td>2.0</td>\n",
       "      <td>0.112</td>\n",
       "      <td>1.0</td>\n",
       "      <td>0.048</td>\n",
       "      <td>121.0</td>\n",
       "    </tr>\n",
       "  </tbody>\n",
       "</table>\n",
       "<p>5 rows × 22 columns</p>\n",
       "</div>"
      ],
      "text/plain": [
       "   total_images  last_price  total_area first_day_exposition  rooms  \\\n",
       "0            20  13000000.0       108.0           2019-03-07      3   \n",
       "1             7   3350000.0        40.4           2018-12-04      1   \n",
       "2            10   5196000.0        56.0           2015-08-20      2   \n",
       "3             0  64900000.0       159.0           2015-07-24      3   \n",
       "4             2  10000000.0       100.0           2018-06-19      2   \n",
       "\n",
       "   ceiling_height  floors_total  living_area  floor  is_apartment  ...  \\\n",
       "0            2.70          16.0         51.0      8         False  ...   \n",
       "1             NaN          11.0         18.6      1         False  ...   \n",
       "2             NaN           5.0         34.3      4         False  ...   \n",
       "3             NaN          14.0          NaN      9         False  ...   \n",
       "4            3.03          14.0         32.0     13         False  ...   \n",
       "\n",
       "   kitchen_area  balcony    locality_name  airports_nearest  \\\n",
       "0          25.0      0.0  Санкт-Петербург            18.863   \n",
       "1          11.0      2.0   поселок Шушары            12.817   \n",
       "2           8.3      0.0  Санкт-Петербург            21.741   \n",
       "3           NaN      0.0  Санкт-Петербург            28.098   \n",
       "4          41.0      0.0  Санкт-Петербург            31.856   \n",
       "\n",
       "  cityCenters_nearest  parks_around3000  parks_nearest  ponds_around3000  \\\n",
       "0              16.028               1.0          0.482               2.0   \n",
       "1              18.603               0.0            NaN               0.0   \n",
       "2              13.933               1.0          0.090               2.0   \n",
       "3               6.800               2.0          0.084               3.0   \n",
       "4               8.098               2.0          0.112               1.0   \n",
       "\n",
       "   ponds_nearest  days_exposition  \n",
       "0          0.755              NaN  \n",
       "1            NaN             81.0  \n",
       "2          0.574            558.0  \n",
       "3          0.234            424.0  \n",
       "4          0.048            121.0  \n",
       "\n",
       "[5 rows x 22 columns]"
      ]
     },
     "execution_count": 21,
     "metadata": {},
     "output_type": "execute_result"
    }
   ],
   "source": [
    "# convert all columns to kilometers\n",
    "data['cityCenters_nearest'] = data['cityCenters_nearest'] / 1000\n",
    "data['airports_nearest'] = data['airports_nearest'] / 1000\n",
    "data['parks_nearest'] = data['parks_nearest'] / 1000\n",
    "data['ponds_nearest'] = data['ponds_nearest'] / 1000\n",
    "data.head()"
   ]
  },
  {
   "cell_type": "code",
   "execution_count": 22,
   "metadata": {},
   "outputs": [
    {
     "data": {
      "text/plain": [
       "<AxesSubplot:>"
      ]
     },
     "execution_count": 22,
     "metadata": {},
     "output_type": "execute_result"
    },
    {
     "data": {
      "image/png": "[encoded data removed]",
      "text/plain": [
       "<Figure size 432x288 with 1 Axes>"
      ]
     },
     "metadata": {
      "needs_background": "light"
     },
     "output_type": "display_data"
    }
   ],
   "source": [
    "data.boxplot(column='rooms')"
   ]
  },
  {
   "cell_type": "code",
   "execution_count": 23,
   "metadata": {},
   "outputs": [
    {
     "data": {
      "text/plain": [
       "count    23455.000000\n",
       "mean         2.029631\n",
       "std          0.973653\n",
       "min          0.000000\n",
       "25%          1.000000\n",
       "50%          2.000000\n",
       "75%          3.000000\n",
       "max          5.000000\n",
       "Name: rooms, dtype: float64"
      ]
     },
     "execution_count": 23,
     "metadata": {},
     "output_type": "execute_result"
    },
    {
     "data": {
      "image/png": "[encoded data removed]",
      "text/plain": [
       "<Figure size 432x288 with 1 Axes>"
      ]
     },
     "metadata": {
      "needs_background": "light"
     },
     "output_type": "display_data"
    }
   ],
   "source": [
    "Q1 = data['rooms'].quantile(0.25)\n",
    "Q3 = data['rooms'].quantile(0.75)\n",
    "IQR = Q3-Q1\n",
    "data = data[data['rooms'] < (Q3+1.5*IQR)]\n",
    "data.boxplot(column='rooms')\n",
    "data['rooms'].describe()"
   ]
  },
  {
   "cell_type": "code",
   "execution_count": 24,
   "metadata": {},
   "outputs": [
    {
     "data": {
      "text/plain": [
       "total_images                0\n",
       "locality_name               0\n",
       "balcony                     0\n",
       "open_plan                   0\n",
       "is_apartment                0\n",
       "floor                       0\n",
       "studio                      0\n",
       "rooms                       0\n",
       "first_day_exposition        0\n",
       "total_area                  0\n",
       "last_price                  0\n",
       "floors_total               84\n",
       "living_area              1885\n",
       "kitchen_area             2250\n",
       "days_exposition          3122\n",
       "parks_around3000         5505\n",
       "ponds_around3000         5505\n",
       "cityCenters_nearest      5506\n",
       "airports_nearest         5528\n",
       "ceiling_height           9104\n",
       "ponds_nearest           14498\n",
       "parks_nearest           15523\n",
       "dtype: int64"
      ]
     },
     "execution_count": 24,
     "metadata": {},
     "output_type": "execute_result"
    }
   ],
   "source": [
    "data.isna().sum().sort_values()"
   ]
  },
  {
   "cell_type": "markdown",
   "metadata": {},
   "source": [
    "**Conclusion**\n",
    "\n",
    "We looked at the tasks that we will need to solve in this analysis and did data preprocessing without excluding anything superfluous"
   ]
  },
  {
   "cell_type": "markdown",
   "metadata": {},
   "source": [
    "Reasons for gaps:\n",
    "* is_apartment - the reason may be that many people skipped this item because they did not know the difference between apartments and apartments\n",
    "* parks_nearest, ponds_nearest - possible technical error. Since it is impossible to fill in the gaps with some value that does not spoil the analysis, we do not fill in these columns. Number of rows where data is present enough\n",
    "* balcony - replace all NaNs with 0 because most people who don't have a balcony skip this step\n",
    "* days_exposition - data may be missing due to the fact that it is not known when the sale ad was closed.\n",
    "it is not worth filling in these gaps with some median values, we will leave this column.\n",
    "* airports_nearest, cityCenters_nearest, parks_around3000, parks_nearest, ponds_around3000, ponds_nearest - It is unlikely that these values were filled in by a person, so we can assume that they were filled in automatically in some radius, and if what we needed did not fall into this radius, there was a gap in the data.\n",
    "* kitchen_area, living_area - perhaps in some apartments there is no explicit division of area or they are simply optional\n",
    "* floors_total - data may be optional\n",
    "* locality_name - perhaps the sellers thought that it was not necessary to indicate the location if they were already listing an apartment in the St. Petersburg section\n",
    "We do not fill in many gaps since they have little effect on further analysis and calculations."
   ]
  },
  {
   "cell_type": "markdown",
   "metadata": {},
   "source": [
    "### Count and add new columns to the table"
   ]
  },
  {
   "cell_type": "code",
   "execution_count": 25,
   "metadata": {},
   "outputs": [
    {
     "data": {
      "text/html": [
       "<div>\n",
       "<style scoped>\n",
       "    .dataframe tbody tr th:only-of-type {\n",
       "        vertical-align: middle;\n",
       "    }\n",
       "\n",
       "    .dataframe tbody tr th {\n",
       "        vertical-align: top;\n",
       "    }\n",
       "\n",
       "    .dataframe thead th {\n",
       "        text-align: right;\n",
       "    }\n",
       "</style>\n",
       "<table border=\"1\" class=\"dataframe\">\n",
       "  <thead>\n",
       "    <tr style=\"text-align: right;\">\n",
       "      <th></th>\n",
       "      <th>total_images</th>\n",
       "      <th>last_price</th>\n",
       "      <th>total_area</th>\n",
       "      <th>first_day_exposition</th>\n",
       "      <th>rooms</th>\n",
       "      <th>ceiling_height</th>\n",
       "      <th>floors_total</th>\n",
       "      <th>living_area</th>\n",
       "      <th>floor</th>\n",
       "      <th>is_apartment</th>\n",
       "      <th>...</th>\n",
       "      <th>airports_nearest</th>\n",
       "      <th>cityCenters_nearest</th>\n",
       "      <th>parks_around3000</th>\n",
       "      <th>parks_nearest</th>\n",
       "      <th>ponds_around3000</th>\n",
       "      <th>ponds_nearest</th>\n",
       "      <th>days_exposition</th>\n",
       "      <th>day_of_week_exposition</th>\n",
       "      <th>month_exposition</th>\n",
       "      <th>year_exposition</th>\n",
       "    </tr>\n",
       "  </thead>\n",
       "  <tbody>\n",
       "    <tr>\n",
       "      <th>0</th>\n",
       "      <td>20</td>\n",
       "      <td>13000000.0</td>\n",
       "      <td>108.0</td>\n",
       "      <td>2019-03-07</td>\n",
       "      <td>3</td>\n",
       "      <td>2.70</td>\n",
       "      <td>16.0</td>\n",
       "      <td>51.0</td>\n",
       "      <td>8</td>\n",
       "      <td>False</td>\n",
       "      <td>...</td>\n",
       "      <td>18.863</td>\n",
       "      <td>16.028</td>\n",
       "      <td>1.0</td>\n",
       "      <td>0.482</td>\n",
       "      <td>2.0</td>\n",
       "      <td>0.755</td>\n",
       "      <td>NaN</td>\n",
       "      <td>Thursday</td>\n",
       "      <td>March</td>\n",
       "      <td>2019</td>\n",
       "    </tr>\n",
       "    <tr>\n",
       "      <th>1</th>\n",
       "      <td>7</td>\n",
       "      <td>3350000.0</td>\n",
       "      <td>40.4</td>\n",
       "      <td>2018-12-04</td>\n",
       "      <td>1</td>\n",
       "      <td>NaN</td>\n",
       "      <td>11.0</td>\n",
       "      <td>18.6</td>\n",
       "      <td>1</td>\n",
       "      <td>False</td>\n",
       "      <td>...</td>\n",
       "      <td>12.817</td>\n",
       "      <td>18.603</td>\n",
       "      <td>0.0</td>\n",
       "      <td>NaN</td>\n",
       "      <td>0.0</td>\n",
       "      <td>NaN</td>\n",
       "      <td>81.0</td>\n",
       "      <td>Tuesday</td>\n",
       "      <td>December</td>\n",
       "      <td>2018</td>\n",
       "    </tr>\n",
       "    <tr>\n",
       "      <th>2</th>\n",
       "      <td>10</td>\n",
       "      <td>5196000.0</td>\n",
       "      <td>56.0</td>\n",
       "      <td>2015-08-20</td>\n",
       "      <td>2</td>\n",
       "      <td>NaN</td>\n",
       "      <td>5.0</td>\n",
       "      <td>34.3</td>\n",
       "      <td>4</td>\n",
       "      <td>False</td>\n",
       "      <td>...</td>\n",
       "      <td>21.741</td>\n",
       "      <td>13.933</td>\n",
       "      <td>1.0</td>\n",
       "      <td>0.090</td>\n",
       "      <td>2.0</td>\n",
       "      <td>0.574</td>\n",
       "      <td>558.0</td>\n",
       "      <td>Thursday</td>\n",
       "      <td>August</td>\n",
       "      <td>2015</td>\n",
       "    </tr>\n",
       "    <tr>\n",
       "      <th>3</th>\n",
       "      <td>0</td>\n",
       "      <td>64900000.0</td>\n",
       "      <td>159.0</td>\n",
       "      <td>2015-07-24</td>\n",
       "      <td>3</td>\n",
       "      <td>NaN</td>\n",
       "      <td>14.0</td>\n",
       "      <td>NaN</td>\n",
       "      <td>9</td>\n",
       "      <td>False</td>\n",
       "      <td>...</td>\n",
       "      <td>28.098</td>\n",
       "      <td>6.800</td>\n",
       "      <td>2.0</td>\n",
       "      <td>0.084</td>\n",
       "      <td>3.0</td>\n",
       "      <td>0.234</td>\n",
       "      <td>424.0</td>\n",
       "      <td>Friday</td>\n",
       "      <td>July</td>\n",
       "      <td>2015</td>\n",
       "    </tr>\n",
       "    <tr>\n",
       "      <th>4</th>\n",
       "      <td>2</td>\n",
       "      <td>10000000.0</td>\n",
       "      <td>100.0</td>\n",
       "      <td>2018-06-19</td>\n",
       "      <td>2</td>\n",
       "      <td>3.03</td>\n",
       "      <td>14.0</td>\n",
       "      <td>32.0</td>\n",
       "      <td>13</td>\n",
       "      <td>False</td>\n",
       "      <td>...</td>\n",
       "      <td>31.856</td>\n",
       "      <td>8.098</td>\n",
       "      <td>2.0</td>\n",
       "      <td>0.112</td>\n",
       "      <td>1.0</td>\n",
       "      <td>0.048</td>\n",
       "      <td>121.0</td>\n",
       "      <td>Tuesday</td>\n",
       "      <td>June</td>\n",
       "      <td>2018</td>\n",
       "    </tr>\n",
       "  </tbody>\n",
       "</table>\n",
       "<p>5 rows × 25 columns</p>\n",
       "</div>"
      ],
      "text/plain": [
       "   total_images  last_price  total_area first_day_exposition  rooms  \\\n",
       "0            20  13000000.0       108.0           2019-03-07      3   \n",
       "1             7   3350000.0        40.4           2018-12-04      1   \n",
       "2            10   5196000.0        56.0           2015-08-20      2   \n",
       "3             0  64900000.0       159.0           2015-07-24      3   \n",
       "4             2  10000000.0       100.0           2018-06-19      2   \n",
       "\n",
       "   ceiling_height  floors_total  living_area  floor  is_apartment  ...  \\\n",
       "0            2.70          16.0         51.0      8         False  ...   \n",
       "1             NaN          11.0         18.6      1         False  ...   \n",
       "2             NaN           5.0         34.3      4         False  ...   \n",
       "3             NaN          14.0          NaN      9         False  ...   \n",
       "4            3.03          14.0         32.0     13         False  ...   \n",
       "\n",
       "   airports_nearest  cityCenters_nearest  parks_around3000  parks_nearest  \\\n",
       "0            18.863               16.028               1.0          0.482   \n",
       "1            12.817               18.603               0.0            NaN   \n",
       "2            21.741               13.933               1.0          0.090   \n",
       "3            28.098                6.800               2.0          0.084   \n",
       "4            31.856                8.098               2.0          0.112   \n",
       "\n",
       "  ponds_around3000  ponds_nearest  days_exposition  day_of_week_exposition  \\\n",
       "0              2.0          0.755              NaN                Thursday   \n",
       "1              0.0            NaN             81.0                 Tuesday   \n",
       "2              2.0          0.574            558.0                Thursday   \n",
       "3              3.0          0.234            424.0                  Friday   \n",
       "4              1.0          0.048            121.0                 Tuesday   \n",
       "\n",
       "   month_exposition  year_exposition  \n",
       "0             March             2019  \n",
       "1          December             2018  \n",
       "2            August             2015  \n",
       "3              July             2015  \n",
       "4              June             2018  \n",
       "\n",
       "[5 rows x 25 columns]"
      ]
     },
     "execution_count": 25,
     "metadata": {},
     "output_type": "execute_result"
    }
   ],
   "source": [
    "# add columns with days, months and years of publication of ads\n",
    "data['day_of_week_exposition'] = data['first_day_exposition'].dt.day_name()\n",
    "data['month_exposition'] = data['first_day_exposition'].dt.month_name()\n",
    "data['year_exposition'] = data['first_day_exposition'].dt.year\n",
    "data.head()"
   ]
  },
  {
   "cell_type": "code",
   "execution_count": 26,
   "metadata": {},
   "outputs": [
    {
     "data": {
      "text/html": [
       "<div>\n",
       "<style scoped>\n",
       "    .dataframe tbody tr th:only-of-type {\n",
       "        vertical-align: middle;\n",
       "    }\n",
       "\n",
       "    .dataframe tbody tr th {\n",
       "        vertical-align: top;\n",
       "    }\n",
       "\n",
       "    .dataframe thead th {\n",
       "        text-align: right;\n",
       "    }\n",
       "</style>\n",
       "<table border=\"1\" class=\"dataframe\">\n",
       "  <thead>\n",
       "    <tr style=\"text-align: right;\">\n",
       "      <th></th>\n",
       "      <th>total_images</th>\n",
       "      <th>last_price</th>\n",
       "      <th>total_area</th>\n",
       "      <th>first_day_exposition</th>\n",
       "      <th>rooms</th>\n",
       "      <th>ceiling_height</th>\n",
       "      <th>floors_total</th>\n",
       "      <th>living_area</th>\n",
       "      <th>floor</th>\n",
       "      <th>is_apartment</th>\n",
       "      <th>...</th>\n",
       "      <th>cityCenters_nearest</th>\n",
       "      <th>parks_around3000</th>\n",
       "      <th>parks_nearest</th>\n",
       "      <th>ponds_around3000</th>\n",
       "      <th>ponds_nearest</th>\n",
       "      <th>days_exposition</th>\n",
       "      <th>day_of_week_exposition</th>\n",
       "      <th>month_exposition</th>\n",
       "      <th>year_exposition</th>\n",
       "      <th>floor_definition</th>\n",
       "    </tr>\n",
       "  </thead>\n",
       "  <tbody>\n",
       "    <tr>\n",
       "      <th>0</th>\n",
       "      <td>20</td>\n",
       "      <td>13000000.0</td>\n",
       "      <td>108.0</td>\n",
       "      <td>2019-03-07</td>\n",
       "      <td>3</td>\n",
       "      <td>2.70</td>\n",
       "      <td>16.0</td>\n",
       "      <td>51.0</td>\n",
       "      <td>8</td>\n",
       "      <td>False</td>\n",
       "      <td>...</td>\n",
       "      <td>16.028</td>\n",
       "      <td>1.0</td>\n",
       "      <td>0.482</td>\n",
       "      <td>2.0</td>\n",
       "      <td>0.755</td>\n",
       "      <td>NaN</td>\n",
       "      <td>Thursday</td>\n",
       "      <td>March</td>\n",
       "      <td>2019</td>\n",
       "      <td>другой</td>\n",
       "    </tr>\n",
       "    <tr>\n",
       "      <th>1</th>\n",
       "      <td>7</td>\n",
       "      <td>3350000.0</td>\n",
       "      <td>40.4</td>\n",
       "      <td>2018-12-04</td>\n",
       "      <td>1</td>\n",
       "      <td>NaN</td>\n",
       "      <td>11.0</td>\n",
       "      <td>18.6</td>\n",
       "      <td>1</td>\n",
       "      <td>False</td>\n",
       "      <td>...</td>\n",
       "      <td>18.603</td>\n",
       "      <td>0.0</td>\n",
       "      <td>NaN</td>\n",
       "      <td>0.0</td>\n",
       "      <td>NaN</td>\n",
       "      <td>81.0</td>\n",
       "      <td>Tuesday</td>\n",
       "      <td>December</td>\n",
       "      <td>2018</td>\n",
       "      <td>первый</td>\n",
       "    </tr>\n",
       "    <tr>\n",
       "      <th>2</th>\n",
       "      <td>10</td>\n",
       "      <td>5196000.0</td>\n",
       "      <td>56.0</td>\n",
       "      <td>2015-08-20</td>\n",
       "      <td>2</td>\n",
       "      <td>NaN</td>\n",
       "      <td>5.0</td>\n",
       "      <td>34.3</td>\n",
       "      <td>4</td>\n",
       "      <td>False</td>\n",
       "      <td>...</td>\n",
       "      <td>13.933</td>\n",
       "      <td>1.0</td>\n",
       "      <td>0.090</td>\n",
       "      <td>2.0</td>\n",
       "      <td>0.574</td>\n",
       "      <td>558.0</td>\n",
       "      <td>Thursday</td>\n",
       "      <td>August</td>\n",
       "      <td>2015</td>\n",
       "      <td>другой</td>\n",
       "    </tr>\n",
       "    <tr>\n",
       "      <th>3</th>\n",
       "      <td>0</td>\n",
       "      <td>64900000.0</td>\n",
       "      <td>159.0</td>\n",
       "      <td>2015-07-24</td>\n",
       "      <td>3</td>\n",
       "      <td>NaN</td>\n",
       "      <td>14.0</td>\n",
       "      <td>NaN</td>\n",
       "      <td>9</td>\n",
       "      <td>False</td>\n",
       "      <td>...</td>\n",
       "      <td>6.800</td>\n",
       "      <td>2.0</td>\n",
       "      <td>0.084</td>\n",
       "      <td>3.0</td>\n",
       "      <td>0.234</td>\n",
       "      <td>424.0</td>\n",
       "      <td>Friday</td>\n",
       "      <td>July</td>\n",
       "      <td>2015</td>\n",
       "      <td>другой</td>\n",
       "    </tr>\n",
       "    <tr>\n",
       "      <th>4</th>\n",
       "      <td>2</td>\n",
       "      <td>10000000.0</td>\n",
       "      <td>100.0</td>\n",
       "      <td>2018-06-19</td>\n",
       "      <td>2</td>\n",
       "      <td>3.03</td>\n",
       "      <td>14.0</td>\n",
       "      <td>32.0</td>\n",
       "      <td>13</td>\n",
       "      <td>False</td>\n",
       "      <td>...</td>\n",
       "      <td>8.098</td>\n",
       "      <td>2.0</td>\n",
       "      <td>0.112</td>\n",
       "      <td>1.0</td>\n",
       "      <td>0.048</td>\n",
       "      <td>121.0</td>\n",
       "      <td>Tuesday</td>\n",
       "      <td>June</td>\n",
       "      <td>2018</td>\n",
       "      <td>другой</td>\n",
       "    </tr>\n",
       "  </tbody>\n",
       "</table>\n",
       "<p>5 rows × 26 columns</p>\n",
       "</div>"
      ],
      "text/plain": [
       "   total_images  last_price  total_area first_day_exposition  rooms  \\\n",
       "0            20  13000000.0       108.0           2019-03-07      3   \n",
       "1             7   3350000.0        40.4           2018-12-04      1   \n",
       "2            10   5196000.0        56.0           2015-08-20      2   \n",
       "3             0  64900000.0       159.0           2015-07-24      3   \n",
       "4             2  10000000.0       100.0           2018-06-19      2   \n",
       "\n",
       "   ceiling_height  floors_total  living_area  floor  is_apartment  ...  \\\n",
       "0            2.70          16.0         51.0      8         False  ...   \n",
       "1             NaN          11.0         18.6      1         False  ...   \n",
       "2             NaN           5.0         34.3      4         False  ...   \n",
       "3             NaN          14.0          NaN      9         False  ...   \n",
       "4            3.03          14.0         32.0     13         False  ...   \n",
       "\n",
       "   cityCenters_nearest  parks_around3000  parks_nearest  ponds_around3000  \\\n",
       "0               16.028               1.0          0.482               2.0   \n",
       "1               18.603               0.0            NaN               0.0   \n",
       "2               13.933               1.0          0.090               2.0   \n",
       "3                6.800               2.0          0.084               3.0   \n",
       "4                8.098               2.0          0.112               1.0   \n",
       "\n",
       "  ponds_nearest  days_exposition  day_of_week_exposition  month_exposition  \\\n",
       "0         0.755              NaN                Thursday             March   \n",
       "1           NaN             81.0                 Tuesday          December   \n",
       "2         0.574            558.0                Thursday            August   \n",
       "3         0.234            424.0                  Friday              July   \n",
       "4         0.048            121.0                 Tuesday              June   \n",
       "\n",
       "   year_exposition  floor_definition  \n",
       "0             2019            другой  \n",
       "1             2018            первый  \n",
       "2             2015            другой  \n",
       "3             2015            другой  \n",
       "4             2018            другой  \n",
       "\n",
       "[5 rows x 26 columns]"
      ]
     },
     "execution_count": 26,
     "metadata": {},
     "output_type": "execute_result"
    }
   ],
   "source": [
    "# add floor designations\n",
    "def floor_definition(row):\n",
    "    if row['floor'] == 1:\n",
    "        return 'первый'\n",
    "    elif row['floor'] == row['floors_total']:\n",
    "        return 'последний'\n",
    "    else:\n",
    "        return 'другой'\n",
    "data['floor_definition'] = data.apply(floor_definition, axis=1)\n",
    "data.head()"
   ]
  },
  {
   "cell_type": "code",
   "execution_count": 27,
   "metadata": {
    "scrolled": true
   },
   "outputs": [
    {
     "data": {
      "text/html": [
       "<div>\n",
       "<style scoped>\n",
       "    .dataframe tbody tr th:only-of-type {\n",
       "        vertical-align: middle;\n",
       "    }\n",
       "\n",
       "    .dataframe tbody tr th {\n",
       "        vertical-align: top;\n",
       "    }\n",
       "\n",
       "    .dataframe thead th {\n",
       "        text-align: right;\n",
       "    }\n",
       "</style>\n",
       "<table border=\"1\" class=\"dataframe\">\n",
       "  <thead>\n",
       "    <tr style=\"text-align: right;\">\n",
       "      <th></th>\n",
       "      <th>total_images</th>\n",
       "      <th>last_price</th>\n",
       "      <th>total_area</th>\n",
       "      <th>first_day_exposition</th>\n",
       "      <th>rooms</th>\n",
       "      <th>ceiling_height</th>\n",
       "      <th>floors_total</th>\n",
       "      <th>living_area</th>\n",
       "      <th>floor</th>\n",
       "      <th>is_apartment</th>\n",
       "      <th>...</th>\n",
       "      <th>parks_around3000</th>\n",
       "      <th>parks_nearest</th>\n",
       "      <th>ponds_around3000</th>\n",
       "      <th>ponds_nearest</th>\n",
       "      <th>days_exposition</th>\n",
       "      <th>day_of_week_exposition</th>\n",
       "      <th>month_exposition</th>\n",
       "      <th>year_exposition</th>\n",
       "      <th>floor_definition</th>\n",
       "      <th>price_of_meter</th>\n",
       "    </tr>\n",
       "  </thead>\n",
       "  <tbody>\n",
       "    <tr>\n",
       "      <th>0</th>\n",
       "      <td>20</td>\n",
       "      <td>13000000.0</td>\n",
       "      <td>108.0</td>\n",
       "      <td>2019-03-07</td>\n",
       "      <td>3</td>\n",
       "      <td>2.70</td>\n",
       "      <td>16.0</td>\n",
       "      <td>51.0</td>\n",
       "      <td>8</td>\n",
       "      <td>False</td>\n",
       "      <td>...</td>\n",
       "      <td>1.0</td>\n",
       "      <td>0.482</td>\n",
       "      <td>2.0</td>\n",
       "      <td>0.755</td>\n",
       "      <td>NaN</td>\n",
       "      <td>Thursday</td>\n",
       "      <td>March</td>\n",
       "      <td>2019</td>\n",
       "      <td>другой</td>\n",
       "      <td>120370.370370</td>\n",
       "    </tr>\n",
       "    <tr>\n",
       "      <th>1</th>\n",
       "      <td>7</td>\n",
       "      <td>3350000.0</td>\n",
       "      <td>40.4</td>\n",
       "      <td>2018-12-04</td>\n",
       "      <td>1</td>\n",
       "      <td>NaN</td>\n",
       "      <td>11.0</td>\n",
       "      <td>18.6</td>\n",
       "      <td>1</td>\n",
       "      <td>False</td>\n",
       "      <td>...</td>\n",
       "      <td>0.0</td>\n",
       "      <td>NaN</td>\n",
       "      <td>0.0</td>\n",
       "      <td>NaN</td>\n",
       "      <td>81.0</td>\n",
       "      <td>Tuesday</td>\n",
       "      <td>December</td>\n",
       "      <td>2018</td>\n",
       "      <td>первый</td>\n",
       "      <td>82920.792079</td>\n",
       "    </tr>\n",
       "    <tr>\n",
       "      <th>2</th>\n",
       "      <td>10</td>\n",
       "      <td>5196000.0</td>\n",
       "      <td>56.0</td>\n",
       "      <td>2015-08-20</td>\n",
       "      <td>2</td>\n",
       "      <td>NaN</td>\n",
       "      <td>5.0</td>\n",
       "      <td>34.3</td>\n",
       "      <td>4</td>\n",
       "      <td>False</td>\n",
       "      <td>...</td>\n",
       "      <td>1.0</td>\n",
       "      <td>0.090</td>\n",
       "      <td>2.0</td>\n",
       "      <td>0.574</td>\n",
       "      <td>558.0</td>\n",
       "      <td>Thursday</td>\n",
       "      <td>August</td>\n",
       "      <td>2015</td>\n",
       "      <td>другой</td>\n",
       "      <td>92785.714286</td>\n",
       "    </tr>\n",
       "    <tr>\n",
       "      <th>3</th>\n",
       "      <td>0</td>\n",
       "      <td>64900000.0</td>\n",
       "      <td>159.0</td>\n",
       "      <td>2015-07-24</td>\n",
       "      <td>3</td>\n",
       "      <td>NaN</td>\n",
       "      <td>14.0</td>\n",
       "      <td>NaN</td>\n",
       "      <td>9</td>\n",
       "      <td>False</td>\n",
       "      <td>...</td>\n",
       "      <td>2.0</td>\n",
       "      <td>0.084</td>\n",
       "      <td>3.0</td>\n",
       "      <td>0.234</td>\n",
       "      <td>424.0</td>\n",
       "      <td>Friday</td>\n",
       "      <td>July</td>\n",
       "      <td>2015</td>\n",
       "      <td>другой</td>\n",
       "      <td>408176.100629</td>\n",
       "    </tr>\n",
       "    <tr>\n",
       "      <th>4</th>\n",
       "      <td>2</td>\n",
       "      <td>10000000.0</td>\n",
       "      <td>100.0</td>\n",
       "      <td>2018-06-19</td>\n",
       "      <td>2</td>\n",
       "      <td>3.03</td>\n",
       "      <td>14.0</td>\n",
       "      <td>32.0</td>\n",
       "      <td>13</td>\n",
       "      <td>False</td>\n",
       "      <td>...</td>\n",
       "      <td>2.0</td>\n",
       "      <td>0.112</td>\n",
       "      <td>1.0</td>\n",
       "      <td>0.048</td>\n",
       "      <td>121.0</td>\n",
       "      <td>Tuesday</td>\n",
       "      <td>June</td>\n",
       "      <td>2018</td>\n",
       "      <td>другой</td>\n",
       "      <td>100000.000000</td>\n",
       "    </tr>\n",
       "  </tbody>\n",
       "</table>\n",
       "<p>5 rows × 27 columns</p>\n",
       "</div>"
      ],
      "text/plain": [
       "   total_images  last_price  total_area first_day_exposition  rooms  \\\n",
       "0            20  13000000.0       108.0           2019-03-07      3   \n",
       "1             7   3350000.0        40.4           2018-12-04      1   \n",
       "2            10   5196000.0        56.0           2015-08-20      2   \n",
       "3             0  64900000.0       159.0           2015-07-24      3   \n",
       "4             2  10000000.0       100.0           2018-06-19      2   \n",
       "\n",
       "   ceiling_height  floors_total  living_area  floor  is_apartment  ...  \\\n",
       "0            2.70          16.0         51.0      8         False  ...   \n",
       "1             NaN          11.0         18.6      1         False  ...   \n",
       "2             NaN           5.0         34.3      4         False  ...   \n",
       "3             NaN          14.0          NaN      9         False  ...   \n",
       "4            3.03          14.0         32.0     13         False  ...   \n",
       "\n",
       "   parks_around3000  parks_nearest  ponds_around3000  ponds_nearest  \\\n",
       "0               1.0          0.482               2.0          0.755   \n",
       "1               0.0            NaN               0.0            NaN   \n",
       "2               1.0          0.090               2.0          0.574   \n",
       "3               2.0          0.084               3.0          0.234   \n",
       "4               2.0          0.112               1.0          0.048   \n",
       "\n",
       "  days_exposition  day_of_week_exposition  month_exposition  year_exposition  \\\n",
       "0             NaN                Thursday             March             2019   \n",
       "1            81.0                 Tuesday          December             2018   \n",
       "2           558.0                Thursday            August             2015   \n",
       "3           424.0                  Friday              July             2015   \n",
       "4           121.0                 Tuesday              June             2018   \n",
       "\n",
       "   floor_definition  price_of_meter  \n",
       "0            другой   120370.370370  \n",
       "1            первый    82920.792079  \n",
       "2            другой    92785.714286  \n",
       "3            другой   408176.100629  \n",
       "4            другой   100000.000000  \n",
       "\n",
       "[5 rows x 27 columns]"
      ]
     },
     "execution_count": 27,
     "metadata": {},
     "output_type": "execute_result"
    }
   ],
   "source": [
    "# add price per square meter\n",
    "data['price_of_meter'] = data['last_price']/data['total_area']\n",
    "data.head()"
   ]
  },
  {
   "cell_type": "markdown",
   "metadata": {},
   "source": [
    "**Conclusion**\n",
    "\n",
    "We made calculations and added new columns that we will need for further analysis"
   ]
  },
  {
   "cell_type": "markdown",
   "metadata": {},
   "source": [
    "### Conduct exploratory data analysis"
   ]
  },
  {
   "cell_type": "code",
   "execution_count": 28,
   "metadata": {},
   "outputs": [
    {
     "data": {
      "text/html": [
       "<div>\n",
       "<style scoped>\n",
       "    .dataframe tbody tr th:only-of-type {\n",
       "        vertical-align: middle;\n",
       "    }\n",
       "\n",
       "    .dataframe tbody tr th {\n",
       "        vertical-align: top;\n",
       "    }\n",
       "\n",
       "    .dataframe thead th {\n",
       "        text-align: right;\n",
       "    }\n",
       "</style>\n",
       "<table border=\"1\" class=\"dataframe\">\n",
       "  <thead>\n",
       "    <tr style=\"text-align: right;\">\n",
       "      <th></th>\n",
       "      <th>total_area</th>\n",
       "      <th>living_area</th>\n",
       "      <th>kitchen_area</th>\n",
       "      <th>last_price</th>\n",
       "      <th>rooms</th>\n",
       "      <th>ceiling_height</th>\n",
       "      <th>floor</th>\n",
       "      <th>floors_total</th>\n",
       "      <th>cityCenters_nearest</th>\n",
       "      <th>airports_nearest</th>\n",
       "      <th>parks_nearest</th>\n",
       "    </tr>\n",
       "  </thead>\n",
       "  <tbody>\n",
       "    <tr>\n",
       "      <th>count</th>\n",
       "      <td>23455.000000</td>\n",
       "      <td>21570.000000</td>\n",
       "      <td>21205.000000</td>\n",
       "      <td>2.345500e+04</td>\n",
       "      <td>23455.000000</td>\n",
       "      <td>14351.000000</td>\n",
       "      <td>23455.000000</td>\n",
       "      <td>23371.000000</td>\n",
       "      <td>17949.000000</td>\n",
       "      <td>17927.000000</td>\n",
       "      <td>7932.000000</td>\n",
       "    </tr>\n",
       "    <tr>\n",
       "      <th>mean</th>\n",
       "      <td>58.857759</td>\n",
       "      <td>33.468259</td>\n",
       "      <td>10.466703</td>\n",
       "      <td>6.255684e+06</td>\n",
       "      <td>2.029631</td>\n",
       "      <td>2.723840</td>\n",
       "      <td>5.906971</td>\n",
       "      <td>10.715331</td>\n",
       "      <td>14.284127</td>\n",
       "      <td>28.845329</td>\n",
       "      <td>0.492239</td>\n",
       "    </tr>\n",
       "    <tr>\n",
       "      <th>std</th>\n",
       "      <td>30.199918</td>\n",
       "      <td>18.550057</td>\n",
       "      <td>5.682110</td>\n",
       "      <td>8.158049e+06</td>\n",
       "      <td>0.973653</td>\n",
       "      <td>0.313486</td>\n",
       "      <td>4.891380</td>\n",
       "      <td>6.602055</td>\n",
       "      <td>8.589340</td>\n",
       "      <td>12.678731</td>\n",
       "      <td>0.344071</td>\n",
       "    </tr>\n",
       "    <tr>\n",
       "      <th>min</th>\n",
       "      <td>12.000000</td>\n",
       "      <td>2.000000</td>\n",
       "      <td>1.300000</td>\n",
       "      <td>1.219000e+04</td>\n",
       "      <td>0.000000</td>\n",
       "      <td>1.000000</td>\n",
       "      <td>1.000000</td>\n",
       "      <td>1.000000</td>\n",
       "      <td>0.181000</td>\n",
       "      <td>0.000000</td>\n",
       "      <td>0.001000</td>\n",
       "    </tr>\n",
       "    <tr>\n",
       "      <th>25%</th>\n",
       "      <td>40.000000</td>\n",
       "      <td>18.600000</td>\n",
       "      <td>7.000000</td>\n",
       "      <td>3.400000e+06</td>\n",
       "      <td>1.000000</td>\n",
       "      <td>2.500000</td>\n",
       "      <td>2.000000</td>\n",
       "      <td>5.000000</td>\n",
       "      <td>9.426000</td>\n",
       "      <td>18.520000</td>\n",
       "      <td>0.288000</td>\n",
       "    </tr>\n",
       "    <tr>\n",
       "      <th>50%</th>\n",
       "      <td>52.000000</td>\n",
       "      <td>30.000000</td>\n",
       "      <td>9.000000</td>\n",
       "      <td>4.600000e+06</td>\n",
       "      <td>2.000000</td>\n",
       "      <td>2.650000</td>\n",
       "      <td>4.000000</td>\n",
       "      <td>9.000000</td>\n",
       "      <td>13.151000</td>\n",
       "      <td>26.877000</td>\n",
       "      <td>0.456000</td>\n",
       "    </tr>\n",
       "    <tr>\n",
       "      <th>75%</th>\n",
       "      <td>69.000000</td>\n",
       "      <td>42.000000</td>\n",
       "      <td>12.000000</td>\n",
       "      <td>6.700000e+06</td>\n",
       "      <td>3.000000</td>\n",
       "      <td>2.800000</td>\n",
       "      <td>8.000000</td>\n",
       "      <td>16.000000</td>\n",
       "      <td>16.326000</td>\n",
       "      <td>37.407000</td>\n",
       "      <td>0.614000</td>\n",
       "    </tr>\n",
       "    <tr>\n",
       "      <th>max</th>\n",
       "      <td>507.000000</td>\n",
       "      <td>301.500000</td>\n",
       "      <td>107.000000</td>\n",
       "      <td>4.013000e+08</td>\n",
       "      <td>5.000000</td>\n",
       "      <td>14.000000</td>\n",
       "      <td>33.000000</td>\n",
       "      <td>60.000000</td>\n",
       "      <td>65.968000</td>\n",
       "      <td>84.869000</td>\n",
       "      <td>3.190000</td>\n",
       "    </tr>\n",
       "  </tbody>\n",
       "</table>\n",
       "</div>"
      ],
      "text/plain": [
       "         total_area   living_area  kitchen_area    last_price         rooms  \\\n",
       "count  23455.000000  21570.000000  21205.000000  2.345500e+04  23455.000000   \n",
       "mean      58.857759     33.468259     10.466703  6.255684e+06      2.029631   \n",
       "std       30.199918     18.550057      5.682110  8.158049e+06      0.973653   \n",
       "min       12.000000      2.000000      1.300000  1.219000e+04      0.000000   \n",
       "25%       40.000000     18.600000      7.000000  3.400000e+06      1.000000   \n",
       "50%       52.000000     30.000000      9.000000  4.600000e+06      2.000000   \n",
       "75%       69.000000     42.000000     12.000000  6.700000e+06      3.000000   \n",
       "max      507.000000    301.500000    107.000000  4.013000e+08      5.000000   \n",
       "\n",
       "       ceiling_height         floor  floors_total  cityCenters_nearest  \\\n",
       "count    14351.000000  23455.000000  23371.000000         17949.000000   \n",
       "mean         2.723840      5.906971     10.715331            14.284127   \n",
       "std          0.313486      4.891380      6.602055             8.589340   \n",
       "min          1.000000      1.000000      1.000000             0.181000   \n",
       "25%          2.500000      2.000000      5.000000             9.426000   \n",
       "50%          2.650000      4.000000      9.000000            13.151000   \n",
       "75%          2.800000      8.000000     16.000000            16.326000   \n",
       "max         14.000000     33.000000     60.000000            65.968000   \n",
       "\n",
       "       airports_nearest  parks_nearest  \n",
       "count      17927.000000    7932.000000  \n",
       "mean          28.845329       0.492239  \n",
       "std           12.678731       0.344071  \n",
       "min            0.000000       0.001000  \n",
       "25%           18.520000       0.288000  \n",
       "50%           26.877000       0.456000  \n",
       "75%           37.407000       0.614000  \n",
       "max           84.869000       3.190000  "
      ]
     },
     "execution_count": 28,
     "metadata": {},
     "output_type": "execute_result"
    }
   ],
   "source": [
    "# check the following parameters\n",
    "data[['total_area', 'living_area', 'kitchen_area', 'last_price', 'rooms', 'ceiling_height', 'floor', 'floor_definition', 'floors_total', 'cityCenters_nearest', 'airports_nearest', 'parks_nearest', 'day_of_week_exposition', 'month_exposition']].describe()"
   ]
  },
  {
   "cell_type": "code",
   "execution_count": 29,
   "metadata": {},
   "outputs": [
    {
     "data": {
      "image/png": "[encoded data removed]",
      "text/plain": [
       "<Figure size 720x360 with 1 Axes>"
      ]
     },
     "metadata": {
      "needs_background": "light"
     },
     "output_type": "display_data"
    }
   ],
   "source": [
    "data.plot(y='total_area', kind='hist', bins=60, figsize=(10,5), range=(0,350), grid=True)\n",
    "plt.show()"
   ]
  },
  {
   "cell_type": "markdown",
   "metadata": {},
   "source": [
    "Most of the apartments have a footage from 30 to 80 sq.m., the peak falls on 50 sq.m."
   ]
  },
  {
   "cell_type": "code",
   "execution_count": 30,
   "metadata": {},
   "outputs": [
    {
     "data": {
      "image/png": "[encoded data removed]",
      "text/plain": [
       "<Figure size 720x360 with 1 Axes>"
      ]
     },
     "metadata": {
      "needs_background": "light"
     },
     "output_type": "display_data"
    }
   ],
   "source": [
    "data.plot(y='living_area', kind='hist', bins=100, figsize=(10,5), range=(5,100), grid=True)\n",
    "plt.show()"
   ]
  },
  {
   "cell_type": "markdown",
   "metadata": {},
   "source": [
    "Most of the living areas are between 15 and 45 sq.m, the largest number of apartments have a living area of approximately 18 sq.m."
   ]
  },
  {
   "cell_type": "code",
   "execution_count": 31,
   "metadata": {},
   "outputs": [
    {
     "data": {
      "image/png": "[encoded data removed]",
      "text/plain": [
       "<Figure size 720x360 with 1 Axes>"
      ]
     },
     "metadata": {
      "needs_background": "light"
     },
     "output_type": "display_data"
    }
   ],
   "source": [
    "data.plot(y='kitchen_area', kind='hist', bins=60, figsize=(10,5), range=(0,50), grid=True)\n",
    "plt.show()"
   ]
  },
  {
   "cell_type": "markdown",
   "metadata": {},
   "source": [
    "The footage of the kitchen area mainly varies between 5 and 15 sq.m."
   ]
  },
  {
   "cell_type": "code",
   "execution_count": 32,
   "metadata": {},
   "outputs": [
    {
     "data": {
      "image/png": "[encoded data removed]",
      "text/plain": [
       "<Figure size 720x360 with 1 Axes>"
      ]
     },
     "metadata": {
      "needs_background": "light"
     },
     "output_type": "display_data"
    }
   ],
   "source": [
    "data.plot(y='last_price', kind='hist', bins=120, figsize=(10,5), range=(0,16000000), grid=True)\n",
    "plt.show()"
   ]
  },
  {
   "cell_type": "markdown",
   "metadata": {},
   "source": [
    "The price of apartments lies in the range from 3 to 11 million. Most of the apartments are sold for a price between 3 and 6 million"
   ]
  },
  {
   "cell_type": "code",
   "execution_count": 33,
   "metadata": {},
   "outputs": [
    {
     "data": {
      "image/png": "[encoded data removed]",
      "text/plain": [
       "<Figure size 720x360 with 1 Axes>"
      ]
     },
     "metadata": {
      "needs_background": "light"
     },
     "output_type": "display_data"
    }
   ],
   "source": [
    "data.plot(y='rooms', kind='hist', bins=40, figsize=(10,5), range=(1,8), grid=True)\n",
    "plt.show()"
   ]
  },
  {
   "cell_type": "markdown",
   "metadata": {},
   "source": [
    "According to this histogram, we can say that most apartments have from 1 to 3 rooms, most of them are one-room and two-room apartments, between which the difference is not so great"
   ]
  },
  {
   "cell_type": "code",
   "execution_count": 34,
   "metadata": {},
   "outputs": [
    {
     "data": {
      "image/png": "[encoded data removed]",
      "text/plain": [
       "<Figure size 720x360 with 1 Axes>"
      ]
     },
     "metadata": {
      "needs_background": "light"
     },
     "output_type": "display_data"
    }
   ],
   "source": [
    "data.plot(y='ceiling_height', kind='hist', bins=40, figsize=(10,5), range=(2.4,4), grid=True)\n",
    "plt.show()"
   ]
  },
  {
   "cell_type": "markdown",
   "metadata": {},
   "source": [
    "The height of ceilings in apartments mainly varies from 2.5-2.75m to 3.2m. The rest of the cases are exclusive."
   ]
  },
  {
   "cell_type": "code",
   "execution_count": 35,
   "metadata": {},
   "outputs": [
    {
     "data": {
      "image/png": "[encoded data removed]",
      "text/plain": [
       "<Figure size 720x360 with 1 Axes>"
      ]
     },
     "metadata": {
      "needs_background": "light"
     },
     "output_type": "display_data"
    }
   ],
   "source": [
    "data.plot(y='floor', kind='hist', bins=40, figsize=(10,5), range=(1,20), grid=True)\n",
    "plt.show()"
   ]
  },
  {
   "cell_type": "markdown",
   "metadata": {},
   "source": [
    "Basically, the apartments are located between the 1st and 6th floors, most of the apartments are located on the 2nd"
   ]
  },
  {
   "cell_type": "code",
   "execution_count": 36,
   "metadata": {},
   "outputs": [
    {
     "data": {
      "image/png": "[encoded data removed]",
      "text/plain": [
       "<Figure size 432x288 with 1 Axes>"
      ]
     },
     "metadata": {
      "needs_background": "light"
     },
     "output_type": "display_data"
    }
   ],
   "source": [
    "data['floor_definition'].value_counts().plot(kind='bar')\n",
    "plt.show()"
   ]
  },
  {
   "cell_type": "markdown",
   "metadata": {},
   "source": [
    "This graph shows that most of the apartments in the database are located between the first and last floor."
   ]
  },
  {
   "cell_type": "code",
   "execution_count": 37,
   "metadata": {},
   "outputs": [
    {
     "data": {
      "image/png": "[encoded data removed]",
      "text/plain": [
       "<Figure size 720x360 with 1 Axes>"
      ]
     },
     "metadata": {
      "needs_background": "light"
     },
     "output_type": "display_data"
    }
   ],
   "source": [
    "data.plot(y='floors_total', kind='hist', bins=50, figsize=(10,5), range=(1,25), grid=True)\n",
    "plt.show()"
   ]
  },
  {
   "cell_type": "markdown",
   "metadata": {},
   "source": [
    "We can see that most of the houses in which the apartments from the ads are located are five-story"
   ]
  },
  {
   "cell_type": "code",
   "execution_count": 38,
   "metadata": {},
   "outputs": [
    {
     "data": {
      "image/png": "[encoded data removed]",
      "text/plain": [
       "<Figure size 720x360 with 1 Axes>"
      ]
     },
     "metadata": {
      "needs_background": "light"
     },
     "output_type": "display_data"
    }
   ],
   "source": [
    "data.plot(y='cityCenters_nearest', kind='hist', bins=70, figsize=(10,5), range=(0,50), grid=True)\n",
    "plt.show()"
   ]
  },
  {
   "cell_type": "markdown",
   "metadata": {},
   "source": [
    "The distance of apartments from the center is mainly between 5 and 17 kilometers"
   ]
  },
  {
   "cell_type": "code",
   "execution_count": 39,
   "metadata": {},
   "outputs": [
    {
     "data": {
      "image/png": "[encoded data removed]",
      "text/plain": [
       "<Figure size 720x360 with 1 Axes>"
      ]
     },
     "metadata": {
      "needs_background": "light"
     },
     "output_type": "display_data"
    }
   ],
   "source": [
    "data.plot(y='airports_nearest', kind='hist', bins=70, figsize=(10,5), range=(5,80), grid=True)\n",
    "plt.show()"
   ]
  },
  {
   "cell_type": "markdown",
   "metadata": {},
   "source": [
    "Большинство квартир находится на расстояние от 10 до 40 километров от ближайшего аэропорта"
   ]
  },
  {
   "cell_type": "code",
   "execution_count": 40,
   "metadata": {},
   "outputs": [
    {
     "data": {
      "image/png": "[encoded data removed]",
      "text/plain": [
       "<Figure size 720x360 with 1 Axes>"
      ]
     },
     "metadata": {
      "needs_background": "light"
     },
     "output_type": "display_data"
    }
   ],
   "source": [
    "data.plot(y='parks_nearest', kind='hist', bins=60, figsize=(10,5), range=(0,3.5), grid=True)\n",
    "plt.show()"
   ]
  },
  {
   "cell_type": "markdown",
   "metadata": {},
   "source": [
    "The distance to the nearest park for most apartments is between 200 and 700 meters"
   ]
  },
  {
   "cell_type": "code",
   "execution_count": 41,
   "metadata": {},
   "outputs": [
    {
     "data": {
      "image/png": "[encoded data removed]",
      "text/plain": [
       "<Figure size 432x288 with 1 Axes>"
      ]
     },
     "metadata": {
      "needs_background": "light"
     },
     "output_type": "display_data"
    }
   ],
   "source": [
    "data['day_of_week_exposition'].value_counts().plot(kind='bar')\n",
    "plt.show()"
   ]
  },
  {
   "cell_type": "markdown",
   "metadata": {},
   "source": [
    "According to this schedule, you can see that ads mostly appear on weekdays."
   ]
  },
  {
   "cell_type": "code",
   "execution_count": 42,
   "metadata": {},
   "outputs": [
    {
     "data": {
      "image/png": "[encoded data removed]",
      "text/plain": [
       "<Figure size 432x288 with 1 Axes>"
      ]
     },
     "metadata": {
      "needs_background": "light"
     },
     "output_type": "display_data"
    }
   ],
   "source": [
    "data['month_exposition'].value_counts().plot(kind='bar')\n",
    "plt.show()"
   ]
  },
  {
   "cell_type": "markdown",
   "metadata": {},
   "source": [
    "We can conclude that February, March, April and November are the busiest months for finding a new apartment"
   ]
  },
  {
   "cell_type": "markdown",
   "metadata": {},
   "source": [
    "**4.1** **Complete the task: \"Study how quickly apartments sold (days_exposition column). This parameter shows how many days each listing was \"hung\"**"
   ]
  },
  {
   "cell_type": "code",
   "execution_count": 43,
   "metadata": {},
   "outputs": [
    {
     "data": {
      "image/png": "[encoded data removed]",
      "text/plain": [
       "<Figure size 720x360 with 1 Axes>"
      ]
     },
     "metadata": {
      "needs_background": "light"
     },
     "output_type": "display_data"
    },
    {
     "data": {
      "text/plain": [
       "count    20333.000000\n",
       "mean       180.121625\n",
       "std        219.236457\n",
       "min          1.000000\n",
       "25%         45.000000\n",
       "50%         95.000000\n",
       "75%        230.000000\n",
       "max       1580.000000\n",
       "Name: days_exposition, dtype: float64"
      ]
     },
     "execution_count": 43,
     "metadata": {},
     "output_type": "execute_result"
    }
   ],
   "source": [
    "data['days_exposition'].hist(bins=80, figsize=(10,5))\n",
    "plt.show()\n",
    "data['days_exposition'].describe()"
   ]
  },
  {
   "cell_type": "markdown",
   "metadata": {},
   "source": [
    "Average sales time 180 days (six months). The median is 95 days. You can see that there are apartments that have been on sale for about 5 years, perhaps they simply forgot to close such ads, values ​​after 500 can be considered unusually long."
   ]
  },
  {
   "cell_type": "code",
   "execution_count": 44,
   "metadata": {},
   "outputs": [
    {
     "data": {
      "image/png": "[encoded data removed]",
      "text/plain": [
       "<Figure size 720x360 with 1 Axes>"
      ]
     },
     "metadata": {
      "needs_background": "light"
     },
     "output_type": "display_data"
    }
   ],
   "source": [
    "data.plot(y='days_exposition', kind='hist', bins=100, figsize=(10,5), range=(0,300), grid=True)\n",
    "plt.show()"
   ]
  },
  {
   "cell_type": "markdown",
   "metadata": {},
   "source": [
    "Most apartments are sold in the first 50 days."
   ]
  },
  {
   "cell_type": "markdown",
   "metadata": {},
   "source": [
    "Sales that occurred in the first 95 days (median value) can be considered fast."
   ]
  },
  {
   "cell_type": "markdown",
   "metadata": {},
   "source": [
    "**4.2** **Complete the task: \"Which factors most influence the total (full) cost of an object? Build graphs that show the dependence of the price on the parameters below. You can use pivot tables to prepare data before visualization.\"**"
   ]
  },
  {
   "cell_type": "code",
   "execution_count": 45,
   "metadata": {},
   "outputs": [
    {
     "data": {
      "text/plain": [
       "0.6791811755998127"
      ]
     },
     "execution_count": 45,
     "metadata": {},
     "output_type": "execute_result"
    },
    {
     "data": {
      "image/png": "[encoded data removed]",
      "text/plain": [
       "<Figure size 432x288 with 1 Axes>"
      ]
     },
     "metadata": {
      "needs_background": "light"
     },
     "output_type": "display_data"
    }
   ],
   "source": [
    "# look at the dependence of the price per square meter on the total area\n",
    "new_total_area = data.pivot_table(index = 'total_area', values = 'last_price', aggfunc = ['mean', 'count', 'median'])\n",
    "new_total_area.columns = ['mean', 'count', 'median']\n",
    "new_total_area.plot(y='median', style = 'o')\n",
    "data['total_area'].corr(data['last_price'])"
   ]
  },
  {
   "cell_type": "markdown",
   "metadata": {},
   "source": [
    "Based on these data, it can be concluded that the total cost and total area have an average correlation."
   ]
  },
  {
   "cell_type": "code",
   "execution_count": 46,
   "metadata": {},
   "outputs": [
    {
     "data": {
      "text/plain": [
       "0.5799082784970414"
      ]
     },
     "execution_count": 46,
     "metadata": {},
     "output_type": "execute_result"
    },
    {
     "data": {
      "image/png": "[encoded data removed]",
      "text/plain": [
       "<Figure size 432x288 with 1 Axes>"
      ]
     },
     "metadata": {
      "needs_background": "light"
     },
     "output_type": "display_data"
    }
   ],
   "source": [
    "# dependence of the price per square meter on the living area\n",
    "new_living_area = data.pivot_table(index = 'living_area', values = 'last_price', aggfunc = ['mean', 'count', 'median'])\n",
    "new_living_area.columns = ['mean', 'count', 'median']\n",
    "new_living_area.plot(y='median', style = 'o')\n",
    "data['living_area'].corr(data['last_price'])"
   ]
  },
  {
   "cell_type": "markdown",
   "metadata": {},
   "source": [
    "The correlation is even less than depending on the total area"
   ]
  },
  {
   "cell_type": "code",
   "execution_count": 47,
   "metadata": {},
   "outputs": [
    {
     "data": {
      "text/plain": [
       "0.5087445999076416"
      ]
     },
     "execution_count": 47,
     "metadata": {},
     "output_type": "execute_result"
    },
    {
     "data": {
      "image/png": "[encoded data removed]",
      "text/plain": [
       "<Figure size 432x288 with 1 Axes>"
      ]
     },
     "metadata": {
      "needs_background": "light"
     },
     "output_type": "display_data"
    }
   ],
   "source": [
    "new_kitchen_area = data.pivot_table(index = 'kitchen_area', values = 'last_price', aggfunc = ['mean', 'count', 'median'])\n",
    "new_kitchen_area.columns = ['mean', 'count', 'median']\n",
    "new_kitchen_area.plot(y='median', style = 'o')\n",
    "data['kitchen_area'].corr(data['last_price'])"
   ]
  },
  {
   "cell_type": "markdown",
   "metadata": {},
   "source": [
    "Correlation almost does not differ from the living area"
   ]
  },
  {
   "cell_type": "code",
   "execution_count": 48,
   "metadata": {},
   "outputs": [
    {
     "data": {
      "text/plain": [
       "<AxesSubplot:xlabel='rooms'>"
      ]
     },
     "execution_count": 48,
     "metadata": {},
     "output_type": "execute_result"
    },
    {
     "data": {
      "image/png": "[encoded data removed]",
      "text/plain": [
       "<Figure size 432x288 with 1 Axes>"
      ]
     },
     "metadata": {
      "needs_background": "light"
     },
     "output_type": "display_data"
    }
   ],
   "source": [
    "new_rooms = data.pivot_table(index = 'rooms', values = 'last_price', aggfunc = ['mean', 'count', 'median'])\n",
    "new_rooms.columns = ['mean', 'count', 'median']\n",
    "new_rooms.query('rooms<10').plot(y='median')"
   ]
  },
  {
   "cell_type": "markdown",
   "metadata": {},
   "source": [
    "We see that there is a dependence of the total price on the number of rooms, after 6 rooms, the other fatcores are already connected to the total price"
   ]
  },
  {
   "cell_type": "code",
   "execution_count": 49,
   "metadata": {},
   "outputs": [
    {
     "data": {
      "text/html": [
       "<div>\n",
       "<style scoped>\n",
       "    .dataframe tbody tr th:only-of-type {\n",
       "        vertical-align: middle;\n",
       "    }\n",
       "\n",
       "    .dataframe tbody tr th {\n",
       "        vertical-align: top;\n",
       "    }\n",
       "\n",
       "    .dataframe thead th {\n",
       "        text-align: right;\n",
       "    }\n",
       "</style>\n",
       "<table border=\"1\" class=\"dataframe\">\n",
       "  <thead>\n",
       "    <tr style=\"text-align: right;\">\n",
       "      <th></th>\n",
       "      <th>mean</th>\n",
       "      <th>count</th>\n",
       "      <th>median</th>\n",
       "    </tr>\n",
       "    <tr>\n",
       "      <th>floor_definition</th>\n",
       "      <th></th>\n",
       "      <th></th>\n",
       "      <th></th>\n",
       "    </tr>\n",
       "  </thead>\n",
       "  <tbody>\n",
       "    <tr>\n",
       "      <th>другой</th>\n",
       "      <td>6.489948e+06</td>\n",
       "      <td>17286</td>\n",
       "      <td>4800000.0</td>\n",
       "    </tr>\n",
       "    <tr>\n",
       "      <th>первый</th>\n",
       "      <td>4.656718e+06</td>\n",
       "      <td>2893</td>\n",
       "      <td>3900000.0</td>\n",
       "    </tr>\n",
       "    <tr>\n",
       "      <th>последний</th>\n",
       "      <td>6.431607e+06</td>\n",
       "      <td>3276</td>\n",
       "      <td>4295000.0</td>\n",
       "    </tr>\n",
       "  </tbody>\n",
       "</table>\n",
       "</div>"
      ],
      "text/plain": [
       "                          mean  count     median\n",
       "floor_definition                                \n",
       "другой            6.489948e+06  17286  4800000.0\n",
       "первый            4.656718e+06   2893  3900000.0\n",
       "последний         6.431607e+06   3276  4295000.0"
      ]
     },
     "execution_count": 49,
     "metadata": {},
     "output_type": "execute_result"
    },
    {
     "data": {
      "image/png": "[encoded data removed]",
      "text/plain": [
       "<Figure size 432x288 with 1 Axes>"
      ]
     },
     "metadata": {
      "needs_background": "light"
     },
     "output_type": "display_data"
    }
   ],
   "source": [
    "new_floor_definition = data.pivot_table(index = 'floor_definition', values = 'last_price', aggfunc = ['mean', 'count', 'median'])\n",
    "new_floor_definition.columns = ['mean', 'count', 'median']\n",
    "new_floor_definition.plot(y='median')\n",
    "new_floor_definition"
   ]
  },
  {
   "cell_type": "markdown",
   "metadata": {},
   "source": [
    "We can say that the apartments between the first and the last are in greater demand."
   ]
  },
  {
   "cell_type": "code",
   "execution_count": 50,
   "metadata": {},
   "outputs": [
    {
     "data": {
      "text/html": [
       "<div>\n",
       "<style scoped>\n",
       "    .dataframe tbody tr th:only-of-type {\n",
       "        vertical-align: middle;\n",
       "    }\n",
       "\n",
       "    .dataframe tbody tr th {\n",
       "        vertical-align: top;\n",
       "    }\n",
       "\n",
       "    .dataframe thead th {\n",
       "        text-align: right;\n",
       "    }\n",
       "</style>\n",
       "<table border=\"1\" class=\"dataframe\">\n",
       "  <thead>\n",
       "    <tr style=\"text-align: right;\">\n",
       "      <th></th>\n",
       "      <th>mean</th>\n",
       "      <th>count</th>\n",
       "      <th>median</th>\n",
       "    </tr>\n",
       "    <tr>\n",
       "      <th>day_of_week_exposition</th>\n",
       "      <th></th>\n",
       "      <th></th>\n",
       "      <th></th>\n",
       "    </tr>\n",
       "  </thead>\n",
       "  <tbody>\n",
       "    <tr>\n",
       "      <th>Sunday</th>\n",
       "      <td>6.123395e+06</td>\n",
       "      <td>1681</td>\n",
       "      <td>4500000.0</td>\n",
       "    </tr>\n",
       "    <tr>\n",
       "      <th>Saturday</th>\n",
       "      <td>6.279574e+06</td>\n",
       "      <td>1920</td>\n",
       "      <td>4545000.0</td>\n",
       "    </tr>\n",
       "    <tr>\n",
       "      <th>Friday</th>\n",
       "      <td>6.263150e+06</td>\n",
       "      <td>3972</td>\n",
       "      <td>4550000.0</td>\n",
       "    </tr>\n",
       "    <tr>\n",
       "      <th>Monday</th>\n",
       "      <td>6.110273e+06</td>\n",
       "      <td>3575</td>\n",
       "      <td>4600000.0</td>\n",
       "    </tr>\n",
       "    <tr>\n",
       "      <th>Thursday</th>\n",
       "      <td>6.461859e+06</td>\n",
       "      <td>4238</td>\n",
       "      <td>4600000.0</td>\n",
       "    </tr>\n",
       "    <tr>\n",
       "      <th>Wednesday</th>\n",
       "      <td>6.230026e+06</td>\n",
       "      <td>3926</td>\n",
       "      <td>4667500.0</td>\n",
       "    </tr>\n",
       "    <tr>\n",
       "      <th>Tuesday</th>\n",
       "      <td>6.230019e+06</td>\n",
       "      <td>4143</td>\n",
       "      <td>4700000.0</td>\n",
       "    </tr>\n",
       "  </tbody>\n",
       "</table>\n",
       "</div>"
      ],
      "text/plain": [
       "                                mean  count     median\n",
       "day_of_week_exposition                                \n",
       "Sunday                  6.123395e+06   1681  4500000.0\n",
       "Saturday                6.279574e+06   1920  4545000.0\n",
       "Friday                  6.263150e+06   3972  4550000.0\n",
       "Monday                  6.110273e+06   3575  4600000.0\n",
       "Thursday                6.461859e+06   4238  4600000.0\n",
       "Wednesday               6.230026e+06   3926  4667500.0\n",
       "Tuesday                 6.230019e+06   4143  4700000.0"
      ]
     },
     "execution_count": 50,
     "metadata": {},
     "output_type": "execute_result"
    },
    {
     "data": {
      "image/png": "[encoded data removed]",
      "text/plain": [
       "<Figure size 432x288 with 1 Axes>"
      ]
     },
     "metadata": {
      "needs_background": "light"
     },
     "output_type": "display_data"
    }
   ],
   "source": [
    "new_day_of_week_exposition = data.pivot_table(index = 'day_of_week_exposition', values = 'last_price', aggfunc = ['mean', 'count', 'median'])\n",
    "new_day_of_week_exposition.columns = ['mean', 'count', 'median']\n",
    "new_day_of_week_exposition.plot(y='median')\n",
    "new_day_of_week_exposition.sort_values('median')"
   ]
  },
  {
   "cell_type": "markdown",
   "metadata": {},
   "source": [
    "According to the schedule, we can say that the lowest prices are on weekends. There is a correlation, from Monday to Wednesday prices rise, and closer to the weekend they begin to fall"
   ]
  },
  {
   "cell_type": "code",
   "execution_count": 51,
   "metadata": {},
   "outputs": [
    {
     "data": {
      "text/html": [
       "<div>\n",
       "<style scoped>\n",
       "    .dataframe tbody tr th:only-of-type {\n",
       "        vertical-align: middle;\n",
       "    }\n",
       "\n",
       "    .dataframe tbody tr th {\n",
       "        vertical-align: top;\n",
       "    }\n",
       "\n",
       "    .dataframe thead th {\n",
       "        text-align: right;\n",
       "    }\n",
       "</style>\n",
       "<table border=\"1\" class=\"dataframe\">\n",
       "  <thead>\n",
       "    <tr style=\"text-align: right;\">\n",
       "      <th></th>\n",
       "      <th>mean</th>\n",
       "      <th>count</th>\n",
       "      <th>median</th>\n",
       "    </tr>\n",
       "    <tr>\n",
       "      <th>month_exposition</th>\n",
       "      <th></th>\n",
       "      <th></th>\n",
       "      <th></th>\n",
       "    </tr>\n",
       "  </thead>\n",
       "  <tbody>\n",
       "    <tr>\n",
       "      <th>June</th>\n",
       "      <td>6.054367e+06</td>\n",
       "      <td>1742</td>\n",
       "      <td>4400000.0</td>\n",
       "    </tr>\n",
       "    <tr>\n",
       "      <th>May</th>\n",
       "      <td>6.318535e+06</td>\n",
       "      <td>1261</td>\n",
       "      <td>4500000.0</td>\n",
       "    </tr>\n",
       "    <tr>\n",
       "      <th>August</th>\n",
       "      <td>6.171017e+06</td>\n",
       "      <td>1727</td>\n",
       "      <td>4550000.0</td>\n",
       "    </tr>\n",
       "    <tr>\n",
       "      <th>October</th>\n",
       "      <td>5.977354e+06</td>\n",
       "      <td>2109</td>\n",
       "      <td>4550000.0</td>\n",
       "    </tr>\n",
       "    <tr>\n",
       "      <th>February</th>\n",
       "      <td>6.290055e+06</td>\n",
       "      <td>2612</td>\n",
       "      <td>4600000.0</td>\n",
       "    </tr>\n",
       "    <tr>\n",
       "      <th>January</th>\n",
       "      <td>6.430399e+06</td>\n",
       "      <td>1480</td>\n",
       "      <td>4600000.0</td>\n",
       "    </tr>\n",
       "    <tr>\n",
       "      <th>July</th>\n",
       "      <td>6.408644e+06</td>\n",
       "      <td>1669</td>\n",
       "      <td>4600000.0</td>\n",
       "    </tr>\n",
       "    <tr>\n",
       "      <th>March</th>\n",
       "      <td>6.106014e+06</td>\n",
       "      <td>2557</td>\n",
       "      <td>4610000.0</td>\n",
       "    </tr>\n",
       "    <tr>\n",
       "      <th>December</th>\n",
       "      <td>6.452718e+06</td>\n",
       "      <td>1627</td>\n",
       "      <td>4650000.0</td>\n",
       "    </tr>\n",
       "    <tr>\n",
       "      <th>November</th>\n",
       "      <td>6.305798e+06</td>\n",
       "      <td>2351</td>\n",
       "      <td>4680000.0</td>\n",
       "    </tr>\n",
       "    <tr>\n",
       "      <th>September</th>\n",
       "      <td>6.251634e+06</td>\n",
       "      <td>1964</td>\n",
       "      <td>4685000.0</td>\n",
       "    </tr>\n",
       "    <tr>\n",
       "      <th>April</th>\n",
       "      <td>6.405636e+06</td>\n",
       "      <td>2356</td>\n",
       "      <td>4800000.0</td>\n",
       "    </tr>\n",
       "  </tbody>\n",
       "</table>\n",
       "</div>"
      ],
      "text/plain": [
       "                          mean  count     median\n",
       "month_exposition                                \n",
       "June              6.054367e+06   1742  4400000.0\n",
       "May               6.318535e+06   1261  4500000.0\n",
       "August            6.171017e+06   1727  4550000.0\n",
       "October           5.977354e+06   2109  4550000.0\n",
       "February          6.290055e+06   2612  4600000.0\n",
       "January           6.430399e+06   1480  4600000.0\n",
       "July              6.408644e+06   1669  4600000.0\n",
       "March             6.106014e+06   2557  4610000.0\n",
       "December          6.452718e+06   1627  4650000.0\n",
       "November          6.305798e+06   2351  4680000.0\n",
       "September         6.251634e+06   1964  4685000.0\n",
       "April             6.405636e+06   2356  4800000.0"
      ]
     },
     "execution_count": 51,
     "metadata": {},
     "output_type": "execute_result"
    },
    {
     "data": {
      "image/png": "[encoded data removed]",
      "text/plain": [
       "<Figure size 432x288 with 1 Axes>"
      ]
     },
     "metadata": {
      "needs_background": "light"
     },
     "output_type": "display_data"
    }
   ],
   "source": [
    "new_month_exposition = data.pivot_table(index = 'month_exposition', values = 'last_price', aggfunc = ['mean', 'count', 'median'])\n",
    "new_month_exposition.columns = ['mean', 'count', 'median']\n",
    "new_month_exposition.plot(y='median')\n",
    "new_month_exposition.sort_values('median')"
   ]
  },
  {
   "cell_type": "markdown",
   "metadata": {},
   "source": [
    "Dependence of the price on the month of publication - April turned out to be the busiest: the prices for apartments, whose advertisements for sale were published in April, are higher than in other months. The median of prices for apartments in June ads stands out especially - they are quite low compared to other months"
   ]
  },
  {
   "cell_type": "code",
   "execution_count": 52,
   "metadata": {},
   "outputs": [
    {
     "data": {
      "text/html": [
       "<div>\n",
       "<style scoped>\n",
       "    .dataframe tbody tr th:only-of-type {\n",
       "        vertical-align: middle;\n",
       "    }\n",
       "\n",
       "    .dataframe tbody tr th {\n",
       "        vertical-align: top;\n",
       "    }\n",
       "\n",
       "    .dataframe thead th {\n",
       "        text-align: right;\n",
       "    }\n",
       "</style>\n",
       "<table border=\"1\" class=\"dataframe\">\n",
       "  <thead>\n",
       "    <tr style=\"text-align: right;\">\n",
       "      <th></th>\n",
       "      <th>mean</th>\n",
       "      <th>count</th>\n",
       "      <th>median</th>\n",
       "    </tr>\n",
       "    <tr>\n",
       "      <th>year_exposition</th>\n",
       "      <th></th>\n",
       "      <th></th>\n",
       "      <th></th>\n",
       "    </tr>\n",
       "  </thead>\n",
       "  <tbody>\n",
       "    <tr>\n",
       "      <th>2016</th>\n",
       "      <td>6.720809e+06</td>\n",
       "      <td>2748</td>\n",
       "      <td>4500000.0</td>\n",
       "    </tr>\n",
       "    <tr>\n",
       "      <th>2017</th>\n",
       "      <td>6.110486e+06</td>\n",
       "      <td>8108</td>\n",
       "      <td>4500000.0</td>\n",
       "    </tr>\n",
       "    <tr>\n",
       "      <th>2018</th>\n",
       "      <td>5.823191e+06</td>\n",
       "      <td>8454</td>\n",
       "      <td>4550000.0</td>\n",
       "    </tr>\n",
       "    <tr>\n",
       "      <th>2019</th>\n",
       "      <td>6.458499e+06</td>\n",
       "      <td>2849</td>\n",
       "      <td>5000000.0</td>\n",
       "    </tr>\n",
       "    <tr>\n",
       "      <th>2015</th>\n",
       "      <td>8.204951e+06</td>\n",
       "      <td>1161</td>\n",
       "      <td>5300000.0</td>\n",
       "    </tr>\n",
       "    <tr>\n",
       "      <th>2014</th>\n",
       "      <td>1.154814e+07</td>\n",
       "      <td>135</td>\n",
       "      <td>7580000.0</td>\n",
       "    </tr>\n",
       "  </tbody>\n",
       "</table>\n",
       "</div>"
      ],
      "text/plain": [
       "                         mean  count     median\n",
       "year_exposition                                \n",
       "2016             6.720809e+06   2748  4500000.0\n",
       "2017             6.110486e+06   8108  4500000.0\n",
       "2018             5.823191e+06   8454  4550000.0\n",
       "2019             6.458499e+06   2849  5000000.0\n",
       "2015             8.204951e+06   1161  5300000.0\n",
       "2014             1.154814e+07    135  7580000.0"
      ]
     },
     "execution_count": 52,
     "metadata": {},
     "output_type": "execute_result"
    },
    {
     "data": {
      "image/png": "[encoded data removed]",
      "text/plain": [
       "<Figure size 432x288 with 1 Axes>"
      ]
     },
     "metadata": {
      "needs_background": "light"
     },
     "output_type": "display_data"
    }
   ],
   "source": [
    "new_year_exposition = data.pivot_table(index = 'year_exposition', values = 'last_price', aggfunc = ['mean', 'count', 'median'])\n",
    "new_year_exposition.columns = ['mean', 'count', 'median']\n",
    "new_year_exposition.plot(y='median')\n",
    "new_year_exposition.sort_values('median')"
   ]
  },
  {
   "cell_type": "markdown",
   "metadata": {},
   "source": [
    "2014 stands out a lot compared to others. It can be assumed that this is due to the large collapse of the ruble and demand has increased supply. By 2019, the real estate market began to stabilize"
   ]
  },
  {
   "cell_type": "markdown",
   "metadata": {},
   "source": [
    "**4.3** **Complete the task: \"Calculate the average price per square meter in the 10 locations with the most listings. Highlight the locations with the highest and lowest cost per square meter. This data can be found by name in the locality_name column.\"**"
   ]
  },
  {
   "cell_type": "code",
   "execution_count": 53,
   "metadata": {},
   "outputs": [
    {
     "data": {
      "text/html": [
       "<div>\n",
       "<style scoped>\n",
       "    .dataframe tbody tr th:only-of-type {\n",
       "        vertical-align: middle;\n",
       "    }\n",
       "\n",
       "    .dataframe tbody tr th {\n",
       "        vertical-align: top;\n",
       "    }\n",
       "\n",
       "    .dataframe thead th {\n",
       "        text-align: right;\n",
       "    }\n",
       "</style>\n",
       "<table border=\"1\" class=\"dataframe\">\n",
       "  <thead>\n",
       "    <tr style=\"text-align: right;\">\n",
       "      <th></th>\n",
       "      <th>Город</th>\n",
       "      <th>Средняя цена за кв.м., тыс. руб.</th>\n",
       "      <th>Средняя цена за квартиру, тыс. руб.</th>\n",
       "    </tr>\n",
       "  </thead>\n",
       "  <tbody>\n",
       "    <tr>\n",
       "      <th>0</th>\n",
       "      <td>Санкт-Петербург</td>\n",
       "      <td>104775.0</td>\n",
       "      <td>5500000.0</td>\n",
       "    </tr>\n",
       "    <tr>\n",
       "      <th>4</th>\n",
       "      <td>Пушкин</td>\n",
       "      <td>100000.0</td>\n",
       "      <td>5150000.0</td>\n",
       "    </tr>\n",
       "    <tr>\n",
       "      <th>8</th>\n",
       "      <td>деревня Кудрово</td>\n",
       "      <td>91860.0</td>\n",
       "      <td>3790000.0</td>\n",
       "    </tr>\n",
       "    <tr>\n",
       "      <th>6</th>\n",
       "      <td>поселок Парголово</td>\n",
       "      <td>91780.0</td>\n",
       "      <td>4100000.0</td>\n",
       "    </tr>\n",
       "    <tr>\n",
       "      <th>1</th>\n",
       "      <td>поселок Мурино</td>\n",
       "      <td>85878.0</td>\n",
       "      <td>3400000.0</td>\n",
       "    </tr>\n",
       "    <tr>\n",
       "      <th>2</th>\n",
       "      <td>поселок Шушары</td>\n",
       "      <td>76876.0</td>\n",
       "      <td>3950000.0</td>\n",
       "    </tr>\n",
       "    <tr>\n",
       "      <th>5</th>\n",
       "      <td>Колпино</td>\n",
       "      <td>74722.0</td>\n",
       "      <td>3600000.0</td>\n",
       "    </tr>\n",
       "    <tr>\n",
       "      <th>7</th>\n",
       "      <td>Гатчина</td>\n",
       "      <td>67797.0</td>\n",
       "      <td>3100000.0</td>\n",
       "    </tr>\n",
       "    <tr>\n",
       "      <th>3</th>\n",
       "      <td>Всеволожск</td>\n",
       "      <td>65789.0</td>\n",
       "      <td>3450000.0</td>\n",
       "    </tr>\n",
       "    <tr>\n",
       "      <th>9</th>\n",
       "      <td>Выборг</td>\n",
       "      <td>58158.0</td>\n",
       "      <td>2897000.0</td>\n",
       "    </tr>\n",
       "  </tbody>\n",
       "</table>\n",
       "</div>"
      ],
      "text/plain": [
       "               Город  Средняя цена за кв.м., тыс. руб.  \\\n",
       "0    Санкт-Петербург                          104775.0   \n",
       "4             Пушкин                          100000.0   \n",
       "8    деревня Кудрово                           91860.0   \n",
       "6  поселок Парголово                           91780.0   \n",
       "1     поселок Мурино                           85878.0   \n",
       "2     поселок Шушары                           76876.0   \n",
       "5            Колпино                           74722.0   \n",
       "7            Гатчина                           67797.0   \n",
       "3         Всеволожск                           65789.0   \n",
       "9             Выборг                           58158.0   \n",
       "\n",
       "   Средняя цена за квартиру, тыс. руб.  \n",
       "0                            5500000.0  \n",
       "4                            5150000.0  \n",
       "8                            3790000.0  \n",
       "6                            4100000.0  \n",
       "1                            3400000.0  \n",
       "2                            3950000.0  \n",
       "5                            3600000.0  \n",
       "7                            3100000.0  \n",
       "3                            3450000.0  \n",
       "9                            2897000.0  "
      ]
     },
     "execution_count": 53,
     "metadata": {},
     "output_type": "execute_result"
    }
   ],
   "source": [
    "locality_name_10 = data['locality_name'].value_counts().index.tolist()[:10]\n",
    "avg_price_m2 = [data[data['locality_name'] == city]['price_of_meter'].median().round() for city in locality_name_10]\n",
    "avg_price_all = [data[data['locality_name'] == city]['last_price'].median() for city in locality_name_10]\n",
    "graph = {'Город': locality_name_10, 'Средняя цена за кв.м., тыс. руб.': avg_price_m2, 'Средняя цена за квартиру, тыс. руб.': avg_price_all}\n",
    "dataframe = pd.DataFrame(graph).sort_values(by='Средняя цена за кв.м., тыс. руб.', ascending=False)\n",
    "dataframe"
   ]
  },
  {
   "cell_type": "markdown",
   "metadata": {},
   "source": [
    "In St. Petersburg, the highest price per square meter, in Vyborg, the cheapest. Average price in the table"
   ]
  },
  {
   "cell_type": "markdown",
   "metadata": {},
   "source": [
    "**4.4** **Complete the task: \"Earlier you calculated the distance to the center in kilometers. Now select the apartments in St. Petersburg using the locality_name column and calculate the average price per kilometer. Describe how the cost of objects depends on the distance to the city center. **"
   ]
  },
  {
   "cell_type": "code",
   "execution_count": 54,
   "metadata": {},
   "outputs": [
    {
     "data": {
      "text/plain": [
       "0        16.0\n",
       "2        14.0\n",
       "3         7.0\n",
       "4         8.0\n",
       "7        12.0\n",
       "         ... \n",
       "23640    16.0\n",
       "23641     6.0\n",
       "23642     4.0\n",
       "23645     4.0\n",
       "23648    10.0\n",
       "Name: cityCenters_nearest, Length: 15535, dtype: float64"
      ]
     },
     "execution_count": 54,
     "metadata": {},
     "output_type": "execute_result"
    }
   ],
   "source": [
    "pd.set_option('chained_assignment', None)\n",
    "locality_name_spb = data.query('locality_name == \"Санкт-Петербург\"')\n",
    "locality_name_spb['cityCenters_nearest'] = locality_name_spb['cityCenters_nearest'].round()\n",
    "locality_name_spb['cityCenters_nearest']"
   ]
  },
  {
   "cell_type": "code",
   "execution_count": 55,
   "metadata": {},
   "outputs": [
    {
     "data": {
      "text/html": [
       "<div>\n",
       "<style scoped>\n",
       "    .dataframe tbody tr th:only-of-type {\n",
       "        vertical-align: middle;\n",
       "    }\n",
       "\n",
       "    .dataframe tbody tr th {\n",
       "        vertical-align: top;\n",
       "    }\n",
       "\n",
       "    .dataframe thead th {\n",
       "        text-align: right;\n",
       "    }\n",
       "</style>\n",
       "<table border=\"1\" class=\"dataframe\">\n",
       "  <thead>\n",
       "    <tr style=\"text-align: right;\">\n",
       "      <th></th>\n",
       "      <th>price_of_meter</th>\n",
       "    </tr>\n",
       "    <tr>\n",
       "      <th>cityCenters_nearest</th>\n",
       "      <th></th>\n",
       "    </tr>\n",
       "  </thead>\n",
       "  <tbody>\n",
       "    <tr>\n",
       "      <th>0.0</th>\n",
       "      <td>248023.708805</td>\n",
       "    </tr>\n",
       "    <tr>\n",
       "      <th>1.0</th>\n",
       "      <td>177051.609565</td>\n",
       "    </tr>\n",
       "    <tr>\n",
       "      <th>2.0</th>\n",
       "      <td>159766.509894</td>\n",
       "    </tr>\n",
       "    <tr>\n",
       "      <th>3.0</th>\n",
       "      <td>122196.583283</td>\n",
       "    </tr>\n",
       "    <tr>\n",
       "      <th>4.0</th>\n",
       "      <td>130568.456030</td>\n",
       "    </tr>\n",
       "    <tr>\n",
       "      <th>5.0</th>\n",
       "      <td>140352.871464</td>\n",
       "    </tr>\n",
       "    <tr>\n",
       "      <th>6.0</th>\n",
       "      <td>149351.986956</td>\n",
       "    </tr>\n",
       "    <tr>\n",
       "      <th>7.0</th>\n",
       "      <td>156023.085772</td>\n",
       "    </tr>\n",
       "    <tr>\n",
       "      <th>8.0</th>\n",
       "      <td>125063.722250</td>\n",
       "    </tr>\n",
       "    <tr>\n",
       "      <th>9.0</th>\n",
       "      <td>113071.626298</td>\n",
       "    </tr>\n",
       "    <tr>\n",
       "      <th>10.0</th>\n",
       "      <td>112951.872585</td>\n",
       "    </tr>\n",
       "    <tr>\n",
       "      <th>11.0</th>\n",
       "      <td>108674.152708</td>\n",
       "    </tr>\n",
       "    <tr>\n",
       "      <th>12.0</th>\n",
       "      <td>107503.145511</td>\n",
       "    </tr>\n",
       "    <tr>\n",
       "      <th>13.0</th>\n",
       "      <td>108145.214479</td>\n",
       "    </tr>\n",
       "    <tr>\n",
       "      <th>14.0</th>\n",
       "      <td>104268.818838</td>\n",
       "    </tr>\n",
       "    <tr>\n",
       "      <th>15.0</th>\n",
       "      <td>104272.909813</td>\n",
       "    </tr>\n",
       "    <tr>\n",
       "      <th>16.0</th>\n",
       "      <td>100542.613949</td>\n",
       "    </tr>\n",
       "    <tr>\n",
       "      <th>17.0</th>\n",
       "      <td>96594.559258</td>\n",
       "    </tr>\n",
       "    <tr>\n",
       "      <th>18.0</th>\n",
       "      <td>96392.000314</td>\n",
       "    </tr>\n",
       "    <tr>\n",
       "      <th>19.0</th>\n",
       "      <td>98652.736027</td>\n",
       "    </tr>\n",
       "    <tr>\n",
       "      <th>20.0</th>\n",
       "      <td>103045.181922</td>\n",
       "    </tr>\n",
       "    <tr>\n",
       "      <th>21.0</th>\n",
       "      <td>94469.584582</td>\n",
       "    </tr>\n",
       "    <tr>\n",
       "      <th>22.0</th>\n",
       "      <td>91330.425050</td>\n",
       "    </tr>\n",
       "    <tr>\n",
       "      <th>23.0</th>\n",
       "      <td>92063.679612</td>\n",
       "    </tr>\n",
       "    <tr>\n",
       "      <th>24.0</th>\n",
       "      <td>85736.904595</td>\n",
       "    </tr>\n",
       "    <tr>\n",
       "      <th>25.0</th>\n",
       "      <td>91531.371618</td>\n",
       "    </tr>\n",
       "    <tr>\n",
       "      <th>26.0</th>\n",
       "      <td>89285.876593</td>\n",
       "    </tr>\n",
       "    <tr>\n",
       "      <th>27.0</th>\n",
       "      <td>132115.709459</td>\n",
       "    </tr>\n",
       "    <tr>\n",
       "      <th>28.0</th>\n",
       "      <td>81161.915320</td>\n",
       "    </tr>\n",
       "    <tr>\n",
       "      <th>29.0</th>\n",
       "      <td>72953.365445</td>\n",
       "    </tr>\n",
       "  </tbody>\n",
       "</table>\n",
       "</div>"
      ],
      "text/plain": [
       "                     price_of_meter\n",
       "cityCenters_nearest                \n",
       "0.0                   248023.708805\n",
       "1.0                   177051.609565\n",
       "2.0                   159766.509894\n",
       "3.0                   122196.583283\n",
       "4.0                   130568.456030\n",
       "5.0                   140352.871464\n",
       "6.0                   149351.986956\n",
       "7.0                   156023.085772\n",
       "8.0                   125063.722250\n",
       "9.0                   113071.626298\n",
       "10.0                  112951.872585\n",
       "11.0                  108674.152708\n",
       "12.0                  107503.145511\n",
       "13.0                  108145.214479\n",
       "14.0                  104268.818838\n",
       "15.0                  104272.909813\n",
       "16.0                  100542.613949\n",
       "17.0                   96594.559258\n",
       "18.0                   96392.000314\n",
       "19.0                   98652.736027\n",
       "20.0                  103045.181922\n",
       "21.0                   94469.584582\n",
       "22.0                   91330.425050\n",
       "23.0                   92063.679612\n",
       "24.0                   85736.904595\n",
       "25.0                   91531.371618\n",
       "26.0                   89285.876593\n",
       "27.0                  132115.709459\n",
       "28.0                   81161.915320\n",
       "29.0                   72953.365445"
      ]
     },
     "execution_count": 55,
     "metadata": {},
     "output_type": "execute_result"
    },
    {
     "data": {
      "image/png": "[encoded data removed]",
      "text/plain": [
       "<Figure size 432x288 with 1 Axes>"
      ]
     },
     "metadata": {
      "needs_background": "light"
     },
     "output_type": "display_data"
    }
   ],
   "source": [
    "pivot_table_km = locality_name_spb.pivot_table(index = 'cityCenters_nearest', values = 'price_of_meter', aggfunc = 'mean')\n",
    "pivot_table_km.plot()\n",
    "pivot_table_km"
   ]
  },
  {
   "cell_type": "markdown",
   "metadata": {},
   "source": [
    "As expected, the data shows that prices for apartments near the center are the highest, and that prices start to decrease as the distance increases, with a few exceptions. Perhaps the apartments are located in elite areas that are not considered central"
   ]
  },
  {
   "cell_type": "markdown",
   "metadata": {},
   "source": [
    "### General conclusion"
   ]
  },
  {
   "cell_type": "markdown",
   "metadata": {},
   "source": [
    "**Research results:**\n",
    "* Apartments in the center and in St. Petersburg are usually more expensive than apartments outside the center and beyond St. Petersburg, but not always due to the presence of luxury real estate\n",
    "* The larger the area of ​​the apartment, living area and kitchen area, the higher the price\n",
    "* The more rooms, the higher the price\n",
    "* The most expensive apartments are located between the first and last floor, the apartments on the first floor are the cheapest\n",
    "* At the beginning and end of the year you can observe the highest prices, and in the summer the lowest\n",
    "* Apartments listed for sale in 2014 are the most expensive, followed by a period of low prices, but closer to 2019, you can see signs of greater stability in the market"
   ]
  }
 ],
 "metadata": {
  "ExecuteTimeLog": [
   {
    "duration": 2741,
    "start_time": "2022-10-30T12:52:30.056Z"
   },
   {
    "duration": 2110,
    "start_time": "2022-10-30T12:52:49.523Z"
   },
   {
    "duration": 25,
    "start_time": "2022-10-30T12:54:55.352Z"
   },
   {
    "duration": 60,
    "start_time": "2022-10-30T12:55:11.643Z"
   },
   {
    "duration": 25,
    "start_time": "2022-10-30T12:55:19.738Z"
   },
   {
    "duration": 77,
    "start_time": "2022-10-30T12:55:33.732Z"
   },
   {
    "duration": 13,
    "start_time": "2022-10-30T12:55:49.133Z"
   },
   {
    "duration": 2890,
    "start_time": "2022-10-30T12:56:00.718Z"
   },
   {
    "duration": 75,
    "start_time": "2022-10-30T12:56:03.611Z"
   },
   {
    "duration": 27,
    "start_time": "2022-10-30T12:56:08.793Z"
   },
   {
    "duration": 9,
    "start_time": "2022-10-30T12:58:05.917Z"
   },
   {
    "duration": 10,
    "start_time": "2022-10-30T12:58:37.615Z"
   },
   {
    "duration": 9,
    "start_time": "2022-10-30T12:59:08.755Z"
   },
   {
    "duration": 9,
    "start_time": "2022-10-30T13:00:55.798Z"
   },
   {
    "duration": 10,
    "start_time": "2022-10-30T13:03:29.927Z"
   },
   {
    "duration": 1212,
    "start_time": "2022-10-30T13:03:42.929Z"
   },
   {
    "duration": 12,
    "start_time": "2022-10-30T13:03:50.161Z"
   },
   {
    "duration": 9,
    "start_time": "2022-10-30T13:03:57.514Z"
   },
   {
    "duration": 11,
    "start_time": "2022-10-30T13:07:14.879Z"
   },
   {
    "duration": 9,
    "start_time": "2022-10-30T13:07:22.904Z"
   },
   {
    "duration": 17,
    "start_time": "2022-10-30T13:11:49.460Z"
   },
   {
    "duration": 58,
    "start_time": "2022-10-30T13:11:57.597Z"
   },
   {
    "duration": 46,
    "start_time": "2022-10-30T13:12:20.288Z"
   },
   {
    "duration": 10,
    "start_time": "2022-10-30T13:12:24.376Z"
   },
   {
    "duration": 9,
    "start_time": "2022-10-30T13:13:25.718Z"
   },
   {
    "duration": 48,
    "start_time": "2022-10-30T13:13:29.527Z"
   },
   {
    "duration": 51,
    "start_time": "2022-10-30T13:13:52.914Z"
   },
   {
    "duration": 47,
    "start_time": "2022-10-30T13:13:55.201Z"
   },
   {
    "duration": 54,
    "start_time": "2022-10-30T13:14:41.055Z"
   },
   {
    "duration": 48,
    "start_time": "2022-10-30T13:18:40.617Z"
   },
   {
    "duration": 47,
    "start_time": "2022-10-30T13:19:45.495Z"
   },
   {
    "duration": 50,
    "start_time": "2022-10-30T13:19:57.584Z"
   },
   {
    "duration": 50,
    "start_time": "2022-10-30T13:20:02.601Z"
   },
   {
    "duration": 50,
    "start_time": "2022-10-30T13:20:11.050Z"
   },
   {
    "duration": 2879,
    "start_time": "2022-10-30T13:20:17.577Z"
   },
   {
    "duration": 54,
    "start_time": "2022-10-30T13:20:20.458Z"
   },
   {
    "duration": 63,
    "start_time": "2022-10-30T13:23:04.426Z"
   },
   {
    "duration": 332,
    "start_time": "2022-10-30T13:24:30.304Z"
   },
   {
    "duration": 109,
    "start_time": "2022-10-30T13:24:37.863Z"
   },
   {
    "duration": 74,
    "start_time": "2022-10-30T13:30:06.131Z"
   },
   {
    "duration": 74,
    "start_time": "2022-10-30T13:30:08.643Z"
   },
   {
    "duration": 20,
    "start_time": "2022-10-30T13:30:17.108Z"
   },
   {
    "duration": 2968,
    "start_time": "2022-10-30T13:30:23.281Z"
   },
   {
    "duration": 9,
    "start_time": "2022-10-30T13:30:26.251Z"
   },
   {
    "duration": 19,
    "start_time": "2022-10-30T13:40:26.114Z"
   },
   {
    "duration": 11,
    "start_time": "2022-10-30T13:40:37.098Z"
   },
   {
    "duration": 9,
    "start_time": "2022-10-30T13:40:44.107Z"
   },
   {
    "duration": 72,
    "start_time": "2022-10-30T13:48:48.039Z"
   },
   {
    "duration": 13,
    "start_time": "2022-10-30T13:48:53.488Z"
   },
   {
    "duration": 18,
    "start_time": "2022-10-30T13:50:02.904Z"
   },
   {
    "duration": 18,
    "start_time": "2022-10-30T13:50:22.889Z"
   },
   {
    "duration": 15,
    "start_time": "2022-10-30T13:50:25.873Z"
   },
   {
    "duration": 59,
    "start_time": "2022-10-30T13:50:30.162Z"
   },
   {
    "duration": 62,
    "start_time": "2022-10-30T13:52:28.240Z"
   },
   {
    "duration": 84,
    "start_time": "2022-10-30T13:52:36.784Z"
   },
   {
    "duration": 46,
    "start_time": "2022-10-30T13:52:51.266Z"
   },
   {
    "duration": 49,
    "start_time": "2022-10-30T13:52:57.234Z"
   },
   {
    "duration": 2825,
    "start_time": "2022-10-30T13:53:02.023Z"
   },
   {
    "duration": 78,
    "start_time": "2022-10-30T13:53:04.850Z"
   },
   {
    "duration": 16,
    "start_time": "2022-10-30T14:01:24.953Z"
   },
   {
    "duration": 17,
    "start_time": "2022-10-30T14:01:34.546Z"
   },
   {
    "duration": 15,
    "start_time": "2022-10-30T14:02:26.327Z"
   },
   {
    "duration": 2756,
    "start_time": "2022-10-30T14:02:31.832Z"
   },
   {
    "duration": 81,
    "start_time": "2022-10-30T14:02:34.590Z"
   },
   {
    "duration": 52,
    "start_time": "2022-10-30T14:02:55.122Z"
   },
   {
    "duration": 50,
    "start_time": "2022-10-30T14:03:30.318Z"
   },
   {
    "duration": 53,
    "start_time": "2022-10-30T18:36:30.659Z"
   },
   {
    "duration": 3159,
    "start_time": "2022-10-30T18:36:37.073Z"
   },
   {
    "duration": 54,
    "start_time": "2022-10-30T18:36:40.234Z"
   },
   {
    "duration": 37,
    "start_time": "2022-10-30T18:36:54.612Z"
   },
   {
    "duration": 118,
    "start_time": "2022-10-30T18:57:50.898Z"
   },
   {
    "duration": 101,
    "start_time": "2022-10-30T18:58:10.262Z"
   },
   {
    "duration": 39,
    "start_time": "2022-10-30T19:01:08.825Z"
   },
   {
    "duration": 1985,
    "start_time": "2022-10-30T19:26:51.252Z"
   },
   {
    "duration": 4,
    "start_time": "2022-10-30T19:39:04.200Z"
   },
   {
    "duration": 33,
    "start_time": "2022-10-30T19:39:37.067Z"
   },
   {
    "duration": 8,
    "start_time": "2022-10-30T19:39:54.116Z"
   },
   {
    "duration": 9,
    "start_time": "2022-10-30T19:45:08.136Z"
   },
   {
    "duration": 11,
    "start_time": "2022-10-30T19:45:20.891Z"
   },
   {
    "duration": 2726,
    "start_time": "2022-10-30T19:57:14.058Z"
   },
   {
    "duration": 9,
    "start_time": "2022-10-30T19:57:16.785Z"
   },
   {
    "duration": 55,
    "start_time": "2022-10-31T09:24:09.355Z"
   },
   {
    "duration": 3419,
    "start_time": "2022-10-31T09:24:28.564Z"
   },
   {
    "duration": 50,
    "start_time": "2022-10-31T09:24:31.986Z"
   },
   {
    "duration": 33,
    "start_time": "2022-10-31T09:24:38.137Z"
   },
   {
    "duration": 94,
    "start_time": "2022-10-31T09:25:23.766Z"
   },
   {
    "duration": 12,
    "start_time": "2022-10-31T09:25:26.422Z"
   },
   {
    "duration": 10,
    "start_time": "2022-10-31T09:25:48.561Z"
   },
   {
    "duration": 6,
    "start_time": "2022-10-31T09:26:51.304Z"
   },
   {
    "duration": 72,
    "start_time": "2022-10-31T09:28:23.498Z"
   },
   {
    "duration": 11,
    "start_time": "2022-10-31T09:28:29.178Z"
   },
   {
    "duration": 3055,
    "start_time": "2022-10-31T09:28:41.589Z"
   },
   {
    "duration": 33,
    "start_time": "2022-10-31T09:28:44.646Z"
   },
   {
    "duration": 10,
    "start_time": "2022-10-31T09:28:44.681Z"
   },
   {
    "duration": 85,
    "start_time": "2022-10-31T09:28:44.693Z"
   },
   {
    "duration": 10,
    "start_time": "2022-10-31T09:28:52.491Z"
   },
   {
    "duration": 6,
    "start_time": "2022-10-31T09:29:37.599Z"
   },
   {
    "duration": 16,
    "start_time": "2022-10-31T09:33:29.888Z"
   },
   {
    "duration": 6,
    "start_time": "2022-10-31T09:33:56.730Z"
   },
   {
    "duration": 6,
    "start_time": "2022-10-31T09:34:00.619Z"
   },
   {
    "duration": 7,
    "start_time": "2022-10-31T09:34:11.046Z"
   },
   {
    "duration": 5,
    "start_time": "2022-10-31T09:34:12.708Z"
   },
   {
    "duration": 3027,
    "start_time": "2022-10-31T09:34:18.077Z"
   },
   {
    "duration": 33,
    "start_time": "2022-10-31T09:34:21.106Z"
   },
   {
    "duration": 11,
    "start_time": "2022-10-31T09:34:21.141Z"
   },
   {
    "duration": 10,
    "start_time": "2022-10-31T09:34:21.154Z"
   },
   {
    "duration": 15,
    "start_time": "2022-10-31T09:34:26.646Z"
   },
   {
    "duration": 18,
    "start_time": "2022-10-31T09:37:00.615Z"
   },
   {
    "duration": 15,
    "start_time": "2022-10-31T09:37:09.160Z"
   },
   {
    "duration": 8,
    "start_time": "2022-10-31T09:38:24.199Z"
   },
   {
    "duration": 97,
    "start_time": "2022-10-31T09:40:07.347Z"
   },
   {
    "duration": 14,
    "start_time": "2022-10-31T09:40:15.107Z"
   },
   {
    "duration": 2,
    "start_time": "2022-10-31T09:43:34.441Z"
   },
   {
    "duration": 6,
    "start_time": "2022-10-31T09:43:57.746Z"
   },
   {
    "duration": 13,
    "start_time": "2022-10-31T09:47:12.712Z"
   },
   {
    "duration": 39,
    "start_time": "2022-10-31T09:47:23.633Z"
   },
   {
    "duration": 15,
    "start_time": "2022-10-31T09:49:07.357Z"
   },
   {
    "duration": 16,
    "start_time": "2022-10-31T09:49:25.301Z"
   },
   {
    "duration": 15,
    "start_time": "2022-10-31T09:49:27.542Z"
   },
   {
    "duration": 17,
    "start_time": "2022-10-31T09:49:29.760Z"
   },
   {
    "duration": 24,
    "start_time": "2022-10-31T09:49:36.864Z"
   },
   {
    "duration": 21,
    "start_time": "2022-10-31T09:49:44.833Z"
   },
   {
    "duration": 61,
    "start_time": "2022-10-31T09:49:47.913Z"
   },
   {
    "duration": 38,
    "start_time": "2022-10-31T09:50:11.266Z"
   },
   {
    "duration": 22,
    "start_time": "2022-10-31T09:53:31.801Z"
   },
   {
    "duration": 16,
    "start_time": "2022-10-31T09:54:35.232Z"
   },
   {
    "duration": 37,
    "start_time": "2022-10-31T09:55:08.963Z"
   },
   {
    "duration": 6,
    "start_time": "2022-10-31T09:57:51.566Z"
   },
   {
    "duration": 8,
    "start_time": "2022-10-31T09:59:54.242Z"
   },
   {
    "duration": 8,
    "start_time": "2022-10-31T10:01:00.139Z"
   },
   {
    "duration": 46,
    "start_time": "2022-10-31T10:03:43.267Z"
   },
   {
    "duration": 70,
    "start_time": "2022-10-31T10:12:40.215Z"
   },
   {
    "duration": 14,
    "start_time": "2022-10-31T10:19:12.016Z"
   },
   {
    "duration": 38,
    "start_time": "2022-10-31T10:19:18.297Z"
   },
   {
    "duration": 29,
    "start_time": "2022-10-31T10:24:33.889Z"
   },
   {
    "duration": 30,
    "start_time": "2022-10-31T10:24:47.884Z"
   },
   {
    "duration": 30,
    "start_time": "2022-10-31T10:24:56.246Z"
   },
   {
    "duration": 3149,
    "start_time": "2022-10-31T10:25:12.851Z"
   },
   {
    "duration": 34,
    "start_time": "2022-10-31T10:25:16.002Z"
   },
   {
    "duration": 17,
    "start_time": "2022-10-31T10:25:16.037Z"
   },
   {
    "duration": 6,
    "start_time": "2022-10-31T10:25:16.056Z"
   },
   {
    "duration": 17,
    "start_time": "2022-10-31T10:25:16.064Z"
   },
   {
    "duration": 6,
    "start_time": "2022-10-31T10:25:16.083Z"
   },
   {
    "duration": 42,
    "start_time": "2022-10-31T10:25:16.091Z"
   },
   {
    "duration": 6,
    "start_time": "2022-10-31T10:25:16.135Z"
   },
   {
    "duration": 32,
    "start_time": "2022-10-31T10:25:16.143Z"
   },
   {
    "duration": 16,
    "start_time": "2022-10-31T10:25:16.179Z"
   },
   {
    "duration": 17,
    "start_time": "2022-10-31T10:25:16.224Z"
   },
   {
    "duration": 27,
    "start_time": "2022-10-31T10:25:16.243Z"
   },
   {
    "duration": 12,
    "start_time": "2022-10-31T10:25:16.272Z"
   },
   {
    "duration": 6,
    "start_time": "2022-10-31T10:25:16.286Z"
   },
   {
    "duration": 32,
    "start_time": "2022-10-31T10:25:16.294Z"
   },
   {
    "duration": 40,
    "start_time": "2022-10-31T10:25:16.328Z"
   },
   {
    "duration": 58,
    "start_time": "2022-10-31T10:25:16.369Z"
   },
   {
    "duration": 29,
    "start_time": "2022-10-31T10:25:16.429Z"
   },
   {
    "duration": 4,
    "start_time": "2022-10-31T10:28:42.854Z"
   },
   {
    "duration": 27,
    "start_time": "2022-10-31T10:29:45.053Z"
   },
   {
    "duration": 987,
    "start_time": "2022-10-31T10:31:47.449Z"
   },
   {
    "duration": 364,
    "start_time": "2022-10-31T10:31:56.636Z"
   },
   {
    "duration": 29,
    "start_time": "2022-10-31T10:35:15.944Z"
   },
   {
    "duration": 44,
    "start_time": "2022-10-31T15:22:22.679Z"
   },
   {
    "duration": 6,
    "start_time": "2022-10-31T15:22:35.478Z"
   },
   {
    "duration": 3017,
    "start_time": "2022-10-31T15:22:40.854Z"
   },
   {
    "duration": 27,
    "start_time": "2022-10-31T15:22:43.873Z"
   },
   {
    "duration": 8,
    "start_time": "2022-10-31T15:22:43.901Z"
   },
   {
    "duration": 4,
    "start_time": "2022-10-31T15:22:43.911Z"
   },
   {
    "duration": 12,
    "start_time": "2022-10-31T15:22:43.917Z"
   },
   {
    "duration": 6,
    "start_time": "2022-10-31T15:22:43.930Z"
   },
   {
    "duration": 14,
    "start_time": "2022-10-31T15:22:43.937Z"
   },
   {
    "duration": 60,
    "start_time": "2022-10-31T15:22:43.952Z"
   },
   {
    "duration": 4,
    "start_time": "2022-10-31T15:22:44.014Z"
   },
   {
    "duration": 25,
    "start_time": "2022-10-31T15:22:44.020Z"
   },
   {
    "duration": 11,
    "start_time": "2022-10-31T15:22:44.047Z"
   },
   {
    "duration": 11,
    "start_time": "2022-10-31T15:22:44.059Z"
   },
   {
    "duration": 54,
    "start_time": "2022-10-31T15:22:44.072Z"
   },
   {
    "duration": 4,
    "start_time": "2022-10-31T15:22:44.128Z"
   },
   {
    "duration": 9,
    "start_time": "2022-10-31T15:22:44.133Z"
   },
   {
    "duration": 10,
    "start_time": "2022-10-31T15:22:44.144Z"
   },
   {
    "duration": 57,
    "start_time": "2022-10-31T15:22:44.155Z"
   },
   {
    "duration": 39,
    "start_time": "2022-10-31T15:22:44.214Z"
   },
   {
    "duration": 22,
    "start_time": "2022-10-31T15:22:44.254Z"
   },
   {
    "duration": 395,
    "start_time": "2022-10-31T15:22:44.277Z"
   },
   {
    "duration": 33,
    "start_time": "2022-10-31T15:22:44.675Z"
   },
   {
    "duration": 8,
    "start_time": "2022-10-31T15:22:55.657Z"
   },
   {
    "duration": 11,
    "start_time": "2022-10-31T15:23:23.139Z"
   },
   {
    "duration": 41,
    "start_time": "2022-10-31T15:32:09.701Z"
   },
   {
    "duration": 323,
    "start_time": "2022-10-31T15:32:12.212Z"
   },
   {
    "duration": 23,
    "start_time": "2022-10-31T15:32:14.580Z"
   },
   {
    "duration": 10,
    "start_time": "2022-10-31T15:39:28.202Z"
   },
   {
    "duration": 2548,
    "start_time": "2022-10-31T15:40:47.611Z"
   },
   {
    "duration": 27,
    "start_time": "2022-10-31T15:40:50.161Z"
   },
   {
    "duration": 8,
    "start_time": "2022-10-31T15:40:50.189Z"
   },
   {
    "duration": 4,
    "start_time": "2022-10-31T15:40:50.199Z"
   },
   {
    "duration": 14,
    "start_time": "2022-10-31T15:40:50.204Z"
   },
   {
    "duration": 5,
    "start_time": "2022-10-31T15:40:50.219Z"
   },
   {
    "duration": 24,
    "start_time": "2022-10-31T15:40:50.226Z"
   },
   {
    "duration": 11,
    "start_time": "2022-10-31T15:40:50.251Z"
   },
   {
    "duration": 4,
    "start_time": "2022-10-31T15:40:50.263Z"
   },
   {
    "duration": 48,
    "start_time": "2022-10-31T15:40:50.269Z"
   },
   {
    "duration": 11,
    "start_time": "2022-10-31T15:40:50.318Z"
   },
   {
    "duration": 11,
    "start_time": "2022-10-31T15:40:50.330Z"
   },
   {
    "duration": 22,
    "start_time": "2022-10-31T15:40:50.342Z"
   },
   {
    "duration": 3,
    "start_time": "2022-10-31T15:40:50.366Z"
   },
   {
    "duration": 33,
    "start_time": "2022-10-31T15:40:50.370Z"
   },
   {
    "duration": 18,
    "start_time": "2022-10-31T15:40:50.404Z"
   },
   {
    "duration": 24,
    "start_time": "2022-10-31T15:40:50.423Z"
   },
   {
    "duration": 22,
    "start_time": "2022-10-31T15:40:50.449Z"
   },
   {
    "duration": 48,
    "start_time": "2022-10-31T15:40:50.473Z"
   },
   {
    "duration": 330,
    "start_time": "2022-10-31T15:40:50.522Z"
   },
   {
    "duration": 21,
    "start_time": "2022-10-31T15:40:50.854Z"
   },
   {
    "duration": 191,
    "start_time": "2022-10-31T16:17:45.290Z"
   },
   {
    "duration": 168,
    "start_time": "2022-10-31T16:18:00.998Z"
   },
   {
    "duration": 217,
    "start_time": "2022-10-31T16:18:12.879Z"
   },
   {
    "duration": 150,
    "start_time": "2022-10-31T16:18:19.239Z"
   },
   {
    "duration": 160,
    "start_time": "2022-10-31T16:18:22.323Z"
   },
   {
    "duration": 48,
    "start_time": "2022-10-31T16:19:06.140Z"
   },
   {
    "duration": 171,
    "start_time": "2022-10-31T16:19:10.157Z"
   },
   {
    "duration": 161,
    "start_time": "2022-10-31T16:19:22.592Z"
   },
   {
    "duration": 200,
    "start_time": "2022-10-31T16:19:49.145Z"
   },
   {
    "duration": 150,
    "start_time": "2022-10-31T16:19:54.610Z"
   },
   {
    "duration": 201,
    "start_time": "2022-10-31T16:20:02.659Z"
   },
   {
    "duration": 177,
    "start_time": "2022-10-31T16:22:09.280Z"
   },
   {
    "duration": 270,
    "start_time": "2022-10-31T16:22:14.561Z"
   },
   {
    "duration": 155,
    "start_time": "2022-10-31T16:22:25.050Z"
   },
   {
    "duration": 299,
    "start_time": "2022-10-31T16:22:33.779Z"
   },
   {
    "duration": 213,
    "start_time": "2022-10-31T16:22:39.884Z"
   },
   {
    "duration": 205,
    "start_time": "2022-10-31T16:23:52.955Z"
   },
   {
    "duration": 220,
    "start_time": "2022-10-31T16:24:39.169Z"
   },
   {
    "duration": 200,
    "start_time": "2022-10-31T16:24:49.266Z"
   },
   {
    "duration": 371,
    "start_time": "2022-10-31T16:25:04.026Z"
   },
   {
    "duration": 160,
    "start_time": "2022-10-31T16:25:13.652Z"
   },
   {
    "duration": 201,
    "start_time": "2022-10-31T16:25:18.838Z"
   },
   {
    "duration": 215,
    "start_time": "2022-10-31T16:25:23.717Z"
   },
   {
    "duration": 221,
    "start_time": "2022-10-31T16:25:35.310Z"
   },
   {
    "duration": 207,
    "start_time": "2022-10-31T16:25:39.463Z"
   },
   {
    "duration": 319,
    "start_time": "2022-10-31T16:28:40.570Z"
   },
   {
    "duration": 195,
    "start_time": "2022-10-31T16:28:47.627Z"
   },
   {
    "duration": 200,
    "start_time": "2022-10-31T16:30:25.780Z"
   },
   {
    "duration": 221,
    "start_time": "2022-10-31T16:30:37.166Z"
   },
   {
    "duration": 287,
    "start_time": "2022-10-31T16:30:48.815Z"
   },
   {
    "duration": 305,
    "start_time": "2022-10-31T16:31:15.714Z"
   },
   {
    "duration": 283,
    "start_time": "2022-10-31T16:31:30.764Z"
   },
   {
    "duration": 404,
    "start_time": "2022-10-31T16:31:34.764Z"
   },
   {
    "duration": 288,
    "start_time": "2022-10-31T16:31:46.125Z"
   },
   {
    "duration": 297,
    "start_time": "2022-10-31T16:32:35.747Z"
   },
   {
    "duration": 167,
    "start_time": "2022-10-31T16:32:57.412Z"
   },
   {
    "duration": 206,
    "start_time": "2022-10-31T16:33:03.950Z"
   },
   {
    "duration": 203,
    "start_time": "2022-10-31T16:33:18.199Z"
   },
   {
    "duration": 200,
    "start_time": "2022-10-31T16:34:12.189Z"
   },
   {
    "duration": 2516,
    "start_time": "2022-10-31T16:35:18.151Z"
   },
   {
    "duration": 29,
    "start_time": "2022-10-31T16:35:20.669Z"
   },
   {
    "duration": 9,
    "start_time": "2022-10-31T16:35:20.699Z"
   },
   {
    "duration": 4,
    "start_time": "2022-10-31T16:35:20.710Z"
   },
   {
    "duration": 14,
    "start_time": "2022-10-31T16:35:20.715Z"
   },
   {
    "duration": 4,
    "start_time": "2022-10-31T16:35:20.730Z"
   },
   {
    "duration": 14,
    "start_time": "2022-10-31T16:35:20.735Z"
   },
   {
    "duration": 8,
    "start_time": "2022-10-31T16:35:20.750Z"
   },
   {
    "duration": 8,
    "start_time": "2022-10-31T16:35:20.759Z"
   },
   {
    "duration": 46,
    "start_time": "2022-10-31T16:35:20.769Z"
   },
   {
    "duration": 12,
    "start_time": "2022-10-31T16:35:20.816Z"
   },
   {
    "duration": 14,
    "start_time": "2022-10-31T16:35:20.829Z"
   },
   {
    "duration": 22,
    "start_time": "2022-10-31T16:35:20.844Z"
   },
   {
    "duration": 3,
    "start_time": "2022-10-31T16:35:20.867Z"
   },
   {
    "duration": 32,
    "start_time": "2022-10-31T16:35:20.871Z"
   },
   {
    "duration": 5,
    "start_time": "2022-10-31T16:35:20.904Z"
   },
   {
    "duration": 30,
    "start_time": "2022-10-31T16:35:20.910Z"
   },
   {
    "duration": 22,
    "start_time": "2022-10-31T16:35:20.941Z"
   },
   {
    "duration": 54,
    "start_time": "2022-10-31T16:35:20.965Z"
   },
   {
    "duration": 327,
    "start_time": "2022-10-31T16:35:21.021Z"
   },
   {
    "duration": 24,
    "start_time": "2022-10-31T16:35:21.350Z"
   },
   {
    "duration": 256,
    "start_time": "2022-10-31T16:35:21.375Z"
   },
   {
    "duration": 209,
    "start_time": "2022-10-31T16:35:21.633Z"
   },
   {
    "duration": 289,
    "start_time": "2022-10-31T16:35:21.844Z"
   },
   {
    "duration": 282,
    "start_time": "2022-10-31T16:35:22.134Z"
   },
   {
    "duration": 200,
    "start_time": "2022-10-31T16:35:22.418Z"
   },
   {
    "duration": 194,
    "start_time": "2022-10-31T16:35:22.619Z"
   },
   {
    "duration": 192,
    "start_time": "2022-10-31T16:36:28.742Z"
   },
   {
    "duration": 195,
    "start_time": "2022-10-31T16:38:00.272Z"
   },
   {
    "duration": 70,
    "start_time": "2022-10-31T16:39:30.250Z"
   },
   {
    "duration": 52,
    "start_time": "2022-10-31T16:40:13.335Z"
   },
   {
    "duration": 44,
    "start_time": "2022-10-31T16:40:21.127Z"
   },
   {
    "duration": 193,
    "start_time": "2022-10-31T16:40:27.392Z"
   },
   {
    "duration": 44,
    "start_time": "2022-10-31T16:40:51.858Z"
   },
   {
    "duration": 49,
    "start_time": "2022-11-01T11:53:29.824Z"
   },
   {
    "duration": 3213,
    "start_time": "2022-11-01T11:53:37.352Z"
   },
   {
    "duration": 33,
    "start_time": "2022-11-01T11:53:40.567Z"
   },
   {
    "duration": 9,
    "start_time": "2022-11-01T11:53:40.601Z"
   },
   {
    "duration": 9,
    "start_time": "2022-11-01T11:53:40.612Z"
   },
   {
    "duration": 17,
    "start_time": "2022-11-01T11:53:40.622Z"
   },
   {
    "duration": 9,
    "start_time": "2022-11-01T11:53:40.640Z"
   },
   {
    "duration": 13,
    "start_time": "2022-11-01T11:53:40.651Z"
   },
   {
    "duration": 15,
    "start_time": "2022-11-01T11:53:40.666Z"
   },
   {
    "duration": 14,
    "start_time": "2022-11-01T11:53:40.683Z"
   },
   {
    "duration": 46,
    "start_time": "2022-11-01T11:53:40.700Z"
   },
   {
    "duration": 14,
    "start_time": "2022-11-01T11:53:40.748Z"
   },
   {
    "duration": 15,
    "start_time": "2022-11-01T11:53:40.764Z"
   },
   {
    "duration": 54,
    "start_time": "2022-11-01T11:53:40.781Z"
   },
   {
    "duration": 5,
    "start_time": "2022-11-01T11:53:40.836Z"
   },
   {
    "duration": 8,
    "start_time": "2022-11-01T11:53:40.842Z"
   },
   {
    "duration": 15,
    "start_time": "2022-11-01T11:53:40.851Z"
   },
   {
    "duration": 32,
    "start_time": "2022-11-01T11:53:40.868Z"
   },
   {
    "duration": 48,
    "start_time": "2022-11-01T11:53:40.902Z"
   },
   {
    "duration": 45,
    "start_time": "2022-11-01T11:53:40.952Z"
   },
   {
    "duration": 407,
    "start_time": "2022-11-01T11:53:40.999Z"
   },
   {
    "duration": 49,
    "start_time": "2022-11-01T11:53:41.408Z"
   },
   {
    "duration": 313,
    "start_time": "2022-11-01T11:53:41.458Z"
   },
   {
    "duration": 236,
    "start_time": "2022-11-01T11:53:41.773Z"
   },
   {
    "duration": 336,
    "start_time": "2022-11-01T11:53:42.012Z"
   },
   {
    "duration": 339,
    "start_time": "2022-11-01T11:53:42.350Z"
   },
   {
    "duration": 239,
    "start_time": "2022-11-01T11:53:42.691Z"
   },
   {
    "duration": 229,
    "start_time": "2022-11-01T11:53:42.934Z"
   },
   {
    "duration": 233,
    "start_time": "2022-11-01T11:53:43.166Z"
   },
   {
    "duration": 88,
    "start_time": "2022-11-01T11:53:43.401Z"
   },
   {
    "duration": 15,
    "start_time": "2022-11-01T11:54:08.477Z"
   },
   {
    "duration": 16,
    "start_time": "2022-11-01T11:54:10.701Z"
   },
   {
    "duration": 7,
    "start_time": "2022-11-01T11:54:51.114Z"
   },
   {
    "duration": 114,
    "start_time": "2022-11-01T11:55:39.246Z"
   },
   {
    "duration": 220,
    "start_time": "2022-11-01T11:56:33.900Z"
   },
   {
    "duration": 205,
    "start_time": "2022-11-01T11:56:43.173Z"
   },
   {
    "duration": 230,
    "start_time": "2022-11-01T11:56:57.040Z"
   },
   {
    "duration": 294,
    "start_time": "2022-11-01T11:57:01.335Z"
   },
   {
    "duration": 225,
    "start_time": "2022-11-01T12:01:12.298Z"
   },
   {
    "duration": 202,
    "start_time": "2022-11-01T12:01:42.956Z"
   },
   {
    "duration": 229,
    "start_time": "2022-11-01T12:01:53.158Z"
   },
   {
    "duration": 254,
    "start_time": "2022-11-01T12:02:05.208Z"
   },
   {
    "duration": 244,
    "start_time": "2022-11-01T12:03:25.560Z"
   },
   {
    "duration": 244,
    "start_time": "2022-11-01T12:03:39.457Z"
   },
   {
    "duration": 364,
    "start_time": "2022-11-01T12:03:45.706Z"
   },
   {
    "duration": 261,
    "start_time": "2022-11-01T12:04:31.064Z"
   },
   {
    "duration": 219,
    "start_time": "2022-11-01T12:04:43.234Z"
   },
   {
    "duration": 225,
    "start_time": "2022-11-01T12:04:47.769Z"
   },
   {
    "duration": 236,
    "start_time": "2022-11-01T12:05:00.699Z"
   },
   {
    "duration": 263,
    "start_time": "2022-11-01T12:05:07.235Z"
   },
   {
    "duration": 143,
    "start_time": "2022-11-01T12:07:09.649Z"
   },
   {
    "duration": 181,
    "start_time": "2022-11-01T12:07:38.811Z"
   },
   {
    "duration": 176,
    "start_time": "2022-11-01T12:07:45.748Z"
   },
   {
    "duration": 241,
    "start_time": "2022-11-01T12:07:53.813Z"
   },
   {
    "duration": 159,
    "start_time": "2022-11-01T12:08:00.710Z"
   },
   {
    "duration": 44,
    "start_time": "2022-11-01T12:23:46.756Z"
   },
   {
    "duration": 2926,
    "start_time": "2022-11-01T12:24:01.079Z"
   },
   {
    "duration": 31,
    "start_time": "2022-11-01T12:24:04.007Z"
   },
   {
    "duration": 10,
    "start_time": "2022-11-01T12:24:04.040Z"
   },
   {
    "duration": 17,
    "start_time": "2022-11-01T12:24:04.052Z"
   },
   {
    "duration": 19,
    "start_time": "2022-11-01T12:24:04.071Z"
   },
   {
    "duration": 11,
    "start_time": "2022-11-01T12:24:04.092Z"
   },
   {
    "duration": 31,
    "start_time": "2022-11-01T12:24:04.105Z"
   },
   {
    "duration": 12,
    "start_time": "2022-11-01T12:24:04.138Z"
   },
   {
    "duration": 32,
    "start_time": "2022-11-01T12:24:04.152Z"
   },
   {
    "duration": 55,
    "start_time": "2022-11-01T12:24:04.188Z"
   },
   {
    "duration": 20,
    "start_time": "2022-11-01T12:24:04.244Z"
   },
   {
    "duration": 40,
    "start_time": "2022-11-01T12:24:04.266Z"
   },
   {
    "duration": 29,
    "start_time": "2022-11-01T12:24:04.307Z"
   },
   {
    "duration": 21,
    "start_time": "2022-11-01T12:24:04.337Z"
   },
   {
    "duration": 13,
    "start_time": "2022-11-01T12:24:04.360Z"
   },
   {
    "duration": 37,
    "start_time": "2022-11-01T12:24:04.374Z"
   },
   {
    "duration": 43,
    "start_time": "2022-11-01T12:24:04.413Z"
   },
   {
    "duration": 27,
    "start_time": "2022-11-01T12:24:04.458Z"
   },
   {
    "duration": 58,
    "start_time": "2022-11-01T12:24:04.487Z"
   },
   {
    "duration": 353,
    "start_time": "2022-11-01T12:24:04.546Z"
   },
   {
    "duration": 26,
    "start_time": "2022-11-01T12:24:04.900Z"
   },
   {
    "duration": 36,
    "start_time": "2022-11-01T12:24:04.934Z"
   },
   {
    "duration": 257,
    "start_time": "2022-11-01T12:24:04.972Z"
   },
   {
    "duration": 235,
    "start_time": "2022-11-01T12:24:05.233Z"
   },
   {
    "duration": 330,
    "start_time": "2022-11-01T12:24:05.470Z"
   },
   {
    "duration": 343,
    "start_time": "2022-11-01T12:24:05.802Z"
   },
   {
    "duration": 300,
    "start_time": "2022-11-01T12:24:06.147Z"
   },
   {
    "duration": 235,
    "start_time": "2022-11-01T12:24:06.452Z"
   },
   {
    "duration": 227,
    "start_time": "2022-11-01T12:24:06.689Z"
   },
   {
    "duration": 137,
    "start_time": "2022-11-01T12:24:06.918Z"
   },
   {
    "duration": 231,
    "start_time": "2022-11-01T12:24:07.056Z"
   },
   {
    "duration": 263,
    "start_time": "2022-11-01T12:24:07.289Z"
   },
   {
    "duration": 350,
    "start_time": "2022-11-01T12:24:07.554Z"
   },
   {
    "duration": 270,
    "start_time": "2022-11-01T12:24:07.906Z"
   },
   {
    "duration": 142,
    "start_time": "2022-11-01T12:24:08.178Z"
   },
   {
    "duration": 166,
    "start_time": "2022-11-01T12:24:08.322Z"
   },
   {
    "duration": 56,
    "start_time": "2022-11-01T12:27:02.803Z"
   },
   {
    "duration": 225,
    "start_time": "2022-11-01T12:32:43.480Z"
   },
   {
    "duration": 230,
    "start_time": "2022-11-01T12:38:27.088Z"
   },
   {
    "duration": 273,
    "start_time": "2022-11-01T12:39:32.188Z"
   },
   {
    "duration": 341,
    "start_time": "2022-11-01T12:39:43.557Z"
   },
   {
    "duration": 283,
    "start_time": "2022-11-01T12:39:47.806Z"
   },
   {
    "duration": 236,
    "start_time": "2022-11-01T12:40:25.458Z"
   },
   {
    "duration": 268,
    "start_time": "2022-11-01T12:42:11.598Z"
   },
   {
    "duration": 221,
    "start_time": "2022-11-01T12:42:21.942Z"
   },
   {
    "duration": 492,
    "start_time": "2022-11-01T12:42:29.879Z"
   },
   {
    "duration": 296,
    "start_time": "2022-11-01T12:42:40.920Z"
   },
   {
    "duration": 42,
    "start_time": "2022-11-01T12:44:05.850Z"
   },
   {
    "duration": 293,
    "start_time": "2022-11-01T12:47:27.385Z"
   },
   {
    "duration": 230,
    "start_time": "2022-11-01T12:47:40.401Z"
   },
   {
    "duration": 325,
    "start_time": "2022-11-01T12:47:49.281Z"
   },
   {
    "duration": 218,
    "start_time": "2022-11-01T12:47:54.476Z"
   },
   {
    "duration": 220,
    "start_time": "2022-11-01T12:47:58.874Z"
   },
   {
    "duration": 216,
    "start_time": "2022-11-01T12:48:02.266Z"
   },
   {
    "duration": 258,
    "start_time": "2022-11-01T12:48:05.499Z"
   },
   {
    "duration": 215,
    "start_time": "2022-11-01T12:48:09.252Z"
   },
   {
    "duration": 248,
    "start_time": "2022-11-01T12:48:12.188Z"
   },
   {
    "duration": 262,
    "start_time": "2022-11-01T12:48:15.485Z"
   },
   {
    "duration": 255,
    "start_time": "2022-11-01T12:48:20.093Z"
   },
   {
    "duration": 120,
    "start_time": "2022-11-01T12:48:23.629Z"
   },
   {
    "duration": 163,
    "start_time": "2022-11-01T12:48:26.446Z"
   },
   {
    "duration": 242,
    "start_time": "2022-11-01T12:48:42.287Z"
   },
   {
    "duration": 56,
    "start_time": "2022-11-01T12:52:25.671Z"
   },
   {
    "duration": 83,
    "start_time": "2022-11-01T12:53:37.247Z"
   },
   {
    "duration": 51,
    "start_time": "2022-11-01T12:55:33.827Z"
   },
   {
    "duration": 266,
    "start_time": "2022-11-01T13:17:38.473Z"
   },
   {
    "duration": 381,
    "start_time": "2022-11-01T13:17:47.762Z"
   },
   {
    "duration": 257,
    "start_time": "2022-11-01T13:17:59.483Z"
   },
   {
    "duration": 255,
    "start_time": "2022-11-01T13:18:10.597Z"
   },
   {
    "duration": 293,
    "start_time": "2022-11-01T13:18:15.510Z"
   },
   {
    "duration": 288,
    "start_time": "2022-11-01T13:18:29.878Z"
   },
   {
    "duration": 282,
    "start_time": "2022-11-01T13:18:55.074Z"
   },
   {
    "duration": 377,
    "start_time": "2022-11-01T13:19:10.467Z"
   },
   {
    "duration": 438,
    "start_time": "2022-11-01T13:19:17.356Z"
   },
   {
    "duration": 402,
    "start_time": "2022-11-01T13:19:26.493Z"
   },
   {
    "duration": 298,
    "start_time": "2022-11-01T13:19:47.048Z"
   },
   {
    "duration": 300,
    "start_time": "2022-11-01T13:20:05.794Z"
   },
   {
    "duration": 286,
    "start_time": "2022-11-01T13:20:28.860Z"
   },
   {
    "duration": 298,
    "start_time": "2022-11-01T13:21:02.584Z"
   },
   {
    "duration": 96,
    "start_time": "2022-11-01T13:21:30.090Z"
   },
   {
    "duration": 85,
    "start_time": "2022-11-01T13:21:49.908Z"
   },
   {
    "duration": 295,
    "start_time": "2022-11-01T13:21:53.446Z"
   },
   {
    "duration": 511,
    "start_time": "2022-11-01T13:22:45.827Z"
   },
   {
    "duration": 282,
    "start_time": "2022-11-01T13:26:06.905Z"
   },
   {
    "duration": 79,
    "start_time": "2022-11-01T13:33:18.566Z"
   },
   {
    "duration": 207,
    "start_time": "2022-11-01T13:33:25.975Z"
   },
   {
    "duration": 242,
    "start_time": "2022-11-01T13:33:40.881Z"
   },
   {
    "duration": 244,
    "start_time": "2022-11-01T13:34:25.685Z"
   },
   {
    "duration": 78,
    "start_time": "2022-11-01T13:34:29.997Z"
   },
   {
    "duration": 203,
    "start_time": "2022-11-01T13:36:33.290Z"
   },
   {
    "duration": 49,
    "start_time": "2022-11-01T13:38:02.276Z"
   },
   {
    "duration": 13,
    "start_time": "2022-11-01T13:38:35.072Z"
   },
   {
    "duration": 139,
    "start_time": "2022-11-01T13:39:09.108Z"
   },
   {
    "duration": 70,
    "start_time": "2022-11-01T13:39:32.006Z"
   },
   {
    "duration": 194,
    "start_time": "2022-11-01T13:40:29.884Z"
   },
   {
    "duration": 206,
    "start_time": "2022-11-01T13:41:47.876Z"
   },
   {
    "duration": 383,
    "start_time": "2022-11-01T13:42:05.566Z"
   },
   {
    "duration": 200,
    "start_time": "2022-11-01T13:42:14.087Z"
   },
   {
    "duration": 86,
    "start_time": "2022-11-01T13:47:38.506Z"
   },
   {
    "duration": 293,
    "start_time": "2022-11-01T13:47:46.971Z"
   },
   {
    "duration": 299,
    "start_time": "2022-11-01T13:48:33.368Z"
   },
   {
    "duration": 318,
    "start_time": "2022-11-01T13:48:46.641Z"
   },
   {
    "duration": 306,
    "start_time": "2022-11-01T13:49:00.915Z"
   },
   {
    "duration": 315,
    "start_time": "2022-11-01T13:55:01.834Z"
   },
   {
    "duration": 2890,
    "start_time": "2022-11-01T13:55:10.487Z"
   },
   {
    "duration": 32,
    "start_time": "2022-11-01T13:55:13.379Z"
   },
   {
    "duration": 9,
    "start_time": "2022-11-01T13:55:13.412Z"
   },
   {
    "duration": 6,
    "start_time": "2022-11-01T13:55:13.423Z"
   },
   {
    "duration": 23,
    "start_time": "2022-11-01T13:55:13.430Z"
   },
   {
    "duration": 6,
    "start_time": "2022-11-01T13:55:13.454Z"
   },
   {
    "duration": 15,
    "start_time": "2022-11-01T13:55:13.462Z"
   },
   {
    "duration": 11,
    "start_time": "2022-11-01T13:55:13.479Z"
   },
   {
    "duration": 5,
    "start_time": "2022-11-01T13:55:13.492Z"
   },
   {
    "duration": 27,
    "start_time": "2022-11-01T13:55:13.533Z"
   },
   {
    "duration": 15,
    "start_time": "2022-11-01T13:55:13.562Z"
   },
   {
    "duration": 15,
    "start_time": "2022-11-01T13:55:13.579Z"
   },
   {
    "duration": 55,
    "start_time": "2022-11-01T13:55:13.596Z"
   },
   {
    "duration": 5,
    "start_time": "2022-11-01T13:55:13.653Z"
   },
   {
    "duration": 9,
    "start_time": "2022-11-01T13:55:13.659Z"
   },
   {
    "duration": 8,
    "start_time": "2022-11-01T13:55:13.669Z"
   },
   {
    "duration": 28,
    "start_time": "2022-11-01T13:55:13.678Z"
   },
   {
    "duration": 48,
    "start_time": "2022-11-01T13:55:13.708Z"
   },
   {
    "duration": 41,
    "start_time": "2022-11-01T13:55:13.758Z"
   },
   {
    "duration": 363,
    "start_time": "2022-11-01T13:55:13.800Z"
   },
   {
    "duration": 28,
    "start_time": "2022-11-01T13:55:14.165Z"
   },
   {
    "duration": 68,
    "start_time": "2022-11-01T13:55:14.195Z"
   },
   {
    "duration": 252,
    "start_time": "2022-11-01T13:55:14.265Z"
   },
   {
    "duration": 368,
    "start_time": "2022-11-01T13:55:14.518Z"
   },
   {
    "duration": 224,
    "start_time": "2022-11-01T13:55:14.888Z"
   },
   {
    "duration": 326,
    "start_time": "2022-11-01T13:55:15.114Z"
   },
   {
    "duration": 225,
    "start_time": "2022-11-01T13:55:15.441Z"
   },
   {
    "duration": 225,
    "start_time": "2022-11-01T13:55:15.670Z"
   },
   {
    "duration": 219,
    "start_time": "2022-11-01T13:55:15.897Z"
   },
   {
    "duration": 154,
    "start_time": "2022-11-01T13:55:16.118Z"
   },
   {
    "duration": 307,
    "start_time": "2022-11-01T13:55:16.275Z"
   },
   {
    "duration": 352,
    "start_time": "2022-11-01T13:55:16.584Z"
   },
   {
    "duration": 256,
    "start_time": "2022-11-01T13:55:16.938Z"
   },
   {
    "duration": 247,
    "start_time": "2022-11-01T13:55:17.196Z"
   },
   {
    "duration": 128,
    "start_time": "2022-11-01T13:55:17.445Z"
   },
   {
    "duration": 151,
    "start_time": "2022-11-01T13:55:17.575Z"
   },
   {
    "duration": 300,
    "start_time": "2022-11-01T13:55:17.733Z"
   },
   {
    "duration": 226,
    "start_time": "2022-11-01T13:55:18.035Z"
   },
   {
    "duration": 279,
    "start_time": "2022-11-01T13:55:18.263Z"
   },
   {
    "duration": 312,
    "start_time": "2022-11-01T13:55:18.544Z"
   },
   {
    "duration": 273,
    "start_time": "2022-11-01T13:55:54.669Z"
   },
   {
    "duration": 295,
    "start_time": "2022-11-01T13:56:32.760Z"
   },
   {
    "duration": 67,
    "start_time": "2022-11-01T14:10:47.092Z"
   },
   {
    "duration": 428,
    "start_time": "2022-11-01T14:10:51.948Z"
   },
   {
    "duration": 508,
    "start_time": "2022-11-01T14:11:31.848Z"
   },
   {
    "duration": 431,
    "start_time": "2022-11-01T14:11:54.412Z"
   },
   {
    "duration": 308,
    "start_time": "2022-11-01T14:12:04.453Z"
   },
   {
    "duration": 327,
    "start_time": "2022-11-01T14:13:30.773Z"
   },
   {
    "duration": 308,
    "start_time": "2022-11-01T14:13:46.741Z"
   },
   {
    "duration": 296,
    "start_time": "2022-11-01T14:14:18.866Z"
   },
   {
    "duration": 100,
    "start_time": "2022-11-01T14:27:49.946Z"
   },
   {
    "duration": 326,
    "start_time": "2022-11-01T14:28:18.709Z"
   },
   {
    "duration": 13,
    "start_time": "2022-11-01T14:30:55.405Z"
   },
   {
    "duration": 7,
    "start_time": "2022-11-01T14:31:11.272Z"
   },
   {
    "duration": 17,
    "start_time": "2022-11-01T14:31:20.976Z"
   },
   {
    "duration": 23,
    "start_time": "2022-11-01T14:31:51.526Z"
   },
   {
    "duration": 12,
    "start_time": "2022-11-01T14:31:53.491Z"
   },
   {
    "duration": 6,
    "start_time": "2022-11-01T14:32:02.326Z"
   },
   {
    "duration": 4,
    "start_time": "2022-11-01T14:32:04.325Z"
   },
   {
    "duration": 27,
    "start_time": "2022-11-01T14:32:19.197Z"
   },
   {
    "duration": 3048,
    "start_time": "2022-11-01T14:32:36.333Z"
   },
   {
    "duration": 32,
    "start_time": "2022-11-01T14:32:39.383Z"
   },
   {
    "duration": 17,
    "start_time": "2022-11-01T14:32:39.417Z"
   },
   {
    "duration": 21,
    "start_time": "2022-11-01T14:32:39.440Z"
   },
   {
    "duration": 32,
    "start_time": "2022-11-01T14:32:39.463Z"
   },
   {
    "duration": 10,
    "start_time": "2022-11-01T14:32:39.497Z"
   },
   {
    "duration": 18,
    "start_time": "2022-11-01T14:32:39.509Z"
   },
   {
    "duration": 13,
    "start_time": "2022-11-01T14:32:39.529Z"
   },
   {
    "duration": 12,
    "start_time": "2022-11-01T14:32:39.543Z"
   },
   {
    "duration": 31,
    "start_time": "2022-11-01T14:32:39.558Z"
   },
   {
    "duration": 14,
    "start_time": "2022-11-01T14:32:39.591Z"
   },
   {
    "duration": 33,
    "start_time": "2022-11-01T14:32:39.606Z"
   },
   {
    "duration": 35,
    "start_time": "2022-11-01T14:32:39.641Z"
   },
   {
    "duration": 30,
    "start_time": "2022-11-01T14:32:39.678Z"
   },
   {
    "duration": 5,
    "start_time": "2022-11-01T14:32:39.710Z"
   },
   {
    "duration": 38,
    "start_time": "2022-11-01T14:32:39.717Z"
   },
   {
    "duration": 7,
    "start_time": "2022-11-01T14:32:39.757Z"
   },
   {
    "duration": 43,
    "start_time": "2022-11-01T14:32:39.766Z"
   },
   {
    "duration": 46,
    "start_time": "2022-11-01T14:32:39.811Z"
   },
   {
    "duration": 45,
    "start_time": "2022-11-01T14:32:39.858Z"
   },
   {
    "duration": 387,
    "start_time": "2022-11-01T14:32:39.905Z"
   },
   {
    "duration": 26,
    "start_time": "2022-11-01T14:32:40.294Z"
   },
   {
    "duration": 59,
    "start_time": "2022-11-01T14:32:40.334Z"
   },
   {
    "duration": 279,
    "start_time": "2022-11-01T14:32:40.395Z"
   },
   {
    "duration": 408,
    "start_time": "2022-11-01T14:32:40.676Z"
   },
   {
    "duration": 246,
    "start_time": "2022-11-01T14:32:41.086Z"
   },
   {
    "duration": 378,
    "start_time": "2022-11-01T14:32:41.333Z"
   },
   {
    "duration": 248,
    "start_time": "2022-11-01T14:32:41.714Z"
   },
   {
    "duration": 235,
    "start_time": "2022-11-01T14:32:41.964Z"
   },
   {
    "duration": 245,
    "start_time": "2022-11-01T14:32:42.201Z"
   },
   {
    "duration": 125,
    "start_time": "2022-11-01T14:32:42.452Z"
   },
   {
    "duration": 229,
    "start_time": "2022-11-01T14:32:42.580Z"
   },
   {
    "duration": 350,
    "start_time": "2022-11-01T14:32:42.811Z"
   },
   {
    "duration": 289,
    "start_time": "2022-11-01T14:32:43.162Z"
   },
   {
    "duration": 263,
    "start_time": "2022-11-01T14:32:43.453Z"
   },
   {
    "duration": 138,
    "start_time": "2022-11-01T14:32:43.717Z"
   },
   {
    "duration": 155,
    "start_time": "2022-11-01T14:32:43.856Z"
   },
   {
    "duration": 246,
    "start_time": "2022-11-01T14:32:44.013Z"
   },
   {
    "duration": 309,
    "start_time": "2022-11-01T14:32:44.261Z"
   },
   {
    "duration": 294,
    "start_time": "2022-11-01T14:32:44.571Z"
   },
   {
    "duration": 315,
    "start_time": "2022-11-01T14:32:44.867Z"
   },
   {
    "duration": 65,
    "start_time": "2022-11-01T14:34:33.941Z"
   },
   {
    "duration": 312,
    "start_time": "2022-11-01T14:34:38.861Z"
   },
   {
    "duration": 1203,
    "start_time": "2022-11-01T14:36:51.828Z"
   },
   {
    "duration": 883,
    "start_time": "2022-11-01T14:36:58.173Z"
   },
   {
    "duration": 1081,
    "start_time": "2022-11-01T14:37:09.842Z"
   },
   {
    "duration": 757,
    "start_time": "2022-11-01T14:37:15.414Z"
   },
   {
    "duration": 846,
    "start_time": "2022-11-01T14:37:36.312Z"
   },
   {
    "duration": 926,
    "start_time": "2022-11-01T14:39:25.123Z"
   },
   {
    "duration": 80,
    "start_time": "2022-11-01T14:39:29.821Z"
   },
   {
    "duration": 1146,
    "start_time": "2022-11-01T14:39:36.382Z"
   },
   {
    "duration": 856,
    "start_time": "2022-11-01T14:39:40.270Z"
   },
   {
    "duration": 3107,
    "start_time": "2022-11-01T14:39:45.332Z"
   },
   {
    "duration": 32,
    "start_time": "2022-11-01T14:39:48.444Z"
   },
   {
    "duration": 16,
    "start_time": "2022-11-01T14:39:48.477Z"
   },
   {
    "duration": 11,
    "start_time": "2022-11-01T14:39:48.495Z"
   },
   {
    "duration": 40,
    "start_time": "2022-11-01T14:39:48.507Z"
   },
   {
    "duration": 22,
    "start_time": "2022-11-01T14:39:48.551Z"
   },
   {
    "duration": 29,
    "start_time": "2022-11-01T14:39:48.575Z"
   },
   {
    "duration": 18,
    "start_time": "2022-11-01T14:39:48.606Z"
   },
   {
    "duration": 30,
    "start_time": "2022-11-01T14:39:48.626Z"
   },
   {
    "duration": 32,
    "start_time": "2022-11-01T14:39:48.659Z"
   },
   {
    "duration": 14,
    "start_time": "2022-11-01T14:39:48.693Z"
   },
   {
    "duration": 18,
    "start_time": "2022-11-01T14:39:48.709Z"
   },
   {
    "duration": 32,
    "start_time": "2022-11-01T14:39:48.729Z"
   },
   {
    "duration": 30,
    "start_time": "2022-11-01T14:39:48.763Z"
   },
   {
    "duration": 6,
    "start_time": "2022-11-01T14:39:48.794Z"
   },
   {
    "duration": 21,
    "start_time": "2022-11-01T14:39:48.801Z"
   },
   {
    "duration": 17,
    "start_time": "2022-11-01T14:39:48.837Z"
   },
   {
    "duration": 43,
    "start_time": "2022-11-01T14:39:48.856Z"
   },
   {
    "duration": 27,
    "start_time": "2022-11-01T14:39:48.901Z"
   },
   {
    "duration": 50,
    "start_time": "2022-11-01T14:39:48.930Z"
   },
   {
    "duration": 385,
    "start_time": "2022-11-01T14:39:48.982Z"
   },
   {
    "duration": 25,
    "start_time": "2022-11-01T14:39:49.369Z"
   },
   {
    "duration": 81,
    "start_time": "2022-11-01T14:39:49.395Z"
   },
   {
    "duration": 254,
    "start_time": "2022-11-01T14:39:49.478Z"
   },
   {
    "duration": 391,
    "start_time": "2022-11-01T14:39:49.741Z"
   },
   {
    "duration": 245,
    "start_time": "2022-11-01T14:39:50.134Z"
   },
   {
    "duration": 336,
    "start_time": "2022-11-01T14:39:50.381Z"
   },
   {
    "duration": 236,
    "start_time": "2022-11-01T14:39:50.720Z"
   },
   {
    "duration": 229,
    "start_time": "2022-11-01T14:39:50.958Z"
   },
   {
    "duration": 229,
    "start_time": "2022-11-01T14:39:51.189Z"
   },
   {
    "duration": 126,
    "start_time": "2022-11-01T14:39:51.420Z"
   },
   {
    "duration": 230,
    "start_time": "2022-11-01T14:39:51.548Z"
   },
   {
    "duration": 383,
    "start_time": "2022-11-01T14:39:51.780Z"
   },
   {
    "duration": 303,
    "start_time": "2022-11-01T14:39:52.165Z"
   },
   {
    "duration": 288,
    "start_time": "2022-11-01T14:39:52.470Z"
   },
   {
    "duration": 130,
    "start_time": "2022-11-01T14:39:52.760Z"
   },
   {
    "duration": 170,
    "start_time": "2022-11-01T14:39:52.892Z"
   },
   {
    "duration": 947,
    "start_time": "2022-11-01T14:39:53.064Z"
   },
   {
    "duration": 0,
    "start_time": "2022-11-01T14:39:54.012Z"
   },
   {
    "duration": 0,
    "start_time": "2022-11-01T14:39:54.014Z"
   },
   {
    "duration": 0,
    "start_time": "2022-11-01T14:39:54.015Z"
   },
   {
    "duration": 244,
    "start_time": "2022-11-01T14:41:28.355Z"
   },
   {
    "duration": 2852,
    "start_time": "2022-11-01T14:43:59.153Z"
   },
   {
    "duration": 29,
    "start_time": "2022-11-01T14:44:02.007Z"
   },
   {
    "duration": 11,
    "start_time": "2022-11-01T14:44:02.038Z"
   },
   {
    "duration": 5,
    "start_time": "2022-11-01T14:44:02.052Z"
   },
   {
    "duration": 15,
    "start_time": "2022-11-01T14:44:02.059Z"
   },
   {
    "duration": 7,
    "start_time": "2022-11-01T14:44:02.076Z"
   },
   {
    "duration": 19,
    "start_time": "2022-11-01T14:44:02.084Z"
   },
   {
    "duration": 37,
    "start_time": "2022-11-01T14:44:02.105Z"
   },
   {
    "duration": 6,
    "start_time": "2022-11-01T14:44:02.144Z"
   },
   {
    "duration": 43,
    "start_time": "2022-11-01T14:44:02.153Z"
   },
   {
    "duration": 19,
    "start_time": "2022-11-01T14:44:02.198Z"
   },
   {
    "duration": 35,
    "start_time": "2022-11-01T14:44:02.219Z"
   },
   {
    "duration": 25,
    "start_time": "2022-11-01T14:44:02.256Z"
   },
   {
    "duration": 5,
    "start_time": "2022-11-01T14:44:02.283Z"
   },
   {
    "duration": 9,
    "start_time": "2022-11-01T14:44:02.290Z"
   },
   {
    "duration": 6,
    "start_time": "2022-11-01T14:44:02.301Z"
   },
   {
    "duration": 51,
    "start_time": "2022-11-01T14:44:02.308Z"
   },
   {
    "duration": 25,
    "start_time": "2022-11-01T14:44:02.360Z"
   },
   {
    "duration": 60,
    "start_time": "2022-11-01T14:44:02.387Z"
   },
   {
    "duration": 356,
    "start_time": "2022-11-01T14:44:02.448Z"
   },
   {
    "duration": 32,
    "start_time": "2022-11-01T14:44:02.806Z"
   },
   {
    "duration": 59,
    "start_time": "2022-11-01T14:44:02.840Z"
   },
   {
    "duration": 309,
    "start_time": "2022-11-01T14:44:02.901Z"
   },
   {
    "duration": 399,
    "start_time": "2022-11-01T14:44:03.212Z"
   },
   {
    "duration": 235,
    "start_time": "2022-11-01T14:44:03.612Z"
   },
   {
    "duration": 330,
    "start_time": "2022-11-01T14:44:03.849Z"
   },
   {
    "duration": 231,
    "start_time": "2022-11-01T14:44:04.181Z"
   },
   {
    "duration": 229,
    "start_time": "2022-11-01T14:44:04.415Z"
   },
   {
    "duration": 224,
    "start_time": "2022-11-01T14:44:04.646Z"
   },
   {
    "duration": 120,
    "start_time": "2022-11-01T14:44:04.872Z"
   },
   {
    "duration": 227,
    "start_time": "2022-11-01T14:44:04.994Z"
   },
   {
    "duration": 353,
    "start_time": "2022-11-01T14:44:05.223Z"
   },
   {
    "duration": 277,
    "start_time": "2022-11-01T14:44:05.578Z"
   },
   {
    "duration": 259,
    "start_time": "2022-11-01T14:44:05.857Z"
   },
   {
    "duration": 162,
    "start_time": "2022-11-01T14:44:06.117Z"
   },
   {
    "duration": 222,
    "start_time": "2022-11-01T14:44:06.281Z"
   },
   {
    "duration": 248,
    "start_time": "2022-11-01T14:44:06.505Z"
   },
   {
    "duration": 293,
    "start_time": "2022-11-01T14:44:06.755Z"
   },
   {
    "duration": 302,
    "start_time": "2022-11-01T14:44:07.049Z"
   },
   {
    "duration": 304,
    "start_time": "2022-11-01T14:44:07.353Z"
   },
   {
    "duration": 301,
    "start_time": "2022-11-01T14:45:19.910Z"
   },
   {
    "duration": 335,
    "start_time": "2022-11-01T14:45:36.783Z"
   },
   {
    "duration": 293,
    "start_time": "2022-11-01T14:45:43.544Z"
   },
   {
    "duration": 389,
    "start_time": "2022-11-01T14:45:47.905Z"
   },
   {
    "duration": 305,
    "start_time": "2022-11-01T14:45:52.257Z"
   },
   {
    "duration": 74,
    "start_time": "2022-11-01T14:48:53.301Z"
   },
   {
    "duration": 800,
    "start_time": "2022-11-01T14:50:17.911Z"
   },
   {
    "duration": 8,
    "start_time": "2022-11-01T14:50:29.728Z"
   },
   {
    "duration": 166,
    "start_time": "2022-11-01T14:50:52.994Z"
   },
   {
    "duration": 159,
    "start_time": "2022-11-01T14:54:03.734Z"
   },
   {
    "duration": 144,
    "start_time": "2022-11-01T14:54:41.569Z"
   },
   {
    "duration": 147,
    "start_time": "2022-11-01T14:55:00.243Z"
   },
   {
    "duration": 173,
    "start_time": "2022-11-01T14:56:18.102Z"
   },
   {
    "duration": 97,
    "start_time": "2022-11-01T14:57:25.116Z"
   },
   {
    "duration": 169,
    "start_time": "2022-11-01T15:00:34.361Z"
   },
   {
    "duration": 118,
    "start_time": "2022-11-01T15:01:12.477Z"
   },
   {
    "duration": 141,
    "start_time": "2022-11-01T15:03:12.594Z"
   },
   {
    "duration": 162,
    "start_time": "2022-11-01T15:05:30.152Z"
   },
   {
    "duration": 215,
    "start_time": "2022-11-01T15:06:39.432Z"
   },
   {
    "duration": 159,
    "start_time": "2022-11-01T15:08:59.367Z"
   },
   {
    "duration": 145,
    "start_time": "2022-11-01T15:09:36.915Z"
   },
   {
    "duration": 5,
    "start_time": "2022-11-01T15:16:06.611Z"
   },
   {
    "duration": 160,
    "start_time": "2022-11-01T15:16:29.693Z"
   },
   {
    "duration": 236,
    "start_time": "2022-11-01T15:16:36.221Z"
   },
   {
    "duration": 161,
    "start_time": "2022-11-01T15:16:47.974Z"
   },
   {
    "duration": 170,
    "start_time": "2022-11-01T15:24:50.370Z"
   },
   {
    "duration": 145,
    "start_time": "2022-11-01T15:25:00.699Z"
   },
   {
    "duration": 145,
    "start_time": "2022-11-01T15:25:34.879Z"
   },
   {
    "duration": 175,
    "start_time": "2022-11-01T15:26:16.580Z"
   },
   {
    "duration": 162,
    "start_time": "2022-11-01T15:26:54.904Z"
   },
   {
    "duration": 207,
    "start_time": "2022-11-01T15:27:13.425Z"
   },
   {
    "duration": 146,
    "start_time": "2022-11-01T15:27:17.425Z"
   },
   {
    "duration": 141,
    "start_time": "2022-11-01T15:27:22.586Z"
   },
   {
    "duration": 157,
    "start_time": "2022-11-01T15:29:41.630Z"
   },
   {
    "duration": 496,
    "start_time": "2022-11-01T15:34:09.837Z"
   },
   {
    "duration": 441,
    "start_time": "2022-11-01T15:34:44.481Z"
   },
   {
    "duration": 157,
    "start_time": "2022-11-01T15:35:08.165Z"
   },
   {
    "duration": 153,
    "start_time": "2022-11-01T15:40:19.709Z"
   },
   {
    "duration": 208,
    "start_time": "2022-11-01T15:43:39.674Z"
   },
   {
    "duration": 205,
    "start_time": "2022-11-01T15:43:53.466Z"
   },
   {
    "duration": 294,
    "start_time": "2022-11-01T15:44:28.808Z"
   },
   {
    "duration": 33,
    "start_time": "2022-11-01T15:45:24.637Z"
   },
   {
    "duration": 28,
    "start_time": "2022-11-01T15:45:36.919Z"
   },
   {
    "duration": 29,
    "start_time": "2022-11-01T15:46:14.339Z"
   },
   {
    "duration": 2908,
    "start_time": "2022-11-01T15:46:47.957Z"
   },
   {
    "duration": 32,
    "start_time": "2022-11-01T15:46:50.867Z"
   },
   {
    "duration": 9,
    "start_time": "2022-11-01T15:46:50.901Z"
   },
   {
    "duration": 11,
    "start_time": "2022-11-01T15:46:50.913Z"
   },
   {
    "duration": 46,
    "start_time": "2022-11-01T15:46:50.926Z"
   },
   {
    "duration": 20,
    "start_time": "2022-11-01T15:46:50.974Z"
   },
   {
    "duration": 17,
    "start_time": "2022-11-01T15:46:50.996Z"
   },
   {
    "duration": 17,
    "start_time": "2022-11-01T15:46:51.015Z"
   },
   {
    "duration": 4,
    "start_time": "2022-11-01T15:46:51.034Z"
   },
   {
    "duration": 35,
    "start_time": "2022-11-01T15:46:51.041Z"
   },
   {
    "duration": 13,
    "start_time": "2022-11-01T15:46:51.078Z"
   },
   {
    "duration": 18,
    "start_time": "2022-11-01T15:46:51.092Z"
   },
   {
    "duration": 42,
    "start_time": "2022-11-01T15:46:51.111Z"
   },
   {
    "duration": 4,
    "start_time": "2022-11-01T15:46:51.155Z"
   },
   {
    "duration": 14,
    "start_time": "2022-11-01T15:46:51.160Z"
   },
   {
    "duration": 6,
    "start_time": "2022-11-01T15:46:51.176Z"
   },
   {
    "duration": 58,
    "start_time": "2022-11-01T15:46:51.184Z"
   },
   {
    "duration": 37,
    "start_time": "2022-11-01T15:46:51.244Z"
   },
   {
    "duration": 76,
    "start_time": "2022-11-01T15:46:51.283Z"
   },
   {
    "duration": 402,
    "start_time": "2022-11-01T15:46:51.361Z"
   },
   {
    "duration": 27,
    "start_time": "2022-11-01T15:46:51.765Z"
   },
   {
    "duration": 67,
    "start_time": "2022-11-01T15:46:51.793Z"
   },
   {
    "duration": 250,
    "start_time": "2022-11-01T15:46:51.862Z"
   },
   {
    "duration": 393,
    "start_time": "2022-11-01T15:46:52.114Z"
   },
   {
    "duration": 236,
    "start_time": "2022-11-01T15:46:52.509Z"
   },
   {
    "duration": 336,
    "start_time": "2022-11-01T15:46:52.747Z"
   },
   {
    "duration": 215,
    "start_time": "2022-11-01T15:46:53.084Z"
   },
   {
    "duration": 218,
    "start_time": "2022-11-01T15:46:53.302Z"
   },
   {
    "duration": 216,
    "start_time": "2022-11-01T15:46:53.523Z"
   },
   {
    "duration": 113,
    "start_time": "2022-11-01T15:46:53.741Z"
   },
   {
    "duration": 217,
    "start_time": "2022-11-01T15:46:53.856Z"
   },
   {
    "duration": 324,
    "start_time": "2022-11-01T15:46:54.075Z"
   },
   {
    "duration": 260,
    "start_time": "2022-11-01T15:46:54.401Z"
   },
   {
    "duration": 244,
    "start_time": "2022-11-01T15:46:54.663Z"
   },
   {
    "duration": 126,
    "start_time": "2022-11-01T15:46:54.909Z"
   },
   {
    "duration": 166,
    "start_time": "2022-11-01T15:46:55.037Z"
   },
   {
    "duration": 234,
    "start_time": "2022-11-01T15:46:55.205Z"
   },
   {
    "duration": 283,
    "start_time": "2022-11-01T15:46:55.440Z"
   },
   {
    "duration": 281,
    "start_time": "2022-11-01T15:46:55.725Z"
   },
   {
    "duration": 395,
    "start_time": "2022-11-01T15:46:56.008Z"
   },
   {
    "duration": 160,
    "start_time": "2022-11-01T15:46:56.406Z"
   },
   {
    "duration": 159,
    "start_time": "2022-11-01T15:46:56.567Z"
   },
   {
    "duration": 137,
    "start_time": "2022-11-01T15:46:56.733Z"
   },
   {
    "duration": 142,
    "start_time": "2022-11-01T15:46:56.872Z"
   },
   {
    "duration": 158,
    "start_time": "2022-11-01T15:46:57.016Z"
   },
   {
    "duration": 94,
    "start_time": "2022-11-01T15:46:57.175Z"
   },
   {
    "duration": 183,
    "start_time": "2022-11-01T15:47:50.738Z"
   },
   {
    "duration": 379,
    "start_time": "2022-11-01T15:48:19.901Z"
   },
   {
    "duration": 231,
    "start_time": "2022-11-01T15:48:47.649Z"
   },
   {
    "duration": 170,
    "start_time": "2022-11-01T15:48:55.441Z"
   },
   {
    "duration": 155,
    "start_time": "2022-11-01T15:49:29.388Z"
   },
   {
    "duration": 202,
    "start_time": "2022-11-01T15:50:03.000Z"
   },
   {
    "duration": 25,
    "start_time": "2022-11-01T15:51:32.521Z"
   },
   {
    "duration": 28,
    "start_time": "2022-11-01T15:51:36.594Z"
   },
   {
    "duration": 24,
    "start_time": "2022-11-01T15:51:40.290Z"
   },
   {
    "duration": 31,
    "start_time": "2022-11-01T15:51:52.364Z"
   },
   {
    "duration": 150,
    "start_time": "2022-11-01T15:52:27.144Z"
   },
   {
    "duration": 159,
    "start_time": "2022-11-01T15:54:48.590Z"
   },
   {
    "duration": 148,
    "start_time": "2022-11-01T15:54:57.295Z"
   },
   {
    "duration": 146,
    "start_time": "2022-11-01T15:57:22.487Z"
   },
   {
    "duration": 164,
    "start_time": "2022-11-01T15:59:51.718Z"
   },
   {
    "duration": 175,
    "start_time": "2022-11-01T16:00:03.104Z"
   },
   {
    "duration": 170,
    "start_time": "2022-11-01T16:00:24.307Z"
   },
   {
    "duration": 228,
    "start_time": "2022-11-01T16:00:41.770Z"
   },
   {
    "duration": 78,
    "start_time": "2022-11-01T16:02:19.771Z"
   },
   {
    "duration": 8,
    "start_time": "2022-11-01T16:37:28.172Z"
   },
   {
    "duration": 8,
    "start_time": "2022-11-01T16:37:30.660Z"
   },
   {
    "duration": 96,
    "start_time": "2022-11-01T16:40:07.429Z"
   },
   {
    "duration": 33,
    "start_time": "2022-11-01T16:40:25.943Z"
   },
   {
    "duration": 36,
    "start_time": "2022-11-01T16:41:30.181Z"
   },
   {
    "duration": 35,
    "start_time": "2022-11-01T16:42:04.313Z"
   },
   {
    "duration": 44,
    "start_time": "2022-11-01T16:42:28.196Z"
   },
   {
    "duration": 78,
    "start_time": "2022-11-01T16:45:18.111Z"
   },
   {
    "duration": 76,
    "start_time": "2022-11-01T16:46:25.614Z"
   },
   {
    "duration": 56,
    "start_time": "2022-11-01T16:46:29.622Z"
   },
   {
    "duration": 65,
    "start_time": "2022-11-01T16:46:37.623Z"
   },
   {
    "duration": 63,
    "start_time": "2022-11-01T16:46:53.264Z"
   },
   {
    "duration": 56,
    "start_time": "2022-11-01T16:54:04.295Z"
   },
   {
    "duration": 43,
    "start_time": "2022-11-01T16:54:44.043Z"
   },
   {
    "duration": 42,
    "start_time": "2022-11-01T16:55:43.843Z"
   },
   {
    "duration": 24,
    "start_time": "2022-11-01T16:55:54.410Z"
   },
   {
    "duration": 2938,
    "start_time": "2022-11-01T16:56:01.051Z"
   },
   {
    "duration": 32,
    "start_time": "2022-11-01T16:56:03.991Z"
   },
   {
    "duration": 10,
    "start_time": "2022-11-01T16:56:04.024Z"
   },
   {
    "duration": 6,
    "start_time": "2022-11-01T16:56:04.036Z"
   },
   {
    "duration": 17,
    "start_time": "2022-11-01T16:56:04.043Z"
   },
   {
    "duration": 5,
    "start_time": "2022-11-01T16:56:04.062Z"
   },
   {
    "duration": 24,
    "start_time": "2022-11-01T16:56:04.069Z"
   },
   {
    "duration": 10,
    "start_time": "2022-11-01T16:56:04.094Z"
   },
   {
    "duration": 27,
    "start_time": "2022-11-01T16:56:04.106Z"
   },
   {
    "duration": 31,
    "start_time": "2022-11-01T16:56:04.136Z"
   },
   {
    "duration": 17,
    "start_time": "2022-11-01T16:56:04.169Z"
   },
   {
    "duration": 15,
    "start_time": "2022-11-01T16:56:04.187Z"
   },
   {
    "duration": 54,
    "start_time": "2022-11-01T16:56:04.203Z"
   },
   {
    "duration": 4,
    "start_time": "2022-11-01T16:56:04.259Z"
   },
   {
    "duration": 8,
    "start_time": "2022-11-01T16:56:04.265Z"
   },
   {
    "duration": 7,
    "start_time": "2022-11-01T16:56:04.274Z"
   },
   {
    "duration": 59,
    "start_time": "2022-11-01T16:56:04.283Z"
   },
   {
    "duration": 27,
    "start_time": "2022-11-01T16:56:04.345Z"
   },
   {
    "duration": 43,
    "start_time": "2022-11-01T16:56:04.373Z"
   },
   {
    "duration": 361,
    "start_time": "2022-11-01T16:56:04.418Z"
   },
   {
    "duration": 31,
    "start_time": "2022-11-01T16:56:04.781Z"
   },
   {
    "duration": 68,
    "start_time": "2022-11-01T16:56:04.814Z"
   },
   {
    "duration": 252,
    "start_time": "2022-11-01T16:56:04.883Z"
   },
   {
    "duration": 385,
    "start_time": "2022-11-01T16:56:05.137Z"
   },
   {
    "duration": 227,
    "start_time": "2022-11-01T16:56:05.524Z"
   },
   {
    "duration": 339,
    "start_time": "2022-11-01T16:56:05.753Z"
   },
   {
    "duration": 263,
    "start_time": "2022-11-01T16:56:06.093Z"
   },
   {
    "duration": 281,
    "start_time": "2022-11-01T16:56:06.361Z"
   },
   {
    "duration": 215,
    "start_time": "2022-11-01T16:56:06.643Z"
   },
   {
    "duration": 118,
    "start_time": "2022-11-01T16:56:06.861Z"
   },
   {
    "duration": 226,
    "start_time": "2022-11-01T16:56:06.980Z"
   },
   {
    "duration": 339,
    "start_time": "2022-11-01T16:56:07.208Z"
   },
   {
    "duration": 267,
    "start_time": "2022-11-01T16:56:07.550Z"
   },
   {
    "duration": 256,
    "start_time": "2022-11-01T16:56:07.819Z"
   },
   {
    "duration": 140,
    "start_time": "2022-11-01T16:56:08.077Z"
   },
   {
    "duration": 154,
    "start_time": "2022-11-01T16:56:08.219Z"
   },
   {
    "duration": 243,
    "start_time": "2022-11-01T16:56:08.375Z"
   },
   {
    "duration": 296,
    "start_time": "2022-11-01T16:56:08.620Z"
   },
   {
    "duration": 231,
    "start_time": "2022-11-01T16:56:08.918Z"
   },
   {
    "duration": 184,
    "start_time": "2022-11-01T16:56:09.151Z"
   },
   {
    "duration": 172,
    "start_time": "2022-11-01T16:56:09.337Z"
   },
   {
    "duration": 163,
    "start_time": "2022-11-01T16:56:09.510Z"
   },
   {
    "duration": 192,
    "start_time": "2022-11-01T16:56:09.674Z"
   },
   {
    "duration": 210,
    "start_time": "2022-11-01T16:56:09.868Z"
   },
   {
    "duration": 179,
    "start_time": "2022-11-01T16:56:10.080Z"
   },
   {
    "duration": 172,
    "start_time": "2022-11-01T16:56:10.261Z"
   },
   {
    "duration": 87,
    "start_time": "2022-11-01T16:56:10.435Z"
   },
   {
    "duration": 27,
    "start_time": "2022-11-01T16:56:16.365Z"
   },
   {
    "duration": 23,
    "start_time": "2022-11-01T16:56:19.757Z"
   },
   {
    "duration": 67,
    "start_time": "2022-11-01T17:00:19.767Z"
   },
   {
    "duration": 68,
    "start_time": "2022-11-01T17:01:14.139Z"
   },
   {
    "duration": 65,
    "start_time": "2022-11-01T17:01:39.071Z"
   },
   {
    "duration": 83,
    "start_time": "2022-11-01T17:01:48.232Z"
   },
   {
    "duration": 25,
    "start_time": "2022-11-01T17:01:51.176Z"
   },
   {
    "duration": 25,
    "start_time": "2022-11-01T17:01:53.576Z"
   },
   {
    "duration": 70,
    "start_time": "2022-11-01T17:02:34.653Z"
   },
   {
    "duration": 88,
    "start_time": "2022-11-01T17:02:51.103Z"
   },
   {
    "duration": 83,
    "start_time": "2022-11-01T17:03:00.967Z"
   },
   {
    "duration": 82,
    "start_time": "2022-11-01T17:03:40.692Z"
   },
   {
    "duration": 76,
    "start_time": "2022-11-01T17:06:01.644Z"
   },
   {
    "duration": 68,
    "start_time": "2022-11-01T17:07:18.811Z"
   },
   {
    "duration": 37,
    "start_time": "2022-11-01T17:09:19.697Z"
   },
   {
    "duration": 32,
    "start_time": "2022-11-01T17:16:17.394Z"
   },
   {
    "duration": 14,
    "start_time": "2022-11-01T17:17:55.127Z"
   },
   {
    "duration": 15,
    "start_time": "2022-11-01T17:18:16.802Z"
   },
   {
    "duration": 48,
    "start_time": "2022-11-01T17:18:25.723Z"
   },
   {
    "duration": 49,
    "start_time": "2022-11-01T17:18:47.318Z"
   },
   {
    "duration": 49,
    "start_time": "2022-11-01T17:19:04.223Z"
   },
   {
    "duration": 12,
    "start_time": "2022-11-01T17:19:25.978Z"
   },
   {
    "duration": 14,
    "start_time": "2022-11-01T17:25:35.356Z"
   },
   {
    "duration": 15,
    "start_time": "2022-11-01T17:26:07.956Z"
   },
   {
    "duration": 3022,
    "start_time": "2022-11-01T17:26:16.911Z"
   },
   {
    "duration": 31,
    "start_time": "2022-11-01T17:26:19.935Z"
   },
   {
    "duration": 11,
    "start_time": "2022-11-01T17:26:19.968Z"
   },
   {
    "duration": 5,
    "start_time": "2022-11-01T17:26:19.981Z"
   },
   {
    "duration": 16,
    "start_time": "2022-11-01T17:26:19.988Z"
   },
   {
    "duration": 6,
    "start_time": "2022-11-01T17:26:20.034Z"
   },
   {
    "duration": 21,
    "start_time": "2022-11-01T17:26:20.042Z"
   },
   {
    "duration": 12,
    "start_time": "2022-11-01T17:26:20.066Z"
   },
   {
    "duration": 20,
    "start_time": "2022-11-01T17:26:20.082Z"
   },
   {
    "duration": 52,
    "start_time": "2022-11-01T17:26:20.105Z"
   },
   {
    "duration": 19,
    "start_time": "2022-11-01T17:26:20.158Z"
   },
   {
    "duration": 19,
    "start_time": "2022-11-01T17:26:20.179Z"
   },
   {
    "duration": 57,
    "start_time": "2022-11-01T17:26:20.200Z"
   },
   {
    "duration": 4,
    "start_time": "2022-11-01T17:26:20.259Z"
   },
   {
    "duration": 11,
    "start_time": "2022-11-01T17:26:20.265Z"
   },
   {
    "duration": 10,
    "start_time": "2022-11-01T17:26:20.278Z"
   },
   {
    "duration": 76,
    "start_time": "2022-11-01T17:26:20.290Z"
   },
   {
    "duration": 37,
    "start_time": "2022-11-01T17:26:20.367Z"
   },
   {
    "duration": 82,
    "start_time": "2022-11-01T17:26:20.406Z"
   },
   {
    "duration": 381,
    "start_time": "2022-11-01T17:26:20.490Z"
   },
   {
    "duration": 28,
    "start_time": "2022-11-01T17:26:20.872Z"
   },
   {
    "duration": 73,
    "start_time": "2022-11-01T17:26:20.902Z"
   },
   {
    "duration": 241,
    "start_time": "2022-11-01T17:26:20.977Z"
   },
   {
    "duration": 398,
    "start_time": "2022-11-01T17:26:21.220Z"
   },
   {
    "duration": 225,
    "start_time": "2022-11-01T17:26:21.620Z"
   },
   {
    "duration": 333,
    "start_time": "2022-11-01T17:26:21.847Z"
   },
   {
    "duration": 220,
    "start_time": "2022-11-01T17:26:22.181Z"
   },
   {
    "duration": 233,
    "start_time": "2022-11-01T17:26:22.405Z"
   },
   {
    "duration": 227,
    "start_time": "2022-11-01T17:26:22.640Z"
   },
   {
    "duration": 119,
    "start_time": "2022-11-01T17:26:22.869Z"
   },
   {
    "duration": 237,
    "start_time": "2022-11-01T17:26:22.990Z"
   },
   {
    "duration": 347,
    "start_time": "2022-11-01T17:26:23.229Z"
   },
   {
    "duration": 271,
    "start_time": "2022-11-01T17:26:23.578Z"
   },
   {
    "duration": 256,
    "start_time": "2022-11-01T17:26:23.850Z"
   },
   {
    "duration": 137,
    "start_time": "2022-11-01T17:26:24.107Z"
   },
   {
    "duration": 162,
    "start_time": "2022-11-01T17:26:24.245Z"
   },
   {
    "duration": 250,
    "start_time": "2022-11-01T17:26:24.409Z"
   },
   {
    "duration": 299,
    "start_time": "2022-11-01T17:26:24.661Z"
   },
   {
    "duration": 223,
    "start_time": "2022-11-01T17:26:24.961Z"
   },
   {
    "duration": 171,
    "start_time": "2022-11-01T17:26:25.186Z"
   },
   {
    "duration": 150,
    "start_time": "2022-11-01T17:26:25.358Z"
   },
   {
    "duration": 143,
    "start_time": "2022-11-01T17:26:25.510Z"
   },
   {
    "duration": 166,
    "start_time": "2022-11-01T17:26:25.655Z"
   },
   {
    "duration": 195,
    "start_time": "2022-11-01T17:26:25.824Z"
   },
   {
    "duration": 212,
    "start_time": "2022-11-01T17:26:26.021Z"
   },
   {
    "duration": 235,
    "start_time": "2022-11-01T17:26:26.235Z"
   },
   {
    "duration": 187,
    "start_time": "2022-11-01T17:26:26.472Z"
   },
   {
    "duration": 0,
    "start_time": "2022-11-01T17:26:26.662Z"
   },
   {
    "duration": 67,
    "start_time": "2022-11-01T17:26:44.796Z"
   },
   {
    "duration": 14,
    "start_time": "2022-11-01T17:26:53.204Z"
   },
   {
    "duration": 165,
    "start_time": "2022-11-01T17:29:57.152Z"
   },
   {
    "duration": 157,
    "start_time": "2022-11-01T17:30:17.112Z"
   },
   {
    "duration": 39,
    "start_time": "2022-11-01T17:39:42.823Z"
   },
   {
    "duration": 2873,
    "start_time": "2022-11-04T16:02:00.795Z"
   },
   {
    "duration": 28,
    "start_time": "2022-11-04T16:02:03.670Z"
   },
   {
    "duration": 10,
    "start_time": "2022-11-04T16:02:03.699Z"
   },
   {
    "duration": 4,
    "start_time": "2022-11-04T16:02:03.711Z"
   },
   {
    "duration": 14,
    "start_time": "2022-11-04T16:02:03.716Z"
   },
   {
    "duration": 68,
    "start_time": "2022-11-04T16:02:03.731Z"
   },
   {
    "duration": 17,
    "start_time": "2022-11-04T16:02:03.801Z"
   },
   {
    "duration": 9,
    "start_time": "2022-11-04T16:02:03.819Z"
   },
   {
    "duration": 14,
    "start_time": "2022-11-04T16:02:03.830Z"
   },
   {
    "duration": 34,
    "start_time": "2022-11-04T16:02:03.847Z"
   },
   {
    "duration": 5,
    "start_time": "2022-11-04T16:02:03.883Z"
   },
   {
    "duration": 27,
    "start_time": "2022-11-04T16:02:03.889Z"
   },
   {
    "duration": 11,
    "start_time": "2022-11-04T16:02:03.917Z"
   },
   {
    "duration": 11,
    "start_time": "2022-11-04T16:02:03.930Z"
   },
   {
    "duration": 49,
    "start_time": "2022-11-04T16:02:03.942Z"
   },
   {
    "duration": 4,
    "start_time": "2022-11-04T16:02:03.993Z"
   },
   {
    "duration": 14,
    "start_time": "2022-11-04T16:02:03.998Z"
   },
   {
    "duration": 9,
    "start_time": "2022-11-04T16:02:04.013Z"
   },
   {
    "duration": 27,
    "start_time": "2022-11-04T16:02:04.023Z"
   },
   {
    "duration": 44,
    "start_time": "2022-11-04T16:02:04.052Z"
   },
   {
    "duration": 113,
    "start_time": "2022-11-04T16:02:04.098Z"
   },
   {
    "duration": 108,
    "start_time": "2022-11-04T16:02:04.213Z"
   },
   {
    "duration": 33,
    "start_time": "2022-11-04T16:02:04.323Z"
   },
   {
    "duration": 207,
    "start_time": "2022-11-04T16:02:04.357Z"
   },
   {
    "duration": 25,
    "start_time": "2022-11-04T16:02:04.565Z"
   },
   {
    "duration": 42,
    "start_time": "2022-11-04T16:02:04.592Z"
   },
   {
    "duration": 215,
    "start_time": "2022-11-04T16:02:04.636Z"
   },
   {
    "duration": 337,
    "start_time": "2022-11-04T16:02:04.854Z"
   },
   {
    "duration": 228,
    "start_time": "2022-11-04T16:02:05.192Z"
   },
   {
    "duration": 286,
    "start_time": "2022-11-04T16:02:05.422Z"
   },
   {
    "duration": 189,
    "start_time": "2022-11-04T16:02:05.709Z"
   },
   {
    "duration": 197,
    "start_time": "2022-11-04T16:02:05.899Z"
   },
   {
    "duration": 214,
    "start_time": "2022-11-04T16:02:06.097Z"
   },
   {
    "duration": 95,
    "start_time": "2022-11-04T16:02:06.312Z"
   },
   {
    "duration": 202,
    "start_time": "2022-11-04T16:02:06.408Z"
   },
   {
    "duration": 286,
    "start_time": "2022-11-04T16:02:06.611Z"
   },
   {
    "duration": 216,
    "start_time": "2022-11-04T16:02:06.898Z"
   },
   {
    "duration": 220,
    "start_time": "2022-11-04T16:02:07.115Z"
   },
   {
    "duration": 118,
    "start_time": "2022-11-04T16:02:07.336Z"
   },
   {
    "duration": 143,
    "start_time": "2022-11-04T16:02:07.456Z"
   },
   {
    "duration": 241,
    "start_time": "2022-11-04T16:02:07.600Z"
   },
   {
    "duration": 377,
    "start_time": "2022-11-04T16:02:07.843Z"
   },
   {
    "duration": 142,
    "start_time": "2022-11-04T16:02:08.222Z"
   },
   {
    "duration": 142,
    "start_time": "2022-11-04T16:02:08.365Z"
   },
   {
    "duration": 155,
    "start_time": "2022-11-04T16:02:08.509Z"
   },
   {
    "duration": 135,
    "start_time": "2022-11-04T16:02:08.665Z"
   },
   {
    "duration": 136,
    "start_time": "2022-11-04T16:02:08.802Z"
   },
   {
    "duration": 154,
    "start_time": "2022-11-04T16:02:08.940Z"
   },
   {
    "duration": 141,
    "start_time": "2022-11-04T16:02:09.095Z"
   },
   {
    "duration": 141,
    "start_time": "2022-11-04T16:02:09.237Z"
   },
   {
    "duration": 43,
    "start_time": "2022-11-04T16:02:09.380Z"
   },
   {
    "duration": 10,
    "start_time": "2022-11-04T16:02:09.425Z"
   },
   {
    "duration": 150,
    "start_time": "2022-11-04T16:02:09.437Z"
   },
   {
    "duration": 3,
    "start_time": "2022-11-04T16:05:51.956Z"
   },
   {
    "duration": 2627,
    "start_time": "2022-11-04T16:06:00.452Z"
   },
   {
    "duration": 28,
    "start_time": "2022-11-04T16:06:03.081Z"
   },
   {
    "duration": 9,
    "start_time": "2022-11-04T16:06:03.111Z"
   },
   {
    "duration": 4,
    "start_time": "2022-11-04T16:06:03.122Z"
   },
   {
    "duration": 13,
    "start_time": "2022-11-04T16:06:03.128Z"
   },
   {
    "duration": 69,
    "start_time": "2022-11-04T16:06:03.143Z"
   },
   {
    "duration": 16,
    "start_time": "2022-11-04T16:06:03.214Z"
   },
   {
    "duration": 8,
    "start_time": "2022-11-04T16:06:03.231Z"
   },
   {
    "duration": 13,
    "start_time": "2022-11-04T16:06:03.241Z"
   },
   {
    "duration": 33,
    "start_time": "2022-11-04T16:06:03.255Z"
   },
   {
    "duration": 4,
    "start_time": "2022-11-04T16:06:03.290Z"
   },
   {
    "duration": 7,
    "start_time": "2022-11-04T16:06:03.296Z"
   },
   {
    "duration": 27,
    "start_time": "2022-11-04T16:06:03.304Z"
   },
   {
    "duration": 12,
    "start_time": "2022-11-04T16:06:03.333Z"
   },
   {
    "duration": 34,
    "start_time": "2022-11-04T16:06:03.346Z"
   },
   {
    "duration": 24,
    "start_time": "2022-11-04T16:06:03.382Z"
   },
   {
    "duration": 4,
    "start_time": "2022-11-04T16:06:03.407Z"
   },
   {
    "duration": 7,
    "start_time": "2022-11-04T16:06:03.412Z"
   },
   {
    "duration": 6,
    "start_time": "2022-11-04T16:06:03.420Z"
   },
   {
    "duration": 52,
    "start_time": "2022-11-04T16:06:03.427Z"
   },
   {
    "duration": 26,
    "start_time": "2022-11-04T16:06:03.480Z"
   },
   {
    "duration": 121,
    "start_time": "2022-11-04T16:06:03.507Z"
   },
   {
    "duration": 112,
    "start_time": "2022-11-04T16:06:03.630Z"
   },
   {
    "duration": 45,
    "start_time": "2022-11-04T16:06:03.744Z"
   },
   {
    "duration": 212,
    "start_time": "2022-11-04T16:06:03.790Z"
   },
   {
    "duration": 24,
    "start_time": "2022-11-04T16:06:04.003Z"
   },
   {
    "duration": 58,
    "start_time": "2022-11-04T16:06:04.028Z"
   },
   {
    "duration": 205,
    "start_time": "2022-11-04T16:06:04.087Z"
   },
   {
    "duration": 342,
    "start_time": "2022-11-04T16:06:04.293Z"
   },
   {
    "duration": 212,
    "start_time": "2022-11-04T16:06:04.636Z"
   },
   {
    "duration": 306,
    "start_time": "2022-11-04T16:06:04.849Z"
   },
   {
    "duration": 195,
    "start_time": "2022-11-04T16:06:05.156Z"
   },
   {
    "duration": 202,
    "start_time": "2022-11-04T16:06:05.353Z"
   },
   {
    "duration": 206,
    "start_time": "2022-11-04T16:06:05.557Z"
   },
   {
    "duration": 100,
    "start_time": "2022-11-04T16:06:05.765Z"
   },
   {
    "duration": 202,
    "start_time": "2022-11-04T16:06:05.878Z"
   },
   {
    "duration": 309,
    "start_time": "2022-11-04T16:06:06.082Z"
   },
   {
    "duration": 221,
    "start_time": "2022-11-04T16:06:06.393Z"
   },
   {
    "duration": 226,
    "start_time": "2022-11-04T16:06:06.616Z"
   },
   {
    "duration": 109,
    "start_time": "2022-11-04T16:06:06.844Z"
   },
   {
    "duration": 152,
    "start_time": "2022-11-04T16:06:06.957Z"
   },
   {
    "duration": 218,
    "start_time": "2022-11-04T16:06:07.111Z"
   },
   {
    "duration": 342,
    "start_time": "2022-11-04T16:06:07.331Z"
   },
   {
    "duration": 193,
    "start_time": "2022-11-04T16:06:07.675Z"
   },
   {
    "duration": 162,
    "start_time": "2022-11-04T16:06:07.870Z"
   },
   {
    "duration": 162,
    "start_time": "2022-11-04T16:06:08.034Z"
   },
   {
    "duration": 133,
    "start_time": "2022-11-04T16:06:08.198Z"
   },
   {
    "duration": 134,
    "start_time": "2022-11-04T16:06:08.333Z"
   },
   {
    "duration": 154,
    "start_time": "2022-11-04T16:06:08.469Z"
   },
   {
    "duration": 139,
    "start_time": "2022-11-04T16:06:08.624Z"
   },
   {
    "duration": 147,
    "start_time": "2022-11-04T16:06:08.765Z"
   },
   {
    "duration": 46,
    "start_time": "2022-11-04T16:06:08.914Z"
   },
   {
    "duration": 22,
    "start_time": "2022-11-04T16:06:08.961Z"
   },
   {
    "duration": 149,
    "start_time": "2022-11-04T16:06:08.985Z"
   },
   {
    "duration": 2589,
    "start_time": "2022-11-04T16:06:20.970Z"
   },
   {
    "duration": 28,
    "start_time": "2022-11-04T16:06:23.561Z"
   },
   {
    "duration": 8,
    "start_time": "2022-11-04T16:06:23.590Z"
   },
   {
    "duration": 6,
    "start_time": "2022-11-04T16:06:23.600Z"
   },
   {
    "duration": 17,
    "start_time": "2022-11-04T16:06:23.607Z"
   },
   {
    "duration": 64,
    "start_time": "2022-11-04T16:06:23.625Z"
   },
   {
    "duration": 16,
    "start_time": "2022-11-04T16:06:23.690Z"
   },
   {
    "duration": 6,
    "start_time": "2022-11-04T16:06:23.708Z"
   },
   {
    "duration": 13,
    "start_time": "2022-11-04T16:06:23.715Z"
   },
   {
    "duration": 4,
    "start_time": "2022-11-04T16:06:23.730Z"
   },
   {
    "duration": 42,
    "start_time": "2022-11-04T16:06:23.735Z"
   },
   {
    "duration": 3,
    "start_time": "2022-11-04T16:06:23.779Z"
   },
   {
    "duration": 6,
    "start_time": "2022-11-04T16:06:23.783Z"
   },
   {
    "duration": 25,
    "start_time": "2022-11-04T16:06:23.791Z"
   },
   {
    "duration": 13,
    "start_time": "2022-11-04T16:06:23.817Z"
   },
   {
    "duration": 12,
    "start_time": "2022-11-04T16:06:23.832Z"
   },
   {
    "duration": 46,
    "start_time": "2022-11-04T16:06:23.845Z"
   },
   {
    "duration": 5,
    "start_time": "2022-11-04T16:06:23.893Z"
   },
   {
    "duration": 8,
    "start_time": "2022-11-04T16:06:23.900Z"
   },
   {
    "duration": 8,
    "start_time": "2022-11-04T16:06:23.909Z"
   },
   {
    "duration": 26,
    "start_time": "2022-11-04T16:06:23.918Z"
   },
   {
    "duration": 49,
    "start_time": "2022-11-04T16:06:23.946Z"
   },
   {
    "duration": 117,
    "start_time": "2022-11-04T16:06:23.996Z"
   },
   {
    "duration": 100,
    "start_time": "2022-11-04T16:06:24.115Z"
   },
   {
    "duration": 32,
    "start_time": "2022-11-04T16:06:24.216Z"
   },
   {
    "duration": 211,
    "start_time": "2022-11-04T16:06:24.250Z"
   },
   {
    "duration": 30,
    "start_time": "2022-11-04T16:06:24.463Z"
   },
   {
    "duration": 49,
    "start_time": "2022-11-04T16:06:24.498Z"
   },
   {
    "duration": 214,
    "start_time": "2022-11-04T16:06:24.548Z"
   },
   {
    "duration": 334,
    "start_time": "2022-11-04T16:06:24.764Z"
   },
   {
    "duration": 222,
    "start_time": "2022-11-04T16:06:25.099Z"
   },
   {
    "duration": 304,
    "start_time": "2022-11-04T16:06:25.323Z"
   },
   {
    "duration": 193,
    "start_time": "2022-11-04T16:06:25.628Z"
   },
   {
    "duration": 203,
    "start_time": "2022-11-04T16:06:25.823Z"
   },
   {
    "duration": 201,
    "start_time": "2022-11-04T16:06:26.028Z"
   },
   {
    "duration": 112,
    "start_time": "2022-11-04T16:06:26.231Z"
   },
   {
    "duration": 210,
    "start_time": "2022-11-04T16:06:26.345Z"
   },
   {
    "duration": 331,
    "start_time": "2022-11-04T16:06:26.556Z"
   },
   {
    "duration": 263,
    "start_time": "2022-11-04T16:06:26.889Z"
   },
   {
    "duration": 248,
    "start_time": "2022-11-04T16:06:27.154Z"
   },
   {
    "duration": 123,
    "start_time": "2022-11-04T16:06:27.404Z"
   },
   {
    "duration": 173,
    "start_time": "2022-11-04T16:06:27.528Z"
   },
   {
    "duration": 265,
    "start_time": "2022-11-04T16:06:27.702Z"
   },
   {
    "duration": 361,
    "start_time": "2022-11-04T16:06:27.969Z"
   },
   {
    "duration": 148,
    "start_time": "2022-11-04T16:06:28.331Z"
   },
   {
    "duration": 146,
    "start_time": "2022-11-04T16:06:28.481Z"
   },
   {
    "duration": 173,
    "start_time": "2022-11-04T16:06:28.628Z"
   },
   {
    "duration": 150,
    "start_time": "2022-11-04T16:06:28.802Z"
   },
   {
    "duration": 159,
    "start_time": "2022-11-04T16:06:28.953Z"
   },
   {
    "duration": 166,
    "start_time": "2022-11-04T16:06:29.113Z"
   },
   {
    "duration": 155,
    "start_time": "2022-11-04T16:06:29.281Z"
   },
   {
    "duration": 157,
    "start_time": "2022-11-04T16:06:29.438Z"
   },
   {
    "duration": 47,
    "start_time": "2022-11-04T16:06:29.596Z"
   },
   {
    "duration": 11,
    "start_time": "2022-11-04T16:06:29.645Z"
   },
   {
    "duration": 165,
    "start_time": "2022-11-04T16:06:29.657Z"
   },
   {
    "duration": 2892,
    "start_time": "2022-11-05T19:37:45.328Z"
   },
   {
    "duration": 30,
    "start_time": "2022-11-05T19:37:48.221Z"
   },
   {
    "duration": 8,
    "start_time": "2022-11-05T19:37:48.252Z"
   },
   {
    "duration": 9,
    "start_time": "2022-11-05T19:37:48.262Z"
   },
   {
    "duration": 17,
    "start_time": "2022-11-05T19:37:48.272Z"
   },
   {
    "duration": 46,
    "start_time": "2022-11-05T19:37:48.290Z"
   },
   {
    "duration": 17,
    "start_time": "2022-11-05T19:37:48.337Z"
   },
   {
    "duration": 7,
    "start_time": "2022-11-05T19:37:48.355Z"
   },
   {
    "duration": 22,
    "start_time": "2022-11-05T19:37:48.364Z"
   },
   {
    "duration": 18,
    "start_time": "2022-11-05T19:37:48.389Z"
   },
   {
    "duration": 5,
    "start_time": "2022-11-05T19:37:48.409Z"
   },
   {
    "duration": 37,
    "start_time": "2022-11-05T19:37:48.416Z"
   },
   {
    "duration": 23,
    "start_time": "2022-11-05T19:37:48.455Z"
   },
   {
    "duration": 11,
    "start_time": "2022-11-05T19:37:48.480Z"
   },
   {
    "duration": 30,
    "start_time": "2022-11-05T19:37:48.492Z"
   },
   {
    "duration": 10,
    "start_time": "2022-11-05T19:37:48.524Z"
   },
   {
    "duration": 245,
    "start_time": "2022-11-05T19:37:48.536Z"
   },
   {
    "duration": 6,
    "start_time": "2022-11-05T19:37:48.782Z"
   },
   {
    "duration": 26,
    "start_time": "2022-11-05T19:37:48.789Z"
   },
   {
    "duration": 24,
    "start_time": "2022-11-05T19:37:48.816Z"
   },
   {
    "duration": 124,
    "start_time": "2022-11-05T19:37:48.842Z"
   },
   {
    "duration": 103,
    "start_time": "2022-11-05T19:37:48.977Z"
   },
   {
    "duration": 36,
    "start_time": "2022-11-05T19:37:49.081Z"
   },
   {
    "duration": 215,
    "start_time": "2022-11-05T19:37:49.118Z"
   },
   {
    "duration": 25,
    "start_time": "2022-11-05T19:37:49.334Z"
   },
   {
    "duration": 53,
    "start_time": "2022-11-05T19:37:49.360Z"
   },
   {
    "duration": 207,
    "start_time": "2022-11-05T19:37:49.414Z"
   },
   {
    "duration": 348,
    "start_time": "2022-11-05T19:37:49.624Z"
   },
   {
    "duration": 217,
    "start_time": "2022-11-05T19:37:49.973Z"
   },
   {
    "duration": 282,
    "start_time": "2022-11-05T19:37:50.191Z"
   },
   {
    "duration": 178,
    "start_time": "2022-11-05T19:37:50.476Z"
   },
   {
    "duration": 194,
    "start_time": "2022-11-05T19:37:50.655Z"
   },
   {
    "duration": 191,
    "start_time": "2022-11-05T19:37:50.850Z"
   },
   {
    "duration": 94,
    "start_time": "2022-11-05T19:37:51.042Z"
   },
   {
    "duration": 195,
    "start_time": "2022-11-05T19:37:51.137Z"
   },
   {
    "duration": 284,
    "start_time": "2022-11-05T19:37:51.333Z"
   },
   {
    "duration": 210,
    "start_time": "2022-11-05T19:37:51.618Z"
   },
   {
    "duration": 218,
    "start_time": "2022-11-05T19:37:51.829Z"
   },
   {
    "duration": 114,
    "start_time": "2022-11-05T19:37:52.048Z"
   },
   {
    "duration": 150,
    "start_time": "2022-11-05T19:37:52.163Z"
   },
   {
    "duration": 216,
    "start_time": "2022-11-05T19:37:52.315Z"
   },
   {
    "duration": 364,
    "start_time": "2022-11-05T19:37:52.532Z"
   },
   {
    "duration": 149,
    "start_time": "2022-11-05T19:37:52.898Z"
   },
   {
    "duration": 174,
    "start_time": "2022-11-05T19:37:53.049Z"
   },
   {
    "duration": 175,
    "start_time": "2022-11-05T19:37:53.225Z"
   },
   {
    "duration": 137,
    "start_time": "2022-11-05T19:37:53.401Z"
   },
   {
    "duration": 130,
    "start_time": "2022-11-05T19:37:53.540Z"
   },
   {
    "duration": 151,
    "start_time": "2022-11-05T19:37:53.671Z"
   },
   {
    "duration": 136,
    "start_time": "2022-11-05T19:37:53.823Z"
   },
   {
    "duration": 146,
    "start_time": "2022-11-05T19:37:53.960Z"
   },
   {
    "duration": 45,
    "start_time": "2022-11-05T19:37:54.108Z"
   },
   {
    "duration": 23,
    "start_time": "2022-11-05T19:37:54.155Z"
   },
   {
    "duration": 143,
    "start_time": "2022-11-05T19:37:54.180Z"
   },
   {
    "duration": 72,
    "start_time": "2022-11-05T19:44:39.412Z"
   },
   {
    "duration": 12,
    "start_time": "2022-11-05T19:44:48.623Z"
   },
   {
    "duration": 2523,
    "start_time": "2022-11-05T19:44:58.033Z"
   },
   {
    "duration": 28,
    "start_time": "2022-11-05T19:45:00.558Z"
   },
   {
    "duration": 42,
    "start_time": "2022-11-05T19:45:00.587Z"
   },
   {
    "duration": 18,
    "start_time": "2022-11-05T19:45:00.631Z"
   },
   {
    "duration": 35,
    "start_time": "2022-11-05T19:45:00.650Z"
   },
   {
    "duration": 66,
    "start_time": "2022-11-05T19:45:00.687Z"
   },
   {
    "duration": 18,
    "start_time": "2022-11-05T19:45:00.755Z"
   },
   {
    "duration": 32,
    "start_time": "2022-11-05T19:45:00.774Z"
   },
   {
    "duration": 34,
    "start_time": "2022-11-05T19:45:00.807Z"
   },
   {
    "duration": 70,
    "start_time": "2022-11-05T19:45:00.843Z"
   },
   {
    "duration": 0,
    "start_time": "2022-11-05T19:45:00.915Z"
   },
   {
    "duration": 1,
    "start_time": "2022-11-05T19:45:00.916Z"
   },
   {
    "duration": 0,
    "start_time": "2022-11-05T19:45:00.918Z"
   },
   {
    "duration": 0,
    "start_time": "2022-11-05T19:45:00.918Z"
   },
   {
    "duration": 0,
    "start_time": "2022-11-05T19:45:00.919Z"
   },
   {
    "duration": 0,
    "start_time": "2022-11-05T19:45:00.920Z"
   },
   {
    "duration": 0,
    "start_time": "2022-11-05T19:45:00.921Z"
   },
   {
    "duration": 0,
    "start_time": "2022-11-05T19:45:00.922Z"
   },
   {
    "duration": 0,
    "start_time": "2022-11-05T19:45:00.923Z"
   },
   {
    "duration": 0,
    "start_time": "2022-11-05T19:45:00.924Z"
   },
   {
    "duration": 0,
    "start_time": "2022-11-05T19:45:00.925Z"
   },
   {
    "duration": 1,
    "start_time": "2022-11-05T19:45:00.925Z"
   },
   {
    "duration": 0,
    "start_time": "2022-11-05T19:45:00.926Z"
   },
   {
    "duration": 0,
    "start_time": "2022-11-05T19:45:00.927Z"
   },
   {
    "duration": 0,
    "start_time": "2022-11-05T19:45:00.928Z"
   },
   {
    "duration": 0,
    "start_time": "2022-11-05T19:45:00.929Z"
   },
   {
    "duration": 0,
    "start_time": "2022-11-05T19:45:00.930Z"
   },
   {
    "duration": 0,
    "start_time": "2022-11-05T19:45:00.931Z"
   },
   {
    "duration": 0,
    "start_time": "2022-11-05T19:45:00.932Z"
   },
   {
    "duration": 0,
    "start_time": "2022-11-05T19:45:00.933Z"
   },
   {
    "duration": 0,
    "start_time": "2022-11-05T19:45:00.934Z"
   },
   {
    "duration": 0,
    "start_time": "2022-11-05T19:45:00.935Z"
   },
   {
    "duration": 0,
    "start_time": "2022-11-05T19:45:00.936Z"
   },
   {
    "duration": 0,
    "start_time": "2022-11-05T19:45:00.937Z"
   },
   {
    "duration": 0,
    "start_time": "2022-11-05T19:45:00.938Z"
   },
   {
    "duration": 0,
    "start_time": "2022-11-05T19:45:00.977Z"
   },
   {
    "duration": 0,
    "start_time": "2022-11-05T19:45:00.978Z"
   },
   {
    "duration": 0,
    "start_time": "2022-11-05T19:45:00.979Z"
   },
   {
    "duration": 0,
    "start_time": "2022-11-05T19:45:00.980Z"
   },
   {
    "duration": 0,
    "start_time": "2022-11-05T19:45:00.981Z"
   },
   {
    "duration": 0,
    "start_time": "2022-11-05T19:45:00.982Z"
   },
   {
    "duration": 0,
    "start_time": "2022-11-05T19:45:00.983Z"
   },
   {
    "duration": 0,
    "start_time": "2022-11-05T19:45:00.984Z"
   },
   {
    "duration": 0,
    "start_time": "2022-11-05T19:45:00.985Z"
   },
   {
    "duration": 0,
    "start_time": "2022-11-05T19:45:00.986Z"
   },
   {
    "duration": 0,
    "start_time": "2022-11-05T19:45:00.987Z"
   },
   {
    "duration": 0,
    "start_time": "2022-11-05T19:45:00.988Z"
   },
   {
    "duration": 0,
    "start_time": "2022-11-05T19:45:00.989Z"
   },
   {
    "duration": 0,
    "start_time": "2022-11-05T19:45:00.990Z"
   },
   {
    "duration": 0,
    "start_time": "2022-11-05T19:45:00.991Z"
   },
   {
    "duration": 0,
    "start_time": "2022-11-05T19:45:00.992Z"
   },
   {
    "duration": 0,
    "start_time": "2022-11-05T19:45:00.993Z"
   },
   {
    "duration": 0,
    "start_time": "2022-11-05T19:45:00.994Z"
   },
   {
    "duration": 17,
    "start_time": "2022-11-05T19:45:13.353Z"
   },
   {
    "duration": 2637,
    "start_time": "2022-11-05T19:46:22.047Z"
   },
   {
    "duration": 31,
    "start_time": "2022-11-05T19:46:24.685Z"
   },
   {
    "duration": 10,
    "start_time": "2022-11-05T19:46:24.718Z"
   },
   {
    "duration": 5,
    "start_time": "2022-11-05T19:46:24.730Z"
   },
   {
    "duration": 13,
    "start_time": "2022-11-05T19:46:24.736Z"
   },
   {
    "duration": 66,
    "start_time": "2022-11-05T19:46:24.750Z"
   },
   {
    "duration": 17,
    "start_time": "2022-11-05T19:46:24.817Z"
   },
   {
    "duration": 4,
    "start_time": "2022-11-05T19:46:24.835Z"
   },
   {
    "duration": 36,
    "start_time": "2022-11-05T19:46:24.841Z"
   },
   {
    "duration": 15,
    "start_time": "2022-11-05T19:46:24.879Z"
   },
   {
    "duration": 4,
    "start_time": "2022-11-05T19:46:24.896Z"
   },
   {
    "duration": 25,
    "start_time": "2022-11-05T19:46:24.901Z"
   },
   {
    "duration": 11,
    "start_time": "2022-11-05T19:46:24.928Z"
   },
   {
    "duration": 43,
    "start_time": "2022-11-05T19:46:24.940Z"
   },
   {
    "duration": 22,
    "start_time": "2022-11-05T19:46:24.984Z"
   },
   {
    "duration": 6,
    "start_time": "2022-11-05T19:46:25.007Z"
   },
   {
    "duration": 7,
    "start_time": "2022-11-05T19:46:25.014Z"
   },
   {
    "duration": 5,
    "start_time": "2022-11-05T19:46:25.022Z"
   },
   {
    "duration": 53,
    "start_time": "2022-11-05T19:46:25.029Z"
   },
   {
    "duration": 24,
    "start_time": "2022-11-05T19:46:25.084Z"
   },
   {
    "duration": 121,
    "start_time": "2022-11-05T19:46:25.110Z"
   },
   {
    "duration": 107,
    "start_time": "2022-11-05T19:46:25.233Z"
   },
   {
    "duration": 45,
    "start_time": "2022-11-05T19:46:25.342Z"
   },
   {
    "duration": 327,
    "start_time": "2022-11-05T19:46:25.389Z"
   },
   {
    "duration": 22,
    "start_time": "2022-11-05T19:46:25.717Z"
   },
   {
    "duration": 59,
    "start_time": "2022-11-05T19:46:25.741Z"
   },
   {
    "duration": 244,
    "start_time": "2022-11-05T19:46:25.801Z"
   },
   {
    "duration": 360,
    "start_time": "2022-11-05T19:46:26.048Z"
   },
   {
    "duration": 206,
    "start_time": "2022-11-05T19:46:26.409Z"
   },
   {
    "duration": 292,
    "start_time": "2022-11-05T19:46:26.617Z"
   },
   {
    "duration": 197,
    "start_time": "2022-11-05T19:46:26.911Z"
   },
   {
    "duration": 200,
    "start_time": "2022-11-05T19:46:27.110Z"
   },
   {
    "duration": 205,
    "start_time": "2022-11-05T19:46:27.311Z"
   },
   {
    "duration": 136,
    "start_time": "2022-11-05T19:46:27.518Z"
   },
   {
    "duration": 197,
    "start_time": "2022-11-05T19:46:27.656Z"
   },
   {
    "duration": 334,
    "start_time": "2022-11-05T19:46:27.857Z"
   },
   {
    "duration": 236,
    "start_time": "2022-11-05T19:46:28.192Z"
   },
   {
    "duration": 225,
    "start_time": "2022-11-05T19:46:28.429Z"
   },
   {
    "duration": 123,
    "start_time": "2022-11-05T19:46:28.656Z"
   },
   {
    "duration": 141,
    "start_time": "2022-11-05T19:46:28.780Z"
   },
   {
    "duration": 222,
    "start_time": "2022-11-05T19:46:28.923Z"
   },
   {
    "duration": 342,
    "start_time": "2022-11-05T19:46:29.146Z"
   },
   {
    "duration": 155,
    "start_time": "2022-11-05T19:46:29.490Z"
   },
   {
    "duration": 158,
    "start_time": "2022-11-05T19:46:29.646Z"
   },
   {
    "duration": 158,
    "start_time": "2022-11-05T19:46:29.805Z"
   },
   {
    "duration": 149,
    "start_time": "2022-11-05T19:46:29.964Z"
   },
   {
    "duration": 143,
    "start_time": "2022-11-05T19:46:30.114Z"
   },
   {
    "duration": 173,
    "start_time": "2022-11-05T19:46:30.259Z"
   },
   {
    "duration": 164,
    "start_time": "2022-11-05T19:46:30.433Z"
   },
   {
    "duration": 150,
    "start_time": "2022-11-05T19:46:30.599Z"
   },
   {
    "duration": 71,
    "start_time": "2022-11-05T19:46:30.751Z"
   },
   {
    "duration": 15,
    "start_time": "2022-11-05T19:46:30.824Z"
   },
   {
    "duration": 163,
    "start_time": "2022-11-05T19:46:30.841Z"
   },
   {
    "duration": 14,
    "start_time": "2022-11-05T19:58:42.638Z"
   },
   {
    "duration": 2556,
    "start_time": "2022-11-05T19:58:55.100Z"
   },
   {
    "duration": 37,
    "start_time": "2022-11-05T19:58:57.658Z"
   },
   {
    "duration": 12,
    "start_time": "2022-11-05T19:58:57.697Z"
   },
   {
    "duration": 9,
    "start_time": "2022-11-05T19:58:57.711Z"
   },
   {
    "duration": 29,
    "start_time": "2022-11-05T19:58:57.721Z"
   },
   {
    "duration": 68,
    "start_time": "2022-11-05T19:58:57.752Z"
   },
   {
    "duration": 21,
    "start_time": "2022-11-05T19:58:57.821Z"
   },
   {
    "duration": 6,
    "start_time": "2022-11-05T19:58:57.843Z"
   },
   {
    "duration": 35,
    "start_time": "2022-11-05T19:58:57.851Z"
   },
   {
    "duration": 14,
    "start_time": "2022-11-05T19:58:57.888Z"
   },
   {
    "duration": 4,
    "start_time": "2022-11-05T19:58:57.904Z"
   },
   {
    "duration": 28,
    "start_time": "2022-11-05T19:58:57.909Z"
   },
   {
    "duration": 12,
    "start_time": "2022-11-05T19:58:57.938Z"
   },
   {
    "duration": 31,
    "start_time": "2022-11-05T19:58:57.951Z"
   },
   {
    "duration": 23,
    "start_time": "2022-11-05T19:58:57.983Z"
   },
   {
    "duration": 6,
    "start_time": "2022-11-05T19:58:58.007Z"
   },
   {
    "duration": 6,
    "start_time": "2022-11-05T19:58:58.014Z"
   },
   {
    "duration": 7,
    "start_time": "2022-11-05T19:58:58.021Z"
   },
   {
    "duration": 55,
    "start_time": "2022-11-05T19:58:58.030Z"
   },
   {
    "duration": 25,
    "start_time": "2022-11-05T19:58:58.086Z"
   },
   {
    "duration": 119,
    "start_time": "2022-11-05T19:58:58.113Z"
   },
   {
    "duration": 113,
    "start_time": "2022-11-05T19:58:58.233Z"
   },
   {
    "duration": 50,
    "start_time": "2022-11-05T19:58:58.347Z"
   },
   {
    "duration": 325,
    "start_time": "2022-11-05T19:58:58.398Z"
   },
   {
    "duration": 24,
    "start_time": "2022-11-05T19:58:58.725Z"
   },
   {
    "duration": 66,
    "start_time": "2022-11-05T19:58:58.750Z"
   },
   {
    "duration": 229,
    "start_time": "2022-11-05T19:58:58.817Z"
   },
   {
    "duration": 352,
    "start_time": "2022-11-05T19:58:59.049Z"
   },
   {
    "duration": 206,
    "start_time": "2022-11-05T19:58:59.402Z"
   },
   {
    "duration": 292,
    "start_time": "2022-11-05T19:58:59.610Z"
   },
   {
    "duration": 199,
    "start_time": "2022-11-05T19:58:59.904Z"
   },
   {
    "duration": 201,
    "start_time": "2022-11-05T19:59:00.105Z"
   },
   {
    "duration": 195,
    "start_time": "2022-11-05T19:59:00.308Z"
   },
   {
    "duration": 107,
    "start_time": "2022-11-05T19:59:00.504Z"
   },
   {
    "duration": 199,
    "start_time": "2022-11-05T19:59:00.613Z"
   },
   {
    "duration": 320,
    "start_time": "2022-11-05T19:59:00.814Z"
   },
   {
    "duration": 251,
    "start_time": "2022-11-05T19:59:01.136Z"
   },
   {
    "duration": 221,
    "start_time": "2022-11-05T19:59:01.389Z"
   },
   {
    "duration": 124,
    "start_time": "2022-11-05T19:59:01.612Z"
   },
   {
    "duration": 148,
    "start_time": "2022-11-05T19:59:01.738Z"
   },
   {
    "duration": 214,
    "start_time": "2022-11-05T19:59:01.887Z"
   },
   {
    "duration": 322,
    "start_time": "2022-11-05T19:59:02.102Z"
   },
   {
    "duration": 142,
    "start_time": "2022-11-05T19:59:02.426Z"
   },
   {
    "duration": 167,
    "start_time": "2022-11-05T19:59:02.569Z"
   },
   {
    "duration": 149,
    "start_time": "2022-11-05T19:59:02.737Z"
   },
   {
    "duration": 136,
    "start_time": "2022-11-05T19:59:02.888Z"
   },
   {
    "duration": 135,
    "start_time": "2022-11-05T19:59:03.025Z"
   },
   {
    "duration": 166,
    "start_time": "2022-11-05T19:59:03.162Z"
   },
   {
    "duration": 155,
    "start_time": "2022-11-05T19:59:03.329Z"
   },
   {
    "duration": 143,
    "start_time": "2022-11-05T19:59:03.485Z"
   },
   {
    "duration": 62,
    "start_time": "2022-11-05T19:59:03.630Z"
   },
   {
    "duration": 11,
    "start_time": "2022-11-05T19:59:03.694Z"
   },
   {
    "duration": 151,
    "start_time": "2022-11-05T19:59:03.706Z"
   },
   {
    "duration": 26,
    "start_time": "2022-11-05T20:02:13.735Z"
   },
   {
    "duration": 22,
    "start_time": "2022-11-05T20:02:25.097Z"
   },
   {
    "duration": 2759,
    "start_time": "2022-11-05T20:02:35.012Z"
   },
   {
    "duration": 29,
    "start_time": "2022-11-05T20:02:37.773Z"
   },
   {
    "duration": 42,
    "start_time": "2022-11-05T20:02:37.804Z"
   },
   {
    "duration": 30,
    "start_time": "2022-11-05T20:02:37.849Z"
   },
   {
    "duration": 19,
    "start_time": "2022-11-05T20:02:37.881Z"
   },
   {
    "duration": 27,
    "start_time": "2022-11-05T20:02:37.902Z"
   },
   {
    "duration": 53,
    "start_time": "2022-11-05T20:02:37.931Z"
   },
   {
    "duration": 19,
    "start_time": "2022-11-05T20:02:37.985Z"
   },
   {
    "duration": 10,
    "start_time": "2022-11-05T20:02:38.005Z"
   },
   {
    "duration": 21,
    "start_time": "2022-11-05T20:02:38.017Z"
   },
   {
    "duration": 27,
    "start_time": "2022-11-05T20:02:38.040Z"
   },
   {
    "duration": 20,
    "start_time": "2022-11-05T20:02:38.069Z"
   },
   {
    "duration": 36,
    "start_time": "2022-11-05T20:02:38.090Z"
   },
   {
    "duration": 19,
    "start_time": "2022-11-05T20:02:38.128Z"
   },
   {
    "duration": 14,
    "start_time": "2022-11-05T20:02:38.149Z"
   },
   {
    "duration": 32,
    "start_time": "2022-11-05T20:02:38.176Z"
   },
   {
    "duration": 4,
    "start_time": "2022-11-05T20:02:38.210Z"
   },
   {
    "duration": 13,
    "start_time": "2022-11-05T20:02:38.216Z"
   },
   {
    "duration": 19,
    "start_time": "2022-11-05T20:02:38.230Z"
   },
   {
    "duration": 34,
    "start_time": "2022-11-05T20:02:38.250Z"
   },
   {
    "duration": 25,
    "start_time": "2022-11-05T20:02:38.286Z"
   },
   {
    "duration": 127,
    "start_time": "2022-11-05T20:02:38.312Z"
   },
   {
    "duration": 112,
    "start_time": "2022-11-05T20:02:38.440Z"
   },
   {
    "duration": 52,
    "start_time": "2022-11-05T20:02:38.554Z"
   },
   {
    "duration": 337,
    "start_time": "2022-11-05T20:02:38.608Z"
   },
   {
    "duration": 32,
    "start_time": "2022-11-05T20:02:38.947Z"
   },
   {
    "duration": 51,
    "start_time": "2022-11-05T20:02:38.981Z"
   },
   {
    "duration": 237,
    "start_time": "2022-11-05T20:02:39.036Z"
   },
   {
    "duration": 351,
    "start_time": "2022-11-05T20:02:39.276Z"
   },
   {
    "duration": 220,
    "start_time": "2022-11-05T20:02:39.629Z"
   },
   {
    "duration": 315,
    "start_time": "2022-11-05T20:02:39.851Z"
   },
   {
    "duration": 201,
    "start_time": "2022-11-05T20:02:40.168Z"
   },
   {
    "duration": 204,
    "start_time": "2022-11-05T20:02:40.371Z"
   },
   {
    "duration": 195,
    "start_time": "2022-11-05T20:02:40.577Z"
   },
   {
    "duration": 103,
    "start_time": "2022-11-05T20:02:40.776Z"
   },
   {
    "duration": 188,
    "start_time": "2022-11-05T20:02:40.881Z"
   },
   {
    "duration": 303,
    "start_time": "2022-11-05T20:02:41.071Z"
   },
   {
    "duration": 241,
    "start_time": "2022-11-05T20:02:41.377Z"
   },
   {
    "duration": 244,
    "start_time": "2022-11-05T20:02:41.620Z"
   },
   {
    "duration": 139,
    "start_time": "2022-11-05T20:02:41.865Z"
   },
   {
    "duration": 148,
    "start_time": "2022-11-05T20:02:42.005Z"
   },
   {
    "duration": 242,
    "start_time": "2022-11-05T20:02:42.155Z"
   },
   {
    "duration": 372,
    "start_time": "2022-11-05T20:02:42.398Z"
   },
   {
    "duration": 161,
    "start_time": "2022-11-05T20:02:42.772Z"
   },
   {
    "duration": 156,
    "start_time": "2022-11-05T20:02:42.935Z"
   },
   {
    "duration": 142,
    "start_time": "2022-11-05T20:02:43.092Z"
   },
   {
    "duration": 138,
    "start_time": "2022-11-05T20:02:43.235Z"
   },
   {
    "duration": 135,
    "start_time": "2022-11-05T20:02:43.377Z"
   },
   {
    "duration": 164,
    "start_time": "2022-11-05T20:02:43.513Z"
   },
   {
    "duration": 153,
    "start_time": "2022-11-05T20:02:43.678Z"
   },
   {
    "duration": 152,
    "start_time": "2022-11-05T20:02:43.833Z"
   },
   {
    "duration": 60,
    "start_time": "2022-11-05T20:02:43.986Z"
   },
   {
    "duration": 10,
    "start_time": "2022-11-05T20:02:44.048Z"
   },
   {
    "duration": 178,
    "start_time": "2022-11-05T20:02:44.059Z"
   },
   {
    "duration": 2119,
    "start_time": "2022-11-05T20:03:07.366Z"
   },
   {
    "duration": 21,
    "start_time": "2022-11-05T20:03:09.486Z"
   },
   {
    "duration": 2755,
    "start_time": "2022-11-05T20:03:35.100Z"
   },
   {
    "duration": 27,
    "start_time": "2022-11-05T20:03:37.857Z"
   },
   {
    "duration": 29,
    "start_time": "2022-11-05T20:03:37.886Z"
   },
   {
    "duration": 11,
    "start_time": "2022-11-05T20:03:37.916Z"
   },
   {
    "duration": 5,
    "start_time": "2022-11-05T20:03:37.929Z"
   },
   {
    "duration": 14,
    "start_time": "2022-11-05T20:03:37.935Z"
   },
   {
    "duration": 74,
    "start_time": "2022-11-05T20:03:37.950Z"
   },
   {
    "duration": 19,
    "start_time": "2022-11-05T20:03:38.026Z"
   },
   {
    "duration": 7,
    "start_time": "2022-11-05T20:03:38.046Z"
   },
   {
    "duration": 12,
    "start_time": "2022-11-05T20:03:38.078Z"
   },
   {
    "duration": 17,
    "start_time": "2022-11-05T20:03:38.091Z"
   },
   {
    "duration": 5,
    "start_time": "2022-11-05T20:03:38.110Z"
   },
   {
    "duration": 33,
    "start_time": "2022-11-05T20:03:38.116Z"
   },
   {
    "duration": 15,
    "start_time": "2022-11-05T20:03:38.176Z"
   },
   {
    "duration": 13,
    "start_time": "2022-11-05T20:03:38.192Z"
   },
   {
    "duration": 24,
    "start_time": "2022-11-05T20:03:38.207Z"
   },
   {
    "duration": 5,
    "start_time": "2022-11-05T20:03:38.232Z"
   },
   {
    "duration": 40,
    "start_time": "2022-11-05T20:03:38.238Z"
   },
   {
    "duration": 6,
    "start_time": "2022-11-05T20:03:38.280Z"
   },
   {
    "duration": 30,
    "start_time": "2022-11-05T20:03:38.288Z"
   },
   {
    "duration": 25,
    "start_time": "2022-11-05T20:03:38.320Z"
   },
   {
    "duration": 132,
    "start_time": "2022-11-05T20:03:38.347Z"
   },
   {
    "duration": 115,
    "start_time": "2022-11-05T20:03:38.481Z"
   },
   {
    "duration": 43,
    "start_time": "2022-11-05T20:03:38.597Z"
   },
   {
    "duration": 336,
    "start_time": "2022-11-05T20:03:38.641Z"
   },
   {
    "duration": 24,
    "start_time": "2022-11-05T20:03:38.979Z"
   },
   {
    "duration": 51,
    "start_time": "2022-11-05T20:03:39.004Z"
   },
   {
    "duration": 240,
    "start_time": "2022-11-05T20:03:39.056Z"
   },
   {
    "duration": 356,
    "start_time": "2022-11-05T20:03:39.298Z"
   },
   {
    "duration": 217,
    "start_time": "2022-11-05T20:03:39.655Z"
   },
   {
    "duration": 294,
    "start_time": "2022-11-05T20:03:39.874Z"
   },
   {
    "duration": 211,
    "start_time": "2022-11-05T20:03:40.169Z"
   },
   {
    "duration": 196,
    "start_time": "2022-11-05T20:03:40.381Z"
   },
   {
    "duration": 198,
    "start_time": "2022-11-05T20:03:40.579Z"
   },
   {
    "duration": 104,
    "start_time": "2022-11-05T20:03:40.778Z"
   },
   {
    "duration": 200,
    "start_time": "2022-11-05T20:03:40.883Z"
   },
   {
    "duration": 303,
    "start_time": "2022-11-05T20:03:41.084Z"
   },
   {
    "duration": 260,
    "start_time": "2022-11-05T20:03:41.388Z"
   },
   {
    "duration": 248,
    "start_time": "2022-11-05T20:03:41.650Z"
   },
   {
    "duration": 127,
    "start_time": "2022-11-05T20:03:41.899Z"
   },
   {
    "duration": 154,
    "start_time": "2022-11-05T20:03:42.029Z"
   },
   {
    "duration": 239,
    "start_time": "2022-11-05T20:03:42.185Z"
   },
   {
    "duration": 377,
    "start_time": "2022-11-05T20:03:42.425Z"
   },
   {
    "duration": 157,
    "start_time": "2022-11-05T20:03:42.804Z"
   },
   {
    "duration": 152,
    "start_time": "2022-11-05T20:03:42.963Z"
   },
   {
    "duration": 146,
    "start_time": "2022-11-05T20:03:43.116Z"
   },
   {
    "duration": 135,
    "start_time": "2022-11-05T20:03:43.264Z"
   },
   {
    "duration": 142,
    "start_time": "2022-11-05T20:03:43.400Z"
   },
   {
    "duration": 163,
    "start_time": "2022-11-05T20:03:43.544Z"
   },
   {
    "duration": 167,
    "start_time": "2022-11-05T20:03:43.709Z"
   },
   {
    "duration": 166,
    "start_time": "2022-11-05T20:03:43.877Z"
   },
   {
    "duration": 76,
    "start_time": "2022-11-05T20:03:44.045Z"
   },
   {
    "duration": 17,
    "start_time": "2022-11-05T20:03:44.122Z"
   },
   {
    "duration": 214,
    "start_time": "2022-11-05T20:03:44.141Z"
   },
   {
    "duration": 617,
    "start_time": "2022-11-05T20:06:11.801Z"
   },
   {
    "duration": 96,
    "start_time": "2022-11-05T20:06:29.730Z"
   },
   {
    "duration": 475,
    "start_time": "2022-11-05T20:06:52.269Z"
   },
   {
    "duration": 120,
    "start_time": "2022-11-05T20:07:06.183Z"
   },
   {
    "duration": 146,
    "start_time": "2022-11-05T20:07:29.937Z"
   },
   {
    "duration": 2609,
    "start_time": "2022-11-05T20:08:04.371Z"
   },
   {
    "duration": 169,
    "start_time": "2022-11-05T20:08:06.982Z"
   },
   {
    "duration": 38,
    "start_time": "2022-11-05T20:08:07.152Z"
   },
   {
    "duration": 11,
    "start_time": "2022-11-05T20:08:07.192Z"
   },
   {
    "duration": 5,
    "start_time": "2022-11-05T20:08:07.205Z"
   },
   {
    "duration": 15,
    "start_time": "2022-11-05T20:08:07.211Z"
   },
   {
    "duration": 74,
    "start_time": "2022-11-05T20:08:07.227Z"
   },
   {
    "duration": 18,
    "start_time": "2022-11-05T20:08:07.303Z"
   },
   {
    "duration": 7,
    "start_time": "2022-11-05T20:08:07.322Z"
   },
   {
    "duration": 11,
    "start_time": "2022-11-05T20:08:07.332Z"
   },
   {
    "duration": 42,
    "start_time": "2022-11-05T20:08:07.345Z"
   },
   {
    "duration": 5,
    "start_time": "2022-11-05T20:08:07.388Z"
   },
   {
    "duration": 28,
    "start_time": "2022-11-05T20:08:07.394Z"
   },
   {
    "duration": 13,
    "start_time": "2022-11-05T20:08:07.424Z"
   },
   {
    "duration": 39,
    "start_time": "2022-11-05T20:08:07.438Z"
   },
   {
    "duration": 23,
    "start_time": "2022-11-05T20:08:07.479Z"
   },
   {
    "duration": 7,
    "start_time": "2022-11-05T20:08:07.504Z"
   },
   {
    "duration": 5,
    "start_time": "2022-11-05T20:08:07.512Z"
   },
   {
    "duration": 6,
    "start_time": "2022-11-05T20:08:07.518Z"
   },
   {
    "duration": 53,
    "start_time": "2022-11-05T20:08:07.525Z"
   },
   {
    "duration": 28,
    "start_time": "2022-11-05T20:08:07.580Z"
   },
   {
    "duration": 124,
    "start_time": "2022-11-05T20:08:07.610Z"
   },
   {
    "duration": 120,
    "start_time": "2022-11-05T20:08:07.736Z"
   },
   {
    "duration": 46,
    "start_time": "2022-11-05T20:08:07.858Z"
   },
   {
    "duration": 362,
    "start_time": "2022-11-05T20:08:07.907Z"
   },
   {
    "duration": 23,
    "start_time": "2022-11-05T20:08:08.276Z"
   },
   {
    "duration": 48,
    "start_time": "2022-11-05T20:08:08.301Z"
   },
   {
    "duration": 316,
    "start_time": "2022-11-05T20:08:08.353Z"
   },
   {
    "duration": 275,
    "start_time": "2022-11-05T20:08:08.671Z"
   },
   {
    "duration": 229,
    "start_time": "2022-11-05T20:08:08.948Z"
   },
   {
    "duration": 312,
    "start_time": "2022-11-05T20:08:09.179Z"
   },
   {
    "duration": 204,
    "start_time": "2022-11-05T20:08:09.493Z"
   },
   {
    "duration": 207,
    "start_time": "2022-11-05T20:08:09.699Z"
   },
   {
    "duration": 229,
    "start_time": "2022-11-05T20:08:09.908Z"
   },
   {
    "duration": 204,
    "start_time": "2022-11-05T20:08:10.139Z"
   },
   {
    "duration": 192,
    "start_time": "2022-11-05T20:08:10.345Z"
   },
   {
    "duration": 220,
    "start_time": "2022-11-05T20:08:10.539Z"
   },
   {
    "duration": 244,
    "start_time": "2022-11-05T20:08:10.760Z"
   },
   {
    "duration": 235,
    "start_time": "2022-11-05T20:08:11.006Z"
   },
   {
    "duration": 134,
    "start_time": "2022-11-05T20:08:11.243Z"
   },
   {
    "duration": 139,
    "start_time": "2022-11-05T20:08:11.379Z"
   },
   {
    "duration": 327,
    "start_time": "2022-11-05T20:08:11.519Z"
   },
   {
    "duration": 282,
    "start_time": "2022-11-05T20:08:11.847Z"
   },
   {
    "duration": 166,
    "start_time": "2022-11-05T20:08:12.131Z"
   },
   {
    "duration": 160,
    "start_time": "2022-11-05T20:08:12.298Z"
   },
   {
    "duration": 142,
    "start_time": "2022-11-05T20:08:12.460Z"
   },
   {
    "duration": 148,
    "start_time": "2022-11-05T20:08:12.603Z"
   },
   {
    "duration": 142,
    "start_time": "2022-11-05T20:08:12.753Z"
   },
   {
    "duration": 160,
    "start_time": "2022-11-05T20:08:12.896Z"
   },
   {
    "duration": 155,
    "start_time": "2022-11-05T20:08:13.057Z"
   },
   {
    "duration": 154,
    "start_time": "2022-11-05T20:08:13.213Z"
   },
   {
    "duration": 62,
    "start_time": "2022-11-05T20:08:13.368Z"
   },
   {
    "duration": 88,
    "start_time": "2022-11-05T20:08:13.432Z"
   },
   {
    "duration": 143,
    "start_time": "2022-11-05T20:08:13.521Z"
   },
   {
    "duration": 157,
    "start_time": "2022-11-05T20:09:26.357Z"
   },
   {
    "duration": 156,
    "start_time": "2022-11-05T20:09:51.465Z"
   },
   {
    "duration": 137,
    "start_time": "2022-11-05T20:10:15.235Z"
   },
   {
    "duration": 72,
    "start_time": "2022-11-05T20:13:15.693Z"
   },
   {
    "duration": 1185,
    "start_time": "2022-11-05T20:13:19.909Z"
   },
   {
    "duration": 25,
    "start_time": "2022-11-05T20:17:55.578Z"
   },
   {
    "duration": 10,
    "start_time": "2022-11-05T20:18:05.773Z"
   },
   {
    "duration": 11,
    "start_time": "2022-11-05T20:18:41.448Z"
   },
   {
    "duration": 10,
    "start_time": "2022-11-05T20:20:34.892Z"
   },
   {
    "duration": 10,
    "start_time": "2022-11-05T20:20:43.549Z"
   },
   {
    "duration": 10,
    "start_time": "2022-11-05T20:20:48.159Z"
   },
   {
    "duration": 139,
    "start_time": "2022-11-05T20:25:03.400Z"
   },
   {
    "duration": 353,
    "start_time": "2022-11-05T20:25:12.353Z"
   },
   {
    "duration": 180,
    "start_time": "2022-11-05T20:27:35.153Z"
   },
   {
    "duration": 337,
    "start_time": "2022-11-05T20:27:53.122Z"
   },
   {
    "duration": 188,
    "start_time": "2022-11-05T20:28:03.171Z"
   },
   {
    "duration": 399,
    "start_time": "2022-11-05T20:28:16.005Z"
   },
   {
    "duration": 344,
    "start_time": "2022-11-05T20:28:42.448Z"
   },
   {
    "duration": 381,
    "start_time": "2022-11-05T20:28:47.560Z"
   },
   {
    "duration": 359,
    "start_time": "2022-11-05T20:28:54.513Z"
   },
   {
    "duration": 296,
    "start_time": "2022-11-05T20:29:01.626Z"
   },
   {
    "duration": 334,
    "start_time": "2022-11-05T20:29:12.627Z"
   },
   {
    "duration": 419,
    "start_time": "2022-11-05T20:29:17.147Z"
   },
   {
    "duration": 333,
    "start_time": "2022-11-05T20:29:24.060Z"
   },
   {
    "duration": 363,
    "start_time": "2022-11-05T20:29:45.286Z"
   },
   {
    "duration": 78,
    "start_time": "2022-11-05T21:02:04.749Z"
   },
   {
    "duration": 2612,
    "start_time": "2022-11-05T21:02:50.499Z"
   },
   {
    "duration": 28,
    "start_time": "2022-11-05T21:02:53.113Z"
   },
   {
    "duration": 19,
    "start_time": "2022-11-05T21:02:53.142Z"
   },
   {
    "duration": 10,
    "start_time": "2022-11-05T21:02:53.163Z"
   },
   {
    "duration": 34,
    "start_time": "2022-11-05T21:02:53.175Z"
   },
   {
    "duration": 58,
    "start_time": "2022-11-05T21:02:53.211Z"
   },
   {
    "duration": 17,
    "start_time": "2022-11-05T21:02:53.271Z"
   },
   {
    "duration": 14,
    "start_time": "2022-11-05T21:02:53.290Z"
   },
   {
    "duration": 12,
    "start_time": "2022-11-05T21:02:53.306Z"
   },
   {
    "duration": 13,
    "start_time": "2022-11-05T21:02:53.321Z"
   },
   {
    "duration": 10,
    "start_time": "2022-11-05T21:02:53.336Z"
   },
   {
    "duration": 70,
    "start_time": "2022-11-05T21:02:53.347Z"
   },
   {
    "duration": 16,
    "start_time": "2022-11-05T21:02:53.419Z"
   },
   {
    "duration": 21,
    "start_time": "2022-11-05T21:02:53.437Z"
   },
   {
    "duration": 42,
    "start_time": "2022-11-05T21:02:53.460Z"
   },
   {
    "duration": 9,
    "start_time": "2022-11-05T21:02:53.504Z"
   },
   {
    "duration": 28,
    "start_time": "2022-11-05T21:02:53.514Z"
   },
   {
    "duration": 43,
    "start_time": "2022-11-05T21:02:53.543Z"
   },
   {
    "duration": 64,
    "start_time": "2022-11-05T21:02:53.587Z"
   },
   {
    "duration": 26,
    "start_time": "2022-11-05T21:02:53.652Z"
   },
   {
    "duration": 109,
    "start_time": "2022-11-05T21:02:53.679Z"
   },
   {
    "duration": 113,
    "start_time": "2022-11-05T21:02:53.789Z"
   },
   {
    "duration": 8,
    "start_time": "2022-11-05T21:02:53.903Z"
   },
   {
    "duration": 58,
    "start_time": "2022-11-05T21:02:53.912Z"
   },
   {
    "duration": 323,
    "start_time": "2022-11-05T21:02:53.972Z"
   },
   {
    "duration": 24,
    "start_time": "2022-11-05T21:02:54.296Z"
   },
   {
    "duration": 64,
    "start_time": "2022-11-05T21:02:54.321Z"
   },
   {
    "duration": 216,
    "start_time": "2022-11-05T21:02:54.388Z"
   },
   {
    "duration": 361,
    "start_time": "2022-11-05T21:02:54.606Z"
   },
   {
    "duration": 210,
    "start_time": "2022-11-05T21:02:54.969Z"
   },
   {
    "duration": 298,
    "start_time": "2022-11-05T21:02:55.181Z"
   },
   {
    "duration": 199,
    "start_time": "2022-11-05T21:02:55.481Z"
   },
   {
    "duration": 212,
    "start_time": "2022-11-05T21:02:55.682Z"
   },
   {
    "duration": 204,
    "start_time": "2022-11-05T21:02:55.896Z"
   },
   {
    "duration": 107,
    "start_time": "2022-11-05T21:02:56.101Z"
   },
   {
    "duration": 197,
    "start_time": "2022-11-05T21:02:56.210Z"
   },
   {
    "duration": 316,
    "start_time": "2022-11-05T21:02:56.409Z"
   },
   {
    "duration": 239,
    "start_time": "2022-11-05T21:02:56.727Z"
   },
   {
    "duration": 229,
    "start_time": "2022-11-05T21:02:56.968Z"
   },
   {
    "duration": 134,
    "start_time": "2022-11-05T21:02:57.198Z"
   },
   {
    "duration": 146,
    "start_time": "2022-11-05T21:02:57.333Z"
   },
   {
    "duration": 245,
    "start_time": "2022-11-05T21:02:57.480Z"
   },
   {
    "duration": 369,
    "start_time": "2022-11-05T21:02:57.727Z"
   },
   {
    "duration": 88,
    "start_time": "2022-11-05T21:02:58.098Z"
   },
   {
    "duration": 156,
    "start_time": "2022-11-05T21:02:58.187Z"
   },
   {
    "duration": 154,
    "start_time": "2022-11-05T21:02:58.345Z"
   },
   {
    "duration": 146,
    "start_time": "2022-11-05T21:02:58.501Z"
   },
   {
    "duration": 141,
    "start_time": "2022-11-05T21:02:58.648Z"
   },
   {
    "duration": 149,
    "start_time": "2022-11-05T21:02:58.791Z"
   },
   {
    "duration": 165,
    "start_time": "2022-11-05T21:02:58.942Z"
   },
   {
    "duration": 160,
    "start_time": "2022-11-05T21:02:59.109Z"
   },
   {
    "duration": 158,
    "start_time": "2022-11-05T21:02:59.270Z"
   },
   {
    "duration": 69,
    "start_time": "2022-11-05T21:02:59.430Z"
   },
   {
    "duration": 11,
    "start_time": "2022-11-05T21:02:59.500Z"
   },
   {
    "duration": 147,
    "start_time": "2022-11-05T21:02:59.513Z"
   },
   {
    "duration": 2664,
    "start_time": "2022-11-05T21:08:26.199Z"
   },
   {
    "duration": 26,
    "start_time": "2022-11-05T21:08:28.865Z"
   },
   {
    "duration": 7,
    "start_time": "2022-11-05T21:08:28.893Z"
   },
   {
    "duration": 4,
    "start_time": "2022-11-05T21:08:28.902Z"
   },
   {
    "duration": 12,
    "start_time": "2022-11-05T21:08:28.908Z"
   },
   {
    "duration": 63,
    "start_time": "2022-11-05T21:08:28.921Z"
   },
   {
    "duration": 16,
    "start_time": "2022-11-05T21:08:28.986Z"
   },
   {
    "duration": 7,
    "start_time": "2022-11-05T21:08:29.003Z"
   },
   {
    "duration": 13,
    "start_time": "2022-11-05T21:08:29.011Z"
   },
   {
    "duration": 14,
    "start_time": "2022-11-05T21:08:29.026Z"
   },
   {
    "duration": 4,
    "start_time": "2022-11-05T21:08:29.042Z"
   },
   {
    "duration": 51,
    "start_time": "2022-11-05T21:08:29.047Z"
   },
   {
    "duration": 12,
    "start_time": "2022-11-05T21:08:29.099Z"
   },
   {
    "duration": 13,
    "start_time": "2022-11-05T21:08:29.113Z"
   },
   {
    "duration": 23,
    "start_time": "2022-11-05T21:08:29.127Z"
   },
   {
    "duration": 4,
    "start_time": "2022-11-05T21:08:29.177Z"
   },
   {
    "duration": 7,
    "start_time": "2022-11-05T21:08:29.183Z"
   },
   {
    "duration": 5,
    "start_time": "2022-11-05T21:08:29.192Z"
   },
   {
    "duration": 28,
    "start_time": "2022-11-05T21:08:29.199Z"
   },
   {
    "duration": 50,
    "start_time": "2022-11-05T21:08:29.228Z"
   },
   {
    "duration": 122,
    "start_time": "2022-11-05T21:08:29.280Z"
   },
   {
    "duration": 112,
    "start_time": "2022-11-05T21:08:29.403Z"
   },
   {
    "duration": 8,
    "start_time": "2022-11-05T21:08:29.516Z"
   },
   {
    "duration": 54,
    "start_time": "2022-11-05T21:08:29.525Z"
   },
   {
    "duration": 320,
    "start_time": "2022-11-05T21:08:29.581Z"
   },
   {
    "duration": 24,
    "start_time": "2022-11-05T21:08:29.902Z"
   },
   {
    "duration": 65,
    "start_time": "2022-11-05T21:08:29.927Z"
   },
   {
    "duration": 229,
    "start_time": "2022-11-05T21:08:29.995Z"
   },
   {
    "duration": 387,
    "start_time": "2022-11-05T21:08:30.226Z"
   },
   {
    "duration": 214,
    "start_time": "2022-11-05T21:08:30.614Z"
   },
   {
    "duration": 310,
    "start_time": "2022-11-05T21:08:30.830Z"
   },
   {
    "duration": 202,
    "start_time": "2022-11-05T21:08:31.141Z"
   },
   {
    "duration": 201,
    "start_time": "2022-11-05T21:08:31.345Z"
   },
   {
    "duration": 194,
    "start_time": "2022-11-05T21:08:31.547Z"
   },
   {
    "duration": 104,
    "start_time": "2022-11-05T21:08:31.743Z"
   },
   {
    "duration": 199,
    "start_time": "2022-11-05T21:08:31.848Z"
   },
   {
    "duration": 306,
    "start_time": "2022-11-05T21:08:32.048Z"
   },
   {
    "duration": 245,
    "start_time": "2022-11-05T21:08:32.356Z"
   },
   {
    "duration": 248,
    "start_time": "2022-11-05T21:08:32.603Z"
   },
   {
    "duration": 127,
    "start_time": "2022-11-05T21:08:32.853Z"
   },
   {
    "duration": 141,
    "start_time": "2022-11-05T21:08:32.982Z"
   },
   {
    "duration": 209,
    "start_time": "2022-11-05T21:08:33.125Z"
   },
   {
    "duration": 324,
    "start_time": "2022-11-05T21:08:33.335Z"
   },
   {
    "duration": 154,
    "start_time": "2022-11-05T21:08:33.660Z"
   },
   {
    "duration": 164,
    "start_time": "2022-11-05T21:08:33.815Z"
   },
   {
    "duration": 147,
    "start_time": "2022-11-05T21:08:33.980Z"
   },
   {
    "duration": 139,
    "start_time": "2022-11-05T21:08:34.128Z"
   },
   {
    "duration": 137,
    "start_time": "2022-11-05T21:08:34.276Z"
   },
   {
    "duration": 168,
    "start_time": "2022-11-05T21:08:34.415Z"
   },
   {
    "duration": 159,
    "start_time": "2022-11-05T21:08:34.584Z"
   },
   {
    "duration": 148,
    "start_time": "2022-11-05T21:08:34.745Z"
   },
   {
    "duration": 60,
    "start_time": "2022-11-05T21:08:34.895Z"
   },
   {
    "duration": 21,
    "start_time": "2022-11-05T21:08:34.957Z"
   },
   {
    "duration": 151,
    "start_time": "2022-11-05T21:08:34.980Z"
   },
   {
    "duration": 4014,
    "start_time": "2022-11-06T20:18:16.732Z"
   },
   {
    "duration": 33,
    "start_time": "2022-11-06T20:18:20.748Z"
   },
   {
    "duration": 12,
    "start_time": "2022-11-06T20:18:20.783Z"
   },
   {
    "duration": 9,
    "start_time": "2022-11-06T20:18:20.797Z"
   },
   {
    "duration": 17,
    "start_time": "2022-11-06T20:18:20.808Z"
   },
   {
    "duration": 58,
    "start_time": "2022-11-06T20:18:20.827Z"
   },
   {
    "duration": 18,
    "start_time": "2022-11-06T20:18:20.887Z"
   },
   {
    "duration": 6,
    "start_time": "2022-11-06T20:18:20.921Z"
   },
   {
    "duration": 16,
    "start_time": "2022-11-06T20:18:20.929Z"
   },
   {
    "duration": 19,
    "start_time": "2022-11-06T20:18:20.948Z"
   },
   {
    "duration": 5,
    "start_time": "2022-11-06T20:18:20.969Z"
   },
   {
    "duration": 11,
    "start_time": "2022-11-06T20:18:20.975Z"
   },
   {
    "duration": 64,
    "start_time": "2022-11-06T20:18:20.987Z"
   },
   {
    "duration": 18,
    "start_time": "2022-11-06T20:18:21.052Z"
   },
   {
    "duration": 17,
    "start_time": "2022-11-06T20:18:21.071Z"
   },
   {
    "duration": 57,
    "start_time": "2022-11-06T20:18:21.090Z"
   },
   {
    "duration": 6,
    "start_time": "2022-11-06T20:18:21.149Z"
   },
   {
    "duration": 10,
    "start_time": "2022-11-06T20:18:21.157Z"
   },
   {
    "duration": 12,
    "start_time": "2022-11-06T20:18:21.169Z"
   },
   {
    "duration": 66,
    "start_time": "2022-11-06T20:18:21.184Z"
   },
   {
    "duration": 32,
    "start_time": "2022-11-06T20:18:21.252Z"
   },
   {
    "duration": 160,
    "start_time": "2022-11-06T20:18:21.286Z"
   },
   {
    "duration": 164,
    "start_time": "2022-11-06T20:18:21.448Z"
   },
   {
    "duration": 11,
    "start_time": "2022-11-06T20:18:21.621Z"
   },
   {
    "duration": 56,
    "start_time": "2022-11-06T20:18:21.634Z"
   },
   {
    "duration": 384,
    "start_time": "2022-11-06T20:18:21.692Z"
   },
   {
    "duration": 51,
    "start_time": "2022-11-06T20:18:22.077Z"
   },
   {
    "duration": 59,
    "start_time": "2022-11-06T20:18:22.134Z"
   },
   {
    "duration": 273,
    "start_time": "2022-11-06T20:18:22.195Z"
   },
   {
    "duration": 445,
    "start_time": "2022-11-06T20:18:22.471Z"
   },
   {
    "duration": 305,
    "start_time": "2022-11-06T20:18:22.921Z"
   },
   {
    "duration": 418,
    "start_time": "2022-11-06T20:18:23.228Z"
   },
   {
    "duration": 341,
    "start_time": "2022-11-06T20:18:23.648Z"
   },
   {
    "duration": 270,
    "start_time": "2022-11-06T20:18:23.991Z"
   },
   {
    "duration": 271,
    "start_time": "2022-11-06T20:18:24.263Z"
   },
   {
    "duration": 132,
    "start_time": "2022-11-06T20:18:24.536Z"
   },
   {
    "duration": 248,
    "start_time": "2022-11-06T20:18:24.671Z"
   },
   {
    "duration": 390,
    "start_time": "2022-11-06T20:18:24.921Z"
   },
   {
    "duration": 295,
    "start_time": "2022-11-06T20:18:25.313Z"
   },
   {
    "duration": 273,
    "start_time": "2022-11-06T20:18:25.611Z"
   },
   {
    "duration": 169,
    "start_time": "2022-11-06T20:18:25.886Z"
   },
   {
    "duration": 235,
    "start_time": "2022-11-06T20:18:26.057Z"
   },
   {
    "duration": 262,
    "start_time": "2022-11-06T20:18:26.294Z"
   },
   {
    "duration": 438,
    "start_time": "2022-11-06T20:18:26.559Z"
   },
   {
    "duration": 292,
    "start_time": "2022-11-06T20:18:26.999Z"
   },
   {
    "duration": 194,
    "start_time": "2022-11-06T20:18:27.293Z"
   },
   {
    "duration": 190,
    "start_time": "2022-11-06T20:18:27.489Z"
   },
   {
    "duration": 187,
    "start_time": "2022-11-06T20:18:27.682Z"
   },
   {
    "duration": 207,
    "start_time": "2022-11-06T20:18:27.871Z"
   },
   {
    "duration": 201,
    "start_time": "2022-11-06T20:18:28.080Z"
   },
   {
    "duration": 187,
    "start_time": "2022-11-06T20:18:28.284Z"
   },
   {
    "duration": 186,
    "start_time": "2022-11-06T20:18:28.473Z"
   },
   {
    "duration": 88,
    "start_time": "2022-11-06T20:18:28.661Z"
   },
   {
    "duration": 13,
    "start_time": "2022-11-06T20:18:28.751Z"
   },
   {
    "duration": 208,
    "start_time": "2022-11-06T20:18:28.766Z"
   },
   {
    "duration": 48,
    "start_time": "2022-11-06T20:18:41.425Z"
   }
  ],
  "kernelspec": {
   "display_name": "Python 3 (ipykernel)",
   "language": "python",
   "name": "python3"
  },
  "language_info": {
   "codemirror_mode": {
    "name": "ipython",
    "version": 3
   },
   "file_extension": ".py",
   "mimetype": "text/x-python",
   "name": "python",
   "nbconvert_exporter": "python",
   "pygments_lexer": "ipython3",
   "version": "3.9.5"
  },
  "toc": {
   "base_numbering": 1,
   "nav_menu": {},
   "number_sections": true,
   "sideBar": true,
   "skip_h1_title": true,
   "title_cell": "Table of Contents",
   "title_sidebar": "Contents",
   "toc_cell": false,
   "toc_position": {},
   "toc_section_display": true,
   "toc_window_display": false
  }
 },
 "nbformat": 4,
 "nbformat_minor": 2
}
